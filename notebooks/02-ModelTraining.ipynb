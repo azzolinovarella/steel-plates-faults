{
 "cells": [
  {
   "cell_type": "markdown",
   "metadata": {},
   "source": [
    "# 02 - Treinamento dos Modelos"
   ]
  },
  {
   "cell_type": "markdown",
   "metadata": {},
   "source": [
    "## Importação"
   ]
  },
  {
   "cell_type": "code",
   "execution_count": 95,
   "metadata": {},
   "outputs": [],
   "source": [
    "import pandas as pd\n",
    "import numpy as np\n",
    "from scipy.io import arff\n",
    "import matplotlib.pyplot as plt\n",
    "import json\n",
    "import pickle\n",
    "\n",
    "# Pre processamento\n",
    "from sklearn.decomposition import PCA\n",
    "from sklearn.manifold import TSNE\n",
    "\n",
    "# Classes do modelo de aprendizado\n",
    "from sklearn.neighbors import KNeighborsClassifier\n",
    "from sklearn.tree import DecisionTreeClassifier, DecisionTreeRegressor, plot_tree\n",
    "from sklearn.ensemble import RandomForestClassifier\n",
    "from sklearn.svm import SVC\n",
    "\n",
    "# Funções de avaliação dos modelos\n",
    "from sklearn.metrics import classification_report\n",
    "from sklearn.model_selection import train_test_split\n",
    "\n",
    "# Scaler\n",
    "from sklearn.preprocessing import MinMaxScaler, StandardScaler\n",
    "\n",
    "# Pipeline\n",
    "from sklearn.pipeline import Pipeline\n",
    "\n",
    "# Gráficos\n",
    "import plotly.graph_objects as go\n",
    "import plotly.express as px\n",
    "from plotly.subplots import make_subplots\n",
    "\n",
    "from sklearn.metrics import confusion_matrix, roc_curve\n",
    "\n",
    "from sklearn.model_selection import GridSearchCV"
   ]
  },
  {
   "cell_type": "markdown",
   "metadata": {},
   "source": [
    "## Constantes e Sets"
   ]
  },
  {
   "cell_type": "code",
   "execution_count": 2,
   "metadata": {},
   "outputs": [],
   "source": [
    "PALETTE = \"RdYlGn\""
   ]
  },
  {
   "cell_type": "code",
   "execution_count": 3,
   "metadata": {},
   "outputs": [],
   "source": [
    "pd.set_option('display.max_columns', None)"
   ]
  },
  {
   "cell_type": "markdown",
   "metadata": {},
   "source": [
    "## Funções"
   ]
  },
  {
   "cell_type": "code",
   "execution_count": 34,
   "metadata": {},
   "outputs": [],
   "source": [
    "def validate_model(model, X, y, param_grid, cv_test=10, cv_gridsearch=10):\n",
    "    indices = np.arange(len(X))\n",
    "    np.random.shuffle(indices)\n",
    "    folds = np.array_split(indices, cv_test)\n",
    "    X_folds = [X[f] for f in folds]\n",
    "    y_folds = [y[f] for f in folds]\n",
    "\n",
    "    runs_metrics = {}\n",
    "    for n in range(cv_test):\n",
    "        # Pega base de treino e validação\n",
    "        X_trainval = np.concatenate([X_folds[i] for i in range(cv_test) if i != n], axis=0)\n",
    "        y_trainval = np.concatenate([y_folds[i] for i in range(cv_test) if i != n], axis=0)\n",
    "\n",
    "        # Paga base de teste\n",
    "        X_test = X_folds[n]\n",
    "        y_test = y_folds[n]\n",
    "\n",
    "        best_params = get_best_params(model, X_trainval, y_trainval, param_grid, cv=cv_gridsearch, display_results=False)\n",
    "        model.set_params(**best_params)\n",
    "        model.fit(X_trainval, y_trainval)\n",
    "        \n",
    "        model_metrics = get_model_metrics(model, X_test, y_test)\n",
    "        runs_metrics[n] = model_metrics\n",
    "\n",
    "    return runs_metrics"
   ]
  },
  {
   "cell_type": "code",
   "execution_count": 5,
   "metadata": {},
   "outputs": [],
   "source": [
    "def plot_confusion_matrix(cm):\n",
    "\n",
    "    #y_pred = model.predict(X)\n",
    "    #cm = confusion_matrix(y, y_pred)\n",
    "\n",
    "    axis_labels = list(range(len(cm)))\n",
    "\n",
    "    fig = go.Figure()\n",
    "    fig.add_trace(go.Heatmap(x=axis_labels, y=axis_labels, z=cm, text=cm, texttemplate = \"%{text}\", colorscale=PALETTE))\n",
    "\n",
    "    fig.update_layout(xaxis_title = \"Predito\", yaxis_title = \"Real\", yaxis_autorange = \"reversed\", title = \"Matriz de Confusão\")\n",
    "\n",
    "    return fig"
   ]
  },
  {
   "cell_type": "code",
   "execution_count": 6,
   "metadata": {},
   "outputs": [],
   "source": [
    "def plot_roc(fpr, tpr):\n",
    "    #y_score = model.predict_proba(X)\n",
    "    # Verificar quais modelos têm predict_proba\n",
    "\n",
    "    #fpr, tpr, thresholds = roc_curve(y, y_score)\n",
    "\n",
    "    fig = go.Figure()\n",
    "    fig.add_trace(go.Scatter(x = fpr, y = tpr, mode = \"lines\"))\n",
    "    \n",
    "    fig.update_layout(xaxis_title = \"Taxa de Falso Positivo\", yaxis_title = \"Taxa de Verdadeiro Positivo\",\n",
    "                      title = \"Curva ROC\")\n",
    "\n",
    "    return fig"
   ]
  },
  {
   "cell_type": "code",
   "execution_count": 20,
   "metadata": {},
   "outputs": [],
   "source": [
    "def get_model_metrics(model, X, y):\n",
    "    y_pred = model.predict(X)\n",
    "    cm = confusion_matrix(y, y_pred)\n",
    "\n",
    "    report_dict = classification_report(y, y_pred, output_dict = True)\n",
    "    report_dict['cm'] = cm\n",
    "    # Trazer AUC se fizer sentido (predict_proba)\n",
    "\n",
    "    return report_dict"
   ]
  },
  {
   "cell_type": "code",
   "execution_count": 22,
   "metadata": {},
   "outputs": [],
   "source": [
    "def get_best_params(model, X_train, y_train, param_grid, cv=10, display_results=False):\n",
    "    grid_search = GridSearchCV(model, param_grid=param_grid, refit=False, cv = cv) # cv = 10 -> Exigência do projeto\n",
    "    grid_search.fit(X_train, y_train)\n",
    "    \n",
    "    best_params = grid_search.best_params_\n",
    "\n",
    "    if display_results:\n",
    "        df_res = pd.DataFrame(grid_search.cv_results_)\n",
    "        df_res = df_res.sort_values(\"rank_test_score\", ascending=True)\n",
    "        display(df_res)\n",
    "\n",
    "    return best_params"
   ]
  },
  {
   "cell_type": "code",
   "execution_count": 110,
   "metadata": {},
   "outputs": [],
   "source": [
    "def summarize_metrics(runs_res, labels):\n",
    "    runs_ids = runs_res.keys()\n",
    "\n",
    "    accuracies = [runs_res[i]['accuracy'] for i in runs_ids]\n",
    "    cms = [runs_res[i]['cm'] for i in runs_ids]\n",
    "    #f1_scores = {i: {j: runs_res[i][j]['f1-score'] for j in labels} for i in runs_ids}\n",
    "    f1_scores = {i: [runs_res[j][i]['f1-score'] for j in runs_ids] for i in labels}\n",
    "\n",
    "    metrics = {'accuracies': accuracies,\n",
    "               'cms': cms,\n",
    "               'f1-scores': f1_scores}\n",
    "\n",
    "    return metrics"
   ]
  },
  {
   "cell_type": "code",
   "execution_count": 77,
   "metadata": {},
   "outputs": [],
   "source": [
    "def plot_accuracies(accuracies):\n",
    "    fig = go.Figure()\n",
    "    fig.add_trace(go.Histogram(x=accuracies, nbinsx=5))\n",
    "    fig.add_vline(x=np.mean(accuracies), line_dash = 'dash', annotation_text = f'Acurácia Média = {np.mean(accuracies):.2f}')\n",
    "    fig.update_layout(title = \"Histograma da Acurácia\")\n",
    "    fig.show()"
   ]
  },
  {
   "cell_type": "code",
   "execution_count": 118,
   "metadata": {},
   "outputs": [],
   "source": [
    "def plot_f1_scores(f1_scores):\n",
    "    fig = make_subplots(rows=2, cols=1)\n",
    "    for l in f1_scores.keys():\n",
    "        f1_score_filtered = f1_scores[l]\n",
    "        fig.add_trace(go.Bar(x=[l], y=f1_score_filtered, name=l), row=1, col=1)\n",
    "        #fig.add_trace(go.Box(y=list(f1_score_filtered.values()), name=l), row=2, col=1)\n",
    "        #fig.add_vline(x=np.mean(accuracies), line_dash = 'dash', annotation_text = f'Acurácia Média = {np.mean(accuracies):.2f}')\n",
    "\n",
    "    fig.update_layout(title = \"F1-score por Run\")\n",
    "    fig.show()"
   ]
  },
  {
   "cell_type": "markdown",
   "metadata": {},
   "source": [
    "## Scripts"
   ]
  },
  {
   "cell_type": "markdown",
   "metadata": {},
   "source": [
    "### Leitura"
   ]
  },
  {
   "cell_type": "code",
   "execution_count": 11,
   "metadata": {},
   "outputs": [
    {
     "data": {
      "text/html": [
       "<div>\n",
       "<style scoped>\n",
       "    .dataframe tbody tr th:only-of-type {\n",
       "        vertical-align: middle;\n",
       "    }\n",
       "\n",
       "    .dataframe tbody tr th {\n",
       "        vertical-align: top;\n",
       "    }\n",
       "\n",
       "    .dataframe thead th {\n",
       "        text-align: right;\n",
       "    }\n",
       "</style>\n",
       "<table border=\"1\" class=\"dataframe\">\n",
       "  <thead>\n",
       "    <tr style=\"text-align: right;\">\n",
       "      <th></th>\n",
       "      <th>X_Minimum</th>\n",
       "      <th>X_Maximum</th>\n",
       "      <th>Y_Minimum</th>\n",
       "      <th>Y_Maximum</th>\n",
       "      <th>Pixels_Areas</th>\n",
       "      <th>X_Perimeter</th>\n",
       "      <th>Y_Perimeter</th>\n",
       "      <th>Sum_of_Luminosity</th>\n",
       "      <th>Minimum_of_Luminosity</th>\n",
       "      <th>Maximum_of_Luminosity</th>\n",
       "      <th>Length_of_Conveyer</th>\n",
       "      <th>TypeOfSteel_A300</th>\n",
       "      <th>TypeOfSteel_A400</th>\n",
       "      <th>Steel_Plate_Thickness</th>\n",
       "      <th>Edges_Index</th>\n",
       "      <th>Empty_Index</th>\n",
       "      <th>Square_Index</th>\n",
       "      <th>Outside_X_Index</th>\n",
       "      <th>Edges_X_Index</th>\n",
       "      <th>Edges_Y_Index</th>\n",
       "      <th>Outside_Global_Index</th>\n",
       "      <th>LogOfAreas</th>\n",
       "      <th>Log_X_Index</th>\n",
       "      <th>Log_Y_Index</th>\n",
       "      <th>Orientation_Index</th>\n",
       "      <th>Luminosity_Index</th>\n",
       "      <th>SigmoidOfAreas</th>\n",
       "      <th>target</th>\n",
       "    </tr>\n",
       "  </thead>\n",
       "  <tbody>\n",
       "    <tr>\n",
       "      <th>0</th>\n",
       "      <td>42.0</td>\n",
       "      <td>50.0</td>\n",
       "      <td>270900.0</td>\n",
       "      <td>270944.0</td>\n",
       "      <td>267.0</td>\n",
       "      <td>17.0</td>\n",
       "      <td>44.0</td>\n",
       "      <td>24220.0</td>\n",
       "      <td>76.0</td>\n",
       "      <td>108.0</td>\n",
       "      <td>1687.0</td>\n",
       "      <td>1.0</td>\n",
       "      <td>0.0</td>\n",
       "      <td>80.0</td>\n",
       "      <td>0.0498</td>\n",
       "      <td>0.2415</td>\n",
       "      <td>0.1818</td>\n",
       "      <td>0.0047</td>\n",
       "      <td>0.4706</td>\n",
       "      <td>1.0000</td>\n",
       "      <td>1.0</td>\n",
       "      <td>2.4265</td>\n",
       "      <td>0.9031</td>\n",
       "      <td>1.6435</td>\n",
       "      <td>0.8182</td>\n",
       "      <td>-0.2913</td>\n",
       "      <td>0.5822</td>\n",
       "      <td>0</td>\n",
       "    </tr>\n",
       "    <tr>\n",
       "      <th>1</th>\n",
       "      <td>645.0</td>\n",
       "      <td>651.0</td>\n",
       "      <td>2538079.0</td>\n",
       "      <td>2538108.0</td>\n",
       "      <td>108.0</td>\n",
       "      <td>10.0</td>\n",
       "      <td>30.0</td>\n",
       "      <td>11397.0</td>\n",
       "      <td>84.0</td>\n",
       "      <td>123.0</td>\n",
       "      <td>1687.0</td>\n",
       "      <td>1.0</td>\n",
       "      <td>0.0</td>\n",
       "      <td>80.0</td>\n",
       "      <td>0.7647</td>\n",
       "      <td>0.3793</td>\n",
       "      <td>0.2069</td>\n",
       "      <td>0.0036</td>\n",
       "      <td>0.6000</td>\n",
       "      <td>0.9667</td>\n",
       "      <td>1.0</td>\n",
       "      <td>2.0334</td>\n",
       "      <td>0.7782</td>\n",
       "      <td>1.4624</td>\n",
       "      <td>0.7931</td>\n",
       "      <td>-0.1756</td>\n",
       "      <td>0.2984</td>\n",
       "      <td>0</td>\n",
       "    </tr>\n",
       "    <tr>\n",
       "      <th>2</th>\n",
       "      <td>829.0</td>\n",
       "      <td>835.0</td>\n",
       "      <td>1553913.0</td>\n",
       "      <td>1553931.0</td>\n",
       "      <td>71.0</td>\n",
       "      <td>8.0</td>\n",
       "      <td>19.0</td>\n",
       "      <td>7972.0</td>\n",
       "      <td>99.0</td>\n",
       "      <td>125.0</td>\n",
       "      <td>1623.0</td>\n",
       "      <td>1.0</td>\n",
       "      <td>0.0</td>\n",
       "      <td>100.0</td>\n",
       "      <td>0.9710</td>\n",
       "      <td>0.3426</td>\n",
       "      <td>0.3333</td>\n",
       "      <td>0.0037</td>\n",
       "      <td>0.7500</td>\n",
       "      <td>0.9474</td>\n",
       "      <td>1.0</td>\n",
       "      <td>1.8513</td>\n",
       "      <td>0.7782</td>\n",
       "      <td>1.2553</td>\n",
       "      <td>0.6667</td>\n",
       "      <td>-0.1228</td>\n",
       "      <td>0.2150</td>\n",
       "      <td>0</td>\n",
       "    </tr>\n",
       "    <tr>\n",
       "      <th>3</th>\n",
       "      <td>853.0</td>\n",
       "      <td>860.0</td>\n",
       "      <td>369370.0</td>\n",
       "      <td>369415.0</td>\n",
       "      <td>176.0</td>\n",
       "      <td>13.0</td>\n",
       "      <td>45.0</td>\n",
       "      <td>18996.0</td>\n",
       "      <td>99.0</td>\n",
       "      <td>126.0</td>\n",
       "      <td>1353.0</td>\n",
       "      <td>0.0</td>\n",
       "      <td>1.0</td>\n",
       "      <td>290.0</td>\n",
       "      <td>0.7287</td>\n",
       "      <td>0.4413</td>\n",
       "      <td>0.1556</td>\n",
       "      <td>0.0052</td>\n",
       "      <td>0.5385</td>\n",
       "      <td>1.0000</td>\n",
       "      <td>1.0</td>\n",
       "      <td>2.2455</td>\n",
       "      <td>0.8451</td>\n",
       "      <td>1.6532</td>\n",
       "      <td>0.8444</td>\n",
       "      <td>-0.1568</td>\n",
       "      <td>0.5212</td>\n",
       "      <td>0</td>\n",
       "    </tr>\n",
       "    <tr>\n",
       "      <th>4</th>\n",
       "      <td>1289.0</td>\n",
       "      <td>1306.0</td>\n",
       "      <td>498078.0</td>\n",
       "      <td>498335.0</td>\n",
       "      <td>2409.0</td>\n",
       "      <td>60.0</td>\n",
       "      <td>260.0</td>\n",
       "      <td>246930.0</td>\n",
       "      <td>37.0</td>\n",
       "      <td>126.0</td>\n",
       "      <td>1353.0</td>\n",
       "      <td>0.0</td>\n",
       "      <td>1.0</td>\n",
       "      <td>185.0</td>\n",
       "      <td>0.0695</td>\n",
       "      <td>0.4486</td>\n",
       "      <td>0.0662</td>\n",
       "      <td>0.0126</td>\n",
       "      <td>0.2833</td>\n",
       "      <td>0.9885</td>\n",
       "      <td>1.0</td>\n",
       "      <td>3.3818</td>\n",
       "      <td>1.2305</td>\n",
       "      <td>2.4099</td>\n",
       "      <td>0.9338</td>\n",
       "      <td>-0.1992</td>\n",
       "      <td>1.0000</td>\n",
       "      <td>0</td>\n",
       "    </tr>\n",
       "    <tr>\n",
       "      <th>...</th>\n",
       "      <td>...</td>\n",
       "      <td>...</td>\n",
       "      <td>...</td>\n",
       "      <td>...</td>\n",
       "      <td>...</td>\n",
       "      <td>...</td>\n",
       "      <td>...</td>\n",
       "      <td>...</td>\n",
       "      <td>...</td>\n",
       "      <td>...</td>\n",
       "      <td>...</td>\n",
       "      <td>...</td>\n",
       "      <td>...</td>\n",
       "      <td>...</td>\n",
       "      <td>...</td>\n",
       "      <td>...</td>\n",
       "      <td>...</td>\n",
       "      <td>...</td>\n",
       "      <td>...</td>\n",
       "      <td>...</td>\n",
       "      <td>...</td>\n",
       "      <td>...</td>\n",
       "      <td>...</td>\n",
       "      <td>...</td>\n",
       "      <td>...</td>\n",
       "      <td>...</td>\n",
       "      <td>...</td>\n",
       "      <td>...</td>\n",
       "    </tr>\n",
       "    <tr>\n",
       "      <th>1263</th>\n",
       "      <td>221.0</td>\n",
       "      <td>242.0</td>\n",
       "      <td>3948212.0</td>\n",
       "      <td>3948253.0</td>\n",
       "      <td>519.0</td>\n",
       "      <td>33.0</td>\n",
       "      <td>41.0</td>\n",
       "      <td>48309.0</td>\n",
       "      <td>65.0</td>\n",
       "      <td>124.0</td>\n",
       "      <td>1360.0</td>\n",
       "      <td>1.0</td>\n",
       "      <td>0.0</td>\n",
       "      <td>200.0</td>\n",
       "      <td>0.3250</td>\n",
       "      <td>0.3972</td>\n",
       "      <td>0.5122</td>\n",
       "      <td>0.0154</td>\n",
       "      <td>0.6364</td>\n",
       "      <td>1.0000</td>\n",
       "      <td>1.0</td>\n",
       "      <td>2.7152</td>\n",
       "      <td>1.3222</td>\n",
       "      <td>1.6128</td>\n",
       "      <td>0.4878</td>\n",
       "      <td>-0.2728</td>\n",
       "      <td>0.9765</td>\n",
       "      <td>5</td>\n",
       "    </tr>\n",
       "    <tr>\n",
       "      <th>1264</th>\n",
       "      <td>1111.0</td>\n",
       "      <td>1121.0</td>\n",
       "      <td>4032298.0</td>\n",
       "      <td>4032320.0</td>\n",
       "      <td>110.0</td>\n",
       "      <td>20.0</td>\n",
       "      <td>22.0</td>\n",
       "      <td>12351.0</td>\n",
       "      <td>100.0</td>\n",
       "      <td>127.0</td>\n",
       "      <td>1354.0</td>\n",
       "      <td>1.0</td>\n",
       "      <td>0.0</td>\n",
       "      <td>200.0</td>\n",
       "      <td>0.3442</td>\n",
       "      <td>0.5000</td>\n",
       "      <td>0.4545</td>\n",
       "      <td>0.0074</td>\n",
       "      <td>0.5000</td>\n",
       "      <td>1.0000</td>\n",
       "      <td>1.0</td>\n",
       "      <td>2.0414</td>\n",
       "      <td>1.0000</td>\n",
       "      <td>1.3424</td>\n",
       "      <td>0.5454</td>\n",
       "      <td>-0.1228</td>\n",
       "      <td>0.3663</td>\n",
       "      <td>5</td>\n",
       "    </tr>\n",
       "    <tr>\n",
       "      <th>1265</th>\n",
       "      <td>995.0</td>\n",
       "      <td>1006.0</td>\n",
       "      <td>4085316.0</td>\n",
       "      <td>4085344.0</td>\n",
       "      <td>140.0</td>\n",
       "      <td>25.0</td>\n",
       "      <td>28.0</td>\n",
       "      <td>16076.0</td>\n",
       "      <td>103.0</td>\n",
       "      <td>132.0</td>\n",
       "      <td>1356.0</td>\n",
       "      <td>1.0</td>\n",
       "      <td>0.0</td>\n",
       "      <td>200.0</td>\n",
       "      <td>0.5162</td>\n",
       "      <td>0.5454</td>\n",
       "      <td>0.3929</td>\n",
       "      <td>0.0081</td>\n",
       "      <td>0.4400</td>\n",
       "      <td>1.0000</td>\n",
       "      <td>1.0</td>\n",
       "      <td>2.1461</td>\n",
       "      <td>1.0414</td>\n",
       "      <td>1.4472</td>\n",
       "      <td>0.6071</td>\n",
       "      <td>-0.1029</td>\n",
       "      <td>0.5096</td>\n",
       "      <td>5</td>\n",
       "    </tr>\n",
       "    <tr>\n",
       "      <th>1266</th>\n",
       "      <td>396.0</td>\n",
       "      <td>418.0</td>\n",
       "      <td>4116853.0</td>\n",
       "      <td>4116868.0</td>\n",
       "      <td>231.0</td>\n",
       "      <td>26.0</td>\n",
       "      <td>16.0</td>\n",
       "      <td>25096.0</td>\n",
       "      <td>56.0</td>\n",
       "      <td>141.0</td>\n",
       "      <td>1356.0</td>\n",
       "      <td>1.0</td>\n",
       "      <td>0.0</td>\n",
       "      <td>200.0</td>\n",
       "      <td>0.5841</td>\n",
       "      <td>0.3000</td>\n",
       "      <td>0.6818</td>\n",
       "      <td>0.0162</td>\n",
       "      <td>0.8461</td>\n",
       "      <td>0.9375</td>\n",
       "      <td>0.0</td>\n",
       "      <td>2.3636</td>\n",
       "      <td>1.3424</td>\n",
       "      <td>1.1761</td>\n",
       "      <td>-0.3182</td>\n",
       "      <td>-0.1512</td>\n",
       "      <td>0.5461</td>\n",
       "      <td>5</td>\n",
       "    </tr>\n",
       "    <tr>\n",
       "      <th>1267</th>\n",
       "      <td>604.0</td>\n",
       "      <td>646.0</td>\n",
       "      <td>4441757.0</td>\n",
       "      <td>4441811.0</td>\n",
       "      <td>1035.0</td>\n",
       "      <td>67.0</td>\n",
       "      <td>55.0</td>\n",
       "      <td>97966.0</td>\n",
       "      <td>46.0</td>\n",
       "      <td>125.0</td>\n",
       "      <td>1356.0</td>\n",
       "      <td>1.0</td>\n",
       "      <td>0.0</td>\n",
       "      <td>200.0</td>\n",
       "      <td>0.8909</td>\n",
       "      <td>0.5436</td>\n",
       "      <td>0.7778</td>\n",
       "      <td>0.0310</td>\n",
       "      <td>0.6269</td>\n",
       "      <td>0.9818</td>\n",
       "      <td>1.0</td>\n",
       "      <td>3.0149</td>\n",
       "      <td>1.6233</td>\n",
       "      <td>1.7324</td>\n",
       "      <td>0.2222</td>\n",
       "      <td>-0.2605</td>\n",
       "      <td>1.0000</td>\n",
       "      <td>5</td>\n",
       "    </tr>\n",
       "  </tbody>\n",
       "</table>\n",
       "<p>1268 rows × 28 columns</p>\n",
       "</div>"
      ],
      "text/plain": [
       "      X_Minimum  X_Maximum  Y_Minimum  Y_Maximum  Pixels_Areas  X_Perimeter  \\\n",
       "0          42.0       50.0   270900.0   270944.0         267.0         17.0   \n",
       "1         645.0      651.0  2538079.0  2538108.0         108.0         10.0   \n",
       "2         829.0      835.0  1553913.0  1553931.0          71.0          8.0   \n",
       "3         853.0      860.0   369370.0   369415.0         176.0         13.0   \n",
       "4        1289.0     1306.0   498078.0   498335.0        2409.0         60.0   \n",
       "...         ...        ...        ...        ...           ...          ...   \n",
       "1263      221.0      242.0  3948212.0  3948253.0         519.0         33.0   \n",
       "1264     1111.0     1121.0  4032298.0  4032320.0         110.0         20.0   \n",
       "1265      995.0     1006.0  4085316.0  4085344.0         140.0         25.0   \n",
       "1266      396.0      418.0  4116853.0  4116868.0         231.0         26.0   \n",
       "1267      604.0      646.0  4441757.0  4441811.0        1035.0         67.0   \n",
       "\n",
       "      Y_Perimeter  Sum_of_Luminosity  Minimum_of_Luminosity  \\\n",
       "0            44.0            24220.0                   76.0   \n",
       "1            30.0            11397.0                   84.0   \n",
       "2            19.0             7972.0                   99.0   \n",
       "3            45.0            18996.0                   99.0   \n",
       "4           260.0           246930.0                   37.0   \n",
       "...           ...                ...                    ...   \n",
       "1263         41.0            48309.0                   65.0   \n",
       "1264         22.0            12351.0                  100.0   \n",
       "1265         28.0            16076.0                  103.0   \n",
       "1266         16.0            25096.0                   56.0   \n",
       "1267         55.0            97966.0                   46.0   \n",
       "\n",
       "      Maximum_of_Luminosity  Length_of_Conveyer  TypeOfSteel_A300  \\\n",
       "0                     108.0              1687.0               1.0   \n",
       "1                     123.0              1687.0               1.0   \n",
       "2                     125.0              1623.0               1.0   \n",
       "3                     126.0              1353.0               0.0   \n",
       "4                     126.0              1353.0               0.0   \n",
       "...                     ...                 ...               ...   \n",
       "1263                  124.0              1360.0               1.0   \n",
       "1264                  127.0              1354.0               1.0   \n",
       "1265                  132.0              1356.0               1.0   \n",
       "1266                  141.0              1356.0               1.0   \n",
       "1267                  125.0              1356.0               1.0   \n",
       "\n",
       "      TypeOfSteel_A400  Steel_Plate_Thickness  Edges_Index  Empty_Index  \\\n",
       "0                  0.0                   80.0       0.0498       0.2415   \n",
       "1                  0.0                   80.0       0.7647       0.3793   \n",
       "2                  0.0                  100.0       0.9710       0.3426   \n",
       "3                  1.0                  290.0       0.7287       0.4413   \n",
       "4                  1.0                  185.0       0.0695       0.4486   \n",
       "...                ...                    ...          ...          ...   \n",
       "1263               0.0                  200.0       0.3250       0.3972   \n",
       "1264               0.0                  200.0       0.3442       0.5000   \n",
       "1265               0.0                  200.0       0.5162       0.5454   \n",
       "1266               0.0                  200.0       0.5841       0.3000   \n",
       "1267               0.0                  200.0       0.8909       0.5436   \n",
       "\n",
       "      Square_Index  Outside_X_Index  Edges_X_Index  Edges_Y_Index  \\\n",
       "0           0.1818           0.0047         0.4706         1.0000   \n",
       "1           0.2069           0.0036         0.6000         0.9667   \n",
       "2           0.3333           0.0037         0.7500         0.9474   \n",
       "3           0.1556           0.0052         0.5385         1.0000   \n",
       "4           0.0662           0.0126         0.2833         0.9885   \n",
       "...            ...              ...            ...            ...   \n",
       "1263        0.5122           0.0154         0.6364         1.0000   \n",
       "1264        0.4545           0.0074         0.5000         1.0000   \n",
       "1265        0.3929           0.0081         0.4400         1.0000   \n",
       "1266        0.6818           0.0162         0.8461         0.9375   \n",
       "1267        0.7778           0.0310         0.6269         0.9818   \n",
       "\n",
       "      Outside_Global_Index  LogOfAreas  Log_X_Index  Log_Y_Index  \\\n",
       "0                      1.0      2.4265       0.9031       1.6435   \n",
       "1                      1.0      2.0334       0.7782       1.4624   \n",
       "2                      1.0      1.8513       0.7782       1.2553   \n",
       "3                      1.0      2.2455       0.8451       1.6532   \n",
       "4                      1.0      3.3818       1.2305       2.4099   \n",
       "...                    ...         ...          ...          ...   \n",
       "1263                   1.0      2.7152       1.3222       1.6128   \n",
       "1264                   1.0      2.0414       1.0000       1.3424   \n",
       "1265                   1.0      2.1461       1.0414       1.4472   \n",
       "1266                   0.0      2.3636       1.3424       1.1761   \n",
       "1267                   1.0      3.0149       1.6233       1.7324   \n",
       "\n",
       "      Orientation_Index  Luminosity_Index  SigmoidOfAreas  target  \n",
       "0                0.8182           -0.2913          0.5822       0  \n",
       "1                0.7931           -0.1756          0.2984       0  \n",
       "2                0.6667           -0.1228          0.2150       0  \n",
       "3                0.8444           -0.1568          0.5212       0  \n",
       "4                0.9338           -0.1992          1.0000       0  \n",
       "...                 ...               ...             ...     ...  \n",
       "1263             0.4878           -0.2728          0.9765       5  \n",
       "1264             0.5454           -0.1228          0.3663       5  \n",
       "1265             0.6071           -0.1029          0.5096       5  \n",
       "1266            -0.3182           -0.1512          0.5461       5  \n",
       "1267             0.2222           -0.2605          1.0000       5  \n",
       "\n",
       "[1268 rows x 28 columns]"
      ]
     },
     "execution_count": 11,
     "metadata": {},
     "output_type": "execute_result"
    }
   ],
   "source": [
    "df = pd.read_pickle(\"../data/processed/steel-plates-fault.pkl\")\n",
    "\n",
    "df"
   ]
  },
  {
   "cell_type": "code",
   "execution_count": 12,
   "metadata": {},
   "outputs": [
    {
     "data": {
      "text/plain": [
       "Outside_Global_Index\n",
       "1.0    683\n",
       "0.0    525\n",
       "0.5     60\n",
       "Name: count, dtype: int64"
      ]
     },
     "execution_count": 12,
     "metadata": {},
     "output_type": "execute_result"
    }
   ],
   "source": [
    "df['Outside_Global_Index'].value_counts()"
   ]
  },
  {
   "cell_type": "code",
   "execution_count": 13,
   "metadata": {},
   "outputs": [
    {
     "data": {
      "text/plain": [
       "Index(['X_Minimum', 'X_Maximum', 'Y_Minimum', 'Y_Maximum', 'Pixels_Areas',\n",
       "       'X_Perimeter', 'Y_Perimeter', 'Sum_of_Luminosity',\n",
       "       'Minimum_of_Luminosity', 'Maximum_of_Luminosity', 'Length_of_Conveyer',\n",
       "       'TypeOfSteel_A300', 'TypeOfSteel_A400', 'Steel_Plate_Thickness',\n",
       "       'Edges_Index', 'Empty_Index', 'Square_Index', 'Outside_X_Index',\n",
       "       'Edges_X_Index', 'Edges_Y_Index', 'Outside_Global_Index', 'LogOfAreas',\n",
       "       'Log_X_Index', 'Log_Y_Index', 'Orientation_Index', 'Luminosity_Index',\n",
       "       'SigmoidOfAreas', 'target'],\n",
       "      dtype='object')"
      ]
     },
     "execution_count": 13,
     "metadata": {},
     "output_type": "execute_result"
    }
   ],
   "source": [
    "df.columns"
   ]
  },
  {
   "cell_type": "code",
   "execution_count": 14,
   "metadata": {},
   "outputs": [
    {
     "data": {
      "text/html": [
       "<div>\n",
       "<style scoped>\n",
       "    .dataframe tbody tr th:only-of-type {\n",
       "        vertical-align: middle;\n",
       "    }\n",
       "\n",
       "    .dataframe tbody tr th {\n",
       "        vertical-align: top;\n",
       "    }\n",
       "\n",
       "    .dataframe thead th {\n",
       "        text-align: right;\n",
       "    }\n",
       "</style>\n",
       "<table border=\"1\" class=\"dataframe\">\n",
       "  <thead>\n",
       "    <tr style=\"text-align: right;\">\n",
       "      <th></th>\n",
       "      <th>X_Minimum</th>\n",
       "      <th>X_Maximum</th>\n",
       "      <th>Y_Minimum</th>\n",
       "      <th>Y_Maximum</th>\n",
       "      <th>Pixels_Areas</th>\n",
       "      <th>X_Perimeter</th>\n",
       "      <th>Y_Perimeter</th>\n",
       "      <th>Sum_of_Luminosity</th>\n",
       "      <th>Minimum_of_Luminosity</th>\n",
       "      <th>Maximum_of_Luminosity</th>\n",
       "      <th>Length_of_Conveyer</th>\n",
       "      <th>TypeOfSteel_A300</th>\n",
       "      <th>TypeOfSteel_A400</th>\n",
       "      <th>Steel_Plate_Thickness</th>\n",
       "      <th>Edges_Index</th>\n",
       "      <th>Empty_Index</th>\n",
       "      <th>Square_Index</th>\n",
       "      <th>Outside_X_Index</th>\n",
       "      <th>Edges_X_Index</th>\n",
       "      <th>Edges_Y_Index</th>\n",
       "      <th>Outside_Global_Index</th>\n",
       "      <th>LogOfAreas</th>\n",
       "      <th>Log_X_Index</th>\n",
       "      <th>Log_Y_Index</th>\n",
       "      <th>Orientation_Index</th>\n",
       "      <th>Luminosity_Index</th>\n",
       "      <th>SigmoidOfAreas</th>\n",
       "      <th>target</th>\n",
       "    </tr>\n",
       "  </thead>\n",
       "  <tbody>\n",
       "    <tr>\n",
       "      <th>count</th>\n",
       "      <td>1268.000000</td>\n",
       "      <td>1268.000000</td>\n",
       "      <td>1.268000e+03</td>\n",
       "      <td>1.268000e+03</td>\n",
       "      <td>1268.000000</td>\n",
       "      <td>1268.000000</td>\n",
       "      <td>1268.000000</td>\n",
       "      <td>1.268000e+03</td>\n",
       "      <td>1268.000000</td>\n",
       "      <td>1268.000000</td>\n",
       "      <td>1268.000000</td>\n",
       "      <td>1268.000000</td>\n",
       "      <td>1268.000000</td>\n",
       "      <td>1268.000000</td>\n",
       "      <td>1268.000000</td>\n",
       "      <td>1268.000000</td>\n",
       "      <td>1268.000000</td>\n",
       "      <td>1268.000000</td>\n",
       "      <td>1268.000000</td>\n",
       "      <td>1268.000000</td>\n",
       "      <td>1268.000000</td>\n",
       "      <td>1268.000000</td>\n",
       "      <td>1268.000000</td>\n",
       "      <td>1268.000000</td>\n",
       "      <td>1268.000000</td>\n",
       "      <td>1268.000000</td>\n",
       "      <td>1268.00000</td>\n",
       "      <td>1268.000000</td>\n",
       "    </tr>\n",
       "    <tr>\n",
       "      <th>mean</th>\n",
       "      <td>508.635647</td>\n",
       "      <td>565.126183</td>\n",
       "      <td>1.759791e+06</td>\n",
       "      <td>1.759855e+06</td>\n",
       "      <td>2588.908517</td>\n",
       "      <td>143.205836</td>\n",
       "      <td>103.716088</td>\n",
       "      <td>2.831348e+05</td>\n",
       "      <td>79.209779</td>\n",
       "      <td>130.299685</td>\n",
       "      <td>1445.250789</td>\n",
       "      <td>0.402997</td>\n",
       "      <td>0.597003</td>\n",
       "      <td>66.072555</td>\n",
       "      <td>0.310388</td>\n",
       "      <td>0.409378</td>\n",
       "      <td>0.589186</td>\n",
       "      <td>0.040520</td>\n",
       "      <td>0.597253</td>\n",
       "      <td>0.802600</td>\n",
       "      <td>0.562303</td>\n",
       "      <td>2.603358</td>\n",
       "      <td>1.388906</td>\n",
       "      <td>1.456804</td>\n",
       "      <td>0.067459</td>\n",
       "      <td>-0.135566</td>\n",
       "      <td>0.61065</td>\n",
       "      <td>2.695584</td>\n",
       "    </tr>\n",
       "    <tr>\n",
       "      <th>std</th>\n",
       "      <td>513.760815</td>\n",
       "      <td>481.284469</td>\n",
       "      <td>1.719432e+06</td>\n",
       "      <td>1.719449e+06</td>\n",
       "      <td>6107.392220</td>\n",
       "      <td>362.087198</td>\n",
       "      <td>524.113646</td>\n",
       "      <td>6.006898e+05</td>\n",
       "      <td>32.625475</td>\n",
       "      <td>16.654437</td>\n",
       "      <td>137.299471</td>\n",
       "      <td>0.490694</td>\n",
       "      <td>0.490694</td>\n",
       "      <td>35.923484</td>\n",
       "      <td>0.303147</td>\n",
       "      <td>0.134019</td>\n",
       "      <td>0.264234</td>\n",
       "      <td>0.062152</td>\n",
       "      <td>0.241613</td>\n",
       "      <td>0.241219</td>\n",
       "      <td>0.484225</td>\n",
       "      <td>0.880245</td>\n",
       "      <td>0.535012</td>\n",
       "      <td>0.468135</td>\n",
       "      <td>0.483909</td>\n",
       "      <td>0.137824</td>\n",
       "      <td>0.34960</td>\n",
       "      <td>1.802939</td>\n",
       "    </tr>\n",
       "    <tr>\n",
       "      <th>min</th>\n",
       "      <td>0.000000</td>\n",
       "      <td>6.000000</td>\n",
       "      <td>7.430000e+03</td>\n",
       "      <td>7.458000e+03</td>\n",
       "      <td>2.000000</td>\n",
       "      <td>2.000000</td>\n",
       "      <td>1.000000</td>\n",
       "      <td>2.500000e+02</td>\n",
       "      <td>0.000000</td>\n",
       "      <td>70.000000</td>\n",
       "      <td>1227.000000</td>\n",
       "      <td>0.000000</td>\n",
       "      <td>0.000000</td>\n",
       "      <td>40.000000</td>\n",
       "      <td>0.000000</td>\n",
       "      <td>0.000000</td>\n",
       "      <td>0.008300</td>\n",
       "      <td>0.001500</td>\n",
       "      <td>0.014400</td>\n",
       "      <td>0.105000</td>\n",
       "      <td>0.000000</td>\n",
       "      <td>0.301000</td>\n",
       "      <td>0.301000</td>\n",
       "      <td>0.000000</td>\n",
       "      <td>-0.931900</td>\n",
       "      <td>-0.998900</td>\n",
       "      <td>0.11900</td>\n",
       "      <td>0.000000</td>\n",
       "    </tr>\n",
       "    <tr>\n",
       "      <th>25%</th>\n",
       "      <td>41.000000</td>\n",
       "      <td>191.000000</td>\n",
       "      <td>6.266300e+05</td>\n",
       "      <td>6.266358e+05</td>\n",
       "      <td>87.000000</td>\n",
       "      <td>15.000000</td>\n",
       "      <td>13.000000</td>\n",
       "      <td>1.011000e+04</td>\n",
       "      <td>46.000000</td>\n",
       "      <td>124.000000</td>\n",
       "      <td>1358.000000</td>\n",
       "      <td>0.000000</td>\n",
       "      <td>0.000000</td>\n",
       "      <td>40.000000</td>\n",
       "      <td>0.058500</td>\n",
       "      <td>0.314850</td>\n",
       "      <td>0.375700</td>\n",
       "      <td>0.006600</td>\n",
       "      <td>0.400000</td>\n",
       "      <td>0.539850</td>\n",
       "      <td>0.000000</td>\n",
       "      <td>1.939500</td>\n",
       "      <td>1.000000</td>\n",
       "      <td>1.079200</td>\n",
       "      <td>-0.364800</td>\n",
       "      <td>-0.192625</td>\n",
       "      <td>0.24820</td>\n",
       "      <td>1.000000</td>\n",
       "    </tr>\n",
       "    <tr>\n",
       "      <th>50%</th>\n",
       "      <td>283.000000</td>\n",
       "      <td>330.500000</td>\n",
       "      <td>1.412536e+06</td>\n",
       "      <td>1.412546e+06</td>\n",
       "      <td>200.500000</td>\n",
       "      <td>28.000000</td>\n",
       "      <td>28.000000</td>\n",
       "      <td>2.135150e+04</td>\n",
       "      <td>85.500000</td>\n",
       "      <td>127.000000</td>\n",
       "      <td>1362.000000</td>\n",
       "      <td>0.000000</td>\n",
       "      <td>1.000000</td>\n",
       "      <td>60.000000</td>\n",
       "      <td>0.181450</td>\n",
       "      <td>0.407450</td>\n",
       "      <td>0.571400</td>\n",
       "      <td>0.010150</td>\n",
       "      <td>0.633500</td>\n",
       "      <td>0.956500</td>\n",
       "      <td>1.000000</td>\n",
       "      <td>2.302100</td>\n",
       "      <td>1.176100</td>\n",
       "      <td>1.389050</td>\n",
       "      <td>0.072250</td>\n",
       "      <td>-0.143000</td>\n",
       "      <td>0.57080</td>\n",
       "      <td>2.000000</td>\n",
       "    </tr>\n",
       "    <tr>\n",
       "      <th>75%</th>\n",
       "      <td>955.000000</td>\n",
       "      <td>963.250000</td>\n",
       "      <td>2.246608e+06</td>\n",
       "      <td>2.246677e+06</td>\n",
       "      <td>3638.500000</td>\n",
       "      <td>184.250000</td>\n",
       "      <td>115.000000</td>\n",
       "      <td>3.696388e+05</td>\n",
       "      <td>103.000000</td>\n",
       "      <td>140.000000</td>\n",
       "      <td>1624.000000</td>\n",
       "      <td>1.000000</td>\n",
       "      <td>1.000000</td>\n",
       "      <td>70.000000</td>\n",
       "      <td>0.533050</td>\n",
       "      <td>0.493725</td>\n",
       "      <td>0.837025</td>\n",
       "      <td>0.067625</td>\n",
       "      <td>0.777800</td>\n",
       "      <td>1.000000</td>\n",
       "      <td>1.000000</td>\n",
       "      <td>3.560900</td>\n",
       "      <td>2.011750</td>\n",
       "      <td>1.812900</td>\n",
       "      <td>0.468275</td>\n",
       "      <td>-0.081650</td>\n",
       "      <td>1.00000</td>\n",
       "      <td>5.000000</td>\n",
       "    </tr>\n",
       "    <tr>\n",
       "      <th>max</th>\n",
       "      <td>1688.000000</td>\n",
       "      <td>1696.000000</td>\n",
       "      <td>1.298766e+07</td>\n",
       "      <td>1.298769e+07</td>\n",
       "      <td>152655.000000</td>\n",
       "      <td>10449.000000</td>\n",
       "      <td>18152.000000</td>\n",
       "      <td>1.159141e+07</td>\n",
       "      <td>196.000000</td>\n",
       "      <td>252.000000</td>\n",
       "      <td>1794.000000</td>\n",
       "      <td>1.000000</td>\n",
       "      <td>1.000000</td>\n",
       "      <td>290.000000</td>\n",
       "      <td>0.992300</td>\n",
       "      <td>0.943900</td>\n",
       "      <td>1.000000</td>\n",
       "      <td>0.622600</td>\n",
       "      <td>1.000000</td>\n",
       "      <td>1.000000</td>\n",
       "      <td>1.000000</td>\n",
       "      <td>5.183700</td>\n",
       "      <td>2.938500</td>\n",
       "      <td>4.258700</td>\n",
       "      <td>0.991700</td>\n",
       "      <td>0.591700</td>\n",
       "      <td>1.00000</td>\n",
       "      <td>5.000000</td>\n",
       "    </tr>\n",
       "  </tbody>\n",
       "</table>\n",
       "</div>"
      ],
      "text/plain": [
       "         X_Minimum    X_Maximum     Y_Minimum     Y_Maximum   Pixels_Areas  \\\n",
       "count  1268.000000  1268.000000  1.268000e+03  1.268000e+03    1268.000000   \n",
       "mean    508.635647   565.126183  1.759791e+06  1.759855e+06    2588.908517   \n",
       "std     513.760815   481.284469  1.719432e+06  1.719449e+06    6107.392220   \n",
       "min       0.000000     6.000000  7.430000e+03  7.458000e+03       2.000000   \n",
       "25%      41.000000   191.000000  6.266300e+05  6.266358e+05      87.000000   \n",
       "50%     283.000000   330.500000  1.412536e+06  1.412546e+06     200.500000   \n",
       "75%     955.000000   963.250000  2.246608e+06  2.246677e+06    3638.500000   \n",
       "max    1688.000000  1696.000000  1.298766e+07  1.298769e+07  152655.000000   \n",
       "\n",
       "        X_Perimeter   Y_Perimeter  Sum_of_Luminosity  Minimum_of_Luminosity  \\\n",
       "count   1268.000000   1268.000000       1.268000e+03            1268.000000   \n",
       "mean     143.205836    103.716088       2.831348e+05              79.209779   \n",
       "std      362.087198    524.113646       6.006898e+05              32.625475   \n",
       "min        2.000000      1.000000       2.500000e+02               0.000000   \n",
       "25%       15.000000     13.000000       1.011000e+04              46.000000   \n",
       "50%       28.000000     28.000000       2.135150e+04              85.500000   \n",
       "75%      184.250000    115.000000       3.696388e+05             103.000000   \n",
       "max    10449.000000  18152.000000       1.159141e+07             196.000000   \n",
       "\n",
       "       Maximum_of_Luminosity  Length_of_Conveyer  TypeOfSteel_A300  \\\n",
       "count            1268.000000         1268.000000       1268.000000   \n",
       "mean              130.299685         1445.250789          0.402997   \n",
       "std                16.654437          137.299471          0.490694   \n",
       "min                70.000000         1227.000000          0.000000   \n",
       "25%               124.000000         1358.000000          0.000000   \n",
       "50%               127.000000         1362.000000          0.000000   \n",
       "75%               140.000000         1624.000000          1.000000   \n",
       "max               252.000000         1794.000000          1.000000   \n",
       "\n",
       "       TypeOfSteel_A400  Steel_Plate_Thickness  Edges_Index  Empty_Index  \\\n",
       "count       1268.000000            1268.000000  1268.000000  1268.000000   \n",
       "mean           0.597003              66.072555     0.310388     0.409378   \n",
       "std            0.490694              35.923484     0.303147     0.134019   \n",
       "min            0.000000              40.000000     0.000000     0.000000   \n",
       "25%            0.000000              40.000000     0.058500     0.314850   \n",
       "50%            1.000000              60.000000     0.181450     0.407450   \n",
       "75%            1.000000              70.000000     0.533050     0.493725   \n",
       "max            1.000000             290.000000     0.992300     0.943900   \n",
       "\n",
       "       Square_Index  Outside_X_Index  Edges_X_Index  Edges_Y_Index  \\\n",
       "count   1268.000000      1268.000000    1268.000000    1268.000000   \n",
       "mean       0.589186         0.040520       0.597253       0.802600   \n",
       "std        0.264234         0.062152       0.241613       0.241219   \n",
       "min        0.008300         0.001500       0.014400       0.105000   \n",
       "25%        0.375700         0.006600       0.400000       0.539850   \n",
       "50%        0.571400         0.010150       0.633500       0.956500   \n",
       "75%        0.837025         0.067625       0.777800       1.000000   \n",
       "max        1.000000         0.622600       1.000000       1.000000   \n",
       "\n",
       "       Outside_Global_Index   LogOfAreas  Log_X_Index  Log_Y_Index  \\\n",
       "count           1268.000000  1268.000000  1268.000000  1268.000000   \n",
       "mean               0.562303     2.603358     1.388906     1.456804   \n",
       "std                0.484225     0.880245     0.535012     0.468135   \n",
       "min                0.000000     0.301000     0.301000     0.000000   \n",
       "25%                0.000000     1.939500     1.000000     1.079200   \n",
       "50%                1.000000     2.302100     1.176100     1.389050   \n",
       "75%                1.000000     3.560900     2.011750     1.812900   \n",
       "max                1.000000     5.183700     2.938500     4.258700   \n",
       "\n",
       "       Orientation_Index  Luminosity_Index  SigmoidOfAreas       target  \n",
       "count        1268.000000       1268.000000      1268.00000  1268.000000  \n",
       "mean            0.067459         -0.135566         0.61065     2.695584  \n",
       "std             0.483909          0.137824         0.34960     1.802939  \n",
       "min            -0.931900         -0.998900         0.11900     0.000000  \n",
       "25%            -0.364800         -0.192625         0.24820     1.000000  \n",
       "50%             0.072250         -0.143000         0.57080     2.000000  \n",
       "75%             0.468275         -0.081650         1.00000     5.000000  \n",
       "max             0.991700          0.591700         1.00000     5.000000  "
      ]
     },
     "execution_count": 14,
     "metadata": {},
     "output_type": "execute_result"
    }
   ],
   "source": [
    "df.describe()"
   ]
  },
  {
   "cell_type": "code",
   "execution_count": 15,
   "metadata": {},
   "outputs": [
    {
     "data": {
      "application/vnd.plotly.v1+json": {
       "config": {
        "plotlyServerURL": "https://plot.ly"
       },
       "data": [
        {
         "name": "0",
         "type": "box",
         "x": [
          42,
          645,
          829,
          853,
          1289,
          430,
          413,
          190,
          330,
          74,
          106,
          505,
          46,
          581,
          451,
          669,
          156,
          90,
          82,
          1601,
          17,
          43,
          63,
          82,
          75,
          1363,
          1358,
          1404,
          1281,
          49,
          830,
          91,
          161,
          1328,
          1251,
          733,
          12,
          162,
          0,
          1617,
          1152,
          1259,
          1545,
          1580,
          450,
          1625,
          1495,
          958,
          1536,
          780,
          1140,
          13,
          11,
          1589,
          765,
          1268,
          333,
          1287,
          1088,
          1255,
          707,
          1186,
          626,
          1503,
          1152,
          1533,
          788,
          34,
          1604,
          1610,
          1617,
          1589,
          482,
          1067,
          623,
          446,
          375,
          125,
          124,
          1321,
          817,
          808,
          1327,
          64,
          57,
          921,
          830,
          1201,
          1227,
          959,
          320,
          34,
          159,
          1265,
          1343,
          557,
          1058,
          780,
          971,
          374,
          1027,
          1554,
          179,
          980,
          1579,
          225,
          1465,
          1360,
          1155,
          1325,
          1260,
          1245,
          1687,
          1507,
          1688,
          1685,
          1687,
          1571,
          757,
          1568,
          1571,
          1575,
          1579,
          1395,
          5,
          1578,
          1595,
          10,
          1593,
          9,
          1505,
          1470,
          1643,
          1555,
          923,
          1540,
          1251,
          83,
          375,
          1136,
          451,
          1331,
          172,
          30,
          389,
          450,
          41,
          295,
          268,
          62,
          18,
          16,
          19,
          16,
          14,
          13,
          15,
          17
         ]
        },
        {
         "name": "1",
         "type": "box",
         "x": [
          1166,
          7,
          37,
          39,
          193,
          145,
          39,
          141,
          68,
          81,
          0,
          94,
          10,
          3,
          16,
          144,
          30,
          63,
          166,
          158,
          174,
          513,
          25,
          9,
          185,
          134,
          81,
          385,
          34,
          1147,
          260,
          1,
          225,
          369,
          436,
          506,
          109,
          49,
          51,
          397,
          703,
          405,
          135,
          0,
          10,
          10,
          8,
          216,
          34,
          226,
          174,
          0,
          2,
          161,
          123,
          65,
          27,
          244,
          144,
          138,
          66,
          168,
          168,
          157,
          189,
          61,
          176,
          141,
          172,
          460,
          137,
          14,
          212,
          114,
          242,
          38,
          107,
          119,
          1341,
          75,
          195,
          462,
          603,
          220,
          225,
          18,
          294,
          79,
          478,
          65,
          165,
          135,
          85,
          356,
          49,
          484,
          108,
          357,
          169,
          37,
          116,
          0,
          824,
          53,
          248,
          104,
          115,
          31,
          221,
          195,
          144,
          449,
          55,
          142,
          49,
          322,
          210,
          30,
          88,
          42,
          54,
          29,
          173,
          83,
          17,
          98,
          184,
          116,
          178,
          41,
          82,
          73,
          20,
          151,
          69,
          79,
          85,
          74,
          34,
          13,
          32,
          81,
          22,
          280,
          107,
          7,
          42,
          8,
          8,
          31,
          45,
          25,
          4,
          27,
          26,
          2,
          24,
          9,
          53,
          13,
          48,
          17,
          23,
          27,
          0,
          24,
          19,
          17,
          18,
          15,
          0,
          1264,
          126,
          105,
          119,
          103,
          145,
          209,
          205,
          181,
          1190,
          1214,
          1211,
          1207,
          1200,
          1191,
          1202,
          1109,
          1190,
          1198
         ]
        },
        {
         "name": "2",
         "type": "box",
         "x": [
          464,
          853,
          0,
          816,
          827,
          1059,
          259,
          853,
          570,
          732,
          1084,
          1212,
          857,
          852,
          141,
          716,
          1220,
          1028,
          4,
          867,
          1279,
          951,
          945,
          856,
          925,
          919,
          919,
          933,
          936,
          936,
          926,
          897,
          892,
          824,
          732,
          367,
          476,
          498,
          1147,
          489,
          236,
          1314,
          1614,
          19,
          0,
          3,
          0,
          0,
          0,
          0,
          1,
          0,
          0,
          41,
          41,
          41,
          41,
          37,
          41,
          41,
          39,
          41,
          39,
          41,
          43,
          41,
          39,
          39,
          39,
          41,
          39,
          39,
          39,
          142,
          39,
          39,
          41,
          41,
          41,
          35,
          41,
          39,
          41,
          41,
          43,
          39,
          39,
          41,
          39,
          41,
          41,
          39,
          43,
          39,
          39,
          37,
          39,
          39,
          41,
          41,
          39,
          39,
          39,
          41,
          39,
          39,
          39,
          37,
          39,
          43,
          39,
          39,
          41,
          41,
          39,
          41,
          39,
          39,
          39,
          39,
          39,
          41,
          43,
          43,
          41,
          39,
          41,
          41,
          41,
          41,
          41,
          39,
          41,
          39,
          39,
          39,
          39,
          41,
          39,
          37,
          41,
          39,
          39,
          41,
          41,
          41,
          41,
          41,
          39,
          41,
          41,
          41,
          39,
          41,
          39,
          39,
          41,
          39,
          41,
          39,
          39,
          39,
          41,
          39,
          43,
          39,
          93,
          41,
          39,
          39,
          41,
          41,
          39,
          39,
          39,
          89,
          75,
          39,
          39,
          39,
          39,
          39,
          39,
          39,
          39,
          126,
          129,
          46,
          43,
          39,
          43,
          103,
          50,
          134,
          46,
          41,
          37,
          60,
          51,
          48,
          47,
          52,
          41,
          56,
          51,
          55,
          39,
          50,
          41,
          43,
          48,
          42,
          41,
          39,
          39,
          41,
          39,
          41,
          41,
          121,
          39,
          41,
          39,
          127,
          126,
          39,
          41,
          39,
          39,
          39,
          41,
          41,
          39,
          43,
          43,
          39,
          39,
          96,
          41,
          98,
          39,
          104,
          100,
          41,
          39,
          93,
          41,
          41,
          39,
          41,
          39,
          41,
          41,
          39,
          41,
          39,
          39,
          109,
          41,
          37,
          41,
          41,
          39,
          41,
          41,
          41,
          41,
          39,
          41,
          41,
          39,
          41,
          39,
          190,
          41,
          39,
          43,
          41,
          41,
          39,
          39,
          37,
          39,
          41,
          109,
          41,
          41,
          39,
          39,
          41,
          39,
          41,
          41,
          43,
          39,
          41,
          98,
          39,
          41,
          41,
          39,
          43,
          41,
          39,
          41,
          41,
          195,
          41,
          39,
          39,
          37,
          39,
          39,
          41,
          39,
          41,
          41,
          43,
          128,
          41,
          39,
          39,
          39,
          41,
          39,
          41,
          41,
          41,
          130,
          39,
          39,
          41,
          41,
          39,
          41,
          37,
          147,
          39,
          39,
          39,
          149,
          37,
          41,
          39,
          39,
          39,
          41,
          41,
          41,
          147,
          41,
          39,
          41,
          41,
          41,
          41,
          41,
          41,
          41,
          41,
          41,
          41,
          84,
          85,
          41,
          79,
          80,
          86,
          89,
          83,
          68,
          64,
          61,
          87,
          73,
          3,
          2,
          0,
          1,
          13,
          203,
          238,
          233,
          215,
          230,
          225,
          250,
          243,
          241,
          836,
          414
         ]
        },
        {
         "name": "3",
         "type": "box",
         "x": [
          1002,
          1145,
          570,
          1179,
          955,
          581,
          778,
          977,
          604,
          1254,
          799,
          1209,
          402,
          752,
          621,
          615,
          1217,
          1196,
          772,
          425,
          584,
          852,
          1035,
          1182,
          804,
          517,
          1229,
          855,
          1291,
          805,
          321,
          323,
          617,
          647,
          805,
          475,
          321,
          696,
          1241,
          1196,
          489,
          861,
          765,
          563,
          816,
          686,
          974,
          583,
          312,
          297,
          305,
          731,
          301,
          756,
          301,
          575,
          1202,
          307,
          689,
          1094,
          303,
          486,
          599,
          1236,
          1235,
          299,
          1273,
          1140,
          299,
          1121,
          543,
          1213
         ]
        },
        {
         "name": "4",
         "type": "box",
         "x": [
          1325,
          1,
          1323,
          1324,
          1324,
          50,
          828,
          1324,
          1325,
          1326,
          1325,
          1327,
          1330,
          1329,
          1327,
          1328,
          1302,
          1315,
          1310,
          1430,
          1357,
          1427,
          1421,
          1417,
          1373,
          1444,
          63,
          123,
          625,
          625,
          625,
          625,
          625,
          623,
          624,
          620,
          623,
          621,
          621,
          623,
          621,
          621,
          621,
          620,
          619,
          619,
          617,
          618,
          616,
          615,
          615,
          614,
          614,
          616,
          612
         ]
        },
        {
         "name": "5",
         "type": "box",
         "x": [
          38,
          1252,
          1095,
          193,
          1159,
          366,
          837,
          390,
          1351,
          1325,
          1164,
          542,
          367,
          932,
          516,
          1332,
          480,
          699,
          431,
          96,
          873,
          525,
          83,
          99,
          383,
          936,
          1010,
          955,
          1297,
          1116,
          1307,
          935,
          565,
          372,
          1609,
          748,
          189,
          1559,
          764,
          1633,
          133,
          501,
          973,
          1627,
          967,
          1126,
          561,
          1338,
          1357,
          512,
          1606,
          532,
          1393,
          744,
          595,
          669,
          908,
          368,
          1628,
          213,
          117,
          64,
          129,
          104,
          52,
          1051,
          539,
          947,
          541,
          118,
          1063,
          1084,
          1531,
          24,
          155,
          1005,
          30,
          881,
          280,
          1250,
          1317,
          438,
          1643,
          1680,
          1674,
          1678,
          1641,
          1633,
          1638,
          677,
          1575,
          723,
          759,
          188,
          339,
          143,
          868,
          396,
          508,
          1134,
          251,
          682,
          19,
          1084,
          920,
          21,
          57,
          205,
          1327,
          482,
          1317,
          17,
          828,
          724,
          593,
          1049,
          1312,
          459,
          487,
          204,
          576,
          1582,
          967,
          1287,
          1285,
          57,
          715,
          1358,
          203,
          1345,
          146,
          305,
          1041,
          1261,
          206,
          814,
          673,
          1161,
          912,
          1145,
          1307,
          557,
          1245,
          1272,
          657,
          1175,
          1307,
          919,
          320,
          661,
          553,
          1467,
          929,
          165,
          267,
          1605,
          1588,
          957,
          248,
          847,
          953,
          532,
          253,
          63,
          389,
          576,
          93,
          395,
          61,
          1538,
          477,
          965,
          1474,
          933,
          1135,
          1179,
          976,
          611,
          1441,
          359,
          1224,
          729,
          869,
          1009,
          1410,
          1515,
          386,
          1267,
          1065,
          1297,
          101,
          924,
          993,
          996,
          984,
          586,
          1215,
          990,
          1233,
          853,
          1123,
          965,
          806,
          726,
          770,
          893,
          559,
          919,
          895,
          312,
          1145,
          681,
          771,
          755,
          735,
          338,
          496,
          1259,
          734,
          733,
          1110,
          282,
          572,
          522,
          1038,
          575,
          803,
          1145,
          371,
          355,
          362,
          228,
          787,
          395,
          1338,
          10,
          1221,
          751,
          1289,
          1015,
          693,
          979,
          950,
          1044,
          98,
          1131,
          125,
          81,
          157,
          159,
          239,
          315,
          305,
          309,
          187,
          311,
          1318,
          1293,
          794,
          1215,
          822,
          1283,
          749,
          1120,
          1192,
          498,
          354,
          860,
          581,
          1214,
          818,
          19,
          71,
          262,
          112,
          118,
          559,
          181,
          1494,
          1539,
          1348,
          763,
          189,
          1641,
          1372,
          91,
          161,
          284,
          174,
          90,
          195,
          73,
          95,
          174,
          57,
          293,
          387,
          1203,
          630,
          888,
          1111,
          1272,
          832,
          671,
          1073,
          1121,
          567,
          1210,
          1031,
          1128,
          1077,
          1034,
          604,
          1598,
          1611,
          1457,
          1065,
          1619,
          1449,
          1630,
          1588,
          1069,
          909,
          896,
          896,
          581,
          1245,
          1160,
          778,
          1157,
          476,
          778,
          1268,
          377,
          391,
          691,
          227,
          174,
          1038,
          1069,
          1066,
          1068,
          1069,
          1065,
          1177,
          1219,
          1065,
          1065,
          1065,
          1063,
          1061,
          1057,
          1060,
          1061,
          1058,
          1306,
          309,
          1059,
          1087,
          1040,
          1041,
          1078,
          1043,
          1031,
          1056,
          1116,
          1043,
          1097,
          197,
          1103,
          1067,
          659,
          981,
          1120,
          550,
          758,
          634,
          1085,
          1134,
          576,
          1152,
          609,
          701,
          345,
          651,
          889,
          1094,
          6,
          14,
          1122,
          1321,
          1161,
          597,
          154,
          133,
          41,
          68,
          221,
          1111,
          995,
          396,
          604
         ]
        }
       ],
       "layout": {
        "template": {
         "data": {
          "bar": [
           {
            "error_x": {
             "color": "#2a3f5f"
            },
            "error_y": {
             "color": "#2a3f5f"
            },
            "marker": {
             "line": {
              "color": "#E5ECF6",
              "width": 0.5
             },
             "pattern": {
              "fillmode": "overlay",
              "size": 10,
              "solidity": 0.2
             }
            },
            "type": "bar"
           }
          ],
          "barpolar": [
           {
            "marker": {
             "line": {
              "color": "#E5ECF6",
              "width": 0.5
             },
             "pattern": {
              "fillmode": "overlay",
              "size": 10,
              "solidity": 0.2
             }
            },
            "type": "barpolar"
           }
          ],
          "carpet": [
           {
            "aaxis": {
             "endlinecolor": "#2a3f5f",
             "gridcolor": "white",
             "linecolor": "white",
             "minorgridcolor": "white",
             "startlinecolor": "#2a3f5f"
            },
            "baxis": {
             "endlinecolor": "#2a3f5f",
             "gridcolor": "white",
             "linecolor": "white",
             "minorgridcolor": "white",
             "startlinecolor": "#2a3f5f"
            },
            "type": "carpet"
           }
          ],
          "choropleth": [
           {
            "colorbar": {
             "outlinewidth": 0,
             "ticks": ""
            },
            "type": "choropleth"
           }
          ],
          "contour": [
           {
            "colorbar": {
             "outlinewidth": 0,
             "ticks": ""
            },
            "colorscale": [
             [
              0,
              "#0d0887"
             ],
             [
              0.1111111111111111,
              "#46039f"
             ],
             [
              0.2222222222222222,
              "#7201a8"
             ],
             [
              0.3333333333333333,
              "#9c179e"
             ],
             [
              0.4444444444444444,
              "#bd3786"
             ],
             [
              0.5555555555555556,
              "#d8576b"
             ],
             [
              0.6666666666666666,
              "#ed7953"
             ],
             [
              0.7777777777777778,
              "#fb9f3a"
             ],
             [
              0.8888888888888888,
              "#fdca26"
             ],
             [
              1,
              "#f0f921"
             ]
            ],
            "type": "contour"
           }
          ],
          "contourcarpet": [
           {
            "colorbar": {
             "outlinewidth": 0,
             "ticks": ""
            },
            "type": "contourcarpet"
           }
          ],
          "heatmap": [
           {
            "colorbar": {
             "outlinewidth": 0,
             "ticks": ""
            },
            "colorscale": [
             [
              0,
              "#0d0887"
             ],
             [
              0.1111111111111111,
              "#46039f"
             ],
             [
              0.2222222222222222,
              "#7201a8"
             ],
             [
              0.3333333333333333,
              "#9c179e"
             ],
             [
              0.4444444444444444,
              "#bd3786"
             ],
             [
              0.5555555555555556,
              "#d8576b"
             ],
             [
              0.6666666666666666,
              "#ed7953"
             ],
             [
              0.7777777777777778,
              "#fb9f3a"
             ],
             [
              0.8888888888888888,
              "#fdca26"
             ],
             [
              1,
              "#f0f921"
             ]
            ],
            "type": "heatmap"
           }
          ],
          "heatmapgl": [
           {
            "colorbar": {
             "outlinewidth": 0,
             "ticks": ""
            },
            "colorscale": [
             [
              0,
              "#0d0887"
             ],
             [
              0.1111111111111111,
              "#46039f"
             ],
             [
              0.2222222222222222,
              "#7201a8"
             ],
             [
              0.3333333333333333,
              "#9c179e"
             ],
             [
              0.4444444444444444,
              "#bd3786"
             ],
             [
              0.5555555555555556,
              "#d8576b"
             ],
             [
              0.6666666666666666,
              "#ed7953"
             ],
             [
              0.7777777777777778,
              "#fb9f3a"
             ],
             [
              0.8888888888888888,
              "#fdca26"
             ],
             [
              1,
              "#f0f921"
             ]
            ],
            "type": "heatmapgl"
           }
          ],
          "histogram": [
           {
            "marker": {
             "pattern": {
              "fillmode": "overlay",
              "size": 10,
              "solidity": 0.2
             }
            },
            "type": "histogram"
           }
          ],
          "histogram2d": [
           {
            "colorbar": {
             "outlinewidth": 0,
             "ticks": ""
            },
            "colorscale": [
             [
              0,
              "#0d0887"
             ],
             [
              0.1111111111111111,
              "#46039f"
             ],
             [
              0.2222222222222222,
              "#7201a8"
             ],
             [
              0.3333333333333333,
              "#9c179e"
             ],
             [
              0.4444444444444444,
              "#bd3786"
             ],
             [
              0.5555555555555556,
              "#d8576b"
             ],
             [
              0.6666666666666666,
              "#ed7953"
             ],
             [
              0.7777777777777778,
              "#fb9f3a"
             ],
             [
              0.8888888888888888,
              "#fdca26"
             ],
             [
              1,
              "#f0f921"
             ]
            ],
            "type": "histogram2d"
           }
          ],
          "histogram2dcontour": [
           {
            "colorbar": {
             "outlinewidth": 0,
             "ticks": ""
            },
            "colorscale": [
             [
              0,
              "#0d0887"
             ],
             [
              0.1111111111111111,
              "#46039f"
             ],
             [
              0.2222222222222222,
              "#7201a8"
             ],
             [
              0.3333333333333333,
              "#9c179e"
             ],
             [
              0.4444444444444444,
              "#bd3786"
             ],
             [
              0.5555555555555556,
              "#d8576b"
             ],
             [
              0.6666666666666666,
              "#ed7953"
             ],
             [
              0.7777777777777778,
              "#fb9f3a"
             ],
             [
              0.8888888888888888,
              "#fdca26"
             ],
             [
              1,
              "#f0f921"
             ]
            ],
            "type": "histogram2dcontour"
           }
          ],
          "mesh3d": [
           {
            "colorbar": {
             "outlinewidth": 0,
             "ticks": ""
            },
            "type": "mesh3d"
           }
          ],
          "parcoords": [
           {
            "line": {
             "colorbar": {
              "outlinewidth": 0,
              "ticks": ""
             }
            },
            "type": "parcoords"
           }
          ],
          "pie": [
           {
            "automargin": true,
            "type": "pie"
           }
          ],
          "scatter": [
           {
            "fillpattern": {
             "fillmode": "overlay",
             "size": 10,
             "solidity": 0.2
            },
            "type": "scatter"
           }
          ],
          "scatter3d": [
           {
            "line": {
             "colorbar": {
              "outlinewidth": 0,
              "ticks": ""
             }
            },
            "marker": {
             "colorbar": {
              "outlinewidth": 0,
              "ticks": ""
             }
            },
            "type": "scatter3d"
           }
          ],
          "scattercarpet": [
           {
            "marker": {
             "colorbar": {
              "outlinewidth": 0,
              "ticks": ""
             }
            },
            "type": "scattercarpet"
           }
          ],
          "scattergeo": [
           {
            "marker": {
             "colorbar": {
              "outlinewidth": 0,
              "ticks": ""
             }
            },
            "type": "scattergeo"
           }
          ],
          "scattergl": [
           {
            "marker": {
             "colorbar": {
              "outlinewidth": 0,
              "ticks": ""
             }
            },
            "type": "scattergl"
           }
          ],
          "scattermapbox": [
           {
            "marker": {
             "colorbar": {
              "outlinewidth": 0,
              "ticks": ""
             }
            },
            "type": "scattermapbox"
           }
          ],
          "scatterpolar": [
           {
            "marker": {
             "colorbar": {
              "outlinewidth": 0,
              "ticks": ""
             }
            },
            "type": "scatterpolar"
           }
          ],
          "scatterpolargl": [
           {
            "marker": {
             "colorbar": {
              "outlinewidth": 0,
              "ticks": ""
             }
            },
            "type": "scatterpolargl"
           }
          ],
          "scatterternary": [
           {
            "marker": {
             "colorbar": {
              "outlinewidth": 0,
              "ticks": ""
             }
            },
            "type": "scatterternary"
           }
          ],
          "surface": [
           {
            "colorbar": {
             "outlinewidth": 0,
             "ticks": ""
            },
            "colorscale": [
             [
              0,
              "#0d0887"
             ],
             [
              0.1111111111111111,
              "#46039f"
             ],
             [
              0.2222222222222222,
              "#7201a8"
             ],
             [
              0.3333333333333333,
              "#9c179e"
             ],
             [
              0.4444444444444444,
              "#bd3786"
             ],
             [
              0.5555555555555556,
              "#d8576b"
             ],
             [
              0.6666666666666666,
              "#ed7953"
             ],
             [
              0.7777777777777778,
              "#fb9f3a"
             ],
             [
              0.8888888888888888,
              "#fdca26"
             ],
             [
              1,
              "#f0f921"
             ]
            ],
            "type": "surface"
           }
          ],
          "table": [
           {
            "cells": {
             "fill": {
              "color": "#EBF0F8"
             },
             "line": {
              "color": "white"
             }
            },
            "header": {
             "fill": {
              "color": "#C8D4E3"
             },
             "line": {
              "color": "white"
             }
            },
            "type": "table"
           }
          ]
         },
         "layout": {
          "annotationdefaults": {
           "arrowcolor": "#2a3f5f",
           "arrowhead": 0,
           "arrowwidth": 1
          },
          "autotypenumbers": "strict",
          "coloraxis": {
           "colorbar": {
            "outlinewidth": 0,
            "ticks": ""
           }
          },
          "colorscale": {
           "diverging": [
            [
             0,
             "#8e0152"
            ],
            [
             0.1,
             "#c51b7d"
            ],
            [
             0.2,
             "#de77ae"
            ],
            [
             0.3,
             "#f1b6da"
            ],
            [
             0.4,
             "#fde0ef"
            ],
            [
             0.5,
             "#f7f7f7"
            ],
            [
             0.6,
             "#e6f5d0"
            ],
            [
             0.7,
             "#b8e186"
            ],
            [
             0.8,
             "#7fbc41"
            ],
            [
             0.9,
             "#4d9221"
            ],
            [
             1,
             "#276419"
            ]
           ],
           "sequential": [
            [
             0,
             "#0d0887"
            ],
            [
             0.1111111111111111,
             "#46039f"
            ],
            [
             0.2222222222222222,
             "#7201a8"
            ],
            [
             0.3333333333333333,
             "#9c179e"
            ],
            [
             0.4444444444444444,
             "#bd3786"
            ],
            [
             0.5555555555555556,
             "#d8576b"
            ],
            [
             0.6666666666666666,
             "#ed7953"
            ],
            [
             0.7777777777777778,
             "#fb9f3a"
            ],
            [
             0.8888888888888888,
             "#fdca26"
            ],
            [
             1,
             "#f0f921"
            ]
           ],
           "sequentialminus": [
            [
             0,
             "#0d0887"
            ],
            [
             0.1111111111111111,
             "#46039f"
            ],
            [
             0.2222222222222222,
             "#7201a8"
            ],
            [
             0.3333333333333333,
             "#9c179e"
            ],
            [
             0.4444444444444444,
             "#bd3786"
            ],
            [
             0.5555555555555556,
             "#d8576b"
            ],
            [
             0.6666666666666666,
             "#ed7953"
            ],
            [
             0.7777777777777778,
             "#fb9f3a"
            ],
            [
             0.8888888888888888,
             "#fdca26"
            ],
            [
             1,
             "#f0f921"
            ]
           ]
          },
          "colorway": [
           "#636efa",
           "#EF553B",
           "#00cc96",
           "#ab63fa",
           "#FFA15A",
           "#19d3f3",
           "#FF6692",
           "#B6E880",
           "#FF97FF",
           "#FECB52"
          ],
          "font": {
           "color": "#2a3f5f"
          },
          "geo": {
           "bgcolor": "white",
           "lakecolor": "white",
           "landcolor": "#E5ECF6",
           "showlakes": true,
           "showland": true,
           "subunitcolor": "white"
          },
          "hoverlabel": {
           "align": "left"
          },
          "hovermode": "closest",
          "mapbox": {
           "style": "light"
          },
          "paper_bgcolor": "white",
          "plot_bgcolor": "#E5ECF6",
          "polar": {
           "angularaxis": {
            "gridcolor": "white",
            "linecolor": "white",
            "ticks": ""
           },
           "bgcolor": "#E5ECF6",
           "radialaxis": {
            "gridcolor": "white",
            "linecolor": "white",
            "ticks": ""
           }
          },
          "scene": {
           "xaxis": {
            "backgroundcolor": "#E5ECF6",
            "gridcolor": "white",
            "gridwidth": 2,
            "linecolor": "white",
            "showbackground": true,
            "ticks": "",
            "zerolinecolor": "white"
           },
           "yaxis": {
            "backgroundcolor": "#E5ECF6",
            "gridcolor": "white",
            "gridwidth": 2,
            "linecolor": "white",
            "showbackground": true,
            "ticks": "",
            "zerolinecolor": "white"
           },
           "zaxis": {
            "backgroundcolor": "#E5ECF6",
            "gridcolor": "white",
            "gridwidth": 2,
            "linecolor": "white",
            "showbackground": true,
            "ticks": "",
            "zerolinecolor": "white"
           }
          },
          "shapedefaults": {
           "line": {
            "color": "#2a3f5f"
           }
          },
          "ternary": {
           "aaxis": {
            "gridcolor": "white",
            "linecolor": "white",
            "ticks": ""
           },
           "baxis": {
            "gridcolor": "white",
            "linecolor": "white",
            "ticks": ""
           },
           "bgcolor": "#E5ECF6",
           "caxis": {
            "gridcolor": "white",
            "linecolor": "white",
            "ticks": ""
           }
          },
          "title": {
           "x": 0.05
          },
          "xaxis": {
           "automargin": true,
           "gridcolor": "white",
           "linecolor": "white",
           "ticks": "",
           "title": {
            "standoff": 15
           },
           "zerolinecolor": "white",
           "zerolinewidth": 2
          },
          "yaxis": {
           "automargin": true,
           "gridcolor": "white",
           "linecolor": "white",
           "ticks": "",
           "title": {
            "standoff": 15
           },
           "zerolinecolor": "white",
           "zerolinewidth": 2
          }
         }
        }
       }
      }
     },
     "metadata": {},
     "output_type": "display_data"
    }
   ],
   "source": [
    "col = \"X_Minimum\"\n",
    "targets = df['target'].unique()\n",
    "\n",
    "fig = go.Figure()\n",
    "for t in targets:\n",
    "    df_filtered = df[df['target'] == t]\n",
    "\n",
    "    fig.add_trace(go.Box(x = df_filtered[col], name = str(t)))\n",
    "fig.show()"
   ]
  },
  {
   "cell_type": "markdown",
   "metadata": {},
   "source": [
    "### Treinamento"
   ]
  },
  {
   "cell_type": "markdown",
   "metadata": {},
   "source": [
    "### Divisão"
   ]
  },
  {
   "cell_type": "code",
   "execution_count": 32,
   "metadata": {},
   "outputs": [],
   "source": [
    "#Vamos usar somente duas features SepalLengthCm e SepalWidthCm\n",
    "X = df.drop(columns=[\"target\"]).values\n",
    "y = df[\"target\"].values\n",
    "\n",
    "#Separando o conjunto de dados em treinamento e teste\n",
    "#X_train, X_test, y_train, y_test = train_test_split(X, y, test_size=0.3, stratify=y)\n",
    "\n",
    "# Por index\n",
    "#indices = X.index\n",
    "#train_indices, test_indices = train_test_split(indices, test_size=0.2, stratify=y)\n",
    "#X_train = X.iloc[train_indices]\n",
    "#X_test = X.iloc[test_indices]\n",
    "#y_train = y.iloc[train_indices]\n",
    "#y_test = y.iloc[test_indices]"
   ]
  },
  {
   "cell_type": "markdown",
   "metadata": {},
   "source": [
    "### PCA"
   ]
  },
  {
   "cell_type": "code",
   "execution_count": null,
   "metadata": {},
   "outputs": [],
   "source": [
    "model_pca = Pipeline([('scaler', StandardScaler()) , ('model', PCA())])\n",
    "#model_pca = Pipeline([('scaler', StandardScaler()) , ('model', TSNE(n_components=2))])\n",
    "# model_pca = Pipeline([('scaler', StandardScaler()) , ('model', TSNE(n_components=3))])\n",
    "\n",
    "X_pca = model_pca.fit_transform(X)\n",
    "\n",
    "df_pca = pd.DataFrame({'PC1': X_pca[:,0], 'PC2': X_pca[:,1], 'target': y})\n",
    "# df_pca = pd.DataFrame({'PC1': X_pca[:,0], 'PC2': X_pca[:,1], 'PC2': X_pca[:,3], 'target': y})\n",
    "df_pca[\"is_train\"] = False\n",
    "df_pca.loc[train_indices, \"is_train\"] = True\n",
    "df_pca = df_pca.astype({'target': str}).sort_values(\"target\")\n",
    "df_pca.head()"
   ]
  },
  {
   "cell_type": "code",
   "execution_count": null,
   "metadata": {},
   "outputs": [],
   "source": [
    "# plotar resultados\n",
    "fig = px.scatter(data_frame=df_pca, x = \"PC1\", y = \"PC2\", color = \"target\")\n",
    "\n",
    "fig.update_layout(showlegend = True)"
   ]
  },
  {
   "cell_type": "code",
   "execution_count": null,
   "metadata": {},
   "outputs": [],
   "source": [
    "# plotar resultados\n",
    "fig = px.scatter(data_frame=df_pca[df_pca[\"is_train\"]], x = \"PC1\", y = \"PC2\", color = \"target\")\n",
    "\n",
    "fig.update_layout(showlegend = True)"
   ]
  },
  {
   "cell_type": "code",
   "execution_count": null,
   "metadata": {},
   "outputs": [],
   "source": [
    "# plotar resultados\n",
    "fig = px.scatter(data_frame=df_pca[~df_pca[\"is_train\"]], x = \"PC1\", y = \"PC2\", color = \"target\")\n",
    "\n",
    "fig.update_layout(showlegend = True)"
   ]
  },
  {
   "cell_type": "code",
   "execution_count": null,
   "metadata": {},
   "outputs": [],
   "source": [
    "# plotar resultados 3d\n",
    "# px.scatter_3d(data_frame=df_pca, x = 'PC1', y = 'PC2', z = 'PC3', color='target')"
   ]
  },
  {
   "cell_type": "code",
   "execution_count": null,
   "metadata": {},
   "outputs": [],
   "source": []
  },
  {
   "cell_type": "markdown",
   "metadata": {},
   "source": [
    "### KNN"
   ]
  },
  {
   "cell_type": "code",
   "execution_count": 17,
   "metadata": {},
   "outputs": [
    {
     "data": {
      "text/html": [
       "<style>#sk-container-id-1 {\n",
       "  /* Definition of color scheme common for light and dark mode */\n",
       "  --sklearn-color-text: black;\n",
       "  --sklearn-color-line: gray;\n",
       "  /* Definition of color scheme for unfitted estimators */\n",
       "  --sklearn-color-unfitted-level-0: #fff5e6;\n",
       "  --sklearn-color-unfitted-level-1: #f6e4d2;\n",
       "  --sklearn-color-unfitted-level-2: #ffe0b3;\n",
       "  --sklearn-color-unfitted-level-3: chocolate;\n",
       "  /* Definition of color scheme for fitted estimators */\n",
       "  --sklearn-color-fitted-level-0: #f0f8ff;\n",
       "  --sklearn-color-fitted-level-1: #d4ebff;\n",
       "  --sklearn-color-fitted-level-2: #b3dbfd;\n",
       "  --sklearn-color-fitted-level-3: cornflowerblue;\n",
       "\n",
       "  /* Specific color for light theme */\n",
       "  --sklearn-color-text-on-default-background: var(--sg-text-color, var(--theme-code-foreground, var(--jp-content-font-color1, black)));\n",
       "  --sklearn-color-background: var(--sg-background-color, var(--theme-background, var(--jp-layout-color0, white)));\n",
       "  --sklearn-color-border-box: var(--sg-text-color, var(--theme-code-foreground, var(--jp-content-font-color1, black)));\n",
       "  --sklearn-color-icon: #696969;\n",
       "\n",
       "  @media (prefers-color-scheme: dark) {\n",
       "    /* Redefinition of color scheme for dark theme */\n",
       "    --sklearn-color-text-on-default-background: var(--sg-text-color, var(--theme-code-foreground, var(--jp-content-font-color1, white)));\n",
       "    --sklearn-color-background: var(--sg-background-color, var(--theme-background, var(--jp-layout-color0, #111)));\n",
       "    --sklearn-color-border-box: var(--sg-text-color, var(--theme-code-foreground, var(--jp-content-font-color1, white)));\n",
       "    --sklearn-color-icon: #878787;\n",
       "  }\n",
       "}\n",
       "\n",
       "#sk-container-id-1 {\n",
       "  color: var(--sklearn-color-text);\n",
       "}\n",
       "\n",
       "#sk-container-id-1 pre {\n",
       "  padding: 0;\n",
       "}\n",
       "\n",
       "#sk-container-id-1 input.sk-hidden--visually {\n",
       "  border: 0;\n",
       "  clip: rect(1px 1px 1px 1px);\n",
       "  clip: rect(1px, 1px, 1px, 1px);\n",
       "  height: 1px;\n",
       "  margin: -1px;\n",
       "  overflow: hidden;\n",
       "  padding: 0;\n",
       "  position: absolute;\n",
       "  width: 1px;\n",
       "}\n",
       "\n",
       "#sk-container-id-1 div.sk-dashed-wrapped {\n",
       "  border: 1px dashed var(--sklearn-color-line);\n",
       "  margin: 0 0.4em 0.5em 0.4em;\n",
       "  box-sizing: border-box;\n",
       "  padding-bottom: 0.4em;\n",
       "  background-color: var(--sklearn-color-background);\n",
       "}\n",
       "\n",
       "#sk-container-id-1 div.sk-container {\n",
       "  /* jupyter's `normalize.less` sets `[hidden] { display: none; }`\n",
       "     but bootstrap.min.css set `[hidden] { display: none !important; }`\n",
       "     so we also need the `!important` here to be able to override the\n",
       "     default hidden behavior on the sphinx rendered scikit-learn.org.\n",
       "     See: https://github.com/scikit-learn/scikit-learn/issues/21755 */\n",
       "  display: inline-block !important;\n",
       "  position: relative;\n",
       "}\n",
       "\n",
       "#sk-container-id-1 div.sk-text-repr-fallback {\n",
       "  display: none;\n",
       "}\n",
       "\n",
       "div.sk-parallel-item,\n",
       "div.sk-serial,\n",
       "div.sk-item {\n",
       "  /* draw centered vertical line to link estimators */\n",
       "  background-image: linear-gradient(var(--sklearn-color-text-on-default-background), var(--sklearn-color-text-on-default-background));\n",
       "  background-size: 2px 100%;\n",
       "  background-repeat: no-repeat;\n",
       "  background-position: center center;\n",
       "}\n",
       "\n",
       "/* Parallel-specific style estimator block */\n",
       "\n",
       "#sk-container-id-1 div.sk-parallel-item::after {\n",
       "  content: \"\";\n",
       "  width: 100%;\n",
       "  border-bottom: 2px solid var(--sklearn-color-text-on-default-background);\n",
       "  flex-grow: 1;\n",
       "}\n",
       "\n",
       "#sk-container-id-1 div.sk-parallel {\n",
       "  display: flex;\n",
       "  align-items: stretch;\n",
       "  justify-content: center;\n",
       "  background-color: var(--sklearn-color-background);\n",
       "  position: relative;\n",
       "}\n",
       "\n",
       "#sk-container-id-1 div.sk-parallel-item {\n",
       "  display: flex;\n",
       "  flex-direction: column;\n",
       "}\n",
       "\n",
       "#sk-container-id-1 div.sk-parallel-item:first-child::after {\n",
       "  align-self: flex-end;\n",
       "  width: 50%;\n",
       "}\n",
       "\n",
       "#sk-container-id-1 div.sk-parallel-item:last-child::after {\n",
       "  align-self: flex-start;\n",
       "  width: 50%;\n",
       "}\n",
       "\n",
       "#sk-container-id-1 div.sk-parallel-item:only-child::after {\n",
       "  width: 0;\n",
       "}\n",
       "\n",
       "/* Serial-specific style estimator block */\n",
       "\n",
       "#sk-container-id-1 div.sk-serial {\n",
       "  display: flex;\n",
       "  flex-direction: column;\n",
       "  align-items: center;\n",
       "  background-color: var(--sklearn-color-background);\n",
       "  padding-right: 1em;\n",
       "  padding-left: 1em;\n",
       "}\n",
       "\n",
       "\n",
       "/* Toggleable style: style used for estimator/Pipeline/ColumnTransformer box that is\n",
       "clickable and can be expanded/collapsed.\n",
       "- Pipeline and ColumnTransformer use this feature and define the default style\n",
       "- Estimators will overwrite some part of the style using the `sk-estimator` class\n",
       "*/\n",
       "\n",
       "/* Pipeline and ColumnTransformer style (default) */\n",
       "\n",
       "#sk-container-id-1 div.sk-toggleable {\n",
       "  /* Default theme specific background. It is overwritten whether we have a\n",
       "  specific estimator or a Pipeline/ColumnTransformer */\n",
       "  background-color: var(--sklearn-color-background);\n",
       "}\n",
       "\n",
       "/* Toggleable label */\n",
       "#sk-container-id-1 label.sk-toggleable__label {\n",
       "  cursor: pointer;\n",
       "  display: block;\n",
       "  width: 100%;\n",
       "  margin-bottom: 0;\n",
       "  padding: 0.5em;\n",
       "  box-sizing: border-box;\n",
       "  text-align: center;\n",
       "}\n",
       "\n",
       "#sk-container-id-1 label.sk-toggleable__label-arrow:before {\n",
       "  /* Arrow on the left of the label */\n",
       "  content: \"▸\";\n",
       "  float: left;\n",
       "  margin-right: 0.25em;\n",
       "  color: var(--sklearn-color-icon);\n",
       "}\n",
       "\n",
       "#sk-container-id-1 label.sk-toggleable__label-arrow:hover:before {\n",
       "  color: var(--sklearn-color-text);\n",
       "}\n",
       "\n",
       "/* Toggleable content - dropdown */\n",
       "\n",
       "#sk-container-id-1 div.sk-toggleable__content {\n",
       "  max-height: 0;\n",
       "  max-width: 0;\n",
       "  overflow: hidden;\n",
       "  text-align: left;\n",
       "  /* unfitted */\n",
       "  background-color: var(--sklearn-color-unfitted-level-0);\n",
       "}\n",
       "\n",
       "#sk-container-id-1 div.sk-toggleable__content.fitted {\n",
       "  /* fitted */\n",
       "  background-color: var(--sklearn-color-fitted-level-0);\n",
       "}\n",
       "\n",
       "#sk-container-id-1 div.sk-toggleable__content pre {\n",
       "  margin: 0.2em;\n",
       "  border-radius: 0.25em;\n",
       "  color: var(--sklearn-color-text);\n",
       "  /* unfitted */\n",
       "  background-color: var(--sklearn-color-unfitted-level-0);\n",
       "}\n",
       "\n",
       "#sk-container-id-1 div.sk-toggleable__content.fitted pre {\n",
       "  /* unfitted */\n",
       "  background-color: var(--sklearn-color-fitted-level-0);\n",
       "}\n",
       "\n",
       "#sk-container-id-1 input.sk-toggleable__control:checked~div.sk-toggleable__content {\n",
       "  /* Expand drop-down */\n",
       "  max-height: 200px;\n",
       "  max-width: 100%;\n",
       "  overflow: auto;\n",
       "}\n",
       "\n",
       "#sk-container-id-1 input.sk-toggleable__control:checked~label.sk-toggleable__label-arrow:before {\n",
       "  content: \"▾\";\n",
       "}\n",
       "\n",
       "/* Pipeline/ColumnTransformer-specific style */\n",
       "\n",
       "#sk-container-id-1 div.sk-label input.sk-toggleable__control:checked~label.sk-toggleable__label {\n",
       "  color: var(--sklearn-color-text);\n",
       "  background-color: var(--sklearn-color-unfitted-level-2);\n",
       "}\n",
       "\n",
       "#sk-container-id-1 div.sk-label.fitted input.sk-toggleable__control:checked~label.sk-toggleable__label {\n",
       "  background-color: var(--sklearn-color-fitted-level-2);\n",
       "}\n",
       "\n",
       "/* Estimator-specific style */\n",
       "\n",
       "/* Colorize estimator box */\n",
       "#sk-container-id-1 div.sk-estimator input.sk-toggleable__control:checked~label.sk-toggleable__label {\n",
       "  /* unfitted */\n",
       "  background-color: var(--sklearn-color-unfitted-level-2);\n",
       "}\n",
       "\n",
       "#sk-container-id-1 div.sk-estimator.fitted input.sk-toggleable__control:checked~label.sk-toggleable__label {\n",
       "  /* fitted */\n",
       "  background-color: var(--sklearn-color-fitted-level-2);\n",
       "}\n",
       "\n",
       "#sk-container-id-1 div.sk-label label.sk-toggleable__label,\n",
       "#sk-container-id-1 div.sk-label label {\n",
       "  /* The background is the default theme color */\n",
       "  color: var(--sklearn-color-text-on-default-background);\n",
       "}\n",
       "\n",
       "/* On hover, darken the color of the background */\n",
       "#sk-container-id-1 div.sk-label:hover label.sk-toggleable__label {\n",
       "  color: var(--sklearn-color-text);\n",
       "  background-color: var(--sklearn-color-unfitted-level-2);\n",
       "}\n",
       "\n",
       "/* Label box, darken color on hover, fitted */\n",
       "#sk-container-id-1 div.sk-label.fitted:hover label.sk-toggleable__label.fitted {\n",
       "  color: var(--sklearn-color-text);\n",
       "  background-color: var(--sklearn-color-fitted-level-2);\n",
       "}\n",
       "\n",
       "/* Estimator label */\n",
       "\n",
       "#sk-container-id-1 div.sk-label label {\n",
       "  font-family: monospace;\n",
       "  font-weight: bold;\n",
       "  display: inline-block;\n",
       "  line-height: 1.2em;\n",
       "}\n",
       "\n",
       "#sk-container-id-1 div.sk-label-container {\n",
       "  text-align: center;\n",
       "}\n",
       "\n",
       "/* Estimator-specific */\n",
       "#sk-container-id-1 div.sk-estimator {\n",
       "  font-family: monospace;\n",
       "  border: 1px dotted var(--sklearn-color-border-box);\n",
       "  border-radius: 0.25em;\n",
       "  box-sizing: border-box;\n",
       "  margin-bottom: 0.5em;\n",
       "  /* unfitted */\n",
       "  background-color: var(--sklearn-color-unfitted-level-0);\n",
       "}\n",
       "\n",
       "#sk-container-id-1 div.sk-estimator.fitted {\n",
       "  /* fitted */\n",
       "  background-color: var(--sklearn-color-fitted-level-0);\n",
       "}\n",
       "\n",
       "/* on hover */\n",
       "#sk-container-id-1 div.sk-estimator:hover {\n",
       "  /* unfitted */\n",
       "  background-color: var(--sklearn-color-unfitted-level-2);\n",
       "}\n",
       "\n",
       "#sk-container-id-1 div.sk-estimator.fitted:hover {\n",
       "  /* fitted */\n",
       "  background-color: var(--sklearn-color-fitted-level-2);\n",
       "}\n",
       "\n",
       "/* Specification for estimator info (e.g. \"i\" and \"?\") */\n",
       "\n",
       "/* Common style for \"i\" and \"?\" */\n",
       "\n",
       ".sk-estimator-doc-link,\n",
       "a:link.sk-estimator-doc-link,\n",
       "a:visited.sk-estimator-doc-link {\n",
       "  float: right;\n",
       "  font-size: smaller;\n",
       "  line-height: 1em;\n",
       "  font-family: monospace;\n",
       "  background-color: var(--sklearn-color-background);\n",
       "  border-radius: 1em;\n",
       "  height: 1em;\n",
       "  width: 1em;\n",
       "  text-decoration: none !important;\n",
       "  margin-left: 1ex;\n",
       "  /* unfitted */\n",
       "  border: var(--sklearn-color-unfitted-level-1) 1pt solid;\n",
       "  color: var(--sklearn-color-unfitted-level-1);\n",
       "}\n",
       "\n",
       ".sk-estimator-doc-link.fitted,\n",
       "a:link.sk-estimator-doc-link.fitted,\n",
       "a:visited.sk-estimator-doc-link.fitted {\n",
       "  /* fitted */\n",
       "  border: var(--sklearn-color-fitted-level-1) 1pt solid;\n",
       "  color: var(--sklearn-color-fitted-level-1);\n",
       "}\n",
       "\n",
       "/* On hover */\n",
       "div.sk-estimator:hover .sk-estimator-doc-link:hover,\n",
       ".sk-estimator-doc-link:hover,\n",
       "div.sk-label-container:hover .sk-estimator-doc-link:hover,\n",
       ".sk-estimator-doc-link:hover {\n",
       "  /* unfitted */\n",
       "  background-color: var(--sklearn-color-unfitted-level-3);\n",
       "  color: var(--sklearn-color-background);\n",
       "  text-decoration: none;\n",
       "}\n",
       "\n",
       "div.sk-estimator.fitted:hover .sk-estimator-doc-link.fitted:hover,\n",
       ".sk-estimator-doc-link.fitted:hover,\n",
       "div.sk-label-container:hover .sk-estimator-doc-link.fitted:hover,\n",
       ".sk-estimator-doc-link.fitted:hover {\n",
       "  /* fitted */\n",
       "  background-color: var(--sklearn-color-fitted-level-3);\n",
       "  color: var(--sklearn-color-background);\n",
       "  text-decoration: none;\n",
       "}\n",
       "\n",
       "/* Span, style for the box shown on hovering the info icon */\n",
       ".sk-estimator-doc-link span {\n",
       "  display: none;\n",
       "  z-index: 9999;\n",
       "  position: relative;\n",
       "  font-weight: normal;\n",
       "  right: .2ex;\n",
       "  padding: .5ex;\n",
       "  margin: .5ex;\n",
       "  width: min-content;\n",
       "  min-width: 20ex;\n",
       "  max-width: 50ex;\n",
       "  color: var(--sklearn-color-text);\n",
       "  box-shadow: 2pt 2pt 4pt #999;\n",
       "  /* unfitted */\n",
       "  background: var(--sklearn-color-unfitted-level-0);\n",
       "  border: .5pt solid var(--sklearn-color-unfitted-level-3);\n",
       "}\n",
       "\n",
       ".sk-estimator-doc-link.fitted span {\n",
       "  /* fitted */\n",
       "  background: var(--sklearn-color-fitted-level-0);\n",
       "  border: var(--sklearn-color-fitted-level-3);\n",
       "}\n",
       "\n",
       ".sk-estimator-doc-link:hover span {\n",
       "  display: block;\n",
       "}\n",
       "\n",
       "/* \"?\"-specific style due to the `<a>` HTML tag */\n",
       "\n",
       "#sk-container-id-1 a.estimator_doc_link {\n",
       "  float: right;\n",
       "  font-size: 1rem;\n",
       "  line-height: 1em;\n",
       "  font-family: monospace;\n",
       "  background-color: var(--sklearn-color-background);\n",
       "  border-radius: 1rem;\n",
       "  height: 1rem;\n",
       "  width: 1rem;\n",
       "  text-decoration: none;\n",
       "  /* unfitted */\n",
       "  color: var(--sklearn-color-unfitted-level-1);\n",
       "  border: var(--sklearn-color-unfitted-level-1) 1pt solid;\n",
       "}\n",
       "\n",
       "#sk-container-id-1 a.estimator_doc_link.fitted {\n",
       "  /* fitted */\n",
       "  border: var(--sklearn-color-fitted-level-1) 1pt solid;\n",
       "  color: var(--sklearn-color-fitted-level-1);\n",
       "}\n",
       "\n",
       "/* On hover */\n",
       "#sk-container-id-1 a.estimator_doc_link:hover {\n",
       "  /* unfitted */\n",
       "  background-color: var(--sklearn-color-unfitted-level-3);\n",
       "  color: var(--sklearn-color-background);\n",
       "  text-decoration: none;\n",
       "}\n",
       "\n",
       "#sk-container-id-1 a.estimator_doc_link.fitted:hover {\n",
       "  /* fitted */\n",
       "  background-color: var(--sklearn-color-fitted-level-3);\n",
       "}\n",
       "</style><div id=\"sk-container-id-1\" class=\"sk-top-container\"><div class=\"sk-text-repr-fallback\"><pre>Pipeline(steps=[(&#x27;scaler&#x27;, StandardScaler()),\n",
       "                (&#x27;model&#x27;, KNeighborsClassifier())])</pre><b>In a Jupyter environment, please rerun this cell to show the HTML representation or trust the notebook. <br />On GitHub, the HTML representation is unable to render, please try loading this page with nbviewer.org.</b></div><div class=\"sk-container\" hidden><div class=\"sk-item sk-dashed-wrapped\"><div class=\"sk-label-container\"><div class=\"sk-label fitted sk-toggleable\"><input class=\"sk-toggleable__control sk-hidden--visually\" id=\"sk-estimator-id-1\" type=\"checkbox\" ><label for=\"sk-estimator-id-1\" class=\"sk-toggleable__label fitted sk-toggleable__label-arrow fitted\">&nbsp;&nbsp;Pipeline<a class=\"sk-estimator-doc-link fitted\" rel=\"noreferrer\" target=\"_blank\" href=\"https://scikit-learn.org/1.5/modules/generated/sklearn.pipeline.Pipeline.html\">?<span>Documentation for Pipeline</span></a><span class=\"sk-estimator-doc-link fitted\">i<span>Fitted</span></span></label><div class=\"sk-toggleable__content fitted\"><pre>Pipeline(steps=[(&#x27;scaler&#x27;, StandardScaler()),\n",
       "                (&#x27;model&#x27;, KNeighborsClassifier())])</pre></div> </div></div><div class=\"sk-serial\"><div class=\"sk-item\"><div class=\"sk-estimator fitted sk-toggleable\"><input class=\"sk-toggleable__control sk-hidden--visually\" id=\"sk-estimator-id-2\" type=\"checkbox\" ><label for=\"sk-estimator-id-2\" class=\"sk-toggleable__label fitted sk-toggleable__label-arrow fitted\">&nbsp;StandardScaler<a class=\"sk-estimator-doc-link fitted\" rel=\"noreferrer\" target=\"_blank\" href=\"https://scikit-learn.org/1.5/modules/generated/sklearn.preprocessing.StandardScaler.html\">?<span>Documentation for StandardScaler</span></a></label><div class=\"sk-toggleable__content fitted\"><pre>StandardScaler()</pre></div> </div></div><div class=\"sk-item\"><div class=\"sk-estimator fitted sk-toggleable\"><input class=\"sk-toggleable__control sk-hidden--visually\" id=\"sk-estimator-id-3\" type=\"checkbox\" ><label for=\"sk-estimator-id-3\" class=\"sk-toggleable__label fitted sk-toggleable__label-arrow fitted\">&nbsp;KNeighborsClassifier<a class=\"sk-estimator-doc-link fitted\" rel=\"noreferrer\" target=\"_blank\" href=\"https://scikit-learn.org/1.5/modules/generated/sklearn.neighbors.KNeighborsClassifier.html\">?<span>Documentation for KNeighborsClassifier</span></a></label><div class=\"sk-toggleable__content fitted\"><pre>KNeighborsClassifier()</pre></div> </div></div></div></div></div></div>"
      ],
      "text/plain": [
       "Pipeline(steps=[('scaler', StandardScaler()),\n",
       "                ('model', KNeighborsClassifier())])"
      ]
     },
     "execution_count": 17,
     "metadata": {},
     "output_type": "execute_result"
    }
   ],
   "source": [
    "model = Pipeline([('scaler', StandardScaler()) , ('model', KNeighborsClassifier(n_neighbors=5))])\n",
    "# vamos criar um classificador kNN com k=5\n",
    "model.fit(X_train, y_train)\n",
    "\n",
    "#fig = plot_confusion_matrix(model, X_test, y_test)\n",
    "\n",
    "#fig.show()\n",
    "\n",
    "# e ver a sua performance no dataset de teste\n",
    "#print(classification_report(y_train, model.predict(X_train)))\n",
    "\n",
    "# e ver a sua performance no dataset de teste\n",
    "#print(classification_report(y_test, model.predict(X_test)))"
   ]
  },
  {
   "cell_type": "code",
   "execution_count": 36,
   "metadata": {},
   "outputs": [],
   "source": [
    "param_grid = {\"model__n_neighbors\": [1, 3, 5, 10]}\n",
    "\n",
    "knn_res = validate_model(model, X, y, param_grid, cv_test=10, cv_gridsearch=10)"
   ]
  },
  {
   "cell_type": "code",
   "execution_count": 114,
   "metadata": {},
   "outputs": [
    {
     "data": {
      "text/plain": [
       "{'0': {'precision': 0.5714285714285714,\n",
       "  'recall': 0.47058823529411764,\n",
       "  'f1-score': 0.5161290322580645,\n",
       "  'support': 17.0},\n",
       " '1': {'precision': 0.9, 'recall': 0.9, 'f1-score': 0.9, 'support': 30.0},\n",
       " '2': {'precision': 0.9259259259259259,\n",
       "  'recall': 0.9615384615384616,\n",
       "  'f1-score': 0.9433962264150944,\n",
       "  'support': 26.0},\n",
       " '3': {'precision': 1.0,\n",
       "  'recall': 0.875,\n",
       "  'f1-score': 0.9333333333333333,\n",
       "  'support': 8.0},\n",
       " '4': {'precision': 1.0, 'recall': 1.0, 'f1-score': 1.0, 'support': 3.0},\n",
       " '5': {'precision': 0.7608695652173914,\n",
       "  'recall': 0.813953488372093,\n",
       "  'f1-score': 0.7865168539325843,\n",
       "  'support': 43.0},\n",
       " 'accuracy': 0.8267716535433071,\n",
       " 'macro avg': {'precision': 0.8597040104286481,\n",
       "  'recall': 0.8368466975341121,\n",
       "  'f1-score': 0.8465625743231794,\n",
       "  'support': 127.0},\n",
       " 'weighted avg': {'precision': 0.8228799298638395,\n",
       "  'recall': 0.8267716535433071,\n",
       "  'f1-score': 0.8235384789050971,\n",
       "  'support': 127.0},\n",
       " 'cm': array([[ 8,  0,  0,  0,  0,  9],\n",
       "        [ 1, 27,  1,  0,  0,  1],\n",
       "        [ 0,  1, 25,  0,  0,  0],\n",
       "        [ 0,  0,  0,  7,  0,  1],\n",
       "        [ 0,  0,  0,  0,  3,  0],\n",
       "        [ 5,  2,  1,  0,  0, 35]])}"
      ]
     },
     "execution_count": 114,
     "metadata": {},
     "output_type": "execute_result"
    }
   ],
   "source": [
    "knn_res[1]"
   ]
  },
  {
   "cell_type": "code",
   "execution_count": 111,
   "metadata": {},
   "outputs": [
    {
     "data": {
      "text/plain": [
       "{'accuracies': [0.889763779527559,\n",
       "  0.8267716535433071,\n",
       "  0.84251968503937,\n",
       "  0.84251968503937,\n",
       "  0.9133858267716536,\n",
       "  0.889763779527559,\n",
       "  0.9133858267716536,\n",
       "  0.8976377952755905,\n",
       "  0.9206349206349206,\n",
       "  0.8809523809523809],\n",
       " 'cms': [array([[10,  0,  0,  0,  0,  3],\n",
       "         [ 0, 17,  1,  0,  0,  1],\n",
       "         [ 0,  0, 36,  0,  0,  0],\n",
       "         [ 0,  0,  0,  8,  0,  0],\n",
       "         [ 2,  1,  0,  0,  4,  1],\n",
       "         [ 3,  1,  1,  0,  0, 38]]),\n",
       "  array([[ 8,  0,  0,  0,  0,  9],\n",
       "         [ 1, 27,  1,  0,  0,  1],\n",
       "         [ 0,  1, 25,  0,  0,  0],\n",
       "         [ 0,  0,  0,  7,  0,  1],\n",
       "         [ 0,  0,  0,  0,  3,  0],\n",
       "         [ 5,  2,  1,  0,  0, 35]]),\n",
       "  array([[ 7,  0,  1,  0,  0,  3],\n",
       "         [ 0, 13,  0,  0,  0,  3],\n",
       "         [ 0,  0, 44,  0,  0,  1],\n",
       "         [ 0,  0,  0,  9,  0,  0],\n",
       "         [ 0,  0,  0,  0,  2,  1],\n",
       "         [ 7,  3,  0,  0,  1, 32]]),\n",
       "  array([[ 7,  0,  0,  0,  0,  9],\n",
       "         [ 2, 20,  0,  0,  0,  0],\n",
       "         [ 1,  1, 38,  0,  0,  1],\n",
       "         [ 0,  0,  0,  4,  0,  1],\n",
       "         [ 0,  0,  0,  0,  4,  0],\n",
       "         [ 1,  3,  0,  0,  1, 34]]),\n",
       "  array([[ 9,  1,  0,  0,  1,  3],\n",
       "         [ 0, 16,  0,  0,  0,  0],\n",
       "         [ 1,  0, 40,  1,  0,  0],\n",
       "         [ 0,  0,  0,  6,  0,  0],\n",
       "         [ 0,  0,  0,  0,  6,  0],\n",
       "         [ 3,  1,  0,  0,  0, 39]]),\n",
       "  array([[18,  1,  0,  1,  0,  3],\n",
       "         [ 0, 13,  0,  0,  0,  0],\n",
       "         [ 0,  1, 35,  0,  0,  0],\n",
       "         [ 0,  0,  0,  8,  0,  1],\n",
       "         [ 1,  0,  1,  0,  6,  0],\n",
       "         [ 4,  0,  0,  1,  0, 33]]),\n",
       "  array([[12,  2,  0,  0,  1,  1],\n",
       "         [ 0, 21,  0,  0,  0,  0],\n",
       "         [ 0,  0, 30,  0,  0,  1],\n",
       "         [ 0,  0,  0,  8,  0,  1],\n",
       "         [ 0,  0,  0,  0,  3,  0],\n",
       "         [ 2,  2,  0,  0,  1, 42]]),\n",
       "  array([[10,  0,  0,  0,  0,  5],\n",
       "         [ 0, 14,  0,  0,  0,  1],\n",
       "         [ 0,  0, 45,  0,  0,  1],\n",
       "         [ 0,  0,  0,  6,  0,  0],\n",
       "         [ 0,  0,  0,  0,  6,  0],\n",
       "         [ 2,  3,  0,  0,  1, 33]]),\n",
       "  array([[10,  1,  0,  0,  0,  2],\n",
       "         [ 1, 15,  0,  0,  0,  0],\n",
       "         [ 0,  1, 46,  0,  0,  2],\n",
       "         [ 0,  0,  0,  4,  0,  0],\n",
       "         [ 0,  0,  0,  0, 10,  0],\n",
       "         [ 1,  2,  0,  0,  0, 31]]),\n",
       "  array([[15,  0,  0,  0,  0,  5],\n",
       "         [ 0, 18,  2,  0,  0,  2],\n",
       "         [ 0,  0, 38,  1,  0,  0],\n",
       "         [ 0,  0,  0,  8,  0,  0],\n",
       "         [ 0,  0,  0,  0,  4,  0],\n",
       "         [ 2,  1,  0,  1,  1, 28]])],\n",
       " 'f1-scores': {'0': [0.7142857142857143,\n",
       "   0.5161290322580645,\n",
       "   0.56,\n",
       "   0.5185185185185185,\n",
       "   0.6666666666666666,\n",
       "   0.782608695652174,\n",
       "   0.8,\n",
       "   0.7407407407407407,\n",
       "   0.8,\n",
       "   0.8108108108108109],\n",
       "  '1': [0.8947368421052632,\n",
       "   0.9,\n",
       "   0.8125,\n",
       "   0.8695652173913043,\n",
       "   0.9411764705882353,\n",
       "   0.9285714285714286,\n",
       "   0.9130434782608695,\n",
       "   0.875,\n",
       "   0.8571428571428571,\n",
       "   0.8780487804878049],\n",
       "  '2': [0.972972972972973,\n",
       "   0.9433962264150944,\n",
       "   0.9777777777777777,\n",
       "   0.9620253164556962,\n",
       "   0.975609756097561,\n",
       "   0.9722222222222222,\n",
       "   0.9836065573770492,\n",
       "   0.989010989010989,\n",
       "   0.968421052631579,\n",
       "   0.9620253164556962],\n",
       "  '3': [1.0,\n",
       "   0.9333333333333333,\n",
       "   1.0,\n",
       "   0.8888888888888888,\n",
       "   0.9230769230769231,\n",
       "   0.8421052631578947,\n",
       "   0.9411764705882353,\n",
       "   1.0,\n",
       "   1.0,\n",
       "   0.8888888888888888],\n",
       "  '4': [0.6666666666666666,\n",
       "   1.0,\n",
       "   0.6666666666666666,\n",
       "   0.8888888888888888,\n",
       "   0.9230769230769231,\n",
       "   0.8571428571428571,\n",
       "   0.75,\n",
       "   0.9230769230769231,\n",
       "   1.0,\n",
       "   0.8888888888888888],\n",
       "  '5': [0.8837209302325582,\n",
       "   0.7865168539325843,\n",
       "   0.7710843373493976,\n",
       "   0.8095238095238095,\n",
       "   0.9176470588235294,\n",
       "   0.88,\n",
       "   0.9130434782608695,\n",
       "   0.8354430379746836,\n",
       "   0.8985507246376812,\n",
       "   0.8235294117647058]}}"
      ]
     },
     "execution_count": 111,
     "metadata": {},
     "output_type": "execute_result"
    }
   ],
   "source": [
    "summarize_metrics(knn_res, ['0', '1', '2', '3', '4', '5'])"
   ]
  },
  {
   "cell_type": "code",
   "execution_count": 45,
   "metadata": {},
   "outputs": [
    {
     "data": {
      "text/plain": [
       "array([[106,   5,   1,   1,   2,  43],\n",
       "       [  4, 174,   4,   0,   0,   8],\n",
       "       [  2,   4, 377,   2,   0,   6],\n",
       "       [  0,   0,   0,  68,   0,   4],\n",
       "       [  3,   1,   1,   0,  48,   2],\n",
       "       [ 30,  18,   2,   2,   5, 345]])"
      ]
     },
     "execution_count": 45,
     "metadata": {},
     "output_type": "execute_result"
    }
   ],
   "source": [
    "np.sum([knn_res[i]['cm'] for i in knn_res.keys()], axis=0)"
   ]
  },
  {
   "cell_type": "code",
   "execution_count": 18,
   "metadata": {},
   "outputs": [
    {
     "name": "stdout",
     "output_type": "stream",
     "text": [
      "{'0': {'precision': 0.7045454545454546, 'recall': 0.6595744680851063, 'f1-score': 0.6813186813186813, 'support': 47.0}, '1': {'precision': 0.859375, 'recall': 0.9649122807017544, 'f1-score': 0.9090909090909091, 'support': 57.0}, '2': {'precision': 0.9827586206896551, 'recall': 0.9743589743589743, 'f1-score': 0.9785407725321889, 'support': 117.0}, '3': {'precision': 0.84, 'recall': 0.9545454545454546, 'f1-score': 0.8936170212765957, 'support': 22.0}, '4': {'precision': 0.8421052631578947, 'recall': 0.9411764705882353, 'f1-score': 0.8888888888888888, 'support': 17.0}, '5': {'precision': 0.8761061946902655, 'recall': 0.8181818181818182, 'f1-score': 0.8461538461538461, 'support': 121.0}, 'accuracy': 0.8818897637795275, 'macro avg': {'precision': 0.8508150888472117, 'recall': 0.8854582444102239, 'f1-score': 0.8662683532101849, 'support': 381.0}, 'weighted avg': {'precision': 0.8815890000407672, 'recall': 0.8818897637795275, 'f1-score': 0.8805373522053479, 'support': 381.0}}\n"
     ]
    }
   ],
   "source": [
    "print(get_model_metrics(model, X_test, y_test))"
   ]
  },
  {
   "cell_type": "code",
   "execution_count": 112,
   "metadata": {},
   "outputs": [
    {
     "data": {
      "text/plain": [
       "{'0': [0.7142857142857143,\n",
       "  0.5161290322580645,\n",
       "  0.56,\n",
       "  0.5185185185185185,\n",
       "  0.6666666666666666,\n",
       "  0.782608695652174,\n",
       "  0.8,\n",
       "  0.7407407407407407,\n",
       "  0.8,\n",
       "  0.8108108108108109],\n",
       " '1': [0.8947368421052632,\n",
       "  0.9,\n",
       "  0.8125,\n",
       "  0.8695652173913043,\n",
       "  0.9411764705882353,\n",
       "  0.9285714285714286,\n",
       "  0.9130434782608695,\n",
       "  0.875,\n",
       "  0.8571428571428571,\n",
       "  0.8780487804878049],\n",
       " '2': [0.972972972972973,\n",
       "  0.9433962264150944,\n",
       "  0.9777777777777777,\n",
       "  0.9620253164556962,\n",
       "  0.975609756097561,\n",
       "  0.9722222222222222,\n",
       "  0.9836065573770492,\n",
       "  0.989010989010989,\n",
       "  0.968421052631579,\n",
       "  0.9620253164556962],\n",
       " '3': [1.0,\n",
       "  0.9333333333333333,\n",
       "  1.0,\n",
       "  0.8888888888888888,\n",
       "  0.9230769230769231,\n",
       "  0.8421052631578947,\n",
       "  0.9411764705882353,\n",
       "  1.0,\n",
       "  1.0,\n",
       "  0.8888888888888888],\n",
       " '4': [0.6666666666666666,\n",
       "  1.0,\n",
       "  0.6666666666666666,\n",
       "  0.8888888888888888,\n",
       "  0.9230769230769231,\n",
       "  0.8571428571428571,\n",
       "  0.75,\n",
       "  0.9230769230769231,\n",
       "  1.0,\n",
       "  0.8888888888888888],\n",
       " '5': [0.8837209302325582,\n",
       "  0.7865168539325843,\n",
       "  0.7710843373493976,\n",
       "  0.8095238095238095,\n",
       "  0.9176470588235294,\n",
       "  0.88,\n",
       "  0.9130434782608695,\n",
       "  0.8354430379746836,\n",
       "  0.8985507246376812,\n",
       "  0.8235294117647058]}"
      ]
     },
     "execution_count": 112,
     "metadata": {},
     "output_type": "execute_result"
    }
   ],
   "source": [
    "summarize_metrics(knn_res, ['0', '1', '2', '3', '4', '5'])['f1-scores']"
   ]
  },
  {
   "cell_type": "code",
   "execution_count": 119,
   "metadata": {},
   "outputs": [
    {
     "data": {
      "application/vnd.plotly.v1+json": {
       "config": {
        "plotlyServerURL": "https://plot.ly"
       },
       "data": [
        {
         "name": "0",
         "type": "bar",
         "x": [
          "0"
         ],
         "xaxis": "x",
         "y": [
          0.7142857142857143,
          0.5161290322580645,
          0.56,
          0.5185185185185185,
          0.6666666666666666,
          0.782608695652174,
          0.8,
          0.7407407407407407,
          0.8,
          0.8108108108108109
         ],
         "yaxis": "y"
        },
        {
         "name": "1",
         "type": "bar",
         "x": [
          "1"
         ],
         "xaxis": "x",
         "y": [
          0.8947368421052632,
          0.9,
          0.8125,
          0.8695652173913043,
          0.9411764705882353,
          0.9285714285714286,
          0.9130434782608695,
          0.875,
          0.8571428571428571,
          0.8780487804878049
         ],
         "yaxis": "y"
        },
        {
         "name": "2",
         "type": "bar",
         "x": [
          "2"
         ],
         "xaxis": "x",
         "y": [
          0.972972972972973,
          0.9433962264150944,
          0.9777777777777777,
          0.9620253164556962,
          0.975609756097561,
          0.9722222222222222,
          0.9836065573770492,
          0.989010989010989,
          0.968421052631579,
          0.9620253164556962
         ],
         "yaxis": "y"
        },
        {
         "name": "3",
         "type": "bar",
         "x": [
          "3"
         ],
         "xaxis": "x",
         "y": [
          1,
          0.9333333333333333,
          1,
          0.8888888888888888,
          0.9230769230769231,
          0.8421052631578947,
          0.9411764705882353,
          1,
          1,
          0.8888888888888888
         ],
         "yaxis": "y"
        },
        {
         "name": "4",
         "type": "bar",
         "x": [
          "4"
         ],
         "xaxis": "x",
         "y": [
          0.6666666666666666,
          1,
          0.6666666666666666,
          0.8888888888888888,
          0.9230769230769231,
          0.8571428571428571,
          0.75,
          0.9230769230769231,
          1,
          0.8888888888888888
         ],
         "yaxis": "y"
        },
        {
         "name": "5",
         "type": "bar",
         "x": [
          "5"
         ],
         "xaxis": "x",
         "y": [
          0.8837209302325582,
          0.7865168539325843,
          0.7710843373493976,
          0.8095238095238095,
          0.9176470588235294,
          0.88,
          0.9130434782608695,
          0.8354430379746836,
          0.8985507246376812,
          0.8235294117647058
         ],
         "yaxis": "y"
        }
       ],
       "layout": {
        "template": {
         "data": {
          "bar": [
           {
            "error_x": {
             "color": "#2a3f5f"
            },
            "error_y": {
             "color": "#2a3f5f"
            },
            "marker": {
             "line": {
              "color": "#E5ECF6",
              "width": 0.5
             },
             "pattern": {
              "fillmode": "overlay",
              "size": 10,
              "solidity": 0.2
             }
            },
            "type": "bar"
           }
          ],
          "barpolar": [
           {
            "marker": {
             "line": {
              "color": "#E5ECF6",
              "width": 0.5
             },
             "pattern": {
              "fillmode": "overlay",
              "size": 10,
              "solidity": 0.2
             }
            },
            "type": "barpolar"
           }
          ],
          "carpet": [
           {
            "aaxis": {
             "endlinecolor": "#2a3f5f",
             "gridcolor": "white",
             "linecolor": "white",
             "minorgridcolor": "white",
             "startlinecolor": "#2a3f5f"
            },
            "baxis": {
             "endlinecolor": "#2a3f5f",
             "gridcolor": "white",
             "linecolor": "white",
             "minorgridcolor": "white",
             "startlinecolor": "#2a3f5f"
            },
            "type": "carpet"
           }
          ],
          "choropleth": [
           {
            "colorbar": {
             "outlinewidth": 0,
             "ticks": ""
            },
            "type": "choropleth"
           }
          ],
          "contour": [
           {
            "colorbar": {
             "outlinewidth": 0,
             "ticks": ""
            },
            "colorscale": [
             [
              0,
              "#0d0887"
             ],
             [
              0.1111111111111111,
              "#46039f"
             ],
             [
              0.2222222222222222,
              "#7201a8"
             ],
             [
              0.3333333333333333,
              "#9c179e"
             ],
             [
              0.4444444444444444,
              "#bd3786"
             ],
             [
              0.5555555555555556,
              "#d8576b"
             ],
             [
              0.6666666666666666,
              "#ed7953"
             ],
             [
              0.7777777777777778,
              "#fb9f3a"
             ],
             [
              0.8888888888888888,
              "#fdca26"
             ],
             [
              1,
              "#f0f921"
             ]
            ],
            "type": "contour"
           }
          ],
          "contourcarpet": [
           {
            "colorbar": {
             "outlinewidth": 0,
             "ticks": ""
            },
            "type": "contourcarpet"
           }
          ],
          "heatmap": [
           {
            "colorbar": {
             "outlinewidth": 0,
             "ticks": ""
            },
            "colorscale": [
             [
              0,
              "#0d0887"
             ],
             [
              0.1111111111111111,
              "#46039f"
             ],
             [
              0.2222222222222222,
              "#7201a8"
             ],
             [
              0.3333333333333333,
              "#9c179e"
             ],
             [
              0.4444444444444444,
              "#bd3786"
             ],
             [
              0.5555555555555556,
              "#d8576b"
             ],
             [
              0.6666666666666666,
              "#ed7953"
             ],
             [
              0.7777777777777778,
              "#fb9f3a"
             ],
             [
              0.8888888888888888,
              "#fdca26"
             ],
             [
              1,
              "#f0f921"
             ]
            ],
            "type": "heatmap"
           }
          ],
          "heatmapgl": [
           {
            "colorbar": {
             "outlinewidth": 0,
             "ticks": ""
            },
            "colorscale": [
             [
              0,
              "#0d0887"
             ],
             [
              0.1111111111111111,
              "#46039f"
             ],
             [
              0.2222222222222222,
              "#7201a8"
             ],
             [
              0.3333333333333333,
              "#9c179e"
             ],
             [
              0.4444444444444444,
              "#bd3786"
             ],
             [
              0.5555555555555556,
              "#d8576b"
             ],
             [
              0.6666666666666666,
              "#ed7953"
             ],
             [
              0.7777777777777778,
              "#fb9f3a"
             ],
             [
              0.8888888888888888,
              "#fdca26"
             ],
             [
              1,
              "#f0f921"
             ]
            ],
            "type": "heatmapgl"
           }
          ],
          "histogram": [
           {
            "marker": {
             "pattern": {
              "fillmode": "overlay",
              "size": 10,
              "solidity": 0.2
             }
            },
            "type": "histogram"
           }
          ],
          "histogram2d": [
           {
            "colorbar": {
             "outlinewidth": 0,
             "ticks": ""
            },
            "colorscale": [
             [
              0,
              "#0d0887"
             ],
             [
              0.1111111111111111,
              "#46039f"
             ],
             [
              0.2222222222222222,
              "#7201a8"
             ],
             [
              0.3333333333333333,
              "#9c179e"
             ],
             [
              0.4444444444444444,
              "#bd3786"
             ],
             [
              0.5555555555555556,
              "#d8576b"
             ],
             [
              0.6666666666666666,
              "#ed7953"
             ],
             [
              0.7777777777777778,
              "#fb9f3a"
             ],
             [
              0.8888888888888888,
              "#fdca26"
             ],
             [
              1,
              "#f0f921"
             ]
            ],
            "type": "histogram2d"
           }
          ],
          "histogram2dcontour": [
           {
            "colorbar": {
             "outlinewidth": 0,
             "ticks": ""
            },
            "colorscale": [
             [
              0,
              "#0d0887"
             ],
             [
              0.1111111111111111,
              "#46039f"
             ],
             [
              0.2222222222222222,
              "#7201a8"
             ],
             [
              0.3333333333333333,
              "#9c179e"
             ],
             [
              0.4444444444444444,
              "#bd3786"
             ],
             [
              0.5555555555555556,
              "#d8576b"
             ],
             [
              0.6666666666666666,
              "#ed7953"
             ],
             [
              0.7777777777777778,
              "#fb9f3a"
             ],
             [
              0.8888888888888888,
              "#fdca26"
             ],
             [
              1,
              "#f0f921"
             ]
            ],
            "type": "histogram2dcontour"
           }
          ],
          "mesh3d": [
           {
            "colorbar": {
             "outlinewidth": 0,
             "ticks": ""
            },
            "type": "mesh3d"
           }
          ],
          "parcoords": [
           {
            "line": {
             "colorbar": {
              "outlinewidth": 0,
              "ticks": ""
             }
            },
            "type": "parcoords"
           }
          ],
          "pie": [
           {
            "automargin": true,
            "type": "pie"
           }
          ],
          "scatter": [
           {
            "fillpattern": {
             "fillmode": "overlay",
             "size": 10,
             "solidity": 0.2
            },
            "type": "scatter"
           }
          ],
          "scatter3d": [
           {
            "line": {
             "colorbar": {
              "outlinewidth": 0,
              "ticks": ""
             }
            },
            "marker": {
             "colorbar": {
              "outlinewidth": 0,
              "ticks": ""
             }
            },
            "type": "scatter3d"
           }
          ],
          "scattercarpet": [
           {
            "marker": {
             "colorbar": {
              "outlinewidth": 0,
              "ticks": ""
             }
            },
            "type": "scattercarpet"
           }
          ],
          "scattergeo": [
           {
            "marker": {
             "colorbar": {
              "outlinewidth": 0,
              "ticks": ""
             }
            },
            "type": "scattergeo"
           }
          ],
          "scattergl": [
           {
            "marker": {
             "colorbar": {
              "outlinewidth": 0,
              "ticks": ""
             }
            },
            "type": "scattergl"
           }
          ],
          "scattermapbox": [
           {
            "marker": {
             "colorbar": {
              "outlinewidth": 0,
              "ticks": ""
             }
            },
            "type": "scattermapbox"
           }
          ],
          "scatterpolar": [
           {
            "marker": {
             "colorbar": {
              "outlinewidth": 0,
              "ticks": ""
             }
            },
            "type": "scatterpolar"
           }
          ],
          "scatterpolargl": [
           {
            "marker": {
             "colorbar": {
              "outlinewidth": 0,
              "ticks": ""
             }
            },
            "type": "scatterpolargl"
           }
          ],
          "scatterternary": [
           {
            "marker": {
             "colorbar": {
              "outlinewidth": 0,
              "ticks": ""
             }
            },
            "type": "scatterternary"
           }
          ],
          "surface": [
           {
            "colorbar": {
             "outlinewidth": 0,
             "ticks": ""
            },
            "colorscale": [
             [
              0,
              "#0d0887"
             ],
             [
              0.1111111111111111,
              "#46039f"
             ],
             [
              0.2222222222222222,
              "#7201a8"
             ],
             [
              0.3333333333333333,
              "#9c179e"
             ],
             [
              0.4444444444444444,
              "#bd3786"
             ],
             [
              0.5555555555555556,
              "#d8576b"
             ],
             [
              0.6666666666666666,
              "#ed7953"
             ],
             [
              0.7777777777777778,
              "#fb9f3a"
             ],
             [
              0.8888888888888888,
              "#fdca26"
             ],
             [
              1,
              "#f0f921"
             ]
            ],
            "type": "surface"
           }
          ],
          "table": [
           {
            "cells": {
             "fill": {
              "color": "#EBF0F8"
             },
             "line": {
              "color": "white"
             }
            },
            "header": {
             "fill": {
              "color": "#C8D4E3"
             },
             "line": {
              "color": "white"
             }
            },
            "type": "table"
           }
          ]
         },
         "layout": {
          "annotationdefaults": {
           "arrowcolor": "#2a3f5f",
           "arrowhead": 0,
           "arrowwidth": 1
          },
          "autotypenumbers": "strict",
          "coloraxis": {
           "colorbar": {
            "outlinewidth": 0,
            "ticks": ""
           }
          },
          "colorscale": {
           "diverging": [
            [
             0,
             "#8e0152"
            ],
            [
             0.1,
             "#c51b7d"
            ],
            [
             0.2,
             "#de77ae"
            ],
            [
             0.3,
             "#f1b6da"
            ],
            [
             0.4,
             "#fde0ef"
            ],
            [
             0.5,
             "#f7f7f7"
            ],
            [
             0.6,
             "#e6f5d0"
            ],
            [
             0.7,
             "#b8e186"
            ],
            [
             0.8,
             "#7fbc41"
            ],
            [
             0.9,
             "#4d9221"
            ],
            [
             1,
             "#276419"
            ]
           ],
           "sequential": [
            [
             0,
             "#0d0887"
            ],
            [
             0.1111111111111111,
             "#46039f"
            ],
            [
             0.2222222222222222,
             "#7201a8"
            ],
            [
             0.3333333333333333,
             "#9c179e"
            ],
            [
             0.4444444444444444,
             "#bd3786"
            ],
            [
             0.5555555555555556,
             "#d8576b"
            ],
            [
             0.6666666666666666,
             "#ed7953"
            ],
            [
             0.7777777777777778,
             "#fb9f3a"
            ],
            [
             0.8888888888888888,
             "#fdca26"
            ],
            [
             1,
             "#f0f921"
            ]
           ],
           "sequentialminus": [
            [
             0,
             "#0d0887"
            ],
            [
             0.1111111111111111,
             "#46039f"
            ],
            [
             0.2222222222222222,
             "#7201a8"
            ],
            [
             0.3333333333333333,
             "#9c179e"
            ],
            [
             0.4444444444444444,
             "#bd3786"
            ],
            [
             0.5555555555555556,
             "#d8576b"
            ],
            [
             0.6666666666666666,
             "#ed7953"
            ],
            [
             0.7777777777777778,
             "#fb9f3a"
            ],
            [
             0.8888888888888888,
             "#fdca26"
            ],
            [
             1,
             "#f0f921"
            ]
           ]
          },
          "colorway": [
           "#636efa",
           "#EF553B",
           "#00cc96",
           "#ab63fa",
           "#FFA15A",
           "#19d3f3",
           "#FF6692",
           "#B6E880",
           "#FF97FF",
           "#FECB52"
          ],
          "font": {
           "color": "#2a3f5f"
          },
          "geo": {
           "bgcolor": "white",
           "lakecolor": "white",
           "landcolor": "#E5ECF6",
           "showlakes": true,
           "showland": true,
           "subunitcolor": "white"
          },
          "hoverlabel": {
           "align": "left"
          },
          "hovermode": "closest",
          "mapbox": {
           "style": "light"
          },
          "paper_bgcolor": "white",
          "plot_bgcolor": "#E5ECF6",
          "polar": {
           "angularaxis": {
            "gridcolor": "white",
            "linecolor": "white",
            "ticks": ""
           },
           "bgcolor": "#E5ECF6",
           "radialaxis": {
            "gridcolor": "white",
            "linecolor": "white",
            "ticks": ""
           }
          },
          "scene": {
           "xaxis": {
            "backgroundcolor": "#E5ECF6",
            "gridcolor": "white",
            "gridwidth": 2,
            "linecolor": "white",
            "showbackground": true,
            "ticks": "",
            "zerolinecolor": "white"
           },
           "yaxis": {
            "backgroundcolor": "#E5ECF6",
            "gridcolor": "white",
            "gridwidth": 2,
            "linecolor": "white",
            "showbackground": true,
            "ticks": "",
            "zerolinecolor": "white"
           },
           "zaxis": {
            "backgroundcolor": "#E5ECF6",
            "gridcolor": "white",
            "gridwidth": 2,
            "linecolor": "white",
            "showbackground": true,
            "ticks": "",
            "zerolinecolor": "white"
           }
          },
          "shapedefaults": {
           "line": {
            "color": "#2a3f5f"
           }
          },
          "ternary": {
           "aaxis": {
            "gridcolor": "white",
            "linecolor": "white",
            "ticks": ""
           },
           "baxis": {
            "gridcolor": "white",
            "linecolor": "white",
            "ticks": ""
           },
           "bgcolor": "#E5ECF6",
           "caxis": {
            "gridcolor": "white",
            "linecolor": "white",
            "ticks": ""
           }
          },
          "title": {
           "x": 0.05
          },
          "xaxis": {
           "automargin": true,
           "gridcolor": "white",
           "linecolor": "white",
           "ticks": "",
           "title": {
            "standoff": 15
           },
           "zerolinecolor": "white",
           "zerolinewidth": 2
          },
          "yaxis": {
           "automargin": true,
           "gridcolor": "white",
           "linecolor": "white",
           "ticks": "",
           "title": {
            "standoff": 15
           },
           "zerolinecolor": "white",
           "zerolinewidth": 2
          }
         }
        },
        "title": {
         "text": "F1-score por Run"
        },
        "xaxis": {
         "anchor": "y",
         "domain": [
          0,
          1
         ]
        },
        "xaxis2": {
         "anchor": "y2",
         "domain": [
          0,
          1
         ]
        },
        "yaxis": {
         "anchor": "x",
         "domain": [
          0.575,
          1
         ]
        },
        "yaxis2": {
         "anchor": "x2",
         "domain": [
          0,
          0.425
         ]
        }
       }
      }
     },
     "metadata": {},
     "output_type": "display_data"
    }
   ],
   "source": [
    "plot_f1_scores(summarize_metrics(knn_res, ['0', '1', '2', '3', '4', '5'])['f1-scores'])"
   ]
  },
  {
   "cell_type": "code",
   "execution_count": 78,
   "metadata": {},
   "outputs": [
    {
     "data": {
      "application/vnd.plotly.v1+json": {
       "config": {
        "plotlyServerURL": "https://plot.ly"
       },
       "data": [
        {
         "nbinsx": 5,
         "type": "histogram",
         "x": [
          0.889763779527559,
          0.8267716535433071,
          0.84251968503937,
          0.84251968503937,
          0.9133858267716536,
          0.889763779527559,
          0.9133858267716536,
          0.8976377952755905,
          0.9206349206349206,
          0.8809523809523809
         ]
        }
       ],
       "layout": {
        "annotations": [
         {
          "showarrow": false,
          "text": "Acurácia Média = 0.88",
          "x": 0.8817335333083365,
          "xanchor": "left",
          "xref": "x",
          "y": 1,
          "yanchor": "top",
          "yref": "y domain"
         }
        ],
        "shapes": [
         {
          "line": {
           "dash": "dash"
          },
          "type": "line",
          "x0": 0.8817335333083365,
          "x1": 0.8817335333083365,
          "xref": "x",
          "y0": 0,
          "y1": 1,
          "yref": "y domain"
         }
        ],
        "template": {
         "data": {
          "bar": [
           {
            "error_x": {
             "color": "#2a3f5f"
            },
            "error_y": {
             "color": "#2a3f5f"
            },
            "marker": {
             "line": {
              "color": "#E5ECF6",
              "width": 0.5
             },
             "pattern": {
              "fillmode": "overlay",
              "size": 10,
              "solidity": 0.2
             }
            },
            "type": "bar"
           }
          ],
          "barpolar": [
           {
            "marker": {
             "line": {
              "color": "#E5ECF6",
              "width": 0.5
             },
             "pattern": {
              "fillmode": "overlay",
              "size": 10,
              "solidity": 0.2
             }
            },
            "type": "barpolar"
           }
          ],
          "carpet": [
           {
            "aaxis": {
             "endlinecolor": "#2a3f5f",
             "gridcolor": "white",
             "linecolor": "white",
             "minorgridcolor": "white",
             "startlinecolor": "#2a3f5f"
            },
            "baxis": {
             "endlinecolor": "#2a3f5f",
             "gridcolor": "white",
             "linecolor": "white",
             "minorgridcolor": "white",
             "startlinecolor": "#2a3f5f"
            },
            "type": "carpet"
           }
          ],
          "choropleth": [
           {
            "colorbar": {
             "outlinewidth": 0,
             "ticks": ""
            },
            "type": "choropleth"
           }
          ],
          "contour": [
           {
            "colorbar": {
             "outlinewidth": 0,
             "ticks": ""
            },
            "colorscale": [
             [
              0,
              "#0d0887"
             ],
             [
              0.1111111111111111,
              "#46039f"
             ],
             [
              0.2222222222222222,
              "#7201a8"
             ],
             [
              0.3333333333333333,
              "#9c179e"
             ],
             [
              0.4444444444444444,
              "#bd3786"
             ],
             [
              0.5555555555555556,
              "#d8576b"
             ],
             [
              0.6666666666666666,
              "#ed7953"
             ],
             [
              0.7777777777777778,
              "#fb9f3a"
             ],
             [
              0.8888888888888888,
              "#fdca26"
             ],
             [
              1,
              "#f0f921"
             ]
            ],
            "type": "contour"
           }
          ],
          "contourcarpet": [
           {
            "colorbar": {
             "outlinewidth": 0,
             "ticks": ""
            },
            "type": "contourcarpet"
           }
          ],
          "heatmap": [
           {
            "colorbar": {
             "outlinewidth": 0,
             "ticks": ""
            },
            "colorscale": [
             [
              0,
              "#0d0887"
             ],
             [
              0.1111111111111111,
              "#46039f"
             ],
             [
              0.2222222222222222,
              "#7201a8"
             ],
             [
              0.3333333333333333,
              "#9c179e"
             ],
             [
              0.4444444444444444,
              "#bd3786"
             ],
             [
              0.5555555555555556,
              "#d8576b"
             ],
             [
              0.6666666666666666,
              "#ed7953"
             ],
             [
              0.7777777777777778,
              "#fb9f3a"
             ],
             [
              0.8888888888888888,
              "#fdca26"
             ],
             [
              1,
              "#f0f921"
             ]
            ],
            "type": "heatmap"
           }
          ],
          "heatmapgl": [
           {
            "colorbar": {
             "outlinewidth": 0,
             "ticks": ""
            },
            "colorscale": [
             [
              0,
              "#0d0887"
             ],
             [
              0.1111111111111111,
              "#46039f"
             ],
             [
              0.2222222222222222,
              "#7201a8"
             ],
             [
              0.3333333333333333,
              "#9c179e"
             ],
             [
              0.4444444444444444,
              "#bd3786"
             ],
             [
              0.5555555555555556,
              "#d8576b"
             ],
             [
              0.6666666666666666,
              "#ed7953"
             ],
             [
              0.7777777777777778,
              "#fb9f3a"
             ],
             [
              0.8888888888888888,
              "#fdca26"
             ],
             [
              1,
              "#f0f921"
             ]
            ],
            "type": "heatmapgl"
           }
          ],
          "histogram": [
           {
            "marker": {
             "pattern": {
              "fillmode": "overlay",
              "size": 10,
              "solidity": 0.2
             }
            },
            "type": "histogram"
           }
          ],
          "histogram2d": [
           {
            "colorbar": {
             "outlinewidth": 0,
             "ticks": ""
            },
            "colorscale": [
             [
              0,
              "#0d0887"
             ],
             [
              0.1111111111111111,
              "#46039f"
             ],
             [
              0.2222222222222222,
              "#7201a8"
             ],
             [
              0.3333333333333333,
              "#9c179e"
             ],
             [
              0.4444444444444444,
              "#bd3786"
             ],
             [
              0.5555555555555556,
              "#d8576b"
             ],
             [
              0.6666666666666666,
              "#ed7953"
             ],
             [
              0.7777777777777778,
              "#fb9f3a"
             ],
             [
              0.8888888888888888,
              "#fdca26"
             ],
             [
              1,
              "#f0f921"
             ]
            ],
            "type": "histogram2d"
           }
          ],
          "histogram2dcontour": [
           {
            "colorbar": {
             "outlinewidth": 0,
             "ticks": ""
            },
            "colorscale": [
             [
              0,
              "#0d0887"
             ],
             [
              0.1111111111111111,
              "#46039f"
             ],
             [
              0.2222222222222222,
              "#7201a8"
             ],
             [
              0.3333333333333333,
              "#9c179e"
             ],
             [
              0.4444444444444444,
              "#bd3786"
             ],
             [
              0.5555555555555556,
              "#d8576b"
             ],
             [
              0.6666666666666666,
              "#ed7953"
             ],
             [
              0.7777777777777778,
              "#fb9f3a"
             ],
             [
              0.8888888888888888,
              "#fdca26"
             ],
             [
              1,
              "#f0f921"
             ]
            ],
            "type": "histogram2dcontour"
           }
          ],
          "mesh3d": [
           {
            "colorbar": {
             "outlinewidth": 0,
             "ticks": ""
            },
            "type": "mesh3d"
           }
          ],
          "parcoords": [
           {
            "line": {
             "colorbar": {
              "outlinewidth": 0,
              "ticks": ""
             }
            },
            "type": "parcoords"
           }
          ],
          "pie": [
           {
            "automargin": true,
            "type": "pie"
           }
          ],
          "scatter": [
           {
            "fillpattern": {
             "fillmode": "overlay",
             "size": 10,
             "solidity": 0.2
            },
            "type": "scatter"
           }
          ],
          "scatter3d": [
           {
            "line": {
             "colorbar": {
              "outlinewidth": 0,
              "ticks": ""
             }
            },
            "marker": {
             "colorbar": {
              "outlinewidth": 0,
              "ticks": ""
             }
            },
            "type": "scatter3d"
           }
          ],
          "scattercarpet": [
           {
            "marker": {
             "colorbar": {
              "outlinewidth": 0,
              "ticks": ""
             }
            },
            "type": "scattercarpet"
           }
          ],
          "scattergeo": [
           {
            "marker": {
             "colorbar": {
              "outlinewidth": 0,
              "ticks": ""
             }
            },
            "type": "scattergeo"
           }
          ],
          "scattergl": [
           {
            "marker": {
             "colorbar": {
              "outlinewidth": 0,
              "ticks": ""
             }
            },
            "type": "scattergl"
           }
          ],
          "scattermapbox": [
           {
            "marker": {
             "colorbar": {
              "outlinewidth": 0,
              "ticks": ""
             }
            },
            "type": "scattermapbox"
           }
          ],
          "scatterpolar": [
           {
            "marker": {
             "colorbar": {
              "outlinewidth": 0,
              "ticks": ""
             }
            },
            "type": "scatterpolar"
           }
          ],
          "scatterpolargl": [
           {
            "marker": {
             "colorbar": {
              "outlinewidth": 0,
              "ticks": ""
             }
            },
            "type": "scatterpolargl"
           }
          ],
          "scatterternary": [
           {
            "marker": {
             "colorbar": {
              "outlinewidth": 0,
              "ticks": ""
             }
            },
            "type": "scatterternary"
           }
          ],
          "surface": [
           {
            "colorbar": {
             "outlinewidth": 0,
             "ticks": ""
            },
            "colorscale": [
             [
              0,
              "#0d0887"
             ],
             [
              0.1111111111111111,
              "#46039f"
             ],
             [
              0.2222222222222222,
              "#7201a8"
             ],
             [
              0.3333333333333333,
              "#9c179e"
             ],
             [
              0.4444444444444444,
              "#bd3786"
             ],
             [
              0.5555555555555556,
              "#d8576b"
             ],
             [
              0.6666666666666666,
              "#ed7953"
             ],
             [
              0.7777777777777778,
              "#fb9f3a"
             ],
             [
              0.8888888888888888,
              "#fdca26"
             ],
             [
              1,
              "#f0f921"
             ]
            ],
            "type": "surface"
           }
          ],
          "table": [
           {
            "cells": {
             "fill": {
              "color": "#EBF0F8"
             },
             "line": {
              "color": "white"
             }
            },
            "header": {
             "fill": {
              "color": "#C8D4E3"
             },
             "line": {
              "color": "white"
             }
            },
            "type": "table"
           }
          ]
         },
         "layout": {
          "annotationdefaults": {
           "arrowcolor": "#2a3f5f",
           "arrowhead": 0,
           "arrowwidth": 1
          },
          "autotypenumbers": "strict",
          "coloraxis": {
           "colorbar": {
            "outlinewidth": 0,
            "ticks": ""
           }
          },
          "colorscale": {
           "diverging": [
            [
             0,
             "#8e0152"
            ],
            [
             0.1,
             "#c51b7d"
            ],
            [
             0.2,
             "#de77ae"
            ],
            [
             0.3,
             "#f1b6da"
            ],
            [
             0.4,
             "#fde0ef"
            ],
            [
             0.5,
             "#f7f7f7"
            ],
            [
             0.6,
             "#e6f5d0"
            ],
            [
             0.7,
             "#b8e186"
            ],
            [
             0.8,
             "#7fbc41"
            ],
            [
             0.9,
             "#4d9221"
            ],
            [
             1,
             "#276419"
            ]
           ],
           "sequential": [
            [
             0,
             "#0d0887"
            ],
            [
             0.1111111111111111,
             "#46039f"
            ],
            [
             0.2222222222222222,
             "#7201a8"
            ],
            [
             0.3333333333333333,
             "#9c179e"
            ],
            [
             0.4444444444444444,
             "#bd3786"
            ],
            [
             0.5555555555555556,
             "#d8576b"
            ],
            [
             0.6666666666666666,
             "#ed7953"
            ],
            [
             0.7777777777777778,
             "#fb9f3a"
            ],
            [
             0.8888888888888888,
             "#fdca26"
            ],
            [
             1,
             "#f0f921"
            ]
           ],
           "sequentialminus": [
            [
             0,
             "#0d0887"
            ],
            [
             0.1111111111111111,
             "#46039f"
            ],
            [
             0.2222222222222222,
             "#7201a8"
            ],
            [
             0.3333333333333333,
             "#9c179e"
            ],
            [
             0.4444444444444444,
             "#bd3786"
            ],
            [
             0.5555555555555556,
             "#d8576b"
            ],
            [
             0.6666666666666666,
             "#ed7953"
            ],
            [
             0.7777777777777778,
             "#fb9f3a"
            ],
            [
             0.8888888888888888,
             "#fdca26"
            ],
            [
             1,
             "#f0f921"
            ]
           ]
          },
          "colorway": [
           "#636efa",
           "#EF553B",
           "#00cc96",
           "#ab63fa",
           "#FFA15A",
           "#19d3f3",
           "#FF6692",
           "#B6E880",
           "#FF97FF",
           "#FECB52"
          ],
          "font": {
           "color": "#2a3f5f"
          },
          "geo": {
           "bgcolor": "white",
           "lakecolor": "white",
           "landcolor": "#E5ECF6",
           "showlakes": true,
           "showland": true,
           "subunitcolor": "white"
          },
          "hoverlabel": {
           "align": "left"
          },
          "hovermode": "closest",
          "mapbox": {
           "style": "light"
          },
          "paper_bgcolor": "white",
          "plot_bgcolor": "#E5ECF6",
          "polar": {
           "angularaxis": {
            "gridcolor": "white",
            "linecolor": "white",
            "ticks": ""
           },
           "bgcolor": "#E5ECF6",
           "radialaxis": {
            "gridcolor": "white",
            "linecolor": "white",
            "ticks": ""
           }
          },
          "scene": {
           "xaxis": {
            "backgroundcolor": "#E5ECF6",
            "gridcolor": "white",
            "gridwidth": 2,
            "linecolor": "white",
            "showbackground": true,
            "ticks": "",
            "zerolinecolor": "white"
           },
           "yaxis": {
            "backgroundcolor": "#E5ECF6",
            "gridcolor": "white",
            "gridwidth": 2,
            "linecolor": "white",
            "showbackground": true,
            "ticks": "",
            "zerolinecolor": "white"
           },
           "zaxis": {
            "backgroundcolor": "#E5ECF6",
            "gridcolor": "white",
            "gridwidth": 2,
            "linecolor": "white",
            "showbackground": true,
            "ticks": "",
            "zerolinecolor": "white"
           }
          },
          "shapedefaults": {
           "line": {
            "color": "#2a3f5f"
           }
          },
          "ternary": {
           "aaxis": {
            "gridcolor": "white",
            "linecolor": "white",
            "ticks": ""
           },
           "baxis": {
            "gridcolor": "white",
            "linecolor": "white",
            "ticks": ""
           },
           "bgcolor": "#E5ECF6",
           "caxis": {
            "gridcolor": "white",
            "linecolor": "white",
            "ticks": ""
           }
          },
          "title": {
           "x": 0.05
          },
          "xaxis": {
           "automargin": true,
           "gridcolor": "white",
           "linecolor": "white",
           "ticks": "",
           "title": {
            "standoff": 15
           },
           "zerolinecolor": "white",
           "zerolinewidth": 2
          },
          "yaxis": {
           "automargin": true,
           "gridcolor": "white",
           "linecolor": "white",
           "ticks": "",
           "title": {
            "standoff": 15
           },
           "zerolinecolor": "white",
           "zerolinewidth": 2
          }
         }
        },
        "title": {
         "text": "Histograma da Acurácia"
        }
       }
      }
     },
     "metadata": {},
     "output_type": "display_data"
    }
   ],
   "source": [
    "plot_accuracies(summarize_metrics(knn_res, ['0', '1', '2', '3', '4', '5'])['accuracies'])"
   ]
  },
  {
   "cell_type": "code",
   "execution_count": null,
   "metadata": {},
   "outputs": [],
   "source": [
    "model = Pipeline([('scaler', StandardScaler()) , ('model', KNeighborsClassifier(n_neighbors=5))])\n",
    "\n",
    "param_grid = {\"model__n_neighbors\": [1, 3, 5, 10]}\n",
    "best_params = get_best_params(model, X_train, y_train, param_grid, display_results = True)\n",
    "\n",
    "model.set_params(**best_params)"
   ]
  },
  {
   "cell_type": "code",
   "execution_count": null,
   "metadata": {},
   "outputs": [],
   "source": [
    "model.fit(X_train, y_train)"
   ]
  },
  {
   "cell_type": "code",
   "execution_count": null,
   "metadata": {},
   "outputs": [],
   "source": [
    "get_best_params(model, X_train, y_train)"
   ]
  },
  {
   "cell_type": "code",
   "execution_count": null,
   "metadata": {},
   "outputs": [],
   "source": [
    "fig = plot_roc(model, X_test, y_test)\n",
    "\n",
    "fig.show()"
   ]
  },
  {
   "cell_type": "code",
   "execution_count": null,
   "metadata": {},
   "outputs": [],
   "source": [
    "model = Pipeline([('scaler', StandardScaler()) , ('model', SVC())])\n",
    "# vamos criar um classificador kNN com k=5\n",
    "model.fit(X_train, y_train)\n",
    "\n",
    "# e ver a sua performance no dataset de teste\n",
    "print(classification_report(y_train, model.predict(X_train)))\n",
    "\n",
    "# e ver a sua performance no dataset de teste\n",
    "print(classification_report(y_test, model.predict(X_test)))"
   ]
  },
  {
   "cell_type": "markdown",
   "metadata": {},
   "source": [
    "### Árvore de Decisão"
   ]
  },
  {
   "cell_type": "code",
   "execution_count": null,
   "metadata": {},
   "outputs": [],
   "source": [
    "#scikit-learn usa uma versão otimizada do algoritmo CART (similar ao C4.5)\n",
    "model = DecisionTreeClassifier(max_depth=10)\n",
    "\n",
    "#treinando o modelo\n",
    "model.fit(X_train, y_train)\n",
    "\n",
    "y_pred_train = model.predict(X_train)\n",
    "#Resultados do classificador\n",
    "print(classification_report(y_train, y_pred_train))\n",
    "\n",
    "#predição\n",
    "y_pred = model.predict(X_test)\n",
    "\n",
    "#Resultados do classificador\n",
    "print(classification_report(y_test, y_pred))"
   ]
  },
  {
   "cell_type": "code",
   "execution_count": null,
   "metadata": {},
   "outputs": [],
   "source": [
    "#scikit-learn usa uma versão otimizada do algoritmo CART (similar ao C4.5)\n",
    "#model = RandomForestClassifier(max_depth=30, n_estimators=100)\n",
    "model = RandomForestClassifier(max_depth=10)\n",
    "\n",
    "#treinando o modelo\n",
    "model.fit(X_train, y_train)\n",
    "\n",
    "y_pred_train = model.predict(X_train)\n",
    "#Resultados do classificador\n",
    "print(classification_report(y_train, y_pred_train))\n",
    "\n",
    "#predição\n",
    "y_pred = model.predict(X_test)\n",
    "\n",
    "#Resultados do classificador\n",
    "print(classification_report(y_test, y_pred))"
   ]
  },
  {
   "cell_type": "markdown",
   "metadata": {},
   "source": [
    "---"
   ]
  },
  {
   "cell_type": "code",
   "execution_count": null,
   "metadata": {},
   "outputs": [],
   "source": [
    "X_train_v2 = X_train.iloc[:, :3]\n",
    "X_test_v2 = X_test.iloc[:, :3]\n",
    "\n",
    "model = Pipeline([('scaler', StandardScaler()) , ('model', KNeighborsClassifier(n_neighbors=5))])\n",
    "# vamos criar um classificador kNN com k=5\n",
    "model.fit(X_train_v2, y_train)\n",
    "\n",
    "# e ver a sua performance no dataset de teste\n",
    "print(classification_report(y_train, model.predict(X_train_v2)))\n",
    "\n",
    "# e ver a sua performance no dataset de teste\n",
    "print(classification_report(y_test, model.predict(X_test_v2)))"
   ]
  },
  {
   "cell_type": "code",
   "execution_count": null,
   "metadata": {},
   "outputs": [],
   "source": [
    "#scikit-learn usa uma versão otimizada do algoritmo CART (similar ao C4.5)\n",
    "model = DecisionTreeClassifier(max_depth=20)\n",
    "#treinando o modelo\n",
    "model.fit(X_train_v2, y_train)\n",
    "\n",
    "y_pred_train = model.predict(X_train_v2)\n",
    "#Resultados do classificador\n",
    "print(classification_report(y_train, y_pred_train))\n",
    "\n",
    "#predição\n",
    "y_pred = model.predict(X_test_v2)\n",
    "\n",
    "#Resultados do classificador\n",
    "print(classification_report(y_test, y_pred))"
   ]
  },
  {
   "cell_type": "code",
   "execution_count": null,
   "metadata": {},
   "outputs": [],
   "source": [
    "#scikit-learn usa uma versão otimizada do algoritmo CART (similar ao C4.5)\n",
    "# model = DecisionTreeClassifier(max_depth=20)\n",
    "model = RandomForestClassifier(n_estimators=50, max_depth=10)\n",
    "#treinando o modelo\n",
    "model.fit(X_train, y_train)\n",
    "\n",
    "y_pred_train = model.predict(X_train)\n",
    "#Resultados do classificador\n",
    "print(classification_report(y_train, y_pred_train))\n",
    "\n",
    "#predição\n",
    "y_pred = model.predict(X_test)\n",
    "\n",
    "#Resultados do classificador\n",
    "print(classification_report(y_test, y_pred))"
   ]
  },
  {
   "cell_type": "code",
   "execution_count": null,
   "metadata": {},
   "outputs": [],
   "source": [
    "feature_importances = {k: v for k, v in zip(X_train.columns, model.feature_importances_)}\n",
    "feature_importances = {k: v for k, v in sorted(feature_importances.items(), key=lambda item: -item[1])}\n",
    "feature_importances"
   ]
  },
  {
   "cell_type": "code",
   "execution_count": null,
   "metadata": {},
   "outputs": [],
   "source": [
    "# most_important_features = [f for f in feature_importances.keys() if feature_importances[f] > 0.05]\n",
    "most_important_features = [f for f in feature_importances.keys()][:5]\n",
    "most_important_features"
   ]
  },
  {
   "cell_type": "code",
   "execution_count": null,
   "metadata": {},
   "outputs": [],
   "source": [
    "X_train_v3 = X_train[most_important_features]\n",
    "X_test_v3 = X_test[most_important_features]\n",
    "\n",
    "model = Pipeline([('scaler', StandardScaler()) , ('model', KNeighborsClassifier(n_neighbors=5))])\n",
    "# vamos criar um classificador kNN com k=5\n",
    "model.fit(X_train_v3, y_train)\n",
    "\n",
    "# e ver a sua performance no dataset de teste\n",
    "print(classification_report(y_train, model.predict(X_train_v3)))\n",
    "\n",
    "# e ver a sua performance no dataset de teste\n",
    "print(classification_report(y_test, model.predict(X_test_v3)))"
   ]
  },
  {
   "cell_type": "code",
   "execution_count": null,
   "metadata": {},
   "outputs": [],
   "source": [
    "X_train_v3 = X_train[most_important_features]\n",
    "X_test_v3 = X_test[most_important_features]\n",
    "\n",
    "model = DecisionTreeClassifier(max_depth=30)\n",
    "# vamos criar um classificador kNN com k=5\n",
    "model.fit(X_train_v3, y_train)\n",
    "\n",
    "# e ver a sua performance no dataset de teste\n",
    "print(classification_report(y_train, model.predict(X_train_v3)))\n",
    "\n",
    "# e ver a sua performance no dataset de teste\n",
    "print(classification_report(y_test, model.predict(X_test_v3)))"
   ]
  }
 ],
 "metadata": {
  "kernelspec": {
   "display_name": "Python 3",
   "language": "python",
   "name": "python3"
  },
  "language_info": {
   "codemirror_mode": {
    "name": "ipython",
    "version": 3
   },
   "file_extension": ".py",
   "mimetype": "text/x-python",
   "name": "python",
   "nbconvert_exporter": "python",
   "pygments_lexer": "ipython3",
   "version": "3.12.4"
  }
 },
 "nbformat": 4,
 "nbformat_minor": 2
}
