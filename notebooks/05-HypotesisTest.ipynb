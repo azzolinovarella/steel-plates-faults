{
 "cells": [
  {
   "cell_type": "markdown",
   "metadata": {},
   "source": [
    "# 05 - Testes de Hipótese\n",
    "\n",
    "Neste notebook, são realizados testes de hipótese voltados à comparação das acurácias."
   ]
  },
  {
   "cell_type": "markdown",
   "metadata": {},
   "source": [
    " As acurácias a serem comparadas advém de:\n",
    "+ Máquinas treinadas sem ensemble \n",
    "+ Máquinas treinadas com ensemble não balanceado\n",
    "+ Máquinas treinadas com ensemble balanceado com Undersampling aleatório\n",
    "+ Máquinas treinadas com ensemble balanceado com Oversampling - SMOTE"
   ]
  },
  {
   "cell_type": "markdown",
   "metadata": {},
   "source": [
    "## Importação"
   ]
  },
  {
   "cell_type": "code",
   "execution_count": 1,
   "metadata": {},
   "outputs": [],
   "source": [
    "# Bibliotecas padrão\n",
    "import pickle\n",
    "\n",
    "# Bibliotecas utilitárias de terceiros\n",
    "import numpy as np\n",
    "import pandas as pd\n",
    "import scipy.stats as ss\n",
    "from tqdm.notebook import tqdm\n",
    "\n",
    "# Gráficos\n",
    "import plotly.graph_objects as go\n",
    "import plotly.express as px\n",
    "import plotly.io as pio\n",
    "from plotly.subplots import make_subplots"
   ]
  },
  {
   "cell_type": "markdown",
   "metadata": {},
   "source": [
    "## Funções"
   ]
  },
  {
   "cell_type": "code",
   "execution_count": 2,
   "metadata": {},
   "outputs": [],
   "source": [
    "def plot_accuracies(res):\n",
    "    # # Criando uma lista de traces para cada categoria\n",
    "    # traces = []\n",
    "    # for categoria, valores in res.items():\n",
    "    #     traces.append(go.Histogram(x=valores, name=categoria, opacity=0.6))\n",
    "\n",
    "    # # Criando o gráfico\n",
    "    # fig = go.Figure(data=traces)\n",
    "\n",
    "    # # Configurando a sobreposição de histogramas\n",
    "    # fig.update_layout(title=f'Distribuição das Acurácias por abordagem',\n",
    "    #                   yaxis_title='Frequência',\n",
    "    #                   xaxis_title='Acurácia (%)',\n",
    "    #                   height=600, autosize=True,\n",
    "    #                   barmode='overlay',\n",
    "    #                   legend=dict(\n",
    "    #                       orientation=\"h\", \n",
    "    #                       yanchor=\"bottom\", \n",
    "    #                       y=1.02, \n",
    "    #                       xanchor=\"right\", \n",
    "    #                       x=1\n",
    "    #                       )\n",
    "    #                   )\n",
    "    \n",
    "    fig = make_subplots(rows=len(res), cols=1, shared_xaxes=True, shared_yaxes=True, subplot_titles=list(res.keys()))\n",
    "\n",
    "    i=1\n",
    "    for categoria, valores in res.items():\n",
    "        fig.add_trace(\n",
    "            go.Histogram(x=valores, name=categoria),\n",
    "            row=i,\n",
    "            col=1\n",
    "        )\n",
    "        i=i+1\n",
    "\n",
    "    fig.update_layout(title=f'Distribuição das Acurácias por abordagem',\n",
    "                      yaxis1_title='Frequência',\n",
    "                      yaxis2_title='Frequência',\n",
    "                      yaxis3_title='Frequência',\n",
    "                      yaxis4_title='Frequência',\n",
    "                      xaxis4_title='Acurácia (%)',\n",
    "                      height=800, autosize=True,\n",
    "                      barmode='overlay',\n",
    "                      yaxis1_range=(0, 10),\n",
    "                      yaxis2_range=(0, 10),\n",
    "                      yaxis3_range=(0, 10),\n",
    "                      yaxis4_range=(0, 10),\n",
    "                      showlegend=False\n",
    "                    #   legend=dict(\n",
    "                    #       orientation=\"h\", \n",
    "                    #       yanchor=\"bottom\", \n",
    "                    #       y=1.02, \n",
    "                    #       xanchor=\"right\", \n",
    "                    #       x=1\n",
    "                    #       )\n",
    "                      )\n",
    "\n",
    "    # Exibindo o gráfico\n",
    "    fig.show()"
   ]
  },
  {
   "cell_type": "markdown",
   "metadata": {},
   "source": [
    "## KNN"
   ]
  },
  {
   "cell_type": "code",
   "execution_count": 3,
   "metadata": {},
   "outputs": [
    {
     "data": {
      "application/vnd.plotly.v1+json": {
       "config": {
        "plotlyServerURL": "https://plot.ly"
       },
       "data": [
        {
         "name": "Sem bagging",
         "type": "histogram",
         "x": [
          0.9375,
          0.9375,
          0.84375,
          0.84375,
          0.875,
          0.890625,
          0.890625,
          0.9375,
          0.8888888888888888,
          0.8095238095238095,
          0.8253968253968254,
          0.9206349206349206,
          0.9206349206349206,
          0.9047619047619048,
          0.873015873015873,
          0.9206349206349206,
          0.9206349206349206,
          0.8571428571428571,
          0.8571428571428571,
          0.9206349206349206
         ],
         "xaxis": "x",
         "yaxis": "y"
        },
        {
         "name": "Com bagging sem balanceamento",
         "type": "histogram",
         "x": [
          0.921875,
          0.9375,
          0.828125,
          0.890625,
          0.875,
          0.890625,
          0.90625,
          0.9375,
          0.873015873015873,
          0.873015873015873,
          0.8571428571428571,
          0.9365079365079365,
          0.9206349206349206,
          0.9206349206349206,
          0.9047619047619048,
          0.9206349206349206,
          0.873015873015873,
          0.9047619047619048,
          0.8571428571428571,
          0.8888888888888888
         ],
         "xaxis": "x2",
         "yaxis": "y2"
        },
        {
         "name": "Com bagging com balanceamento undersampling aleatório",
         "type": "histogram",
         "x": [
          0.921875,
          0.828125,
          0.765625,
          0.78125,
          0.84375,
          0.8125,
          0.875,
          0.90625,
          0.7777777777777778,
          0.7936507936507936,
          0.7301587301587301,
          0.9047619047619048,
          0.8888888888888888,
          0.7936507936507936,
          0.8571428571428571,
          0.873015873015873,
          0.8253968253968254,
          0.7936507936507936,
          0.8095238095238095,
          0.8095238095238095
         ],
         "xaxis": "x3",
         "yaxis": "y3"
        },
        {
         "name": "Com bagging com balanceamento oversampling",
         "type": "histogram",
         "x": [
          0.90625,
          0.921875,
          0.828125,
          0.859375,
          0.875,
          0.890625,
          0.90625,
          0.953125,
          0.9047619047619048,
          0.8253968253968254,
          0.8412698412698413,
          0.9047619047619048,
          0.8888888888888888,
          0.9047619047619048,
          0.8888888888888888,
          0.9365079365079365,
          0.9047619047619048,
          0.8571428571428571,
          0.8571428571428571,
          0.873015873015873
         ],
         "xaxis": "x4",
         "yaxis": "y4"
        }
       ],
       "layout": {
        "annotations": [
         {
          "font": {
           "size": 16
          },
          "showarrow": false,
          "text": "Sem bagging",
          "x": 0.5,
          "xanchor": "center",
          "xref": "paper",
          "y": 1,
          "yanchor": "bottom",
          "yref": "paper"
         },
         {
          "font": {
           "size": 16
          },
          "showarrow": false,
          "text": "Com bagging sem balanceamento",
          "x": 0.5,
          "xanchor": "center",
          "xref": "paper",
          "y": 0.71875,
          "yanchor": "bottom",
          "yref": "paper"
         },
         {
          "font": {
           "size": 16
          },
          "showarrow": false,
          "text": "Com bagging com balanceamento undersampling aleatório",
          "x": 0.5,
          "xanchor": "center",
          "xref": "paper",
          "y": 0.4375,
          "yanchor": "bottom",
          "yref": "paper"
         },
         {
          "font": {
           "size": 16
          },
          "showarrow": false,
          "text": "Com bagging com balanceamento oversampling",
          "x": 0.5,
          "xanchor": "center",
          "xref": "paper",
          "y": 0.15625,
          "yanchor": "bottom",
          "yref": "paper"
         }
        ],
        "autosize": true,
        "barmode": "overlay",
        "height": 800,
        "showlegend": false,
        "template": {
         "data": {
          "bar": [
           {
            "error_x": {
             "color": "#2a3f5f"
            },
            "error_y": {
             "color": "#2a3f5f"
            },
            "marker": {
             "line": {
              "color": "#E5ECF6",
              "width": 0.5
             },
             "pattern": {
              "fillmode": "overlay",
              "size": 10,
              "solidity": 0.2
             }
            },
            "type": "bar"
           }
          ],
          "barpolar": [
           {
            "marker": {
             "line": {
              "color": "#E5ECF6",
              "width": 0.5
             },
             "pattern": {
              "fillmode": "overlay",
              "size": 10,
              "solidity": 0.2
             }
            },
            "type": "barpolar"
           }
          ],
          "carpet": [
           {
            "aaxis": {
             "endlinecolor": "#2a3f5f",
             "gridcolor": "white",
             "linecolor": "white",
             "minorgridcolor": "white",
             "startlinecolor": "#2a3f5f"
            },
            "baxis": {
             "endlinecolor": "#2a3f5f",
             "gridcolor": "white",
             "linecolor": "white",
             "minorgridcolor": "white",
             "startlinecolor": "#2a3f5f"
            },
            "type": "carpet"
           }
          ],
          "choropleth": [
           {
            "colorbar": {
             "outlinewidth": 0,
             "ticks": ""
            },
            "type": "choropleth"
           }
          ],
          "contour": [
           {
            "colorbar": {
             "outlinewidth": 0,
             "ticks": ""
            },
            "colorscale": [
             [
              0,
              "#0d0887"
             ],
             [
              0.1111111111111111,
              "#46039f"
             ],
             [
              0.2222222222222222,
              "#7201a8"
             ],
             [
              0.3333333333333333,
              "#9c179e"
             ],
             [
              0.4444444444444444,
              "#bd3786"
             ],
             [
              0.5555555555555556,
              "#d8576b"
             ],
             [
              0.6666666666666666,
              "#ed7953"
             ],
             [
              0.7777777777777778,
              "#fb9f3a"
             ],
             [
              0.8888888888888888,
              "#fdca26"
             ],
             [
              1,
              "#f0f921"
             ]
            ],
            "type": "contour"
           }
          ],
          "contourcarpet": [
           {
            "colorbar": {
             "outlinewidth": 0,
             "ticks": ""
            },
            "type": "contourcarpet"
           }
          ],
          "heatmap": [
           {
            "colorbar": {
             "outlinewidth": 0,
             "ticks": ""
            },
            "colorscale": [
             [
              0,
              "#0d0887"
             ],
             [
              0.1111111111111111,
              "#46039f"
             ],
             [
              0.2222222222222222,
              "#7201a8"
             ],
             [
              0.3333333333333333,
              "#9c179e"
             ],
             [
              0.4444444444444444,
              "#bd3786"
             ],
             [
              0.5555555555555556,
              "#d8576b"
             ],
             [
              0.6666666666666666,
              "#ed7953"
             ],
             [
              0.7777777777777778,
              "#fb9f3a"
             ],
             [
              0.8888888888888888,
              "#fdca26"
             ],
             [
              1,
              "#f0f921"
             ]
            ],
            "type": "heatmap"
           }
          ],
          "heatmapgl": [
           {
            "colorbar": {
             "outlinewidth": 0,
             "ticks": ""
            },
            "colorscale": [
             [
              0,
              "#0d0887"
             ],
             [
              0.1111111111111111,
              "#46039f"
             ],
             [
              0.2222222222222222,
              "#7201a8"
             ],
             [
              0.3333333333333333,
              "#9c179e"
             ],
             [
              0.4444444444444444,
              "#bd3786"
             ],
             [
              0.5555555555555556,
              "#d8576b"
             ],
             [
              0.6666666666666666,
              "#ed7953"
             ],
             [
              0.7777777777777778,
              "#fb9f3a"
             ],
             [
              0.8888888888888888,
              "#fdca26"
             ],
             [
              1,
              "#f0f921"
             ]
            ],
            "type": "heatmapgl"
           }
          ],
          "histogram": [
           {
            "marker": {
             "pattern": {
              "fillmode": "overlay",
              "size": 10,
              "solidity": 0.2
             }
            },
            "type": "histogram"
           }
          ],
          "histogram2d": [
           {
            "colorbar": {
             "outlinewidth": 0,
             "ticks": ""
            },
            "colorscale": [
             [
              0,
              "#0d0887"
             ],
             [
              0.1111111111111111,
              "#46039f"
             ],
             [
              0.2222222222222222,
              "#7201a8"
             ],
             [
              0.3333333333333333,
              "#9c179e"
             ],
             [
              0.4444444444444444,
              "#bd3786"
             ],
             [
              0.5555555555555556,
              "#d8576b"
             ],
             [
              0.6666666666666666,
              "#ed7953"
             ],
             [
              0.7777777777777778,
              "#fb9f3a"
             ],
             [
              0.8888888888888888,
              "#fdca26"
             ],
             [
              1,
              "#f0f921"
             ]
            ],
            "type": "histogram2d"
           }
          ],
          "histogram2dcontour": [
           {
            "colorbar": {
             "outlinewidth": 0,
             "ticks": ""
            },
            "colorscale": [
             [
              0,
              "#0d0887"
             ],
             [
              0.1111111111111111,
              "#46039f"
             ],
             [
              0.2222222222222222,
              "#7201a8"
             ],
             [
              0.3333333333333333,
              "#9c179e"
             ],
             [
              0.4444444444444444,
              "#bd3786"
             ],
             [
              0.5555555555555556,
              "#d8576b"
             ],
             [
              0.6666666666666666,
              "#ed7953"
             ],
             [
              0.7777777777777778,
              "#fb9f3a"
             ],
             [
              0.8888888888888888,
              "#fdca26"
             ],
             [
              1,
              "#f0f921"
             ]
            ],
            "type": "histogram2dcontour"
           }
          ],
          "mesh3d": [
           {
            "colorbar": {
             "outlinewidth": 0,
             "ticks": ""
            },
            "type": "mesh3d"
           }
          ],
          "parcoords": [
           {
            "line": {
             "colorbar": {
              "outlinewidth": 0,
              "ticks": ""
             }
            },
            "type": "parcoords"
           }
          ],
          "pie": [
           {
            "automargin": true,
            "type": "pie"
           }
          ],
          "scatter": [
           {
            "fillpattern": {
             "fillmode": "overlay",
             "size": 10,
             "solidity": 0.2
            },
            "type": "scatter"
           }
          ],
          "scatter3d": [
           {
            "line": {
             "colorbar": {
              "outlinewidth": 0,
              "ticks": ""
             }
            },
            "marker": {
             "colorbar": {
              "outlinewidth": 0,
              "ticks": ""
             }
            },
            "type": "scatter3d"
           }
          ],
          "scattercarpet": [
           {
            "marker": {
             "colorbar": {
              "outlinewidth": 0,
              "ticks": ""
             }
            },
            "type": "scattercarpet"
           }
          ],
          "scattergeo": [
           {
            "marker": {
             "colorbar": {
              "outlinewidth": 0,
              "ticks": ""
             }
            },
            "type": "scattergeo"
           }
          ],
          "scattergl": [
           {
            "marker": {
             "colorbar": {
              "outlinewidth": 0,
              "ticks": ""
             }
            },
            "type": "scattergl"
           }
          ],
          "scattermapbox": [
           {
            "marker": {
             "colorbar": {
              "outlinewidth": 0,
              "ticks": ""
             }
            },
            "type": "scattermapbox"
           }
          ],
          "scatterpolar": [
           {
            "marker": {
             "colorbar": {
              "outlinewidth": 0,
              "ticks": ""
             }
            },
            "type": "scatterpolar"
           }
          ],
          "scatterpolargl": [
           {
            "marker": {
             "colorbar": {
              "outlinewidth": 0,
              "ticks": ""
             }
            },
            "type": "scatterpolargl"
           }
          ],
          "scatterternary": [
           {
            "marker": {
             "colorbar": {
              "outlinewidth": 0,
              "ticks": ""
             }
            },
            "type": "scatterternary"
           }
          ],
          "surface": [
           {
            "colorbar": {
             "outlinewidth": 0,
             "ticks": ""
            },
            "colorscale": [
             [
              0,
              "#0d0887"
             ],
             [
              0.1111111111111111,
              "#46039f"
             ],
             [
              0.2222222222222222,
              "#7201a8"
             ],
             [
              0.3333333333333333,
              "#9c179e"
             ],
             [
              0.4444444444444444,
              "#bd3786"
             ],
             [
              0.5555555555555556,
              "#d8576b"
             ],
             [
              0.6666666666666666,
              "#ed7953"
             ],
             [
              0.7777777777777778,
              "#fb9f3a"
             ],
             [
              0.8888888888888888,
              "#fdca26"
             ],
             [
              1,
              "#f0f921"
             ]
            ],
            "type": "surface"
           }
          ],
          "table": [
           {
            "cells": {
             "fill": {
              "color": "#EBF0F8"
             },
             "line": {
              "color": "white"
             }
            },
            "header": {
             "fill": {
              "color": "#C8D4E3"
             },
             "line": {
              "color": "white"
             }
            },
            "type": "table"
           }
          ]
         },
         "layout": {
          "annotationdefaults": {
           "arrowcolor": "#2a3f5f",
           "arrowhead": 0,
           "arrowwidth": 1
          },
          "autotypenumbers": "strict",
          "coloraxis": {
           "colorbar": {
            "outlinewidth": 0,
            "ticks": ""
           }
          },
          "colorscale": {
           "diverging": [
            [
             0,
             "#8e0152"
            ],
            [
             0.1,
             "#c51b7d"
            ],
            [
             0.2,
             "#de77ae"
            ],
            [
             0.3,
             "#f1b6da"
            ],
            [
             0.4,
             "#fde0ef"
            ],
            [
             0.5,
             "#f7f7f7"
            ],
            [
             0.6,
             "#e6f5d0"
            ],
            [
             0.7,
             "#b8e186"
            ],
            [
             0.8,
             "#7fbc41"
            ],
            [
             0.9,
             "#4d9221"
            ],
            [
             1,
             "#276419"
            ]
           ],
           "sequential": [
            [
             0,
             "#0d0887"
            ],
            [
             0.1111111111111111,
             "#46039f"
            ],
            [
             0.2222222222222222,
             "#7201a8"
            ],
            [
             0.3333333333333333,
             "#9c179e"
            ],
            [
             0.4444444444444444,
             "#bd3786"
            ],
            [
             0.5555555555555556,
             "#d8576b"
            ],
            [
             0.6666666666666666,
             "#ed7953"
            ],
            [
             0.7777777777777778,
             "#fb9f3a"
            ],
            [
             0.8888888888888888,
             "#fdca26"
            ],
            [
             1,
             "#f0f921"
            ]
           ],
           "sequentialminus": [
            [
             0,
             "#0d0887"
            ],
            [
             0.1111111111111111,
             "#46039f"
            ],
            [
             0.2222222222222222,
             "#7201a8"
            ],
            [
             0.3333333333333333,
             "#9c179e"
            ],
            [
             0.4444444444444444,
             "#bd3786"
            ],
            [
             0.5555555555555556,
             "#d8576b"
            ],
            [
             0.6666666666666666,
             "#ed7953"
            ],
            [
             0.7777777777777778,
             "#fb9f3a"
            ],
            [
             0.8888888888888888,
             "#fdca26"
            ],
            [
             1,
             "#f0f921"
            ]
           ]
          },
          "colorway": [
           "#636efa",
           "#EF553B",
           "#00cc96",
           "#ab63fa",
           "#FFA15A",
           "#19d3f3",
           "#FF6692",
           "#B6E880",
           "#FF97FF",
           "#FECB52"
          ],
          "font": {
           "color": "#2a3f5f"
          },
          "geo": {
           "bgcolor": "white",
           "lakecolor": "white",
           "landcolor": "#E5ECF6",
           "showlakes": true,
           "showland": true,
           "subunitcolor": "white"
          },
          "hoverlabel": {
           "align": "left"
          },
          "hovermode": "closest",
          "mapbox": {
           "style": "light"
          },
          "paper_bgcolor": "white",
          "plot_bgcolor": "#E5ECF6",
          "polar": {
           "angularaxis": {
            "gridcolor": "white",
            "linecolor": "white",
            "ticks": ""
           },
           "bgcolor": "#E5ECF6",
           "radialaxis": {
            "gridcolor": "white",
            "linecolor": "white",
            "ticks": ""
           }
          },
          "scene": {
           "xaxis": {
            "backgroundcolor": "#E5ECF6",
            "gridcolor": "white",
            "gridwidth": 2,
            "linecolor": "white",
            "showbackground": true,
            "ticks": "",
            "zerolinecolor": "white"
           },
           "yaxis": {
            "backgroundcolor": "#E5ECF6",
            "gridcolor": "white",
            "gridwidth": 2,
            "linecolor": "white",
            "showbackground": true,
            "ticks": "",
            "zerolinecolor": "white"
           },
           "zaxis": {
            "backgroundcolor": "#E5ECF6",
            "gridcolor": "white",
            "gridwidth": 2,
            "linecolor": "white",
            "showbackground": true,
            "ticks": "",
            "zerolinecolor": "white"
           }
          },
          "shapedefaults": {
           "line": {
            "color": "#2a3f5f"
           }
          },
          "ternary": {
           "aaxis": {
            "gridcolor": "white",
            "linecolor": "white",
            "ticks": ""
           },
           "baxis": {
            "gridcolor": "white",
            "linecolor": "white",
            "ticks": ""
           },
           "bgcolor": "#E5ECF6",
           "caxis": {
            "gridcolor": "white",
            "linecolor": "white",
            "ticks": ""
           }
          },
          "title": {
           "x": 0.05
          },
          "xaxis": {
           "automargin": true,
           "gridcolor": "white",
           "linecolor": "white",
           "ticks": "",
           "title": {
            "standoff": 15
           },
           "zerolinecolor": "white",
           "zerolinewidth": 2
          },
          "yaxis": {
           "automargin": true,
           "gridcolor": "white",
           "linecolor": "white",
           "ticks": "",
           "title": {
            "standoff": 15
           },
           "zerolinecolor": "white",
           "zerolinewidth": 2
          }
         }
        },
        "title": {
         "text": "Distribuição das Acurácias por abordagem"
        },
        "xaxis": {
         "anchor": "y",
         "domain": [
          0,
          1
         ],
         "matches": "x4",
         "showticklabels": false
        },
        "xaxis2": {
         "anchor": "y2",
         "domain": [
          0,
          1
         ],
         "matches": "x4",
         "showticklabels": false
        },
        "xaxis3": {
         "anchor": "y3",
         "domain": [
          0,
          1
         ],
         "matches": "x4",
         "showticklabels": false
        },
        "xaxis4": {
         "anchor": "y4",
         "domain": [
          0,
          1
         ],
         "title": {
          "text": "Acurácia (%)"
         }
        },
        "yaxis": {
         "anchor": "x",
         "domain": [
          0.84375,
          1
         ],
         "range": [
          0,
          10
         ],
         "title": {
          "text": "Frequência"
         }
        },
        "yaxis2": {
         "anchor": "x2",
         "domain": [
          0.5625,
          0.71875
         ],
         "range": [
          0,
          10
         ],
         "title": {
          "text": "Frequência"
         }
        },
        "yaxis3": {
         "anchor": "x3",
         "domain": [
          0.28125,
          0.4375
         ],
         "range": [
          0,
          10
         ],
         "title": {
          "text": "Frequência"
         }
        },
        "yaxis4": {
         "anchor": "x4",
         "domain": [
          0,
          0.15625
         ],
         "range": [
          0,
          10
         ],
         "title": {
          "text": "Frequência"
         }
        }
       }
      }
     },
     "metadata": {},
     "output_type": "display_data"
    }
   ],
   "source": [
    "with open('../data/processed/knn_res.pkl', 'rb') as file: \n",
    "    knn_res = pickle.load(file)\n",
    "\n",
    "with open('../data/processed/knn_imb_bag_res.pkl', 'rb') as file: \n",
    "    knn_imb_bag_res = pickle.load(file)\n",
    "\n",
    "with open('../data/processed/knn_bal_und_bag_res.pkl', 'rb') as file: \n",
    "    knn_bal_und_bag_res = pickle.load(file)\n",
    "\n",
    "with open('../data/processed/knn_bal_ovr_bag_res.pkl', 'rb') as file: \n",
    "    knn_bal_ovr_bag_res = pickle.load(file)\n",
    "\n",
    "knn_accs = {\n",
    "    'Sem bagging': knn_res['accuracies'],\n",
    "    'Com bagging sem balanceamento': knn_imb_bag_res['accuracies'],\n",
    "    'Com bagging com balanceamento undersampling aleatório': knn_bal_und_bag_res['accuracies'],\n",
    "    'Com bagging com balanceamento oversampling': knn_bal_ovr_bag_res['accuracies'],\n",
    "}\n",
    "\n",
    "plot_accuracies(knn_accs)"
   ]
  },
  {
   "cell_type": "markdown",
   "metadata": {},
   "source": [
    "### Testes das premissas para escolha adequada do teste"
   ]
  },
  {
   "cell_type": "markdown",
   "metadata": {},
   "source": [
    "#### Teste de normalidade"
   ]
  },
  {
   "cell_type": "markdown",
   "metadata": {},
   "source": [
    "Para a escolha do teste que será aplicado, faz-se necessário primeiramente a verificação da normalidade das amostras. Dito isto, vamos realizar o teste de normalidade nos nossos dados. Adotaremos $\\alpha = 5\\%$ para o nosso teste, cujas hipóteses são:\n",
    "* **H0:** as amostras vêm de uma população com distribuição normal\n",
    "* **H1:** as amostras não vêm de uma população com distribuição normal"
   ]
  },
  {
   "cell_type": "code",
   "execution_count": 4,
   "metadata": {},
   "outputs": [
    {
     "name": "stdout",
     "output_type": "stream",
     "text": [
      "Sem bagging: 0.38764332083486225\n",
      "Com bagging sem balanceamento: 0.6765025876702073\n",
      "Com bagging com balanceamento undersampling aleatório: 0.6726101313070068\n",
      "Com bagging com balanceamento oversampling: 0.942241954457596\n"
     ]
    }
   ],
   "source": [
    "for strategy, strategy_accs in knn_accs.items():\n",
    "     norm_test = ss.normaltest(strategy_accs)\n",
    "     p_values = norm_test.pvalue\n",
    "\n",
    "     print(f'{strategy}: {p_values}')"
   ]
  },
  {
   "cell_type": "markdown",
   "metadata": {},
   "source": [
    "A 5% de significância não há evidências estatísticas suficientes para rejeitar a hipótese nula de que elas seguem uma distribuição normal."
   ]
  },
  {
   "cell_type": "markdown",
   "metadata": {},
   "source": [
    "#### Teste de variância"
   ]
  },
  {
   "cell_type": "markdown",
   "metadata": {},
   "source": [
    "Não descartada a hipótese que os dados seguem uma distribuição normal, verifiquemos agora a hipótese de que as amostras advém de populações com variâncias iguais. Dito isto, vamos realizar testes para esta verificação. Adotaremos $\\alpha = 5\\%$ para o nosso teste, cujas hipóteses são:\n",
    "* **H0:** as amostras vêm de uma população com variância igual.\n",
    "* **H1:** as amostras vêm de uma população com variância diferente."
   ]
  },
  {
   "cell_type": "code",
   "execution_count": 5,
   "metadata": {},
   "outputs": [
    {
     "data": {
      "text/plain": [
       "LeveneResult(statistic=np.float64(2.4337591615390712), pvalue=np.float64(0.07136465503782843))"
      ]
     },
     "execution_count": 5,
     "metadata": {},
     "output_type": "execute_result"
    }
   ],
   "source": [
    "# O teste de Levene é robusto contra desvios da normalidade.\n",
    "ss.levene(\n",
    "    knn_accs['Sem bagging'],\n",
    "    knn_accs['Com bagging sem balanceamento'],\n",
    "    knn_accs['Com bagging com balanceamento undersampling aleatório'],\n",
    "    knn_accs['Com bagging com balanceamento oversampling']\n",
    ")"
   ]
  },
  {
   "cell_type": "markdown",
   "metadata": {},
   "source": [
    "A 5% de significância não há evidências estatísticas suficientes para rejeitar a hipótese nula de que as variâncias (e, portanto, os desvios-padrão) são consideradas iguais."
   ]
  },
  {
   "cell_type": "code",
   "execution_count": 6,
   "metadata": {},
   "outputs": [
    {
     "data": {
      "text/plain": [
       "BartlettResult(statistic=np.float64(6.504859906697977), pvalue=np.float64(0.08947103819892134))"
      ]
     },
     "execution_count": 6,
     "metadata": {},
     "output_type": "execute_result"
    }
   ],
   "source": [
    "# O teste de Bartlett é mais sensível a desvios da normalidade.\n",
    "ss.bartlett(\n",
    "    knn_accs['Sem bagging'],\n",
    "    knn_accs['Com bagging sem balanceamento'],\n",
    "    knn_accs['Com bagging com balanceamento undersampling aleatório'],\n",
    "    knn_accs['Com bagging com balanceamento oversampling']\n",
    ")"
   ]
  },
  {
   "cell_type": "markdown",
   "metadata": {},
   "source": [
    "A 5% de significância não há evidências estatísticas suficientes para rejeitar a hipótese nula de que as variâncias (e, portanto, os desvios-padrão) são consideradas iguais."
   ]
  },
  {
   "cell_type": "markdown",
   "metadata": {},
   "source": [
    "### Testes de Hipótese sobre a Média"
   ]
  },
  {
   "cell_type": "markdown",
   "metadata": {},
   "source": [
    "#### Teste T para 2 Amostras"
   ]
  },
  {
   "cell_type": "code",
   "execution_count": 7,
   "metadata": {},
   "outputs": [
    {
     "data": {
      "text/plain": [
       "TtestResult(statistic=np.float64(-0.6410853798835312), pvalue=np.float64(0.26265753633737876), df=np.float64(38.0))"
      ]
     },
     "execution_count": 7,
     "metadata": {},
     "output_type": "execute_result"
    }
   ],
   "source": [
    "ss.ttest_ind(knn_accs['Sem bagging'], knn_accs['Com bagging sem balanceamento'], alternative=\"less\", equal_var=True)"
   ]
  },
  {
   "cell_type": "code",
   "execution_count": 8,
   "metadata": {},
   "outputs": [
    {
     "data": {
      "text/plain": [
       "TtestResult(statistic=np.float64(-0.6410853798835313), pvalue=np.float64(0.2627760416569409), df=np.float64(35.78441069723809))"
      ]
     },
     "execution_count": 8,
     "metadata": {},
     "output_type": "execute_result"
    }
   ],
   "source": [
    "ss.ttest_ind(knn_accs['Sem bagging'], knn_accs['Com bagging sem balanceamento'], alternative=\"less\", equal_var=False)"
   ]
  },
  {
   "cell_type": "code",
   "execution_count": 9,
   "metadata": {},
   "outputs": [
    {
     "data": {
      "text/plain": [
       "MannwhitneyuResult(statistic=np.float64(183.0), pvalue=np.float64(0.3266047935247083))"
      ]
     },
     "execution_count": 9,
     "metadata": {},
     "output_type": "execute_result"
    }
   ],
   "source": [
    "ss.mannwhitneyu(knn_accs['Sem bagging'], knn_accs['Com bagging sem balanceamento'], alternative=\"less\")"
   ]
  },
  {
   "cell_type": "markdown",
   "metadata": {},
   "source": [
    "#### ANOVA"
   ]
  },
  {
   "cell_type": "markdown",
   "metadata": {},
   "source": [
    "Hipóteses\n",
    "* **H0:** os grupos possuem a mesma média populacional\n",
    "* **H1:** os grupos possuem média populacional diferente"
   ]
  },
  {
   "cell_type": "code",
   "execution_count": 10,
   "metadata": {},
   "outputs": [
    {
     "data": {
      "text/plain": [
       "F_onewayResult(statistic=np.float64(11.744627952837524), pvalue=np.float64(2.100959374850116e-06))"
      ]
     },
     "execution_count": 10,
     "metadata": {},
     "output_type": "execute_result"
    }
   ],
   "source": [
    "ss.f_oneway(\n",
    "    knn_accs['Sem bagging'],\n",
    "    knn_accs['Com bagging sem balanceamento'],\n",
    "    knn_accs['Com bagging com balanceamento undersampling aleatório'],\n",
    "    knn_accs['Com bagging com balanceamento oversampling']\n",
    ")"
   ]
  },
  {
   "cell_type": "markdown",
   "metadata": {},
   "source": [
    "A 5% de significância há evidências estatísticas suficientes para rejeitar a hipótese nula de que os grupos possuam média populacional igual."
   ]
  },
  {
   "cell_type": "markdown",
   "metadata": {},
   "source": [
    "#### Kruskal-Wallis"
   ]
  },
  {
   "cell_type": "markdown",
   "metadata": {},
   "source": [
    "Hipóteses\n",
    "* **H0:** os grupos possuem a mesma média populacional\n",
    "* **H1:** os grupos possuem média populacional diferente"
   ]
  },
  {
   "cell_type": "code",
   "execution_count": 11,
   "metadata": {},
   "outputs": [
    {
     "data": {
      "text/plain": [
       "KruskalResult(statistic=np.float64(0.7878610209336043), pvalue=np.float64(0.674400918417219))"
      ]
     },
     "execution_count": 11,
     "metadata": {},
     "output_type": "execute_result"
    }
   ],
   "source": [
    "ss.kruskal(\n",
    "    knn_accs['Sem bagging'],\n",
    "    knn_accs['Com bagging sem balanceamento'],\n",
    "    #knn_accs['Com bagging com balanceamento undersampling aleatório'],\n",
    "    knn_accs['Com bagging com balanceamento oversampling']\n",
    ")"
   ]
  },
  {
   "cell_type": "markdown",
   "metadata": {},
   "source": [
    "A 5% de significância há evidências estatísticas suficientes para rejeitar a hipótese nula de que os grupos possuam média populacional igual."
   ]
  },
  {
   "cell_type": "markdown",
   "metadata": {},
   "source": [
    "## DT"
   ]
  },
  {
   "cell_type": "code",
   "execution_count": 12,
   "metadata": {},
   "outputs": [
    {
     "data": {
      "application/vnd.plotly.v1+json": {
       "config": {
        "plotlyServerURL": "https://plot.ly"
       },
       "data": [
        {
         "name": "Sem bagging",
         "type": "histogram",
         "x": [
          0.953125,
          0.9375,
          0.75,
          0.890625,
          0.921875,
          0.84375,
          0.84375,
          0.9375,
          0.8412698412698413,
          0.8095238095238095,
          0.8412698412698413,
          0.8888888888888888,
          0.873015873015873,
          0.873015873015873,
          0.8571428571428571,
          0.873015873015873,
          0.8888888888888888,
          0.9365079365079365,
          0.8253968253968254,
          0.8412698412698413
         ],
         "xaxis": "x",
         "yaxis": "y"
        },
        {
         "name": "Com bagging sem balanceamento",
         "type": "histogram",
         "x": [
          0.96875,
          0.9375,
          0.8125,
          0.953125,
          0.890625,
          0.859375,
          0.890625,
          0.953125,
          0.9206349206349206,
          0.9047619047619048,
          0.8412698412698413,
          0.9523809523809523,
          0.9047619047619048,
          0.9206349206349206,
          0.9047619047619048,
          0.9365079365079365,
          0.9365079365079365,
          0.9523809523809523,
          0.9206349206349206,
          0.873015873015873
         ],
         "xaxis": "x2",
         "yaxis": "y2"
        },
        {
         "name": "Com bagging com balanceamento undersampling aleatório",
         "type": "histogram",
         "x": [
          0.96875,
          0.90625,
          0.8125,
          0.921875,
          0.921875,
          0.84375,
          0.921875,
          0.96875,
          0.8888888888888888,
          0.873015873015873,
          0.8253968253968254,
          0.9523809523809523,
          0.8412698412698413,
          0.8571428571428571,
          0.873015873015873,
          0.9523809523809523,
          0.9365079365079365,
          0.8888888888888888,
          0.8888888888888888,
          0.8412698412698413
         ],
         "xaxis": "x3",
         "yaxis": "y3"
        },
        {
         "name": "Com bagging com balanceamento oversampling",
         "type": "histogram",
         "x": [
          0.96875,
          0.953125,
          0.828125,
          0.96875,
          0.9375,
          0.90625,
          0.890625,
          0.984375,
          0.9047619047619048,
          0.9047619047619048,
          0.8571428571428571,
          0.9682539682539683,
          0.9047619047619048,
          0.9047619047619048,
          0.9206349206349206,
          0.9523809523809523,
          0.9365079365079365,
          0.9047619047619048,
          0.9206349206349206,
          0.873015873015873
         ],
         "xaxis": "x4",
         "yaxis": "y4"
        }
       ],
       "layout": {
        "annotations": [
         {
          "font": {
           "size": 16
          },
          "showarrow": false,
          "text": "Sem bagging",
          "x": 0.5,
          "xanchor": "center",
          "xref": "paper",
          "y": 1,
          "yanchor": "bottom",
          "yref": "paper"
         },
         {
          "font": {
           "size": 16
          },
          "showarrow": false,
          "text": "Com bagging sem balanceamento",
          "x": 0.5,
          "xanchor": "center",
          "xref": "paper",
          "y": 0.71875,
          "yanchor": "bottom",
          "yref": "paper"
         },
         {
          "font": {
           "size": 16
          },
          "showarrow": false,
          "text": "Com bagging com balanceamento undersampling aleatório",
          "x": 0.5,
          "xanchor": "center",
          "xref": "paper",
          "y": 0.4375,
          "yanchor": "bottom",
          "yref": "paper"
         },
         {
          "font": {
           "size": 16
          },
          "showarrow": false,
          "text": "Com bagging com balanceamento oversampling",
          "x": 0.5,
          "xanchor": "center",
          "xref": "paper",
          "y": 0.15625,
          "yanchor": "bottom",
          "yref": "paper"
         }
        ],
        "autosize": true,
        "barmode": "overlay",
        "height": 800,
        "showlegend": false,
        "template": {
         "data": {
          "bar": [
           {
            "error_x": {
             "color": "#2a3f5f"
            },
            "error_y": {
             "color": "#2a3f5f"
            },
            "marker": {
             "line": {
              "color": "#E5ECF6",
              "width": 0.5
             },
             "pattern": {
              "fillmode": "overlay",
              "size": 10,
              "solidity": 0.2
             }
            },
            "type": "bar"
           }
          ],
          "barpolar": [
           {
            "marker": {
             "line": {
              "color": "#E5ECF6",
              "width": 0.5
             },
             "pattern": {
              "fillmode": "overlay",
              "size": 10,
              "solidity": 0.2
             }
            },
            "type": "barpolar"
           }
          ],
          "carpet": [
           {
            "aaxis": {
             "endlinecolor": "#2a3f5f",
             "gridcolor": "white",
             "linecolor": "white",
             "minorgridcolor": "white",
             "startlinecolor": "#2a3f5f"
            },
            "baxis": {
             "endlinecolor": "#2a3f5f",
             "gridcolor": "white",
             "linecolor": "white",
             "minorgridcolor": "white",
             "startlinecolor": "#2a3f5f"
            },
            "type": "carpet"
           }
          ],
          "choropleth": [
           {
            "colorbar": {
             "outlinewidth": 0,
             "ticks": ""
            },
            "type": "choropleth"
           }
          ],
          "contour": [
           {
            "colorbar": {
             "outlinewidth": 0,
             "ticks": ""
            },
            "colorscale": [
             [
              0,
              "#0d0887"
             ],
             [
              0.1111111111111111,
              "#46039f"
             ],
             [
              0.2222222222222222,
              "#7201a8"
             ],
             [
              0.3333333333333333,
              "#9c179e"
             ],
             [
              0.4444444444444444,
              "#bd3786"
             ],
             [
              0.5555555555555556,
              "#d8576b"
             ],
             [
              0.6666666666666666,
              "#ed7953"
             ],
             [
              0.7777777777777778,
              "#fb9f3a"
             ],
             [
              0.8888888888888888,
              "#fdca26"
             ],
             [
              1,
              "#f0f921"
             ]
            ],
            "type": "contour"
           }
          ],
          "contourcarpet": [
           {
            "colorbar": {
             "outlinewidth": 0,
             "ticks": ""
            },
            "type": "contourcarpet"
           }
          ],
          "heatmap": [
           {
            "colorbar": {
             "outlinewidth": 0,
             "ticks": ""
            },
            "colorscale": [
             [
              0,
              "#0d0887"
             ],
             [
              0.1111111111111111,
              "#46039f"
             ],
             [
              0.2222222222222222,
              "#7201a8"
             ],
             [
              0.3333333333333333,
              "#9c179e"
             ],
             [
              0.4444444444444444,
              "#bd3786"
             ],
             [
              0.5555555555555556,
              "#d8576b"
             ],
             [
              0.6666666666666666,
              "#ed7953"
             ],
             [
              0.7777777777777778,
              "#fb9f3a"
             ],
             [
              0.8888888888888888,
              "#fdca26"
             ],
             [
              1,
              "#f0f921"
             ]
            ],
            "type": "heatmap"
           }
          ],
          "heatmapgl": [
           {
            "colorbar": {
             "outlinewidth": 0,
             "ticks": ""
            },
            "colorscale": [
             [
              0,
              "#0d0887"
             ],
             [
              0.1111111111111111,
              "#46039f"
             ],
             [
              0.2222222222222222,
              "#7201a8"
             ],
             [
              0.3333333333333333,
              "#9c179e"
             ],
             [
              0.4444444444444444,
              "#bd3786"
             ],
             [
              0.5555555555555556,
              "#d8576b"
             ],
             [
              0.6666666666666666,
              "#ed7953"
             ],
             [
              0.7777777777777778,
              "#fb9f3a"
             ],
             [
              0.8888888888888888,
              "#fdca26"
             ],
             [
              1,
              "#f0f921"
             ]
            ],
            "type": "heatmapgl"
           }
          ],
          "histogram": [
           {
            "marker": {
             "pattern": {
              "fillmode": "overlay",
              "size": 10,
              "solidity": 0.2
             }
            },
            "type": "histogram"
           }
          ],
          "histogram2d": [
           {
            "colorbar": {
             "outlinewidth": 0,
             "ticks": ""
            },
            "colorscale": [
             [
              0,
              "#0d0887"
             ],
             [
              0.1111111111111111,
              "#46039f"
             ],
             [
              0.2222222222222222,
              "#7201a8"
             ],
             [
              0.3333333333333333,
              "#9c179e"
             ],
             [
              0.4444444444444444,
              "#bd3786"
             ],
             [
              0.5555555555555556,
              "#d8576b"
             ],
             [
              0.6666666666666666,
              "#ed7953"
             ],
             [
              0.7777777777777778,
              "#fb9f3a"
             ],
             [
              0.8888888888888888,
              "#fdca26"
             ],
             [
              1,
              "#f0f921"
             ]
            ],
            "type": "histogram2d"
           }
          ],
          "histogram2dcontour": [
           {
            "colorbar": {
             "outlinewidth": 0,
             "ticks": ""
            },
            "colorscale": [
             [
              0,
              "#0d0887"
             ],
             [
              0.1111111111111111,
              "#46039f"
             ],
             [
              0.2222222222222222,
              "#7201a8"
             ],
             [
              0.3333333333333333,
              "#9c179e"
             ],
             [
              0.4444444444444444,
              "#bd3786"
             ],
             [
              0.5555555555555556,
              "#d8576b"
             ],
             [
              0.6666666666666666,
              "#ed7953"
             ],
             [
              0.7777777777777778,
              "#fb9f3a"
             ],
             [
              0.8888888888888888,
              "#fdca26"
             ],
             [
              1,
              "#f0f921"
             ]
            ],
            "type": "histogram2dcontour"
           }
          ],
          "mesh3d": [
           {
            "colorbar": {
             "outlinewidth": 0,
             "ticks": ""
            },
            "type": "mesh3d"
           }
          ],
          "parcoords": [
           {
            "line": {
             "colorbar": {
              "outlinewidth": 0,
              "ticks": ""
             }
            },
            "type": "parcoords"
           }
          ],
          "pie": [
           {
            "automargin": true,
            "type": "pie"
           }
          ],
          "scatter": [
           {
            "fillpattern": {
             "fillmode": "overlay",
             "size": 10,
             "solidity": 0.2
            },
            "type": "scatter"
           }
          ],
          "scatter3d": [
           {
            "line": {
             "colorbar": {
              "outlinewidth": 0,
              "ticks": ""
             }
            },
            "marker": {
             "colorbar": {
              "outlinewidth": 0,
              "ticks": ""
             }
            },
            "type": "scatter3d"
           }
          ],
          "scattercarpet": [
           {
            "marker": {
             "colorbar": {
              "outlinewidth": 0,
              "ticks": ""
             }
            },
            "type": "scattercarpet"
           }
          ],
          "scattergeo": [
           {
            "marker": {
             "colorbar": {
              "outlinewidth": 0,
              "ticks": ""
             }
            },
            "type": "scattergeo"
           }
          ],
          "scattergl": [
           {
            "marker": {
             "colorbar": {
              "outlinewidth": 0,
              "ticks": ""
             }
            },
            "type": "scattergl"
           }
          ],
          "scattermapbox": [
           {
            "marker": {
             "colorbar": {
              "outlinewidth": 0,
              "ticks": ""
             }
            },
            "type": "scattermapbox"
           }
          ],
          "scatterpolar": [
           {
            "marker": {
             "colorbar": {
              "outlinewidth": 0,
              "ticks": ""
             }
            },
            "type": "scatterpolar"
           }
          ],
          "scatterpolargl": [
           {
            "marker": {
             "colorbar": {
              "outlinewidth": 0,
              "ticks": ""
             }
            },
            "type": "scatterpolargl"
           }
          ],
          "scatterternary": [
           {
            "marker": {
             "colorbar": {
              "outlinewidth": 0,
              "ticks": ""
             }
            },
            "type": "scatterternary"
           }
          ],
          "surface": [
           {
            "colorbar": {
             "outlinewidth": 0,
             "ticks": ""
            },
            "colorscale": [
             [
              0,
              "#0d0887"
             ],
             [
              0.1111111111111111,
              "#46039f"
             ],
             [
              0.2222222222222222,
              "#7201a8"
             ],
             [
              0.3333333333333333,
              "#9c179e"
             ],
             [
              0.4444444444444444,
              "#bd3786"
             ],
             [
              0.5555555555555556,
              "#d8576b"
             ],
             [
              0.6666666666666666,
              "#ed7953"
             ],
             [
              0.7777777777777778,
              "#fb9f3a"
             ],
             [
              0.8888888888888888,
              "#fdca26"
             ],
             [
              1,
              "#f0f921"
             ]
            ],
            "type": "surface"
           }
          ],
          "table": [
           {
            "cells": {
             "fill": {
              "color": "#EBF0F8"
             },
             "line": {
              "color": "white"
             }
            },
            "header": {
             "fill": {
              "color": "#C8D4E3"
             },
             "line": {
              "color": "white"
             }
            },
            "type": "table"
           }
          ]
         },
         "layout": {
          "annotationdefaults": {
           "arrowcolor": "#2a3f5f",
           "arrowhead": 0,
           "arrowwidth": 1
          },
          "autotypenumbers": "strict",
          "coloraxis": {
           "colorbar": {
            "outlinewidth": 0,
            "ticks": ""
           }
          },
          "colorscale": {
           "diverging": [
            [
             0,
             "#8e0152"
            ],
            [
             0.1,
             "#c51b7d"
            ],
            [
             0.2,
             "#de77ae"
            ],
            [
             0.3,
             "#f1b6da"
            ],
            [
             0.4,
             "#fde0ef"
            ],
            [
             0.5,
             "#f7f7f7"
            ],
            [
             0.6,
             "#e6f5d0"
            ],
            [
             0.7,
             "#b8e186"
            ],
            [
             0.8,
             "#7fbc41"
            ],
            [
             0.9,
             "#4d9221"
            ],
            [
             1,
             "#276419"
            ]
           ],
           "sequential": [
            [
             0,
             "#0d0887"
            ],
            [
             0.1111111111111111,
             "#46039f"
            ],
            [
             0.2222222222222222,
             "#7201a8"
            ],
            [
             0.3333333333333333,
             "#9c179e"
            ],
            [
             0.4444444444444444,
             "#bd3786"
            ],
            [
             0.5555555555555556,
             "#d8576b"
            ],
            [
             0.6666666666666666,
             "#ed7953"
            ],
            [
             0.7777777777777778,
             "#fb9f3a"
            ],
            [
             0.8888888888888888,
             "#fdca26"
            ],
            [
             1,
             "#f0f921"
            ]
           ],
           "sequentialminus": [
            [
             0,
             "#0d0887"
            ],
            [
             0.1111111111111111,
             "#46039f"
            ],
            [
             0.2222222222222222,
             "#7201a8"
            ],
            [
             0.3333333333333333,
             "#9c179e"
            ],
            [
             0.4444444444444444,
             "#bd3786"
            ],
            [
             0.5555555555555556,
             "#d8576b"
            ],
            [
             0.6666666666666666,
             "#ed7953"
            ],
            [
             0.7777777777777778,
             "#fb9f3a"
            ],
            [
             0.8888888888888888,
             "#fdca26"
            ],
            [
             1,
             "#f0f921"
            ]
           ]
          },
          "colorway": [
           "#636efa",
           "#EF553B",
           "#00cc96",
           "#ab63fa",
           "#FFA15A",
           "#19d3f3",
           "#FF6692",
           "#B6E880",
           "#FF97FF",
           "#FECB52"
          ],
          "font": {
           "color": "#2a3f5f"
          },
          "geo": {
           "bgcolor": "white",
           "lakecolor": "white",
           "landcolor": "#E5ECF6",
           "showlakes": true,
           "showland": true,
           "subunitcolor": "white"
          },
          "hoverlabel": {
           "align": "left"
          },
          "hovermode": "closest",
          "mapbox": {
           "style": "light"
          },
          "paper_bgcolor": "white",
          "plot_bgcolor": "#E5ECF6",
          "polar": {
           "angularaxis": {
            "gridcolor": "white",
            "linecolor": "white",
            "ticks": ""
           },
           "bgcolor": "#E5ECF6",
           "radialaxis": {
            "gridcolor": "white",
            "linecolor": "white",
            "ticks": ""
           }
          },
          "scene": {
           "xaxis": {
            "backgroundcolor": "#E5ECF6",
            "gridcolor": "white",
            "gridwidth": 2,
            "linecolor": "white",
            "showbackground": true,
            "ticks": "",
            "zerolinecolor": "white"
           },
           "yaxis": {
            "backgroundcolor": "#E5ECF6",
            "gridcolor": "white",
            "gridwidth": 2,
            "linecolor": "white",
            "showbackground": true,
            "ticks": "",
            "zerolinecolor": "white"
           },
           "zaxis": {
            "backgroundcolor": "#E5ECF6",
            "gridcolor": "white",
            "gridwidth": 2,
            "linecolor": "white",
            "showbackground": true,
            "ticks": "",
            "zerolinecolor": "white"
           }
          },
          "shapedefaults": {
           "line": {
            "color": "#2a3f5f"
           }
          },
          "ternary": {
           "aaxis": {
            "gridcolor": "white",
            "linecolor": "white",
            "ticks": ""
           },
           "baxis": {
            "gridcolor": "white",
            "linecolor": "white",
            "ticks": ""
           },
           "bgcolor": "#E5ECF6",
           "caxis": {
            "gridcolor": "white",
            "linecolor": "white",
            "ticks": ""
           }
          },
          "title": {
           "x": 0.05
          },
          "xaxis": {
           "automargin": true,
           "gridcolor": "white",
           "linecolor": "white",
           "ticks": "",
           "title": {
            "standoff": 15
           },
           "zerolinecolor": "white",
           "zerolinewidth": 2
          },
          "yaxis": {
           "automargin": true,
           "gridcolor": "white",
           "linecolor": "white",
           "ticks": "",
           "title": {
            "standoff": 15
           },
           "zerolinecolor": "white",
           "zerolinewidth": 2
          }
         }
        },
        "title": {
         "text": "Distribuição das Acurácias por abordagem"
        },
        "xaxis": {
         "anchor": "y",
         "domain": [
          0,
          1
         ],
         "matches": "x4",
         "showticklabels": false
        },
        "xaxis2": {
         "anchor": "y2",
         "domain": [
          0,
          1
         ],
         "matches": "x4",
         "showticklabels": false
        },
        "xaxis3": {
         "anchor": "y3",
         "domain": [
          0,
          1
         ],
         "matches": "x4",
         "showticklabels": false
        },
        "xaxis4": {
         "anchor": "y4",
         "domain": [
          0,
          1
         ],
         "title": {
          "text": "Acurácia (%)"
         }
        },
        "yaxis": {
         "anchor": "x",
         "domain": [
          0.84375,
          1
         ],
         "range": [
          0,
          10
         ],
         "title": {
          "text": "Frequência"
         }
        },
        "yaxis2": {
         "anchor": "x2",
         "domain": [
          0.5625,
          0.71875
         ],
         "range": [
          0,
          10
         ],
         "title": {
          "text": "Frequência"
         }
        },
        "yaxis3": {
         "anchor": "x3",
         "domain": [
          0.28125,
          0.4375
         ],
         "range": [
          0,
          10
         ],
         "title": {
          "text": "Frequência"
         }
        },
        "yaxis4": {
         "anchor": "x4",
         "domain": [
          0,
          0.15625
         ],
         "range": [
          0,
          10
         ],
         "title": {
          "text": "Frequência"
         }
        }
       }
      }
     },
     "metadata": {},
     "output_type": "display_data"
    }
   ],
   "source": [
    "with open('../data/processed/dt_res.pkl', 'rb') as file: \n",
    "    dt_res = pickle.load(file)\n",
    "\n",
    "with open('../data/processed/dt_imb_bag_res.pkl', 'rb') as file: \n",
    "    dt_imb_bag_res = pickle.load(file)\n",
    "\n",
    "with open('../data/processed/dt_bal_und_bag_res.pkl', 'rb') as file: \n",
    "    dt_bal_und_bag_res = pickle.load(file)\n",
    "\n",
    "with open('../data/processed/dt_bal_ovr_bag_res.pkl', 'rb') as file: \n",
    "    dt_bal_ovr_bag_res = pickle.load(file)\n",
    "\n",
    "dt_accs = {\n",
    "    'Sem bagging': dt_res['accuracies'],\n",
    "    'Com bagging sem balanceamento': dt_imb_bag_res['accuracies'],\n",
    "    'Com bagging com balanceamento undersampling aleatório': dt_bal_und_bag_res['accuracies'],\n",
    "    'Com bagging com balanceamento oversampling': dt_bal_ovr_bag_res['accuracies'],\n",
    "}\n",
    "\n",
    "plot_accuracies(dt_accs)"
   ]
  },
  {
   "cell_type": "markdown",
   "metadata": {},
   "source": [
    "### Testes das premissas para escolha adequada do teste"
   ]
  },
  {
   "cell_type": "markdown",
   "metadata": {},
   "source": [
    "#### Teste de normalidade"
   ]
  },
  {
   "cell_type": "markdown",
   "metadata": {},
   "source": [
    "Para a escolha do teste que será aplicado, faz-se necessário primeiramente a verificação da normalidade das amostras. Dito isto, vamos realizar o teste de normalidade nos nossos dados. Adotaremos $\\alpha = 5\\%$ para o nosso teste, cujas hipóteses são:\n",
    "* **H0:** as amostras vêm de uma população com distribuição normal\n",
    "* **H1:** as amostras não vêm de uma população com distribuição normal"
   ]
  },
  {
   "cell_type": "code",
   "execution_count": 13,
   "metadata": {},
   "outputs": [
    {
     "name": "stdout",
     "output_type": "stream",
     "text": [
      "Sem bagging: 0.6823828866431272\n",
      "Com bagging sem balanceamento: 0.19873564644806507\n",
      "Com bagging com balanceamento undersampling aleatório: 0.3350656470606593\n",
      "Com bagging com balanceamento oversampling: 0.706813037974168\n"
     ]
    }
   ],
   "source": [
    "for strategy, strategy_accs in dt_accs.items():\n",
    "     norm_test = ss.normaltest(strategy_accs)\n",
    "     p_values = norm_test.pvalue\n",
    "\n",
    "     print(f'{strategy}: {p_values}')"
   ]
  },
  {
   "cell_type": "markdown",
   "metadata": {},
   "source": [
    "A 5% de significância não há evidências estatísticas suficientes para rejeitar a hipótese nula de que elas seguem uma distribuição normal."
   ]
  },
  {
   "cell_type": "markdown",
   "metadata": {},
   "source": [
    "#### Teste de variância"
   ]
  },
  {
   "cell_type": "markdown",
   "metadata": {},
   "source": [
    "Não descartada a hipótese que os dados seguem uma distribuição normal, verifiquemos agora a hipótese de que as amostras advém de populações com variâncias iguais. Dito isto, vamos realizar testes para esta verificação. Adotaremos $\\alpha = 5\\%$ para o nosso teste, cujas hipóteses são:\n",
    "* **H0:** as amostras vêm de uma população com variância igual.\n",
    "* **H1:** as amostras vêm de uma população com variância diferente."
   ]
  },
  {
   "cell_type": "code",
   "execution_count": 14,
   "metadata": {},
   "outputs": [
    {
     "data": {
      "text/plain": [
       "LeveneResult(statistic=np.float64(0.5310702609143292), pvalue=np.float64(0.6623319823410789))"
      ]
     },
     "execution_count": 14,
     "metadata": {},
     "output_type": "execute_result"
    }
   ],
   "source": [
    "# O teste de Levene é robusto contra desvios da normalidade.\n",
    "ss.levene(\n",
    "    dt_accs['Sem bagging'],\n",
    "    dt_accs['Com bagging sem balanceamento'],\n",
    "    dt_accs['Com bagging com balanceamento undersampling aleatório'],\n",
    "    dt_accs['Com bagging com balanceamento oversampling']\n",
    ")"
   ]
  },
  {
   "cell_type": "markdown",
   "metadata": {},
   "source": [
    "A 5% de significância não há evidências estatísticas suficientes para rejeitar a hipótese nula de que as variâncias (e, portanto, os desvios-padrão) são consideradas iguais."
   ]
  },
  {
   "cell_type": "code",
   "execution_count": 15,
   "metadata": {},
   "outputs": [
    {
     "data": {
      "text/plain": [
       "BartlettResult(statistic=np.float64(1.407182388832778), pvalue=np.float64(0.7038520062964166))"
      ]
     },
     "execution_count": 15,
     "metadata": {},
     "output_type": "execute_result"
    }
   ],
   "source": [
    "# O teste de Bartlett é mais sensível a desvios da normalidade.\n",
    "ss.bartlett(\n",
    "    dt_accs['Sem bagging'],\n",
    "    dt_accs['Com bagging sem balanceamento'],\n",
    "    dt_accs['Com bagging com balanceamento undersampling aleatório'],\n",
    "    dt_accs['Com bagging com balanceamento oversampling']\n",
    ")"
   ]
  },
  {
   "cell_type": "markdown",
   "metadata": {},
   "source": [
    "A 5% de significância não há evidências estatísticas suficientes para rejeitar a hipótese nula de que as variâncias (e, portanto, os desvios-padrão) são consideradas iguais."
   ]
  },
  {
   "cell_type": "markdown",
   "metadata": {},
   "source": [
    "### Testes de Hipótese sobre a Média"
   ]
  },
  {
   "cell_type": "markdown",
   "metadata": {},
   "source": [
    "#### Teste T para 2 Amostras"
   ]
  },
  {
   "cell_type": "code",
   "execution_count": 16,
   "metadata": {},
   "outputs": [
    {
     "data": {
      "text/plain": [
       "TtestResult(statistic=np.float64(-3.3359758471062566), pvalue=np.float64(0.0009541188969529036), df=np.float64(38.0))"
      ]
     },
     "execution_count": 16,
     "metadata": {},
     "output_type": "execute_result"
    }
   ],
   "source": [
    "ss.ttest_ind(dt_accs['Sem bagging'], dt_accs['Com bagging com balanceamento oversampling'], alternative=\"less\", equal_var=True)"
   ]
  },
  {
   "cell_type": "code",
   "execution_count": 17,
   "metadata": {},
   "outputs": [
    {
     "data": {
      "text/plain": [
       "TtestResult(statistic=np.float64(-3.3359758471062566), pvalue=np.float64(0.0009867325636060448), df=np.float64(36.21217149774423))"
      ]
     },
     "execution_count": 17,
     "metadata": {},
     "output_type": "execute_result"
    }
   ],
   "source": [
    "ss.ttest_ind(dt_accs['Sem bagging'], dt_accs['Com bagging com balanceamento oversampling'], alternative=\"less\", equal_var=False)"
   ]
  },
  {
   "cell_type": "code",
   "execution_count": 18,
   "metadata": {},
   "outputs": [
    {
     "data": {
      "text/plain": [
       "MannwhitneyuResult(statistic=np.float64(90.5), pvalue=np.float64(0.0015641462718274956))"
      ]
     },
     "execution_count": 18,
     "metadata": {},
     "output_type": "execute_result"
    }
   ],
   "source": [
    "ss.mannwhitneyu(dt_accs['Sem bagging'], dt_accs['Com bagging com balanceamento oversampling'], alternative=\"less\")"
   ]
  },
  {
   "cell_type": "markdown",
   "metadata": {},
   "source": [
    "#### ANOVA"
   ]
  },
  {
   "cell_type": "markdown",
   "metadata": {},
   "source": [
    "Hipóteses\n",
    "* **H0:** os grupos possuem a mesma média populacional\n",
    "* **H1:** os grupos possuem média populacional diferente"
   ]
  },
  {
   "cell_type": "code",
   "execution_count": 19,
   "metadata": {},
   "outputs": [
    {
     "data": {
      "text/plain": [
       "F_onewayResult(statistic=np.float64(4.460223677162361), pvalue=np.float64(0.006118339323982459))"
      ]
     },
     "execution_count": 19,
     "metadata": {},
     "output_type": "execute_result"
    }
   ],
   "source": [
    "ss.f_oneway(\n",
    "    dt_accs['Sem bagging'],\n",
    "    dt_accs['Com bagging sem balanceamento'],\n",
    "    dt_accs['Com bagging com balanceamento undersampling aleatório'],\n",
    "    dt_accs['Com bagging com balanceamento oversampling']\n",
    ")"
   ]
  },
  {
   "cell_type": "markdown",
   "metadata": {},
   "source": [
    "A 5% de significância há evidências estatísticas suficientes para rejeitar a hipótese nula de que os grupos possuam média populacional igual."
   ]
  },
  {
   "cell_type": "markdown",
   "metadata": {},
   "source": [
    "#### Kruskal-Wallis"
   ]
  },
  {
   "cell_type": "markdown",
   "metadata": {},
   "source": [
    "Hipóteses\n",
    "* **H0:** os grupos possuem a mesma média populacional\n",
    "* **H1:** os grupos possuem média populacional diferente"
   ]
  },
  {
   "cell_type": "code",
   "execution_count": 20,
   "metadata": {},
   "outputs": [
    {
     "data": {
      "text/plain": [
       "KruskalResult(statistic=np.float64(10.522752782549395), pvalue=np.float64(0.014607343591262308))"
      ]
     },
     "execution_count": 20,
     "metadata": {},
     "output_type": "execute_result"
    }
   ],
   "source": [
    "ss.kruskal(\n",
    "    dt_accs['Sem bagging'],\n",
    "    dt_accs['Com bagging sem balanceamento'],\n",
    "    dt_accs['Com bagging com balanceamento undersampling aleatório'],\n",
    "    dt_accs['Com bagging com balanceamento oversampling']\n",
    ")"
   ]
  },
  {
   "cell_type": "markdown",
   "metadata": {},
   "source": [
    "A 5% de significância há evidências estatísticas suficientes para rejeitar a hipótese nula de que os grupos possuam média populacional igual."
   ]
  },
  {
   "cell_type": "markdown",
   "metadata": {},
   "source": [
    "## SVM"
   ]
  },
  {
   "cell_type": "code",
   "execution_count": 21,
   "metadata": {},
   "outputs": [
    {
     "data": {
      "application/vnd.plotly.v1+json": {
       "config": {
        "plotlyServerURL": "https://plot.ly"
       },
       "data": [
        {
         "name": "Sem bagging",
         "type": "histogram",
         "x": [
          0.890625,
          0.9375,
          0.859375,
          0.90625,
          0.875,
          0.875,
          0.890625,
          0.984375,
          0.8888888888888888,
          0.8571428571428571,
          0.873015873015873,
          0.9047619047619048,
          0.9365079365079365,
          0.9365079365079365,
          0.9047619047619048,
          0.9365079365079365,
          0.9047619047619048,
          0.9047619047619048,
          0.9206349206349206,
          0.9206349206349206
         ],
         "xaxis": "x",
         "yaxis": "y"
        },
        {
         "name": "Com bagging sem balanceamento",
         "type": "histogram",
         "x": [
          0.921875,
          0.9375,
          0.859375,
          0.90625,
          0.890625,
          0.890625,
          0.890625,
          0.96875,
          0.9047619047619048,
          0.873015873015873,
          0.9047619047619048,
          0.9047619047619048,
          0.9365079365079365,
          0.9365079365079365,
          0.9206349206349206,
          0.9206349206349206,
          0.9206349206349206,
          0.8888888888888888,
          0.9365079365079365,
          0.9206349206349206
         ],
         "xaxis": "x2",
         "yaxis": "y2"
        },
        {
         "name": "Com bagging com balanceamento undersampling aleatório",
         "type": "histogram",
         "x": [
          0.921875,
          0.890625,
          0.859375,
          0.859375,
          0.859375,
          0.828125,
          0.890625,
          0.9375,
          0.8412698412698413,
          0.8095238095238095,
          0.8253968253968254,
          0.9365079365079365,
          0.8888888888888888,
          0.9047619047619048,
          0.8412698412698413,
          0.9047619047619048,
          0.9206349206349206,
          0.8888888888888888,
          0.8571428571428571,
          0.8095238095238095
         ],
         "xaxis": "x3",
         "yaxis": "y3"
        },
        {
         "name": "Com bagging com balanceamento oversampling",
         "type": "histogram",
         "x": [
          0.953125,
          0.9375,
          0.84375,
          0.890625,
          0.890625,
          0.859375,
          0.90625,
          0.984375,
          0.9047619047619048,
          0.8412698412698413,
          0.8571428571428571,
          0.9047619047619048,
          0.9206349206349206,
          0.9365079365079365,
          0.8888888888888888,
          0.9523809523809523,
          0.9047619047619048,
          0.9206349206349206,
          0.9365079365079365,
          0.8888888888888888
         ],
         "xaxis": "x4",
         "yaxis": "y4"
        }
       ],
       "layout": {
        "annotations": [
         {
          "font": {
           "size": 16
          },
          "showarrow": false,
          "text": "Sem bagging",
          "x": 0.5,
          "xanchor": "center",
          "xref": "paper",
          "y": 1,
          "yanchor": "bottom",
          "yref": "paper"
         },
         {
          "font": {
           "size": 16
          },
          "showarrow": false,
          "text": "Com bagging sem balanceamento",
          "x": 0.5,
          "xanchor": "center",
          "xref": "paper",
          "y": 0.71875,
          "yanchor": "bottom",
          "yref": "paper"
         },
         {
          "font": {
           "size": 16
          },
          "showarrow": false,
          "text": "Com bagging com balanceamento undersampling aleatório",
          "x": 0.5,
          "xanchor": "center",
          "xref": "paper",
          "y": 0.4375,
          "yanchor": "bottom",
          "yref": "paper"
         },
         {
          "font": {
           "size": 16
          },
          "showarrow": false,
          "text": "Com bagging com balanceamento oversampling",
          "x": 0.5,
          "xanchor": "center",
          "xref": "paper",
          "y": 0.15625,
          "yanchor": "bottom",
          "yref": "paper"
         }
        ],
        "autosize": true,
        "barmode": "overlay",
        "height": 800,
        "showlegend": false,
        "template": {
         "data": {
          "bar": [
           {
            "error_x": {
             "color": "#2a3f5f"
            },
            "error_y": {
             "color": "#2a3f5f"
            },
            "marker": {
             "line": {
              "color": "#E5ECF6",
              "width": 0.5
             },
             "pattern": {
              "fillmode": "overlay",
              "size": 10,
              "solidity": 0.2
             }
            },
            "type": "bar"
           }
          ],
          "barpolar": [
           {
            "marker": {
             "line": {
              "color": "#E5ECF6",
              "width": 0.5
             },
             "pattern": {
              "fillmode": "overlay",
              "size": 10,
              "solidity": 0.2
             }
            },
            "type": "barpolar"
           }
          ],
          "carpet": [
           {
            "aaxis": {
             "endlinecolor": "#2a3f5f",
             "gridcolor": "white",
             "linecolor": "white",
             "minorgridcolor": "white",
             "startlinecolor": "#2a3f5f"
            },
            "baxis": {
             "endlinecolor": "#2a3f5f",
             "gridcolor": "white",
             "linecolor": "white",
             "minorgridcolor": "white",
             "startlinecolor": "#2a3f5f"
            },
            "type": "carpet"
           }
          ],
          "choropleth": [
           {
            "colorbar": {
             "outlinewidth": 0,
             "ticks": ""
            },
            "type": "choropleth"
           }
          ],
          "contour": [
           {
            "colorbar": {
             "outlinewidth": 0,
             "ticks": ""
            },
            "colorscale": [
             [
              0,
              "#0d0887"
             ],
             [
              0.1111111111111111,
              "#46039f"
             ],
             [
              0.2222222222222222,
              "#7201a8"
             ],
             [
              0.3333333333333333,
              "#9c179e"
             ],
             [
              0.4444444444444444,
              "#bd3786"
             ],
             [
              0.5555555555555556,
              "#d8576b"
             ],
             [
              0.6666666666666666,
              "#ed7953"
             ],
             [
              0.7777777777777778,
              "#fb9f3a"
             ],
             [
              0.8888888888888888,
              "#fdca26"
             ],
             [
              1,
              "#f0f921"
             ]
            ],
            "type": "contour"
           }
          ],
          "contourcarpet": [
           {
            "colorbar": {
             "outlinewidth": 0,
             "ticks": ""
            },
            "type": "contourcarpet"
           }
          ],
          "heatmap": [
           {
            "colorbar": {
             "outlinewidth": 0,
             "ticks": ""
            },
            "colorscale": [
             [
              0,
              "#0d0887"
             ],
             [
              0.1111111111111111,
              "#46039f"
             ],
             [
              0.2222222222222222,
              "#7201a8"
             ],
             [
              0.3333333333333333,
              "#9c179e"
             ],
             [
              0.4444444444444444,
              "#bd3786"
             ],
             [
              0.5555555555555556,
              "#d8576b"
             ],
             [
              0.6666666666666666,
              "#ed7953"
             ],
             [
              0.7777777777777778,
              "#fb9f3a"
             ],
             [
              0.8888888888888888,
              "#fdca26"
             ],
             [
              1,
              "#f0f921"
             ]
            ],
            "type": "heatmap"
           }
          ],
          "heatmapgl": [
           {
            "colorbar": {
             "outlinewidth": 0,
             "ticks": ""
            },
            "colorscale": [
             [
              0,
              "#0d0887"
             ],
             [
              0.1111111111111111,
              "#46039f"
             ],
             [
              0.2222222222222222,
              "#7201a8"
             ],
             [
              0.3333333333333333,
              "#9c179e"
             ],
             [
              0.4444444444444444,
              "#bd3786"
             ],
             [
              0.5555555555555556,
              "#d8576b"
             ],
             [
              0.6666666666666666,
              "#ed7953"
             ],
             [
              0.7777777777777778,
              "#fb9f3a"
             ],
             [
              0.8888888888888888,
              "#fdca26"
             ],
             [
              1,
              "#f0f921"
             ]
            ],
            "type": "heatmapgl"
           }
          ],
          "histogram": [
           {
            "marker": {
             "pattern": {
              "fillmode": "overlay",
              "size": 10,
              "solidity": 0.2
             }
            },
            "type": "histogram"
           }
          ],
          "histogram2d": [
           {
            "colorbar": {
             "outlinewidth": 0,
             "ticks": ""
            },
            "colorscale": [
             [
              0,
              "#0d0887"
             ],
             [
              0.1111111111111111,
              "#46039f"
             ],
             [
              0.2222222222222222,
              "#7201a8"
             ],
             [
              0.3333333333333333,
              "#9c179e"
             ],
             [
              0.4444444444444444,
              "#bd3786"
             ],
             [
              0.5555555555555556,
              "#d8576b"
             ],
             [
              0.6666666666666666,
              "#ed7953"
             ],
             [
              0.7777777777777778,
              "#fb9f3a"
             ],
             [
              0.8888888888888888,
              "#fdca26"
             ],
             [
              1,
              "#f0f921"
             ]
            ],
            "type": "histogram2d"
           }
          ],
          "histogram2dcontour": [
           {
            "colorbar": {
             "outlinewidth": 0,
             "ticks": ""
            },
            "colorscale": [
             [
              0,
              "#0d0887"
             ],
             [
              0.1111111111111111,
              "#46039f"
             ],
             [
              0.2222222222222222,
              "#7201a8"
             ],
             [
              0.3333333333333333,
              "#9c179e"
             ],
             [
              0.4444444444444444,
              "#bd3786"
             ],
             [
              0.5555555555555556,
              "#d8576b"
             ],
             [
              0.6666666666666666,
              "#ed7953"
             ],
             [
              0.7777777777777778,
              "#fb9f3a"
             ],
             [
              0.8888888888888888,
              "#fdca26"
             ],
             [
              1,
              "#f0f921"
             ]
            ],
            "type": "histogram2dcontour"
           }
          ],
          "mesh3d": [
           {
            "colorbar": {
             "outlinewidth": 0,
             "ticks": ""
            },
            "type": "mesh3d"
           }
          ],
          "parcoords": [
           {
            "line": {
             "colorbar": {
              "outlinewidth": 0,
              "ticks": ""
             }
            },
            "type": "parcoords"
           }
          ],
          "pie": [
           {
            "automargin": true,
            "type": "pie"
           }
          ],
          "scatter": [
           {
            "fillpattern": {
             "fillmode": "overlay",
             "size": 10,
             "solidity": 0.2
            },
            "type": "scatter"
           }
          ],
          "scatter3d": [
           {
            "line": {
             "colorbar": {
              "outlinewidth": 0,
              "ticks": ""
             }
            },
            "marker": {
             "colorbar": {
              "outlinewidth": 0,
              "ticks": ""
             }
            },
            "type": "scatter3d"
           }
          ],
          "scattercarpet": [
           {
            "marker": {
             "colorbar": {
              "outlinewidth": 0,
              "ticks": ""
             }
            },
            "type": "scattercarpet"
           }
          ],
          "scattergeo": [
           {
            "marker": {
             "colorbar": {
              "outlinewidth": 0,
              "ticks": ""
             }
            },
            "type": "scattergeo"
           }
          ],
          "scattergl": [
           {
            "marker": {
             "colorbar": {
              "outlinewidth": 0,
              "ticks": ""
             }
            },
            "type": "scattergl"
           }
          ],
          "scattermapbox": [
           {
            "marker": {
             "colorbar": {
              "outlinewidth": 0,
              "ticks": ""
             }
            },
            "type": "scattermapbox"
           }
          ],
          "scatterpolar": [
           {
            "marker": {
             "colorbar": {
              "outlinewidth": 0,
              "ticks": ""
             }
            },
            "type": "scatterpolar"
           }
          ],
          "scatterpolargl": [
           {
            "marker": {
             "colorbar": {
              "outlinewidth": 0,
              "ticks": ""
             }
            },
            "type": "scatterpolargl"
           }
          ],
          "scatterternary": [
           {
            "marker": {
             "colorbar": {
              "outlinewidth": 0,
              "ticks": ""
             }
            },
            "type": "scatterternary"
           }
          ],
          "surface": [
           {
            "colorbar": {
             "outlinewidth": 0,
             "ticks": ""
            },
            "colorscale": [
             [
              0,
              "#0d0887"
             ],
             [
              0.1111111111111111,
              "#46039f"
             ],
             [
              0.2222222222222222,
              "#7201a8"
             ],
             [
              0.3333333333333333,
              "#9c179e"
             ],
             [
              0.4444444444444444,
              "#bd3786"
             ],
             [
              0.5555555555555556,
              "#d8576b"
             ],
             [
              0.6666666666666666,
              "#ed7953"
             ],
             [
              0.7777777777777778,
              "#fb9f3a"
             ],
             [
              0.8888888888888888,
              "#fdca26"
             ],
             [
              1,
              "#f0f921"
             ]
            ],
            "type": "surface"
           }
          ],
          "table": [
           {
            "cells": {
             "fill": {
              "color": "#EBF0F8"
             },
             "line": {
              "color": "white"
             }
            },
            "header": {
             "fill": {
              "color": "#C8D4E3"
             },
             "line": {
              "color": "white"
             }
            },
            "type": "table"
           }
          ]
         },
         "layout": {
          "annotationdefaults": {
           "arrowcolor": "#2a3f5f",
           "arrowhead": 0,
           "arrowwidth": 1
          },
          "autotypenumbers": "strict",
          "coloraxis": {
           "colorbar": {
            "outlinewidth": 0,
            "ticks": ""
           }
          },
          "colorscale": {
           "diverging": [
            [
             0,
             "#8e0152"
            ],
            [
             0.1,
             "#c51b7d"
            ],
            [
             0.2,
             "#de77ae"
            ],
            [
             0.3,
             "#f1b6da"
            ],
            [
             0.4,
             "#fde0ef"
            ],
            [
             0.5,
             "#f7f7f7"
            ],
            [
             0.6,
             "#e6f5d0"
            ],
            [
             0.7,
             "#b8e186"
            ],
            [
             0.8,
             "#7fbc41"
            ],
            [
             0.9,
             "#4d9221"
            ],
            [
             1,
             "#276419"
            ]
           ],
           "sequential": [
            [
             0,
             "#0d0887"
            ],
            [
             0.1111111111111111,
             "#46039f"
            ],
            [
             0.2222222222222222,
             "#7201a8"
            ],
            [
             0.3333333333333333,
             "#9c179e"
            ],
            [
             0.4444444444444444,
             "#bd3786"
            ],
            [
             0.5555555555555556,
             "#d8576b"
            ],
            [
             0.6666666666666666,
             "#ed7953"
            ],
            [
             0.7777777777777778,
             "#fb9f3a"
            ],
            [
             0.8888888888888888,
             "#fdca26"
            ],
            [
             1,
             "#f0f921"
            ]
           ],
           "sequentialminus": [
            [
             0,
             "#0d0887"
            ],
            [
             0.1111111111111111,
             "#46039f"
            ],
            [
             0.2222222222222222,
             "#7201a8"
            ],
            [
             0.3333333333333333,
             "#9c179e"
            ],
            [
             0.4444444444444444,
             "#bd3786"
            ],
            [
             0.5555555555555556,
             "#d8576b"
            ],
            [
             0.6666666666666666,
             "#ed7953"
            ],
            [
             0.7777777777777778,
             "#fb9f3a"
            ],
            [
             0.8888888888888888,
             "#fdca26"
            ],
            [
             1,
             "#f0f921"
            ]
           ]
          },
          "colorway": [
           "#636efa",
           "#EF553B",
           "#00cc96",
           "#ab63fa",
           "#FFA15A",
           "#19d3f3",
           "#FF6692",
           "#B6E880",
           "#FF97FF",
           "#FECB52"
          ],
          "font": {
           "color": "#2a3f5f"
          },
          "geo": {
           "bgcolor": "white",
           "lakecolor": "white",
           "landcolor": "#E5ECF6",
           "showlakes": true,
           "showland": true,
           "subunitcolor": "white"
          },
          "hoverlabel": {
           "align": "left"
          },
          "hovermode": "closest",
          "mapbox": {
           "style": "light"
          },
          "paper_bgcolor": "white",
          "plot_bgcolor": "#E5ECF6",
          "polar": {
           "angularaxis": {
            "gridcolor": "white",
            "linecolor": "white",
            "ticks": ""
           },
           "bgcolor": "#E5ECF6",
           "radialaxis": {
            "gridcolor": "white",
            "linecolor": "white",
            "ticks": ""
           }
          },
          "scene": {
           "xaxis": {
            "backgroundcolor": "#E5ECF6",
            "gridcolor": "white",
            "gridwidth": 2,
            "linecolor": "white",
            "showbackground": true,
            "ticks": "",
            "zerolinecolor": "white"
           },
           "yaxis": {
            "backgroundcolor": "#E5ECF6",
            "gridcolor": "white",
            "gridwidth": 2,
            "linecolor": "white",
            "showbackground": true,
            "ticks": "",
            "zerolinecolor": "white"
           },
           "zaxis": {
            "backgroundcolor": "#E5ECF6",
            "gridcolor": "white",
            "gridwidth": 2,
            "linecolor": "white",
            "showbackground": true,
            "ticks": "",
            "zerolinecolor": "white"
           }
          },
          "shapedefaults": {
           "line": {
            "color": "#2a3f5f"
           }
          },
          "ternary": {
           "aaxis": {
            "gridcolor": "white",
            "linecolor": "white",
            "ticks": ""
           },
           "baxis": {
            "gridcolor": "white",
            "linecolor": "white",
            "ticks": ""
           },
           "bgcolor": "#E5ECF6",
           "caxis": {
            "gridcolor": "white",
            "linecolor": "white",
            "ticks": ""
           }
          },
          "title": {
           "x": 0.05
          },
          "xaxis": {
           "automargin": true,
           "gridcolor": "white",
           "linecolor": "white",
           "ticks": "",
           "title": {
            "standoff": 15
           },
           "zerolinecolor": "white",
           "zerolinewidth": 2
          },
          "yaxis": {
           "automargin": true,
           "gridcolor": "white",
           "linecolor": "white",
           "ticks": "",
           "title": {
            "standoff": 15
           },
           "zerolinecolor": "white",
           "zerolinewidth": 2
          }
         }
        },
        "title": {
         "text": "Distribuição das Acurácias por abordagem"
        },
        "xaxis": {
         "anchor": "y",
         "domain": [
          0,
          1
         ],
         "matches": "x4",
         "showticklabels": false
        },
        "xaxis2": {
         "anchor": "y2",
         "domain": [
          0,
          1
         ],
         "matches": "x4",
         "showticklabels": false
        },
        "xaxis3": {
         "anchor": "y3",
         "domain": [
          0,
          1
         ],
         "matches": "x4",
         "showticklabels": false
        },
        "xaxis4": {
         "anchor": "y4",
         "domain": [
          0,
          1
         ],
         "title": {
          "text": "Acurácia (%)"
         }
        },
        "yaxis": {
         "anchor": "x",
         "domain": [
          0.84375,
          1
         ],
         "range": [
          0,
          10
         ],
         "title": {
          "text": "Frequência"
         }
        },
        "yaxis2": {
         "anchor": "x2",
         "domain": [
          0.5625,
          0.71875
         ],
         "range": [
          0,
          10
         ],
         "title": {
          "text": "Frequência"
         }
        },
        "yaxis3": {
         "anchor": "x3",
         "domain": [
          0.28125,
          0.4375
         ],
         "range": [
          0,
          10
         ],
         "title": {
          "text": "Frequência"
         }
        },
        "yaxis4": {
         "anchor": "x4",
         "domain": [
          0,
          0.15625
         ],
         "range": [
          0,
          10
         ],
         "title": {
          "text": "Frequência"
         }
        }
       }
      }
     },
     "metadata": {},
     "output_type": "display_data"
    }
   ],
   "source": [
    "with open('../data/processed/svc_res.pkl', 'rb') as file: \n",
    "    svm_res = pickle.load(file)\n",
    "\n",
    "with open('../data/processed/svm_imb_bag_res.pkl', 'rb') as file: \n",
    "    svm_imb_bag_res = pickle.load(file)\n",
    "\n",
    "with open('../data/processed/svm_bal_und_bag_res.pkl', 'rb') as file: \n",
    "    svm_bal_und_bag_res = pickle.load(file)\n",
    "\n",
    "with open('../data/processed/svm_bal_ovr_bag_res.pkl', 'rb') as file: \n",
    "    svm_bal_ovr_bag_res = pickle.load(file)\n",
    "\n",
    "svm_accs = {\n",
    "    'Sem bagging': svm_res['accuracies'],\n",
    "    'Com bagging sem balanceamento': svm_imb_bag_res['accuracies'],\n",
    "    'Com bagging com balanceamento undersampling aleatório': svm_bal_und_bag_res['accuracies'],\n",
    "    'Com bagging com balanceamento oversampling': svm_bal_ovr_bag_res['accuracies'],\n",
    "}\n",
    "\n",
    "plot_accuracies(svm_accs)"
   ]
  },
  {
   "cell_type": "markdown",
   "metadata": {},
   "source": [
    "### Testes das premissas para escolha adequada do teste"
   ]
  },
  {
   "cell_type": "markdown",
   "metadata": {},
   "source": [
    "#### Teste de normalidade"
   ]
  },
  {
   "cell_type": "markdown",
   "metadata": {},
   "source": [
    "Para a escolha do teste que será aplicado, faz-se necessário primeiramente a verificação da normalidade das amostras. Dito isto, vamos realizar o teste de normalidade nos nossos dados. Adotaremos $\\alpha = 5\\%$ para o nosso teste, cujas hipóteses são:\n",
    "* **H0:** as amostras vêm de uma população com distribuição normal\n",
    "* **H1:** as amostras não vêm de uma população com distribuição normal"
   ]
  },
  {
   "cell_type": "code",
   "execution_count": 22,
   "metadata": {},
   "outputs": [
    {
     "name": "stdout",
     "output_type": "stream",
     "text": [
      "Sem bagging: 0.34668409040691095\n",
      "Com bagging sem balanceamento: 0.8626957897516464\n",
      "Com bagging com balanceamento undersampling aleatório: 0.3346715101795784\n",
      "Com bagging com balanceamento oversampling: 0.9886139212569551\n"
     ]
    }
   ],
   "source": [
    "for strategy, strategy_accs in svm_accs.items():\n",
    "     norm_test = ss.normaltest(strategy_accs)\n",
    "     p_values = norm_test.pvalue\n",
    "\n",
    "     print(f'{strategy}: {p_values}')"
   ]
  },
  {
   "cell_type": "markdown",
   "metadata": {},
   "source": [
    "A 5% de significância não há evidências estatísticas suficientes para rejeitar a hipótese nula de que elas seguem uma distribuição normal."
   ]
  },
  {
   "cell_type": "markdown",
   "metadata": {},
   "source": [
    "#### Teste de variância"
   ]
  },
  {
   "cell_type": "markdown",
   "metadata": {},
   "source": [
    "Não descartada a hipótese que os dados seguem uma distribuição normal, verifiquemos agora a hipótese de que as amostras advém de populações com variâncias iguais. Dito isto, vamos realizar testes para esta verificação. Adotaremos $\\alpha = 5\\%$ para o nosso teste, cujas hipóteses são:\n",
    "* **H0:** as amostras vêm de uma população com variância igual.\n",
    "* **H1:** as amostras vêm de uma população com variância diferente."
   ]
  },
  {
   "cell_type": "code",
   "execution_count": 23,
   "metadata": {},
   "outputs": [
    {
     "data": {
      "text/plain": [
       "LeveneResult(statistic=np.float64(2.0845579399890193), pvalue=np.float64(0.10926285401162775))"
      ]
     },
     "execution_count": 23,
     "metadata": {},
     "output_type": "execute_result"
    }
   ],
   "source": [
    "# O teste de Levene é robusto contra desvios da normalidade.\n",
    "ss.levene(\n",
    "    svm_accs['Sem bagging'],\n",
    "    svm_accs['Com bagging sem balanceamento'],\n",
    "    svm_accs['Com bagging com balanceamento undersampling aleatório'],\n",
    "    svm_accs['Com bagging com balanceamento oversampling']\n",
    ")"
   ]
  },
  {
   "cell_type": "markdown",
   "metadata": {},
   "source": [
    "A 5% de significância não há evidências estatísticas suficientes para rejeitar a hipótese nula de que as variâncias (e, portanto, os desvios-padrão) são consideradas iguais."
   ]
  },
  {
   "cell_type": "code",
   "execution_count": 24,
   "metadata": {},
   "outputs": [
    {
     "data": {
      "text/plain": [
       "BartlettResult(statistic=np.float64(4.495126810780289), pvalue=np.float64(0.2127253768152496))"
      ]
     },
     "execution_count": 24,
     "metadata": {},
     "output_type": "execute_result"
    }
   ],
   "source": [
    "# O teste de Bartlett é mais sensível a desvios da normalidade.\n",
    "ss.bartlett(\n",
    "    svm_accs['Sem bagging'],\n",
    "    svm_accs['Com bagging sem balanceamento'],\n",
    "    svm_accs['Com bagging com balanceamento undersampling aleatório'],\n",
    "    svm_accs['Com bagging com balanceamento oversampling']\n",
    ")"
   ]
  },
  {
   "cell_type": "markdown",
   "metadata": {},
   "source": [
    "A 5% de significância não há evidências estatísticas suficientes para rejeitar a hipótese nula de que as variâncias (e, portanto, os desvios-padrão) são consideradas iguais."
   ]
  },
  {
   "cell_type": "markdown",
   "metadata": {},
   "source": [
    "### Testes de Hipótese sobre a Média"
   ]
  },
  {
   "cell_type": "markdown",
   "metadata": {},
   "source": [
    "#### Teste T para 2 Amostras"
   ]
  },
  {
   "cell_type": "code",
   "execution_count": 25,
   "metadata": {},
   "outputs": [
    {
     "data": {
      "text/plain": [
       "TtestResult(statistic=np.float64(-0.06862213556531029), pvalue=np.float64(0.47282511395318527), df=np.float64(38.0))"
      ]
     },
     "execution_count": 25,
     "metadata": {},
     "output_type": "execute_result"
    }
   ],
   "source": [
    "ss.ttest_ind(svm_accs['Sem bagging'], svm_accs['Com bagging com balanceamento oversampling'], alternative=\"less\", equal_var=True)"
   ]
  },
  {
   "cell_type": "code",
   "execution_count": 26,
   "metadata": {},
   "outputs": [
    {
     "data": {
      "text/plain": [
       "TtestResult(statistic=np.float64(-0.06862213556531029), pvalue=np.float64(0.4728316168044153), df=np.float64(36.669740598915794))"
      ]
     },
     "execution_count": 26,
     "metadata": {},
     "output_type": "execute_result"
    }
   ],
   "source": [
    "ss.ttest_ind(svm_accs['Sem bagging'], svm_accs['Com bagging com balanceamento oversampling'], alternative=\"less\", equal_var=False)"
   ]
  },
  {
   "cell_type": "code",
   "execution_count": 27,
   "metadata": {},
   "outputs": [
    {
     "data": {
      "text/plain": [
       "MannwhitneyuResult(statistic=np.float64(193.5), pvalue=np.float64(0.4352145205383054))"
      ]
     },
     "execution_count": 27,
     "metadata": {},
     "output_type": "execute_result"
    }
   ],
   "source": [
    "ss.mannwhitneyu(svm_accs['Sem bagging'], svm_accs['Com bagging com balanceamento oversampling'], alternative=\"less\")"
   ]
  },
  {
   "cell_type": "markdown",
   "metadata": {},
   "source": [
    "#### ANOVA"
   ]
  },
  {
   "cell_type": "markdown",
   "metadata": {},
   "source": [
    "Hipóteses\n",
    "* **H0:** os grupos possuem a mesma média populacional\n",
    "* **H1:** os grupos possuem média populacional diferente"
   ]
  },
  {
   "cell_type": "code",
   "execution_count": 28,
   "metadata": {},
   "outputs": [
    {
     "data": {
      "text/plain": [
       "F_onewayResult(statistic=np.float64(5.017643101163769), pvalue=np.float64(0.0031573138012610117))"
      ]
     },
     "execution_count": 28,
     "metadata": {},
     "output_type": "execute_result"
    }
   ],
   "source": [
    "ss.f_oneway(\n",
    "    svm_accs['Sem bagging'],\n",
    "    svm_accs['Com bagging sem balanceamento'],\n",
    "    svm_accs['Com bagging com balanceamento undersampling aleatório'],\n",
    "    svm_accs['Com bagging com balanceamento oversampling']\n",
    ")"
   ]
  },
  {
   "cell_type": "markdown",
   "metadata": {},
   "source": [
    "A 5% de significância há evidências estatísticas suficientes para rejeitar a hipótese nula de que os grupos possuam média populacional igual."
   ]
  },
  {
   "cell_type": "markdown",
   "metadata": {},
   "source": [
    "#### Kruskal-Wallis"
   ]
  },
  {
   "cell_type": "markdown",
   "metadata": {},
   "source": [
    "Hipóteses\n",
    "* **H0:** os grupos possuem a mesma média populacional\n",
    "* **H1:** os grupos possuem média populacional diferente"
   ]
  },
  {
   "cell_type": "code",
   "execution_count": 29,
   "metadata": {},
   "outputs": [
    {
     "data": {
      "text/plain": [
       "KruskalResult(statistic=np.float64(10.296751480899102), pvalue=np.float64(0.01620497564848509))"
      ]
     },
     "execution_count": 29,
     "metadata": {},
     "output_type": "execute_result"
    }
   ],
   "source": [
    "ss.kruskal(\n",
    "    svm_accs['Sem bagging'],\n",
    "    svm_accs['Com bagging sem balanceamento'],\n",
    "    svm_accs['Com bagging com balanceamento undersampling aleatório'],\n",
    "    svm_accs['Com bagging com balanceamento oversampling']\n",
    ")"
   ]
  },
  {
   "cell_type": "markdown",
   "metadata": {},
   "source": [
    "A 5% de significância há evidências estatísticas suficientes para rejeitar a hipótese nula de que os grupos possuam média populacional igual."
   ]
  }
 ],
 "metadata": {
  "kernelspec": {
   "display_name": "Python 3",
   "language": "python",
   "name": "python3"
  },
  "language_info": {
   "codemirror_mode": {
    "name": "ipython",
    "version": 3
   },
   "file_extension": ".py",
   "mimetype": "text/x-python",
   "name": "python",
   "nbconvert_exporter": "python",
   "pygments_lexer": "ipython3",
   "version": "3.12.5"
  }
 },
 "nbformat": 4,
 "nbformat_minor": 2
}
