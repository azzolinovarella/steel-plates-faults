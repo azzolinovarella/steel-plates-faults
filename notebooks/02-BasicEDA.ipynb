{
 "cells": [
  {
   "cell_type": "markdown",
   "id": "89660e94-a1a1-4dca-a4cb-ac323b45098a",
   "metadata": {},
   "source": [
    "# 02 - Análise Exploratória Básica\n",
    "\n",
    "Neste notebook, busca-se realizar uma análise exploratória básica dos dados para auxiliar no treinamento dos modelos."
   ]
  },
  {
   "cell_type": "markdown",
   "id": "03b40438-8600-4790-86f4-b33aa712b519",
   "metadata": {},
   "source": [
    "## Importações"
   ]
  },
  {
   "cell_type": "code",
   "execution_count": 41,
   "id": "f4ee63bc-22af-48e0-8722-b3edb7a2fd39",
   "metadata": {},
   "outputs": [],
   "source": [
    "import pickle\n",
    "import numpy as np\n",
    "import pandas as pd\n",
    "import plotly.graph_objects as go\n",
    "from sklearn.preprocessing import MinMaxScaler, StandardScaler\n",
    "from sklearn.metrics.pairwise import euclidean_distances, cosine_similarity"
   ]
  },
  {
   "cell_type": "markdown",
   "id": "d2732db4-ce79-4dc7-8cfd-34dbf746fbe4",
   "metadata": {},
   "source": [
    "## Constantes e Sets"
   ]
  },
  {
   "cell_type": "code",
   "execution_count": 27,
   "id": "6f1aecdb-68f8-4134-9abe-65bb92521d4c",
   "metadata": {},
   "outputs": [],
   "source": [
    "# PALETTE = 'balance'\n",
    "BLUE = '#799FCB'\n",
    "RED = '#F9665E'\n",
    "YELLOW = '#FFEE8C'\n",
    "GREEN = '#90CDC3'\n",
    "\n",
    "pd.set_option('display.max_columns', None)"
   ]
  },
  {
   "cell_type": "markdown",
   "id": "27ad34b3-5a56-4cce-a1d3-2c0f79f40746",
   "metadata": {},
   "source": [
    "## Funções"
   ]
  },
  {
   "cell_type": "code",
   "execution_count": 3,
   "id": "8f1514cc-b499-450d-a70b-495e37e80f29",
   "metadata": {},
   "outputs": [],
   "source": [
    "def generate_colors(num_colors):\n",
    "    colors = px.colors.sample_colorscale(PALETTE, [n/(num_colors - 1) for n in range(num_colors)])\n",
    "    \n",
    "    return colors"
   ]
  },
  {
   "cell_type": "markdown",
   "id": "546ab56c-7483-42c9-9056-ed91aa96d6c3",
   "metadata": {},
   "source": [
    "## Scripts"
   ]
  },
  {
   "cell_type": "markdown",
   "id": "d166e6ec",
   "metadata": {},
   "source": [
    "### Leitura"
   ]
  },
  {
   "cell_type": "markdown",
   "id": "1c69b3b0",
   "metadata": {},
   "source": [
    "#### Base de dados"
   ]
  },
  {
   "cell_type": "markdown",
   "id": "903befce",
   "metadata": {},
   "source": [
    "Como primeiro passo vamos realizar a leitura dos dados pré-tratados anteriormente."
   ]
  },
  {
   "cell_type": "code",
   "execution_count": 10,
   "id": "092457dc",
   "metadata": {},
   "outputs": [
    {
     "data": {
      "text/html": [
       "<div>\n",
       "<style scoped>\n",
       "    .dataframe tbody tr th:only-of-type {\n",
       "        vertical-align: middle;\n",
       "    }\n",
       "\n",
       "    .dataframe tbody tr th {\n",
       "        vertical-align: top;\n",
       "    }\n",
       "\n",
       "    .dataframe thead th {\n",
       "        text-align: right;\n",
       "    }\n",
       "</style>\n",
       "<table border=\"1\" class=\"dataframe\">\n",
       "  <thead>\n",
       "    <tr style=\"text-align: right;\">\n",
       "      <th></th>\n",
       "      <th>X_Minimum</th>\n",
       "      <th>X_Maximum</th>\n",
       "      <th>Y_Minimum</th>\n",
       "      <th>Y_Maximum</th>\n",
       "      <th>Pixels_Areas</th>\n",
       "      <th>X_Perimeter</th>\n",
       "      <th>Y_Perimeter</th>\n",
       "      <th>Sum_of_Luminosity</th>\n",
       "      <th>Minimum_of_Luminosity</th>\n",
       "      <th>Maximum_of_Luminosity</th>\n",
       "      <th>Length_of_Conveyer</th>\n",
       "      <th>TypeOfSteel_A300</th>\n",
       "      <th>TypeOfSteel_A400</th>\n",
       "      <th>Steel_Plate_Thickness</th>\n",
       "      <th>Edges_Index</th>\n",
       "      <th>Empty_Index</th>\n",
       "      <th>Square_Index</th>\n",
       "      <th>Outside_X_Index</th>\n",
       "      <th>Edges_X_Index</th>\n",
       "      <th>Edges_Y_Index</th>\n",
       "      <th>Outside_Global_Index</th>\n",
       "      <th>LogOfAreas</th>\n",
       "      <th>Log_X_Index</th>\n",
       "      <th>Log_Y_Index</th>\n",
       "      <th>Orientation_Index</th>\n",
       "      <th>Luminosity_Index</th>\n",
       "      <th>SigmoidOfAreas</th>\n",
       "      <th>Target</th>\n",
       "    </tr>\n",
       "  </thead>\n",
       "  <tbody>\n",
       "    <tr>\n",
       "      <th>0</th>\n",
       "      <td>42.0</td>\n",
       "      <td>50.0</td>\n",
       "      <td>270900.0</td>\n",
       "      <td>270944.0</td>\n",
       "      <td>267.0</td>\n",
       "      <td>17.0</td>\n",
       "      <td>44.0</td>\n",
       "      <td>24220.0</td>\n",
       "      <td>76.0</td>\n",
       "      <td>108.0</td>\n",
       "      <td>1687.0</td>\n",
       "      <td>1.0</td>\n",
       "      <td>0.0</td>\n",
       "      <td>80.0</td>\n",
       "      <td>0.0498</td>\n",
       "      <td>0.2415</td>\n",
       "      <td>0.1818</td>\n",
       "      <td>0.0047</td>\n",
       "      <td>0.4706</td>\n",
       "      <td>1.0000</td>\n",
       "      <td>1.0</td>\n",
       "      <td>2.4265</td>\n",
       "      <td>0.9031</td>\n",
       "      <td>1.6435</td>\n",
       "      <td>0.8182</td>\n",
       "      <td>-0.2913</td>\n",
       "      <td>0.5822</td>\n",
       "      <td>0</td>\n",
       "    </tr>\n",
       "    <tr>\n",
       "      <th>1</th>\n",
       "      <td>645.0</td>\n",
       "      <td>651.0</td>\n",
       "      <td>2538079.0</td>\n",
       "      <td>2538108.0</td>\n",
       "      <td>108.0</td>\n",
       "      <td>10.0</td>\n",
       "      <td>30.0</td>\n",
       "      <td>11397.0</td>\n",
       "      <td>84.0</td>\n",
       "      <td>123.0</td>\n",
       "      <td>1687.0</td>\n",
       "      <td>1.0</td>\n",
       "      <td>0.0</td>\n",
       "      <td>80.0</td>\n",
       "      <td>0.7647</td>\n",
       "      <td>0.3793</td>\n",
       "      <td>0.2069</td>\n",
       "      <td>0.0036</td>\n",
       "      <td>0.6000</td>\n",
       "      <td>0.9667</td>\n",
       "      <td>1.0</td>\n",
       "      <td>2.0334</td>\n",
       "      <td>0.7782</td>\n",
       "      <td>1.4624</td>\n",
       "      <td>0.7931</td>\n",
       "      <td>-0.1756</td>\n",
       "      <td>0.2984</td>\n",
       "      <td>0</td>\n",
       "    </tr>\n",
       "    <tr>\n",
       "      <th>2</th>\n",
       "      <td>829.0</td>\n",
       "      <td>835.0</td>\n",
       "      <td>1553913.0</td>\n",
       "      <td>1553931.0</td>\n",
       "      <td>71.0</td>\n",
       "      <td>8.0</td>\n",
       "      <td>19.0</td>\n",
       "      <td>7972.0</td>\n",
       "      <td>99.0</td>\n",
       "      <td>125.0</td>\n",
       "      <td>1623.0</td>\n",
       "      <td>1.0</td>\n",
       "      <td>0.0</td>\n",
       "      <td>100.0</td>\n",
       "      <td>0.9710</td>\n",
       "      <td>0.3426</td>\n",
       "      <td>0.3333</td>\n",
       "      <td>0.0037</td>\n",
       "      <td>0.7500</td>\n",
       "      <td>0.9474</td>\n",
       "      <td>1.0</td>\n",
       "      <td>1.8513</td>\n",
       "      <td>0.7782</td>\n",
       "      <td>1.2553</td>\n",
       "      <td>0.6667</td>\n",
       "      <td>-0.1228</td>\n",
       "      <td>0.2150</td>\n",
       "      <td>0</td>\n",
       "    </tr>\n",
       "    <tr>\n",
       "      <th>3</th>\n",
       "      <td>853.0</td>\n",
       "      <td>860.0</td>\n",
       "      <td>369370.0</td>\n",
       "      <td>369415.0</td>\n",
       "      <td>176.0</td>\n",
       "      <td>13.0</td>\n",
       "      <td>45.0</td>\n",
       "      <td>18996.0</td>\n",
       "      <td>99.0</td>\n",
       "      <td>126.0</td>\n",
       "      <td>1353.0</td>\n",
       "      <td>0.0</td>\n",
       "      <td>1.0</td>\n",
       "      <td>290.0</td>\n",
       "      <td>0.7287</td>\n",
       "      <td>0.4413</td>\n",
       "      <td>0.1556</td>\n",
       "      <td>0.0052</td>\n",
       "      <td>0.5385</td>\n",
       "      <td>1.0000</td>\n",
       "      <td>1.0</td>\n",
       "      <td>2.2455</td>\n",
       "      <td>0.8451</td>\n",
       "      <td>1.6532</td>\n",
       "      <td>0.8444</td>\n",
       "      <td>-0.1568</td>\n",
       "      <td>0.5212</td>\n",
       "      <td>0</td>\n",
       "    </tr>\n",
       "    <tr>\n",
       "      <th>4</th>\n",
       "      <td>1289.0</td>\n",
       "      <td>1306.0</td>\n",
       "      <td>498078.0</td>\n",
       "      <td>498335.0</td>\n",
       "      <td>2409.0</td>\n",
       "      <td>60.0</td>\n",
       "      <td>260.0</td>\n",
       "      <td>246930.0</td>\n",
       "      <td>37.0</td>\n",
       "      <td>126.0</td>\n",
       "      <td>1353.0</td>\n",
       "      <td>0.0</td>\n",
       "      <td>1.0</td>\n",
       "      <td>185.0</td>\n",
       "      <td>0.0695</td>\n",
       "      <td>0.4486</td>\n",
       "      <td>0.0662</td>\n",
       "      <td>0.0126</td>\n",
       "      <td>0.2833</td>\n",
       "      <td>0.9885</td>\n",
       "      <td>1.0</td>\n",
       "      <td>3.3818</td>\n",
       "      <td>1.2305</td>\n",
       "      <td>2.4099</td>\n",
       "      <td>0.9338</td>\n",
       "      <td>-0.1992</td>\n",
       "      <td>1.0000</td>\n",
       "      <td>0</td>\n",
       "    </tr>\n",
       "    <tr>\n",
       "      <th>...</th>\n",
       "      <td>...</td>\n",
       "      <td>...</td>\n",
       "      <td>...</td>\n",
       "      <td>...</td>\n",
       "      <td>...</td>\n",
       "      <td>...</td>\n",
       "      <td>...</td>\n",
       "      <td>...</td>\n",
       "      <td>...</td>\n",
       "      <td>...</td>\n",
       "      <td>...</td>\n",
       "      <td>...</td>\n",
       "      <td>...</td>\n",
       "      <td>...</td>\n",
       "      <td>...</td>\n",
       "      <td>...</td>\n",
       "      <td>...</td>\n",
       "      <td>...</td>\n",
       "      <td>...</td>\n",
       "      <td>...</td>\n",
       "      <td>...</td>\n",
       "      <td>...</td>\n",
       "      <td>...</td>\n",
       "      <td>...</td>\n",
       "      <td>...</td>\n",
       "      <td>...</td>\n",
       "      <td>...</td>\n",
       "      <td>...</td>\n",
       "    </tr>\n",
       "    <tr>\n",
       "      <th>1263</th>\n",
       "      <td>221.0</td>\n",
       "      <td>242.0</td>\n",
       "      <td>3948212.0</td>\n",
       "      <td>3948253.0</td>\n",
       "      <td>519.0</td>\n",
       "      <td>33.0</td>\n",
       "      <td>41.0</td>\n",
       "      <td>48309.0</td>\n",
       "      <td>65.0</td>\n",
       "      <td>124.0</td>\n",
       "      <td>1360.0</td>\n",
       "      <td>1.0</td>\n",
       "      <td>0.0</td>\n",
       "      <td>200.0</td>\n",
       "      <td>0.3250</td>\n",
       "      <td>0.3972</td>\n",
       "      <td>0.5122</td>\n",
       "      <td>0.0154</td>\n",
       "      <td>0.6364</td>\n",
       "      <td>1.0000</td>\n",
       "      <td>1.0</td>\n",
       "      <td>2.7152</td>\n",
       "      <td>1.3222</td>\n",
       "      <td>1.6128</td>\n",
       "      <td>0.4878</td>\n",
       "      <td>-0.2728</td>\n",
       "      <td>0.9765</td>\n",
       "      <td>5</td>\n",
       "    </tr>\n",
       "    <tr>\n",
       "      <th>1264</th>\n",
       "      <td>1111.0</td>\n",
       "      <td>1121.0</td>\n",
       "      <td>4032298.0</td>\n",
       "      <td>4032320.0</td>\n",
       "      <td>110.0</td>\n",
       "      <td>20.0</td>\n",
       "      <td>22.0</td>\n",
       "      <td>12351.0</td>\n",
       "      <td>100.0</td>\n",
       "      <td>127.0</td>\n",
       "      <td>1354.0</td>\n",
       "      <td>1.0</td>\n",
       "      <td>0.0</td>\n",
       "      <td>200.0</td>\n",
       "      <td>0.3442</td>\n",
       "      <td>0.5000</td>\n",
       "      <td>0.4545</td>\n",
       "      <td>0.0074</td>\n",
       "      <td>0.5000</td>\n",
       "      <td>1.0000</td>\n",
       "      <td>1.0</td>\n",
       "      <td>2.0414</td>\n",
       "      <td>1.0000</td>\n",
       "      <td>1.3424</td>\n",
       "      <td>0.5454</td>\n",
       "      <td>-0.1228</td>\n",
       "      <td>0.3663</td>\n",
       "      <td>5</td>\n",
       "    </tr>\n",
       "    <tr>\n",
       "      <th>1265</th>\n",
       "      <td>995.0</td>\n",
       "      <td>1006.0</td>\n",
       "      <td>4085316.0</td>\n",
       "      <td>4085344.0</td>\n",
       "      <td>140.0</td>\n",
       "      <td>25.0</td>\n",
       "      <td>28.0</td>\n",
       "      <td>16076.0</td>\n",
       "      <td>103.0</td>\n",
       "      <td>132.0</td>\n",
       "      <td>1356.0</td>\n",
       "      <td>1.0</td>\n",
       "      <td>0.0</td>\n",
       "      <td>200.0</td>\n",
       "      <td>0.5162</td>\n",
       "      <td>0.5454</td>\n",
       "      <td>0.3929</td>\n",
       "      <td>0.0081</td>\n",
       "      <td>0.4400</td>\n",
       "      <td>1.0000</td>\n",
       "      <td>1.0</td>\n",
       "      <td>2.1461</td>\n",
       "      <td>1.0414</td>\n",
       "      <td>1.4472</td>\n",
       "      <td>0.6071</td>\n",
       "      <td>-0.1029</td>\n",
       "      <td>0.5096</td>\n",
       "      <td>5</td>\n",
       "    </tr>\n",
       "    <tr>\n",
       "      <th>1266</th>\n",
       "      <td>396.0</td>\n",
       "      <td>418.0</td>\n",
       "      <td>4116853.0</td>\n",
       "      <td>4116868.0</td>\n",
       "      <td>231.0</td>\n",
       "      <td>26.0</td>\n",
       "      <td>16.0</td>\n",
       "      <td>25096.0</td>\n",
       "      <td>56.0</td>\n",
       "      <td>141.0</td>\n",
       "      <td>1356.0</td>\n",
       "      <td>1.0</td>\n",
       "      <td>0.0</td>\n",
       "      <td>200.0</td>\n",
       "      <td>0.5841</td>\n",
       "      <td>0.3000</td>\n",
       "      <td>0.6818</td>\n",
       "      <td>0.0162</td>\n",
       "      <td>0.8461</td>\n",
       "      <td>0.9375</td>\n",
       "      <td>0.0</td>\n",
       "      <td>2.3636</td>\n",
       "      <td>1.3424</td>\n",
       "      <td>1.1761</td>\n",
       "      <td>-0.3182</td>\n",
       "      <td>-0.1512</td>\n",
       "      <td>0.5461</td>\n",
       "      <td>5</td>\n",
       "    </tr>\n",
       "    <tr>\n",
       "      <th>1267</th>\n",
       "      <td>604.0</td>\n",
       "      <td>646.0</td>\n",
       "      <td>4441757.0</td>\n",
       "      <td>4441811.0</td>\n",
       "      <td>1035.0</td>\n",
       "      <td>67.0</td>\n",
       "      <td>55.0</td>\n",
       "      <td>97966.0</td>\n",
       "      <td>46.0</td>\n",
       "      <td>125.0</td>\n",
       "      <td>1356.0</td>\n",
       "      <td>1.0</td>\n",
       "      <td>0.0</td>\n",
       "      <td>200.0</td>\n",
       "      <td>0.8909</td>\n",
       "      <td>0.5436</td>\n",
       "      <td>0.7778</td>\n",
       "      <td>0.0310</td>\n",
       "      <td>0.6269</td>\n",
       "      <td>0.9818</td>\n",
       "      <td>1.0</td>\n",
       "      <td>3.0149</td>\n",
       "      <td>1.6233</td>\n",
       "      <td>1.7324</td>\n",
       "      <td>0.2222</td>\n",
       "      <td>-0.2605</td>\n",
       "      <td>1.0000</td>\n",
       "      <td>5</td>\n",
       "    </tr>\n",
       "  </tbody>\n",
       "</table>\n",
       "<p>1268 rows × 28 columns</p>\n",
       "</div>"
      ],
      "text/plain": [
       "      X_Minimum  X_Maximum  Y_Minimum  Y_Maximum  Pixels_Areas  X_Perimeter  \\\n",
       "0          42.0       50.0   270900.0   270944.0         267.0         17.0   \n",
       "1         645.0      651.0  2538079.0  2538108.0         108.0         10.0   \n",
       "2         829.0      835.0  1553913.0  1553931.0          71.0          8.0   \n",
       "3         853.0      860.0   369370.0   369415.0         176.0         13.0   \n",
       "4        1289.0     1306.0   498078.0   498335.0        2409.0         60.0   \n",
       "...         ...        ...        ...        ...           ...          ...   \n",
       "1263      221.0      242.0  3948212.0  3948253.0         519.0         33.0   \n",
       "1264     1111.0     1121.0  4032298.0  4032320.0         110.0         20.0   \n",
       "1265      995.0     1006.0  4085316.0  4085344.0         140.0         25.0   \n",
       "1266      396.0      418.0  4116853.0  4116868.0         231.0         26.0   \n",
       "1267      604.0      646.0  4441757.0  4441811.0        1035.0         67.0   \n",
       "\n",
       "      Y_Perimeter  Sum_of_Luminosity  Minimum_of_Luminosity  \\\n",
       "0            44.0            24220.0                   76.0   \n",
       "1            30.0            11397.0                   84.0   \n",
       "2            19.0             7972.0                   99.0   \n",
       "3            45.0            18996.0                   99.0   \n",
       "4           260.0           246930.0                   37.0   \n",
       "...           ...                ...                    ...   \n",
       "1263         41.0            48309.0                   65.0   \n",
       "1264         22.0            12351.0                  100.0   \n",
       "1265         28.0            16076.0                  103.0   \n",
       "1266         16.0            25096.0                   56.0   \n",
       "1267         55.0            97966.0                   46.0   \n",
       "\n",
       "      Maximum_of_Luminosity  Length_of_Conveyer  TypeOfSteel_A300  \\\n",
       "0                     108.0              1687.0               1.0   \n",
       "1                     123.0              1687.0               1.0   \n",
       "2                     125.0              1623.0               1.0   \n",
       "3                     126.0              1353.0               0.0   \n",
       "4                     126.0              1353.0               0.0   \n",
       "...                     ...                 ...               ...   \n",
       "1263                  124.0              1360.0               1.0   \n",
       "1264                  127.0              1354.0               1.0   \n",
       "1265                  132.0              1356.0               1.0   \n",
       "1266                  141.0              1356.0               1.0   \n",
       "1267                  125.0              1356.0               1.0   \n",
       "\n",
       "      TypeOfSteel_A400  Steel_Plate_Thickness  Edges_Index  Empty_Index  \\\n",
       "0                  0.0                   80.0       0.0498       0.2415   \n",
       "1                  0.0                   80.0       0.7647       0.3793   \n",
       "2                  0.0                  100.0       0.9710       0.3426   \n",
       "3                  1.0                  290.0       0.7287       0.4413   \n",
       "4                  1.0                  185.0       0.0695       0.4486   \n",
       "...                ...                    ...          ...          ...   \n",
       "1263               0.0                  200.0       0.3250       0.3972   \n",
       "1264               0.0                  200.0       0.3442       0.5000   \n",
       "1265               0.0                  200.0       0.5162       0.5454   \n",
       "1266               0.0                  200.0       0.5841       0.3000   \n",
       "1267               0.0                  200.0       0.8909       0.5436   \n",
       "\n",
       "      Square_Index  Outside_X_Index  Edges_X_Index  Edges_Y_Index  \\\n",
       "0           0.1818           0.0047         0.4706         1.0000   \n",
       "1           0.2069           0.0036         0.6000         0.9667   \n",
       "2           0.3333           0.0037         0.7500         0.9474   \n",
       "3           0.1556           0.0052         0.5385         1.0000   \n",
       "4           0.0662           0.0126         0.2833         0.9885   \n",
       "...            ...              ...            ...            ...   \n",
       "1263        0.5122           0.0154         0.6364         1.0000   \n",
       "1264        0.4545           0.0074         0.5000         1.0000   \n",
       "1265        0.3929           0.0081         0.4400         1.0000   \n",
       "1266        0.6818           0.0162         0.8461         0.9375   \n",
       "1267        0.7778           0.0310         0.6269         0.9818   \n",
       "\n",
       "      Outside_Global_Index  LogOfAreas  Log_X_Index  Log_Y_Index  \\\n",
       "0                      1.0      2.4265       0.9031       1.6435   \n",
       "1                      1.0      2.0334       0.7782       1.4624   \n",
       "2                      1.0      1.8513       0.7782       1.2553   \n",
       "3                      1.0      2.2455       0.8451       1.6532   \n",
       "4                      1.0      3.3818       1.2305       2.4099   \n",
       "...                    ...         ...          ...          ...   \n",
       "1263                   1.0      2.7152       1.3222       1.6128   \n",
       "1264                   1.0      2.0414       1.0000       1.3424   \n",
       "1265                   1.0      2.1461       1.0414       1.4472   \n",
       "1266                   0.0      2.3636       1.3424       1.1761   \n",
       "1267                   1.0      3.0149       1.6233       1.7324   \n",
       "\n",
       "      Orientation_Index  Luminosity_Index  SigmoidOfAreas  Target  \n",
       "0                0.8182           -0.2913          0.5822       0  \n",
       "1                0.7931           -0.1756          0.2984       0  \n",
       "2                0.6667           -0.1228          0.2150       0  \n",
       "3                0.8444           -0.1568          0.5212       0  \n",
       "4                0.9338           -0.1992          1.0000       0  \n",
       "...                 ...               ...             ...     ...  \n",
       "1263             0.4878           -0.2728          0.9765       5  \n",
       "1264             0.5454           -0.1228          0.3663       5  \n",
       "1265             0.6071           -0.1029          0.5096       5  \n",
       "1266            -0.3182           -0.1512          0.5461       5  \n",
       "1267             0.2222           -0.2605          1.0000       5  \n",
       "\n",
       "[1268 rows x 28 columns]"
      ]
     },
     "execution_count": 10,
     "metadata": {},
     "output_type": "execute_result"
    }
   ],
   "source": [
    "df = pd.read_pickle('../data/processed/steel-plates-fault.pkl')\n",
    "df"
   ]
  },
  {
   "cell_type": "markdown",
   "id": "714adbef",
   "metadata": {},
   "source": [
    "#### Mapa dos targets"
   ]
  },
  {
   "cell_type": "markdown",
   "id": "f949dd85",
   "metadata": {},
   "source": [
    "Em seguida, iremos realizar a importação do mapa dos targets. Isto irá facilitar na leitura dos gráficos e validação do problema:"
   ]
  },
  {
   "cell_type": "code",
   "execution_count": 8,
   "id": "4d095308",
   "metadata": {},
   "outputs": [
    {
     "data": {
      "text/plain": [
       "{0: 'Pastry',\n",
       " 1: 'Z_Scratch',\n",
       " 2: 'K_Scatch',\n",
       " 3: 'Stains',\n",
       " 4: 'Dirtiness',\n",
       " 5: 'Bumps',\n",
       " 6: 'Other_Faults'}"
      ]
     },
     "execution_count": 8,
     "metadata": {},
     "output_type": "execute_result"
    }
   ],
   "source": [
    "with open('../data/processed/target_maps.pkl', 'rb') as file: \n",
    "    targets_map = pickle.load(file)\n",
    "\n",
    "targets_map"
   ]
  },
  {
   "cell_type": "markdown",
   "id": "02f8a515-2ebc-4081-b6b3-53a4d149f962",
   "metadata": {},
   "source": [
    "### Análise exploratória"
   ]
  },
  {
   "cell_type": "markdown",
   "id": "29cc754d-4662-4f2f-9a0f-3bbb39eda36d",
   "metadata": {},
   "source": [
    "#### Análise de proporção de classes"
   ]
  },
  {
   "cell_type": "markdown",
   "id": "91e73455-a249-4079-93e3-37ef6472c5a6",
   "metadata": {},
   "source": [
    "Como uma primeira análise, vamos verificar a proporção das classes. Para tal, vamos primeiro observar os valores numéricos e em seguida vamos trazer um gráfico de barras destes valores. Para facilitar, vamos substituir os ids das classes pelos seus valores."
   ]
  },
  {
   "cell_type": "code",
   "execution_count": 12,
   "id": "8ead12c3-5dca-4748-be88-54b0c7084c16",
   "metadata": {},
   "outputs": [
    {
     "data": {
      "text/html": [
       "<div>\n",
       "<style scoped>\n",
       "    .dataframe tbody tr th:only-of-type {\n",
       "        vertical-align: middle;\n",
       "    }\n",
       "\n",
       "    .dataframe tbody tr th {\n",
       "        vertical-align: top;\n",
       "    }\n",
       "\n",
       "    .dataframe thead th {\n",
       "        text-align: right;\n",
       "    }\n",
       "</style>\n",
       "<table border=\"1\" class=\"dataframe\">\n",
       "  <thead>\n",
       "    <tr style=\"text-align: right;\">\n",
       "      <th></th>\n",
       "      <th>X_Minimum</th>\n",
       "      <th>X_Maximum</th>\n",
       "      <th>Y_Minimum</th>\n",
       "      <th>Y_Maximum</th>\n",
       "      <th>Pixels_Areas</th>\n",
       "      <th>X_Perimeter</th>\n",
       "      <th>Y_Perimeter</th>\n",
       "      <th>Sum_of_Luminosity</th>\n",
       "      <th>Minimum_of_Luminosity</th>\n",
       "      <th>Maximum_of_Luminosity</th>\n",
       "      <th>Length_of_Conveyer</th>\n",
       "      <th>TypeOfSteel_A300</th>\n",
       "      <th>TypeOfSteel_A400</th>\n",
       "      <th>Steel_Plate_Thickness</th>\n",
       "      <th>Edges_Index</th>\n",
       "      <th>Empty_Index</th>\n",
       "      <th>Square_Index</th>\n",
       "      <th>Outside_X_Index</th>\n",
       "      <th>Edges_X_Index</th>\n",
       "      <th>Edges_Y_Index</th>\n",
       "      <th>Outside_Global_Index</th>\n",
       "      <th>LogOfAreas</th>\n",
       "      <th>Log_X_Index</th>\n",
       "      <th>Log_Y_Index</th>\n",
       "      <th>Orientation_Index</th>\n",
       "      <th>Luminosity_Index</th>\n",
       "      <th>SigmoidOfAreas</th>\n",
       "      <th>Target</th>\n",
       "    </tr>\n",
       "  </thead>\n",
       "  <tbody>\n",
       "    <tr>\n",
       "      <th>0</th>\n",
       "      <td>42.0</td>\n",
       "      <td>50.0</td>\n",
       "      <td>270900.0</td>\n",
       "      <td>270944.0</td>\n",
       "      <td>267.0</td>\n",
       "      <td>17.0</td>\n",
       "      <td>44.0</td>\n",
       "      <td>24220.0</td>\n",
       "      <td>76.0</td>\n",
       "      <td>108.0</td>\n",
       "      <td>1687.0</td>\n",
       "      <td>1.0</td>\n",
       "      <td>0.0</td>\n",
       "      <td>80.0</td>\n",
       "      <td>0.0498</td>\n",
       "      <td>0.2415</td>\n",
       "      <td>0.1818</td>\n",
       "      <td>0.0047</td>\n",
       "      <td>0.4706</td>\n",
       "      <td>1.0000</td>\n",
       "      <td>1.0</td>\n",
       "      <td>2.4265</td>\n",
       "      <td>0.9031</td>\n",
       "      <td>1.6435</td>\n",
       "      <td>0.8182</td>\n",
       "      <td>-0.2913</td>\n",
       "      <td>0.5822</td>\n",
       "      <td>Pastry</td>\n",
       "    </tr>\n",
       "    <tr>\n",
       "      <th>1</th>\n",
       "      <td>645.0</td>\n",
       "      <td>651.0</td>\n",
       "      <td>2538079.0</td>\n",
       "      <td>2538108.0</td>\n",
       "      <td>108.0</td>\n",
       "      <td>10.0</td>\n",
       "      <td>30.0</td>\n",
       "      <td>11397.0</td>\n",
       "      <td>84.0</td>\n",
       "      <td>123.0</td>\n",
       "      <td>1687.0</td>\n",
       "      <td>1.0</td>\n",
       "      <td>0.0</td>\n",
       "      <td>80.0</td>\n",
       "      <td>0.7647</td>\n",
       "      <td>0.3793</td>\n",
       "      <td>0.2069</td>\n",
       "      <td>0.0036</td>\n",
       "      <td>0.6000</td>\n",
       "      <td>0.9667</td>\n",
       "      <td>1.0</td>\n",
       "      <td>2.0334</td>\n",
       "      <td>0.7782</td>\n",
       "      <td>1.4624</td>\n",
       "      <td>0.7931</td>\n",
       "      <td>-0.1756</td>\n",
       "      <td>0.2984</td>\n",
       "      <td>Pastry</td>\n",
       "    </tr>\n",
       "    <tr>\n",
       "      <th>2</th>\n",
       "      <td>829.0</td>\n",
       "      <td>835.0</td>\n",
       "      <td>1553913.0</td>\n",
       "      <td>1553931.0</td>\n",
       "      <td>71.0</td>\n",
       "      <td>8.0</td>\n",
       "      <td>19.0</td>\n",
       "      <td>7972.0</td>\n",
       "      <td>99.0</td>\n",
       "      <td>125.0</td>\n",
       "      <td>1623.0</td>\n",
       "      <td>1.0</td>\n",
       "      <td>0.0</td>\n",
       "      <td>100.0</td>\n",
       "      <td>0.9710</td>\n",
       "      <td>0.3426</td>\n",
       "      <td>0.3333</td>\n",
       "      <td>0.0037</td>\n",
       "      <td>0.7500</td>\n",
       "      <td>0.9474</td>\n",
       "      <td>1.0</td>\n",
       "      <td>1.8513</td>\n",
       "      <td>0.7782</td>\n",
       "      <td>1.2553</td>\n",
       "      <td>0.6667</td>\n",
       "      <td>-0.1228</td>\n",
       "      <td>0.2150</td>\n",
       "      <td>Pastry</td>\n",
       "    </tr>\n",
       "    <tr>\n",
       "      <th>3</th>\n",
       "      <td>853.0</td>\n",
       "      <td>860.0</td>\n",
       "      <td>369370.0</td>\n",
       "      <td>369415.0</td>\n",
       "      <td>176.0</td>\n",
       "      <td>13.0</td>\n",
       "      <td>45.0</td>\n",
       "      <td>18996.0</td>\n",
       "      <td>99.0</td>\n",
       "      <td>126.0</td>\n",
       "      <td>1353.0</td>\n",
       "      <td>0.0</td>\n",
       "      <td>1.0</td>\n",
       "      <td>290.0</td>\n",
       "      <td>0.7287</td>\n",
       "      <td>0.4413</td>\n",
       "      <td>0.1556</td>\n",
       "      <td>0.0052</td>\n",
       "      <td>0.5385</td>\n",
       "      <td>1.0000</td>\n",
       "      <td>1.0</td>\n",
       "      <td>2.2455</td>\n",
       "      <td>0.8451</td>\n",
       "      <td>1.6532</td>\n",
       "      <td>0.8444</td>\n",
       "      <td>-0.1568</td>\n",
       "      <td>0.5212</td>\n",
       "      <td>Pastry</td>\n",
       "    </tr>\n",
       "    <tr>\n",
       "      <th>4</th>\n",
       "      <td>1289.0</td>\n",
       "      <td>1306.0</td>\n",
       "      <td>498078.0</td>\n",
       "      <td>498335.0</td>\n",
       "      <td>2409.0</td>\n",
       "      <td>60.0</td>\n",
       "      <td>260.0</td>\n",
       "      <td>246930.0</td>\n",
       "      <td>37.0</td>\n",
       "      <td>126.0</td>\n",
       "      <td>1353.0</td>\n",
       "      <td>0.0</td>\n",
       "      <td>1.0</td>\n",
       "      <td>185.0</td>\n",
       "      <td>0.0695</td>\n",
       "      <td>0.4486</td>\n",
       "      <td>0.0662</td>\n",
       "      <td>0.0126</td>\n",
       "      <td>0.2833</td>\n",
       "      <td>0.9885</td>\n",
       "      <td>1.0</td>\n",
       "      <td>3.3818</td>\n",
       "      <td>1.2305</td>\n",
       "      <td>2.4099</td>\n",
       "      <td>0.9338</td>\n",
       "      <td>-0.1992</td>\n",
       "      <td>1.0000</td>\n",
       "      <td>Pastry</td>\n",
       "    </tr>\n",
       "    <tr>\n",
       "      <th>...</th>\n",
       "      <td>...</td>\n",
       "      <td>...</td>\n",
       "      <td>...</td>\n",
       "      <td>...</td>\n",
       "      <td>...</td>\n",
       "      <td>...</td>\n",
       "      <td>...</td>\n",
       "      <td>...</td>\n",
       "      <td>...</td>\n",
       "      <td>...</td>\n",
       "      <td>...</td>\n",
       "      <td>...</td>\n",
       "      <td>...</td>\n",
       "      <td>...</td>\n",
       "      <td>...</td>\n",
       "      <td>...</td>\n",
       "      <td>...</td>\n",
       "      <td>...</td>\n",
       "      <td>...</td>\n",
       "      <td>...</td>\n",
       "      <td>...</td>\n",
       "      <td>...</td>\n",
       "      <td>...</td>\n",
       "      <td>...</td>\n",
       "      <td>...</td>\n",
       "      <td>...</td>\n",
       "      <td>...</td>\n",
       "      <td>...</td>\n",
       "    </tr>\n",
       "    <tr>\n",
       "      <th>1263</th>\n",
       "      <td>221.0</td>\n",
       "      <td>242.0</td>\n",
       "      <td>3948212.0</td>\n",
       "      <td>3948253.0</td>\n",
       "      <td>519.0</td>\n",
       "      <td>33.0</td>\n",
       "      <td>41.0</td>\n",
       "      <td>48309.0</td>\n",
       "      <td>65.0</td>\n",
       "      <td>124.0</td>\n",
       "      <td>1360.0</td>\n",
       "      <td>1.0</td>\n",
       "      <td>0.0</td>\n",
       "      <td>200.0</td>\n",
       "      <td>0.3250</td>\n",
       "      <td>0.3972</td>\n",
       "      <td>0.5122</td>\n",
       "      <td>0.0154</td>\n",
       "      <td>0.6364</td>\n",
       "      <td>1.0000</td>\n",
       "      <td>1.0</td>\n",
       "      <td>2.7152</td>\n",
       "      <td>1.3222</td>\n",
       "      <td>1.6128</td>\n",
       "      <td>0.4878</td>\n",
       "      <td>-0.2728</td>\n",
       "      <td>0.9765</td>\n",
       "      <td>Bumps</td>\n",
       "    </tr>\n",
       "    <tr>\n",
       "      <th>1264</th>\n",
       "      <td>1111.0</td>\n",
       "      <td>1121.0</td>\n",
       "      <td>4032298.0</td>\n",
       "      <td>4032320.0</td>\n",
       "      <td>110.0</td>\n",
       "      <td>20.0</td>\n",
       "      <td>22.0</td>\n",
       "      <td>12351.0</td>\n",
       "      <td>100.0</td>\n",
       "      <td>127.0</td>\n",
       "      <td>1354.0</td>\n",
       "      <td>1.0</td>\n",
       "      <td>0.0</td>\n",
       "      <td>200.0</td>\n",
       "      <td>0.3442</td>\n",
       "      <td>0.5000</td>\n",
       "      <td>0.4545</td>\n",
       "      <td>0.0074</td>\n",
       "      <td>0.5000</td>\n",
       "      <td>1.0000</td>\n",
       "      <td>1.0</td>\n",
       "      <td>2.0414</td>\n",
       "      <td>1.0000</td>\n",
       "      <td>1.3424</td>\n",
       "      <td>0.5454</td>\n",
       "      <td>-0.1228</td>\n",
       "      <td>0.3663</td>\n",
       "      <td>Bumps</td>\n",
       "    </tr>\n",
       "    <tr>\n",
       "      <th>1265</th>\n",
       "      <td>995.0</td>\n",
       "      <td>1006.0</td>\n",
       "      <td>4085316.0</td>\n",
       "      <td>4085344.0</td>\n",
       "      <td>140.0</td>\n",
       "      <td>25.0</td>\n",
       "      <td>28.0</td>\n",
       "      <td>16076.0</td>\n",
       "      <td>103.0</td>\n",
       "      <td>132.0</td>\n",
       "      <td>1356.0</td>\n",
       "      <td>1.0</td>\n",
       "      <td>0.0</td>\n",
       "      <td>200.0</td>\n",
       "      <td>0.5162</td>\n",
       "      <td>0.5454</td>\n",
       "      <td>0.3929</td>\n",
       "      <td>0.0081</td>\n",
       "      <td>0.4400</td>\n",
       "      <td>1.0000</td>\n",
       "      <td>1.0</td>\n",
       "      <td>2.1461</td>\n",
       "      <td>1.0414</td>\n",
       "      <td>1.4472</td>\n",
       "      <td>0.6071</td>\n",
       "      <td>-0.1029</td>\n",
       "      <td>0.5096</td>\n",
       "      <td>Bumps</td>\n",
       "    </tr>\n",
       "    <tr>\n",
       "      <th>1266</th>\n",
       "      <td>396.0</td>\n",
       "      <td>418.0</td>\n",
       "      <td>4116853.0</td>\n",
       "      <td>4116868.0</td>\n",
       "      <td>231.0</td>\n",
       "      <td>26.0</td>\n",
       "      <td>16.0</td>\n",
       "      <td>25096.0</td>\n",
       "      <td>56.0</td>\n",
       "      <td>141.0</td>\n",
       "      <td>1356.0</td>\n",
       "      <td>1.0</td>\n",
       "      <td>0.0</td>\n",
       "      <td>200.0</td>\n",
       "      <td>0.5841</td>\n",
       "      <td>0.3000</td>\n",
       "      <td>0.6818</td>\n",
       "      <td>0.0162</td>\n",
       "      <td>0.8461</td>\n",
       "      <td>0.9375</td>\n",
       "      <td>0.0</td>\n",
       "      <td>2.3636</td>\n",
       "      <td>1.3424</td>\n",
       "      <td>1.1761</td>\n",
       "      <td>-0.3182</td>\n",
       "      <td>-0.1512</td>\n",
       "      <td>0.5461</td>\n",
       "      <td>Bumps</td>\n",
       "    </tr>\n",
       "    <tr>\n",
       "      <th>1267</th>\n",
       "      <td>604.0</td>\n",
       "      <td>646.0</td>\n",
       "      <td>4441757.0</td>\n",
       "      <td>4441811.0</td>\n",
       "      <td>1035.0</td>\n",
       "      <td>67.0</td>\n",
       "      <td>55.0</td>\n",
       "      <td>97966.0</td>\n",
       "      <td>46.0</td>\n",
       "      <td>125.0</td>\n",
       "      <td>1356.0</td>\n",
       "      <td>1.0</td>\n",
       "      <td>0.0</td>\n",
       "      <td>200.0</td>\n",
       "      <td>0.8909</td>\n",
       "      <td>0.5436</td>\n",
       "      <td>0.7778</td>\n",
       "      <td>0.0310</td>\n",
       "      <td>0.6269</td>\n",
       "      <td>0.9818</td>\n",
       "      <td>1.0</td>\n",
       "      <td>3.0149</td>\n",
       "      <td>1.6233</td>\n",
       "      <td>1.7324</td>\n",
       "      <td>0.2222</td>\n",
       "      <td>-0.2605</td>\n",
       "      <td>1.0000</td>\n",
       "      <td>Bumps</td>\n",
       "    </tr>\n",
       "  </tbody>\n",
       "</table>\n",
       "<p>1268 rows × 28 columns</p>\n",
       "</div>"
      ],
      "text/plain": [
       "      X_Minimum  X_Maximum  Y_Minimum  Y_Maximum  Pixels_Areas  X_Perimeter  \\\n",
       "0          42.0       50.0   270900.0   270944.0         267.0         17.0   \n",
       "1         645.0      651.0  2538079.0  2538108.0         108.0         10.0   \n",
       "2         829.0      835.0  1553913.0  1553931.0          71.0          8.0   \n",
       "3         853.0      860.0   369370.0   369415.0         176.0         13.0   \n",
       "4        1289.0     1306.0   498078.0   498335.0        2409.0         60.0   \n",
       "...         ...        ...        ...        ...           ...          ...   \n",
       "1263      221.0      242.0  3948212.0  3948253.0         519.0         33.0   \n",
       "1264     1111.0     1121.0  4032298.0  4032320.0         110.0         20.0   \n",
       "1265      995.0     1006.0  4085316.0  4085344.0         140.0         25.0   \n",
       "1266      396.0      418.0  4116853.0  4116868.0         231.0         26.0   \n",
       "1267      604.0      646.0  4441757.0  4441811.0        1035.0         67.0   \n",
       "\n",
       "      Y_Perimeter  Sum_of_Luminosity  Minimum_of_Luminosity  \\\n",
       "0            44.0            24220.0                   76.0   \n",
       "1            30.0            11397.0                   84.0   \n",
       "2            19.0             7972.0                   99.0   \n",
       "3            45.0            18996.0                   99.0   \n",
       "4           260.0           246930.0                   37.0   \n",
       "...           ...                ...                    ...   \n",
       "1263         41.0            48309.0                   65.0   \n",
       "1264         22.0            12351.0                  100.0   \n",
       "1265         28.0            16076.0                  103.0   \n",
       "1266         16.0            25096.0                   56.0   \n",
       "1267         55.0            97966.0                   46.0   \n",
       "\n",
       "      Maximum_of_Luminosity  Length_of_Conveyer  TypeOfSteel_A300  \\\n",
       "0                     108.0              1687.0               1.0   \n",
       "1                     123.0              1687.0               1.0   \n",
       "2                     125.0              1623.0               1.0   \n",
       "3                     126.0              1353.0               0.0   \n",
       "4                     126.0              1353.0               0.0   \n",
       "...                     ...                 ...               ...   \n",
       "1263                  124.0              1360.0               1.0   \n",
       "1264                  127.0              1354.0               1.0   \n",
       "1265                  132.0              1356.0               1.0   \n",
       "1266                  141.0              1356.0               1.0   \n",
       "1267                  125.0              1356.0               1.0   \n",
       "\n",
       "      TypeOfSteel_A400  Steel_Plate_Thickness  Edges_Index  Empty_Index  \\\n",
       "0                  0.0                   80.0       0.0498       0.2415   \n",
       "1                  0.0                   80.0       0.7647       0.3793   \n",
       "2                  0.0                  100.0       0.9710       0.3426   \n",
       "3                  1.0                  290.0       0.7287       0.4413   \n",
       "4                  1.0                  185.0       0.0695       0.4486   \n",
       "...                ...                    ...          ...          ...   \n",
       "1263               0.0                  200.0       0.3250       0.3972   \n",
       "1264               0.0                  200.0       0.3442       0.5000   \n",
       "1265               0.0                  200.0       0.5162       0.5454   \n",
       "1266               0.0                  200.0       0.5841       0.3000   \n",
       "1267               0.0                  200.0       0.8909       0.5436   \n",
       "\n",
       "      Square_Index  Outside_X_Index  Edges_X_Index  Edges_Y_Index  \\\n",
       "0           0.1818           0.0047         0.4706         1.0000   \n",
       "1           0.2069           0.0036         0.6000         0.9667   \n",
       "2           0.3333           0.0037         0.7500         0.9474   \n",
       "3           0.1556           0.0052         0.5385         1.0000   \n",
       "4           0.0662           0.0126         0.2833         0.9885   \n",
       "...            ...              ...            ...            ...   \n",
       "1263        0.5122           0.0154         0.6364         1.0000   \n",
       "1264        0.4545           0.0074         0.5000         1.0000   \n",
       "1265        0.3929           0.0081         0.4400         1.0000   \n",
       "1266        0.6818           0.0162         0.8461         0.9375   \n",
       "1267        0.7778           0.0310         0.6269         0.9818   \n",
       "\n",
       "      Outside_Global_Index  LogOfAreas  Log_X_Index  Log_Y_Index  \\\n",
       "0                      1.0      2.4265       0.9031       1.6435   \n",
       "1                      1.0      2.0334       0.7782       1.4624   \n",
       "2                      1.0      1.8513       0.7782       1.2553   \n",
       "3                      1.0      2.2455       0.8451       1.6532   \n",
       "4                      1.0      3.3818       1.2305       2.4099   \n",
       "...                    ...         ...          ...          ...   \n",
       "1263                   1.0      2.7152       1.3222       1.6128   \n",
       "1264                   1.0      2.0414       1.0000       1.3424   \n",
       "1265                   1.0      2.1461       1.0414       1.4472   \n",
       "1266                   0.0      2.3636       1.3424       1.1761   \n",
       "1267                   1.0      3.0149       1.6233       1.7324   \n",
       "\n",
       "      Orientation_Index  Luminosity_Index  SigmoidOfAreas  Target  \n",
       "0                0.8182           -0.2913          0.5822  Pastry  \n",
       "1                0.7931           -0.1756          0.2984  Pastry  \n",
       "2                0.6667           -0.1228          0.2150  Pastry  \n",
       "3                0.8444           -0.1568          0.5212  Pastry  \n",
       "4                0.9338           -0.1992          1.0000  Pastry  \n",
       "...                 ...               ...             ...     ...  \n",
       "1263             0.4878           -0.2728          0.9765   Bumps  \n",
       "1264             0.5454           -0.1228          0.3663   Bumps  \n",
       "1265             0.6071           -0.1029          0.5096   Bumps  \n",
       "1266            -0.3182           -0.1512          0.5461   Bumps  \n",
       "1267             0.2222           -0.2605          1.0000   Bumps  \n",
       "\n",
       "[1268 rows x 28 columns]"
      ]
     },
     "execution_count": 12,
     "metadata": {},
     "output_type": "execute_result"
    }
   ],
   "source": [
    "df['Target'] = df['Target'].replace(targets_map)\n",
    "df"
   ]
  },
  {
   "cell_type": "code",
   "execution_count": 22,
   "id": "822cbfd0-934d-4e9b-93b3-41ca21f293d7",
   "metadata": {},
   "outputs": [
    {
     "data": {
      "text/plain": [
       "Target\n",
       "Dirtiness    0.043375\n",
       "Stains       0.056782\n",
       "Pastry       0.124606\n",
       "Z_Scratch    0.149842\n",
       "K_Scatch     0.308360\n",
       "Bumps        0.317035\n",
       "Name: proportion, dtype: float64"
      ]
     },
     "execution_count": 22,
     "metadata": {},
     "output_type": "execute_result"
    }
   ],
   "source": [
    "target_prop = df['Target'].value_counts(ascending=True, normalize=True)\n",
    "target_prop"
   ]
  },
  {
   "cell_type": "code",
   "execution_count": 38,
   "id": "db4b7ba1-678e-4300-a60b-0a73ccb5bc75",
   "metadata": {},
   "outputs": [
    {
     "data": {
      "application/vnd.plotly.v1+json": {
       "config": {
        "plotlyServerURL": "https://plot.ly"
       },
       "data": [
        {
         "marker": {
          "color": [
           4.337539432176656,
           5.678233438485805,
           12.46056782334385,
           14.98422712933754,
           30.83596214511041,
           31.703470031545745
          ],
          "colorscale": [
           [
            0,
            "#F9665E"
           ],
           [
            0.5,
            "#FFEE8C"
           ],
           [
            1,
            "#90CDC3"
           ]
          ]
         },
         "text": [
          "4.34%",
          "5.68%",
          "12.46%",
          "14.98%",
          "30.84%",
          "31.7%"
         ],
         "type": "bar",
         "x": [
          "Dirtiness",
          "Stains",
          "Pastry",
          "Z_Scratch",
          "K_Scatch",
          "Bumps"
         ],
         "y": [
          4.337539432176656,
          5.678233438485805,
          12.46056782334385,
          14.98422712933754,
          30.83596214511041,
          31.703470031545745
         ]
        }
       ],
       "layout": {
        "autosize": true,
        "template": {
         "data": {
          "bar": [
           {
            "error_x": {
             "color": "#2a3f5f"
            },
            "error_y": {
             "color": "#2a3f5f"
            },
            "marker": {
             "line": {
              "color": "#E5ECF6",
              "width": 0.5
             },
             "pattern": {
              "fillmode": "overlay",
              "size": 10,
              "solidity": 0.2
             }
            },
            "type": "bar"
           }
          ],
          "barpolar": [
           {
            "marker": {
             "line": {
              "color": "#E5ECF6",
              "width": 0.5
             },
             "pattern": {
              "fillmode": "overlay",
              "size": 10,
              "solidity": 0.2
             }
            },
            "type": "barpolar"
           }
          ],
          "carpet": [
           {
            "aaxis": {
             "endlinecolor": "#2a3f5f",
             "gridcolor": "white",
             "linecolor": "white",
             "minorgridcolor": "white",
             "startlinecolor": "#2a3f5f"
            },
            "baxis": {
             "endlinecolor": "#2a3f5f",
             "gridcolor": "white",
             "linecolor": "white",
             "minorgridcolor": "white",
             "startlinecolor": "#2a3f5f"
            },
            "type": "carpet"
           }
          ],
          "choropleth": [
           {
            "colorbar": {
             "outlinewidth": 0,
             "ticks": ""
            },
            "type": "choropleth"
           }
          ],
          "contour": [
           {
            "colorbar": {
             "outlinewidth": 0,
             "ticks": ""
            },
            "colorscale": [
             [
              0,
              "#0d0887"
             ],
             [
              0.1111111111111111,
              "#46039f"
             ],
             [
              0.2222222222222222,
              "#7201a8"
             ],
             [
              0.3333333333333333,
              "#9c179e"
             ],
             [
              0.4444444444444444,
              "#bd3786"
             ],
             [
              0.5555555555555556,
              "#d8576b"
             ],
             [
              0.6666666666666666,
              "#ed7953"
             ],
             [
              0.7777777777777778,
              "#fb9f3a"
             ],
             [
              0.8888888888888888,
              "#fdca26"
             ],
             [
              1,
              "#f0f921"
             ]
            ],
            "type": "contour"
           }
          ],
          "contourcarpet": [
           {
            "colorbar": {
             "outlinewidth": 0,
             "ticks": ""
            },
            "type": "contourcarpet"
           }
          ],
          "heatmap": [
           {
            "colorbar": {
             "outlinewidth": 0,
             "ticks": ""
            },
            "colorscale": [
             [
              0,
              "#0d0887"
             ],
             [
              0.1111111111111111,
              "#46039f"
             ],
             [
              0.2222222222222222,
              "#7201a8"
             ],
             [
              0.3333333333333333,
              "#9c179e"
             ],
             [
              0.4444444444444444,
              "#bd3786"
             ],
             [
              0.5555555555555556,
              "#d8576b"
             ],
             [
              0.6666666666666666,
              "#ed7953"
             ],
             [
              0.7777777777777778,
              "#fb9f3a"
             ],
             [
              0.8888888888888888,
              "#fdca26"
             ],
             [
              1,
              "#f0f921"
             ]
            ],
            "type": "heatmap"
           }
          ],
          "heatmapgl": [
           {
            "colorbar": {
             "outlinewidth": 0,
             "ticks": ""
            },
            "colorscale": [
             [
              0,
              "#0d0887"
             ],
             [
              0.1111111111111111,
              "#46039f"
             ],
             [
              0.2222222222222222,
              "#7201a8"
             ],
             [
              0.3333333333333333,
              "#9c179e"
             ],
             [
              0.4444444444444444,
              "#bd3786"
             ],
             [
              0.5555555555555556,
              "#d8576b"
             ],
             [
              0.6666666666666666,
              "#ed7953"
             ],
             [
              0.7777777777777778,
              "#fb9f3a"
             ],
             [
              0.8888888888888888,
              "#fdca26"
             ],
             [
              1,
              "#f0f921"
             ]
            ],
            "type": "heatmapgl"
           }
          ],
          "histogram": [
           {
            "marker": {
             "pattern": {
              "fillmode": "overlay",
              "size": 10,
              "solidity": 0.2
             }
            },
            "type": "histogram"
           }
          ],
          "histogram2d": [
           {
            "colorbar": {
             "outlinewidth": 0,
             "ticks": ""
            },
            "colorscale": [
             [
              0,
              "#0d0887"
             ],
             [
              0.1111111111111111,
              "#46039f"
             ],
             [
              0.2222222222222222,
              "#7201a8"
             ],
             [
              0.3333333333333333,
              "#9c179e"
             ],
             [
              0.4444444444444444,
              "#bd3786"
             ],
             [
              0.5555555555555556,
              "#d8576b"
             ],
             [
              0.6666666666666666,
              "#ed7953"
             ],
             [
              0.7777777777777778,
              "#fb9f3a"
             ],
             [
              0.8888888888888888,
              "#fdca26"
             ],
             [
              1,
              "#f0f921"
             ]
            ],
            "type": "histogram2d"
           }
          ],
          "histogram2dcontour": [
           {
            "colorbar": {
             "outlinewidth": 0,
             "ticks": ""
            },
            "colorscale": [
             [
              0,
              "#0d0887"
             ],
             [
              0.1111111111111111,
              "#46039f"
             ],
             [
              0.2222222222222222,
              "#7201a8"
             ],
             [
              0.3333333333333333,
              "#9c179e"
             ],
             [
              0.4444444444444444,
              "#bd3786"
             ],
             [
              0.5555555555555556,
              "#d8576b"
             ],
             [
              0.6666666666666666,
              "#ed7953"
             ],
             [
              0.7777777777777778,
              "#fb9f3a"
             ],
             [
              0.8888888888888888,
              "#fdca26"
             ],
             [
              1,
              "#f0f921"
             ]
            ],
            "type": "histogram2dcontour"
           }
          ],
          "mesh3d": [
           {
            "colorbar": {
             "outlinewidth": 0,
             "ticks": ""
            },
            "type": "mesh3d"
           }
          ],
          "parcoords": [
           {
            "line": {
             "colorbar": {
              "outlinewidth": 0,
              "ticks": ""
             }
            },
            "type": "parcoords"
           }
          ],
          "pie": [
           {
            "automargin": true,
            "type": "pie"
           }
          ],
          "scatter": [
           {
            "fillpattern": {
             "fillmode": "overlay",
             "size": 10,
             "solidity": 0.2
            },
            "type": "scatter"
           }
          ],
          "scatter3d": [
           {
            "line": {
             "colorbar": {
              "outlinewidth": 0,
              "ticks": ""
             }
            },
            "marker": {
             "colorbar": {
              "outlinewidth": 0,
              "ticks": ""
             }
            },
            "type": "scatter3d"
           }
          ],
          "scattercarpet": [
           {
            "marker": {
             "colorbar": {
              "outlinewidth": 0,
              "ticks": ""
             }
            },
            "type": "scattercarpet"
           }
          ],
          "scattergeo": [
           {
            "marker": {
             "colorbar": {
              "outlinewidth": 0,
              "ticks": ""
             }
            },
            "type": "scattergeo"
           }
          ],
          "scattergl": [
           {
            "marker": {
             "colorbar": {
              "outlinewidth": 0,
              "ticks": ""
             }
            },
            "type": "scattergl"
           }
          ],
          "scattermapbox": [
           {
            "marker": {
             "colorbar": {
              "outlinewidth": 0,
              "ticks": ""
             }
            },
            "type": "scattermapbox"
           }
          ],
          "scatterpolar": [
           {
            "marker": {
             "colorbar": {
              "outlinewidth": 0,
              "ticks": ""
             }
            },
            "type": "scatterpolar"
           }
          ],
          "scatterpolargl": [
           {
            "marker": {
             "colorbar": {
              "outlinewidth": 0,
              "ticks": ""
             }
            },
            "type": "scatterpolargl"
           }
          ],
          "scatterternary": [
           {
            "marker": {
             "colorbar": {
              "outlinewidth": 0,
              "ticks": ""
             }
            },
            "type": "scatterternary"
           }
          ],
          "surface": [
           {
            "colorbar": {
             "outlinewidth": 0,
             "ticks": ""
            },
            "colorscale": [
             [
              0,
              "#0d0887"
             ],
             [
              0.1111111111111111,
              "#46039f"
             ],
             [
              0.2222222222222222,
              "#7201a8"
             ],
             [
              0.3333333333333333,
              "#9c179e"
             ],
             [
              0.4444444444444444,
              "#bd3786"
             ],
             [
              0.5555555555555556,
              "#d8576b"
             ],
             [
              0.6666666666666666,
              "#ed7953"
             ],
             [
              0.7777777777777778,
              "#fb9f3a"
             ],
             [
              0.8888888888888888,
              "#fdca26"
             ],
             [
              1,
              "#f0f921"
             ]
            ],
            "type": "surface"
           }
          ],
          "table": [
           {
            "cells": {
             "fill": {
              "color": "#EBF0F8"
             },
             "line": {
              "color": "white"
             }
            },
            "header": {
             "fill": {
              "color": "#C8D4E3"
             },
             "line": {
              "color": "white"
             }
            },
            "type": "table"
           }
          ]
         },
         "layout": {
          "annotationdefaults": {
           "arrowcolor": "#2a3f5f",
           "arrowhead": 0,
           "arrowwidth": 1
          },
          "autotypenumbers": "strict",
          "coloraxis": {
           "colorbar": {
            "outlinewidth": 0,
            "ticks": ""
           }
          },
          "colorscale": {
           "diverging": [
            [
             0,
             "#8e0152"
            ],
            [
             0.1,
             "#c51b7d"
            ],
            [
             0.2,
             "#de77ae"
            ],
            [
             0.3,
             "#f1b6da"
            ],
            [
             0.4,
             "#fde0ef"
            ],
            [
             0.5,
             "#f7f7f7"
            ],
            [
             0.6,
             "#e6f5d0"
            ],
            [
             0.7,
             "#b8e186"
            ],
            [
             0.8,
             "#7fbc41"
            ],
            [
             0.9,
             "#4d9221"
            ],
            [
             1,
             "#276419"
            ]
           ],
           "sequential": [
            [
             0,
             "#0d0887"
            ],
            [
             0.1111111111111111,
             "#46039f"
            ],
            [
             0.2222222222222222,
             "#7201a8"
            ],
            [
             0.3333333333333333,
             "#9c179e"
            ],
            [
             0.4444444444444444,
             "#bd3786"
            ],
            [
             0.5555555555555556,
             "#d8576b"
            ],
            [
             0.6666666666666666,
             "#ed7953"
            ],
            [
             0.7777777777777778,
             "#fb9f3a"
            ],
            [
             0.8888888888888888,
             "#fdca26"
            ],
            [
             1,
             "#f0f921"
            ]
           ],
           "sequentialminus": [
            [
             0,
             "#0d0887"
            ],
            [
             0.1111111111111111,
             "#46039f"
            ],
            [
             0.2222222222222222,
             "#7201a8"
            ],
            [
             0.3333333333333333,
             "#9c179e"
            ],
            [
             0.4444444444444444,
             "#bd3786"
            ],
            [
             0.5555555555555556,
             "#d8576b"
            ],
            [
             0.6666666666666666,
             "#ed7953"
            ],
            [
             0.7777777777777778,
             "#fb9f3a"
            ],
            [
             0.8888888888888888,
             "#fdca26"
            ],
            [
             1,
             "#f0f921"
            ]
           ]
          },
          "colorway": [
           "#636efa",
           "#EF553B",
           "#00cc96",
           "#ab63fa",
           "#FFA15A",
           "#19d3f3",
           "#FF6692",
           "#B6E880",
           "#FF97FF",
           "#FECB52"
          ],
          "font": {
           "color": "#2a3f5f"
          },
          "geo": {
           "bgcolor": "white",
           "lakecolor": "white",
           "landcolor": "#E5ECF6",
           "showlakes": true,
           "showland": true,
           "subunitcolor": "white"
          },
          "hoverlabel": {
           "align": "left"
          },
          "hovermode": "closest",
          "mapbox": {
           "style": "light"
          },
          "paper_bgcolor": "white",
          "plot_bgcolor": "#E5ECF6",
          "polar": {
           "angularaxis": {
            "gridcolor": "white",
            "linecolor": "white",
            "ticks": ""
           },
           "bgcolor": "#E5ECF6",
           "radialaxis": {
            "gridcolor": "white",
            "linecolor": "white",
            "ticks": ""
           }
          },
          "scene": {
           "xaxis": {
            "backgroundcolor": "#E5ECF6",
            "gridcolor": "white",
            "gridwidth": 2,
            "linecolor": "white",
            "showbackground": true,
            "ticks": "",
            "zerolinecolor": "white"
           },
           "yaxis": {
            "backgroundcolor": "#E5ECF6",
            "gridcolor": "white",
            "gridwidth": 2,
            "linecolor": "white",
            "showbackground": true,
            "ticks": "",
            "zerolinecolor": "white"
           },
           "zaxis": {
            "backgroundcolor": "#E5ECF6",
            "gridcolor": "white",
            "gridwidth": 2,
            "linecolor": "white",
            "showbackground": true,
            "ticks": "",
            "zerolinecolor": "white"
           }
          },
          "shapedefaults": {
           "line": {
            "color": "#2a3f5f"
           }
          },
          "ternary": {
           "aaxis": {
            "gridcolor": "white",
            "linecolor": "white",
            "ticks": ""
           },
           "baxis": {
            "gridcolor": "white",
            "linecolor": "white",
            "ticks": ""
           },
           "bgcolor": "#E5ECF6",
           "caxis": {
            "gridcolor": "white",
            "linecolor": "white",
            "ticks": ""
           }
          },
          "title": {
           "x": 0.05
          },
          "xaxis": {
           "automargin": true,
           "gridcolor": "white",
           "linecolor": "white",
           "ticks": "",
           "title": {
            "standoff": 15
           },
           "zerolinecolor": "white",
           "zerolinewidth": 2
          },
          "yaxis": {
           "automargin": true,
           "gridcolor": "white",
           "linecolor": "white",
           "ticks": "",
           "title": {
            "standoff": 15
           },
           "zerolinecolor": "white",
           "zerolinewidth": 2
          }
         }
        },
        "title": {
         "text": "Proporção das classes na base de dados utilizada"
        },
        "xaxis": {
         "autorange": true,
         "range": [
          -0.5,
          5.5
         ],
         "title": {
          "text": "Classe"
         },
         "type": "category"
        },
        "yaxis": {
         "autorange": true,
         "range": [
          0,
          33.372073717416576
         ],
         "title": {
          "text": "Proporção (%)"
         },
         "type": "linear"
        }
       }
      },
      "image/png": "[encoded data removed]",
      "text/html": [
       "<div>                            <div id=\"cfd994d4-cdfa-4f01-b67c-74b3b18767e1\" class=\"plotly-graph-div\" style=\"height:600px; width:100%;\"></div>            <script type=\"text/javascript\">                require([\"plotly\"], function(Plotly) {                    window.PLOTLYENV=window.PLOTLYENV || {};                                    if (document.getElementById(\"cfd994d4-cdfa-4f01-b67c-74b3b18767e1\")) {                    Plotly.newPlot(                        \"cfd994d4-cdfa-4f01-b67c-74b3b18767e1\",                        [{\"marker\":{\"color\":[4.337539432176656,5.678233438485805,12.46056782334385,14.98422712933754,30.83596214511041,31.703470031545745],\"colorscale\":[[0,\"#F9665E\"],[0.5,\"#FFEE8C\"],[1,\"#90CDC3\"]]},\"text\":[\"4.34%\",\"5.68%\",\"12.46%\",\"14.98%\",\"30.84%\",\"31.7%\"],\"x\":[\"Dirtiness\",\"Stains\",\"Pastry\",\"Z_Scratch\",\"K_Scatch\",\"Bumps\"],\"y\":[4.337539432176656,5.678233438485805,12.46056782334385,14.98422712933754,30.83596214511041,31.703470031545745],\"type\":\"bar\"}],                        {\"template\":{\"data\":{\"histogram2dcontour\":[{\"type\":\"histogram2dcontour\",\"colorbar\":{\"outlinewidth\":0,\"ticks\":\"\"},\"colorscale\":[[0.0,\"#0d0887\"],[0.1111111111111111,\"#46039f\"],[0.2222222222222222,\"#7201a8\"],[0.3333333333333333,\"#9c179e\"],[0.4444444444444444,\"#bd3786\"],[0.5555555555555556,\"#d8576b\"],[0.6666666666666666,\"#ed7953\"],[0.7777777777777778,\"#fb9f3a\"],[0.8888888888888888,\"#fdca26\"],[1.0,\"#f0f921\"]]}],\"choropleth\":[{\"type\":\"choropleth\",\"colorbar\":{\"outlinewidth\":0,\"ticks\":\"\"}}],\"histogram2d\":[{\"type\":\"histogram2d\",\"colorbar\":{\"outlinewidth\":0,\"ticks\":\"\"},\"colorscale\":[[0.0,\"#0d0887\"],[0.1111111111111111,\"#46039f\"],[0.2222222222222222,\"#7201a8\"],[0.3333333333333333,\"#9c179e\"],[0.4444444444444444,\"#bd3786\"],[0.5555555555555556,\"#d8576b\"],[0.6666666666666666,\"#ed7953\"],[0.7777777777777778,\"#fb9f3a\"],[0.8888888888888888,\"#fdca26\"],[1.0,\"#f0f921\"]]}],\"heatmap\":[{\"type\":\"heatmap\",\"colorbar\":{\"outlinewidth\":0,\"ticks\":\"\"},\"colorscale\":[[0.0,\"#0d0887\"],[0.1111111111111111,\"#46039f\"],[0.2222222222222222,\"#7201a8\"],[0.3333333333333333,\"#9c179e\"],[0.4444444444444444,\"#bd3786\"],[0.5555555555555556,\"#d8576b\"],[0.6666666666666666,\"#ed7953\"],[0.7777777777777778,\"#fb9f3a\"],[0.8888888888888888,\"#fdca26\"],[1.0,\"#f0f921\"]]}],\"heatmapgl\":[{\"type\":\"heatmapgl\",\"colorbar\":{\"outlinewidth\":0,\"ticks\":\"\"},\"colorscale\":[[0.0,\"#0d0887\"],[0.1111111111111111,\"#46039f\"],[0.2222222222222222,\"#7201a8\"],[0.3333333333333333,\"#9c179e\"],[0.4444444444444444,\"#bd3786\"],[0.5555555555555556,\"#d8576b\"],[0.6666666666666666,\"#ed7953\"],[0.7777777777777778,\"#fb9f3a\"],[0.8888888888888888,\"#fdca26\"],[1.0,\"#f0f921\"]]}],\"contourcarpet\":[{\"type\":\"contourcarpet\",\"colorbar\":{\"outlinewidth\":0,\"ticks\":\"\"}}],\"contour\":[{\"type\":\"contour\",\"colorbar\":{\"outlinewidth\":0,\"ticks\":\"\"},\"colorscale\":[[0.0,\"#0d0887\"],[0.1111111111111111,\"#46039f\"],[0.2222222222222222,\"#7201a8\"],[0.3333333333333333,\"#9c179e\"],[0.4444444444444444,\"#bd3786\"],[0.5555555555555556,\"#d8576b\"],[0.6666666666666666,\"#ed7953\"],[0.7777777777777778,\"#fb9f3a\"],[0.8888888888888888,\"#fdca26\"],[1.0,\"#f0f921\"]]}],\"surface\":[{\"type\":\"surface\",\"colorbar\":{\"outlinewidth\":0,\"ticks\":\"\"},\"colorscale\":[[0.0,\"#0d0887\"],[0.1111111111111111,\"#46039f\"],[0.2222222222222222,\"#7201a8\"],[0.3333333333333333,\"#9c179e\"],[0.4444444444444444,\"#bd3786\"],[0.5555555555555556,\"#d8576b\"],[0.6666666666666666,\"#ed7953\"],[0.7777777777777778,\"#fb9f3a\"],[0.8888888888888888,\"#fdca26\"],[1.0,\"#f0f921\"]]}],\"mesh3d\":[{\"type\":\"mesh3d\",\"colorbar\":{\"outlinewidth\":0,\"ticks\":\"\"}}],\"scatter\":[{\"fillpattern\":{\"fillmode\":\"overlay\",\"size\":10,\"solidity\":0.2},\"type\":\"scatter\"}],\"parcoords\":[{\"type\":\"parcoords\",\"line\":{\"colorbar\":{\"outlinewidth\":0,\"ticks\":\"\"}}}],\"scatterpolargl\":[{\"type\":\"scatterpolargl\",\"marker\":{\"colorbar\":{\"outlinewidth\":0,\"ticks\":\"\"}}}],\"bar\":[{\"error_x\":{\"color\":\"#2a3f5f\"},\"error_y\":{\"color\":\"#2a3f5f\"},\"marker\":{\"line\":{\"color\":\"#E5ECF6\",\"width\":0.5},\"pattern\":{\"fillmode\":\"overlay\",\"size\":10,\"solidity\":0.2}},\"type\":\"bar\"}],\"scattergeo\":[{\"type\":\"scattergeo\",\"marker\":{\"colorbar\":{\"outlinewidth\":0,\"ticks\":\"\"}}}],\"scatterpolar\":[{\"type\":\"scatterpolar\",\"marker\":{\"colorbar\":{\"outlinewidth\":0,\"ticks\":\"\"}}}],\"histogram\":[{\"marker\":{\"pattern\":{\"fillmode\":\"overlay\",\"size\":10,\"solidity\":0.2}},\"type\":\"histogram\"}],\"scattergl\":[{\"type\":\"scattergl\",\"marker\":{\"colorbar\":{\"outlinewidth\":0,\"ticks\":\"\"}}}],\"scatter3d\":[{\"type\":\"scatter3d\",\"line\":{\"colorbar\":{\"outlinewidth\":0,\"ticks\":\"\"}},\"marker\":{\"colorbar\":{\"outlinewidth\":0,\"ticks\":\"\"}}}],\"scattermapbox\":[{\"type\":\"scattermapbox\",\"marker\":{\"colorbar\":{\"outlinewidth\":0,\"ticks\":\"\"}}}],\"scatterternary\":[{\"type\":\"scatterternary\",\"marker\":{\"colorbar\":{\"outlinewidth\":0,\"ticks\":\"\"}}}],\"scattercarpet\":[{\"type\":\"scattercarpet\",\"marker\":{\"colorbar\":{\"outlinewidth\":0,\"ticks\":\"\"}}}],\"carpet\":[{\"aaxis\":{\"endlinecolor\":\"#2a3f5f\",\"gridcolor\":\"white\",\"linecolor\":\"white\",\"minorgridcolor\":\"white\",\"startlinecolor\":\"#2a3f5f\"},\"baxis\":{\"endlinecolor\":\"#2a3f5f\",\"gridcolor\":\"white\",\"linecolor\":\"white\",\"minorgridcolor\":\"white\",\"startlinecolor\":\"#2a3f5f\"},\"type\":\"carpet\"}],\"table\":[{\"cells\":{\"fill\":{\"color\":\"#EBF0F8\"},\"line\":{\"color\":\"white\"}},\"header\":{\"fill\":{\"color\":\"#C8D4E3\"},\"line\":{\"color\":\"white\"}},\"type\":\"table\"}],\"barpolar\":[{\"marker\":{\"line\":{\"color\":\"#E5ECF6\",\"width\":0.5},\"pattern\":{\"fillmode\":\"overlay\",\"size\":10,\"solidity\":0.2}},\"type\":\"barpolar\"}],\"pie\":[{\"automargin\":true,\"type\":\"pie\"}]},\"layout\":{\"autotypenumbers\":\"strict\",\"colorway\":[\"#636efa\",\"#EF553B\",\"#00cc96\",\"#ab63fa\",\"#FFA15A\",\"#19d3f3\",\"#FF6692\",\"#B6E880\",\"#FF97FF\",\"#FECB52\"],\"font\":{\"color\":\"#2a3f5f\"},\"hovermode\":\"closest\",\"hoverlabel\":{\"align\":\"left\"},\"paper_bgcolor\":\"white\",\"plot_bgcolor\":\"#E5ECF6\",\"polar\":{\"bgcolor\":\"#E5ECF6\",\"angularaxis\":{\"gridcolor\":\"white\",\"linecolor\":\"white\",\"ticks\":\"\"},\"radialaxis\":{\"gridcolor\":\"white\",\"linecolor\":\"white\",\"ticks\":\"\"}},\"ternary\":{\"bgcolor\":\"#E5ECF6\",\"aaxis\":{\"gridcolor\":\"white\",\"linecolor\":\"white\",\"ticks\":\"\"},\"baxis\":{\"gridcolor\":\"white\",\"linecolor\":\"white\",\"ticks\":\"\"},\"caxis\":{\"gridcolor\":\"white\",\"linecolor\":\"white\",\"ticks\":\"\"}},\"coloraxis\":{\"colorbar\":{\"outlinewidth\":0,\"ticks\":\"\"}},\"colorscale\":{\"sequential\":[[0.0,\"#0d0887\"],[0.1111111111111111,\"#46039f\"],[0.2222222222222222,\"#7201a8\"],[0.3333333333333333,\"#9c179e\"],[0.4444444444444444,\"#bd3786\"],[0.5555555555555556,\"#d8576b\"],[0.6666666666666666,\"#ed7953\"],[0.7777777777777778,\"#fb9f3a\"],[0.8888888888888888,\"#fdca26\"],[1.0,\"#f0f921\"]],\"sequentialminus\":[[0.0,\"#0d0887\"],[0.1111111111111111,\"#46039f\"],[0.2222222222222222,\"#7201a8\"],[0.3333333333333333,\"#9c179e\"],[0.4444444444444444,\"#bd3786\"],[0.5555555555555556,\"#d8576b\"],[0.6666666666666666,\"#ed7953\"],[0.7777777777777778,\"#fb9f3a\"],[0.8888888888888888,\"#fdca26\"],[1.0,\"#f0f921\"]],\"diverging\":[[0,\"#8e0152\"],[0.1,\"#c51b7d\"],[0.2,\"#de77ae\"],[0.3,\"#f1b6da\"],[0.4,\"#fde0ef\"],[0.5,\"#f7f7f7\"],[0.6,\"#e6f5d0\"],[0.7,\"#b8e186\"],[0.8,\"#7fbc41\"],[0.9,\"#4d9221\"],[1,\"#276419\"]]},\"xaxis\":{\"gridcolor\":\"white\",\"linecolor\":\"white\",\"ticks\":\"\",\"title\":{\"standoff\":15},\"zerolinecolor\":\"white\",\"automargin\":true,\"zerolinewidth\":2},\"yaxis\":{\"gridcolor\":\"white\",\"linecolor\":\"white\",\"ticks\":\"\",\"title\":{\"standoff\":15},\"zerolinecolor\":\"white\",\"automargin\":true,\"zerolinewidth\":2},\"scene\":{\"xaxis\":{\"backgroundcolor\":\"#E5ECF6\",\"gridcolor\":\"white\",\"linecolor\":\"white\",\"showbackground\":true,\"ticks\":\"\",\"zerolinecolor\":\"white\",\"gridwidth\":2},\"yaxis\":{\"backgroundcolor\":\"#E5ECF6\",\"gridcolor\":\"white\",\"linecolor\":\"white\",\"showbackground\":true,\"ticks\":\"\",\"zerolinecolor\":\"white\",\"gridwidth\":2},\"zaxis\":{\"backgroundcolor\":\"#E5ECF6\",\"gridcolor\":\"white\",\"linecolor\":\"white\",\"showbackground\":true,\"ticks\":\"\",\"zerolinecolor\":\"white\",\"gridwidth\":2}},\"shapedefaults\":{\"line\":{\"color\":\"#2a3f5f\"}},\"annotationdefaults\":{\"arrowcolor\":\"#2a3f5f\",\"arrowhead\":0,\"arrowwidth\":1},\"geo\":{\"bgcolor\":\"white\",\"landcolor\":\"#E5ECF6\",\"subunitcolor\":\"white\",\"showland\":true,\"showlakes\":true,\"lakecolor\":\"white\"},\"title\":{\"x\":0.05},\"mapbox\":{\"style\":\"light\"}}},\"title\":{\"text\":\"Propor\\u00e7\\u00e3o das classes na base de dados utilizada\"},\"yaxis\":{\"title\":{\"text\":\"Propor\\u00e7\\u00e3o (%)\"}},\"xaxis\":{\"title\":{\"text\":\"Classe\"}},\"height\":600},                        {\"responsive\": true}                    ).then(function(){\n",
       "                            \n",
       "var gd = document.getElementById('cfd994d4-cdfa-4f01-b67c-74b3b18767e1');\n",
       "var x = new MutationObserver(function (mutations, observer) {{\n",
       "        var display = window.getComputedStyle(gd).display;\n",
       "        if (!display || display === 'none') {{\n",
       "            console.log([gd, 'removed!']);\n",
       "            Plotly.purge(gd);\n",
       "            observer.disconnect();\n",
       "        }}\n",
       "}});\n",
       "\n",
       "// Listen for the removal of the full notebook cells\n",
       "var notebookContainer = gd.closest('#notebook-container');\n",
       "if (notebookContainer) {{\n",
       "    x.observe(notebookContainer, {childList: true});\n",
       "}}\n",
       "\n",
       "// Listen for the clearing of the current output cell\n",
       "var outputEl = gd.closest('.output');\n",
       "if (outputEl) {{\n",
       "    x.observe(outputEl, {childList: true});\n",
       "}}\n",
       "\n",
       "                        })                };                });            </script>        </div>"
      ]
     },
     "metadata": {},
     "output_type": "display_data"
    }
   ],
   "source": [
    "x_fig1 = target_prop.index\n",
    "y_fig1 = target_prop.values * 100\n",
    "\n",
    "fig1 = go.Figure()\n",
    "fig1.add_trace(go.Bar(x=x_fig1, y=y_fig1, text=[f'{np.round(yy, 2)}%' for yy in y_fig1],\n",
    "                      marker=dict(color=y_fig1, colorscale=[[0, RED], [0.5, YELLOW], [1, GREEN]])))\n",
    "fig1.update_layout(title='Proporção das classes na base de dados utilizada', yaxis_title='Proporção (%)', xaxis_title='Classe',\n",
    "                   height=600)\n",
    "fig1.show()"
   ]
  },
  {
   "cell_type": "markdown",
   "id": "0cac76a6-4ba4-46d5-9d1a-9d9d17690adc",
   "metadata": {},
   "source": [
    "#### Análise de similaridade das classes"
   ]
  },
  {
   "cell_type": "markdown",
   "id": "eacf5074-d983-4833-a5a7-0939a78de272",
   "metadata": {},
   "source": [
    "Outra análise passível de ser realizada é a de similaridade entre as classes. Para tal, pode-se calcular os centroides das classes com base no valor médio de cada variável que descreve cada uma das classes e identificar a similaridade cosseno e a similaridade de acordo com a distância entre os centroides. Antes de mais nada vamos encontrar os centroides:"
   ]
  },
  {
   "cell_type": "code",
   "execution_count": 54,
   "id": "c2ebf94a-e926-452a-ac9d-f9fe355b773d",
   "metadata": {},
   "outputs": [
    {
     "data": {
      "text/html": [
       "<div>\n",
       "<style scoped>\n",
       "    .dataframe tbody tr th:only-of-type {\n",
       "        vertical-align: middle;\n",
       "    }\n",
       "\n",
       "    .dataframe tbody tr th {\n",
       "        vertical-align: top;\n",
       "    }\n",
       "\n",
       "    .dataframe thead th {\n",
       "        text-align: right;\n",
       "    }\n",
       "</style>\n",
       "<table border=\"1\" class=\"dataframe\">\n",
       "  <thead>\n",
       "    <tr style=\"text-align: right;\">\n",
       "      <th></th>\n",
       "      <th>X_Minimum</th>\n",
       "      <th>X_Maximum</th>\n",
       "      <th>Y_Minimum</th>\n",
       "      <th>Y_Maximum</th>\n",
       "      <th>Pixels_Areas</th>\n",
       "      <th>X_Perimeter</th>\n",
       "      <th>Y_Perimeter</th>\n",
       "      <th>Sum_of_Luminosity</th>\n",
       "      <th>Minimum_of_Luminosity</th>\n",
       "      <th>Maximum_of_Luminosity</th>\n",
       "      <th>Length_of_Conveyer</th>\n",
       "      <th>TypeOfSteel_A300</th>\n",
       "      <th>TypeOfSteel_A400</th>\n",
       "      <th>Steel_Plate_Thickness</th>\n",
       "      <th>Edges_Index</th>\n",
       "      <th>Empty_Index</th>\n",
       "      <th>Square_Index</th>\n",
       "      <th>Outside_X_Index</th>\n",
       "      <th>Edges_X_Index</th>\n",
       "      <th>Edges_Y_Index</th>\n",
       "      <th>Outside_Global_Index</th>\n",
       "      <th>LogOfAreas</th>\n",
       "      <th>Log_X_Index</th>\n",
       "      <th>Log_Y_Index</th>\n",
       "      <th>Orientation_Index</th>\n",
       "      <th>Luminosity_Index</th>\n",
       "      <th>SigmoidOfAreas</th>\n",
       "    </tr>\n",
       "    <tr>\n",
       "      <th>Target</th>\n",
       "      <th></th>\n",
       "      <th></th>\n",
       "      <th></th>\n",
       "      <th></th>\n",
       "      <th></th>\n",
       "      <th></th>\n",
       "      <th></th>\n",
       "      <th></th>\n",
       "      <th></th>\n",
       "      <th></th>\n",
       "      <th></th>\n",
       "      <th></th>\n",
       "      <th></th>\n",
       "      <th></th>\n",
       "      <th></th>\n",
       "      <th></th>\n",
       "      <th></th>\n",
       "      <th></th>\n",
       "      <th></th>\n",
       "      <th></th>\n",
       "      <th></th>\n",
       "      <th></th>\n",
       "      <th></th>\n",
       "      <th></th>\n",
       "      <th></th>\n",
       "      <th></th>\n",
       "      <th></th>\n",
       "    </tr>\n",
       "  </thead>\n",
       "  <tbody>\n",
       "    <tr>\n",
       "      <th>Bumps</th>\n",
       "      <td>796.532338</td>\n",
       "      <td>814.305970</td>\n",
       "      <td>2.088487e+06</td>\n",
       "      <td>2.088506e+06</td>\n",
       "      <td>238.465174</td>\n",
       "      <td>29.251244</td>\n",
       "      <td>23.743781</td>\n",
       "      <td>26102.781095</td>\n",
       "      <td>89.495025</td>\n",
       "      <td>128.455224</td>\n",
       "      <td>1522.935323</td>\n",
       "      <td>0.694030</td>\n",
       "      <td>0.305970</td>\n",
       "      <td>76.930348</td>\n",
       "      <td>0.467730</td>\n",
       "      <td>0.367982</td>\n",
       "      <td>0.709359</td>\n",
       "      <td>0.011940</td>\n",
       "      <td>0.698795</td>\n",
       "      <td>0.918521</td>\n",
       "      <td>0.618159</td>\n",
       "      <td>2.142860</td>\n",
       "      <td>1.148503</td>\n",
       "      <td>1.206135</td>\n",
       "      <td>0.096626</td>\n",
       "      <td>-0.150146</td>\n",
       "      <td>0.439279</td>\n",
       "    </tr>\n",
       "    <tr>\n",
       "      <th>Dirtiness</th>\n",
       "      <td>887.927273</td>\n",
       "      <td>899.163636</td>\n",
       "      <td>2.318304e+06</td>\n",
       "      <td>2.318361e+06</td>\n",
       "      <td>363.490909</td>\n",
       "      <td>45.163636</td>\n",
       "      <td>57.854545</td>\n",
       "      <td>40545.054545</td>\n",
       "      <td>102.000000</td>\n",
       "      <td>132.618182</td>\n",
       "      <td>1414.636364</td>\n",
       "      <td>0.163636</td>\n",
       "      <td>0.836364</td>\n",
       "      <td>84.454545</td>\n",
       "      <td>0.513347</td>\n",
       "      <td>0.404147</td>\n",
       "      <td>0.230593</td>\n",
       "      <td>0.007782</td>\n",
       "      <td>0.353331</td>\n",
       "      <td>0.946320</td>\n",
       "      <td>0.872727</td>\n",
       "      <td>2.333762</td>\n",
       "      <td>0.995764</td>\n",
       "      <td>1.569024</td>\n",
       "      <td>0.595342</td>\n",
       "      <td>-0.091856</td>\n",
       "      <td>0.584502</td>\n",
       "    </tr>\n",
       "    <tr>\n",
       "      <th>K_Scatch</th>\n",
       "      <td>136.593350</td>\n",
       "      <td>285.061381</td>\n",
       "      <td>1.649200e+06</td>\n",
       "      <td>1.649336e+06</td>\n",
       "      <td>7622.654731</td>\n",
       "      <td>384.657289</td>\n",
       "      <td>255.350384</td>\n",
       "      <td>835433.601023</td>\n",
       "      <td>55.061381</td>\n",
       "      <td>137.109974</td>\n",
       "      <td>1384.028133</td>\n",
       "      <td>0.002558</td>\n",
       "      <td>0.997442</td>\n",
       "      <td>40.179028</td>\n",
       "      <td>0.130249</td>\n",
       "      <td>0.457020</td>\n",
       "      <td>0.602695</td>\n",
       "      <td>0.107461</td>\n",
       "      <td>0.551673</td>\n",
       "      <td>0.526990</td>\n",
       "      <td>0.306905</td>\n",
       "      <td>3.598768</td>\n",
       "      <td>2.041123</td>\n",
       "      <td>1.839050</td>\n",
       "      <td>-0.300248</td>\n",
       "      <td>-0.102149</td>\n",
       "      <td>0.915748</td>\n",
       "    </tr>\n",
       "    <tr>\n",
       "      <th>Pastry</th>\n",
       "      <td>807.132911</td>\n",
       "      <td>818.202532</td>\n",
       "      <td>1.868146e+06</td>\n",
       "      <td>1.868203e+06</td>\n",
       "      <td>561.620253</td>\n",
       "      <td>35.563291</td>\n",
       "      <td>57.734177</td>\n",
       "      <td>61262.835443</td>\n",
       "      <td>76.487342</td>\n",
       "      <td>126.506329</td>\n",
       "      <td>1554.430380</td>\n",
       "      <td>0.310127</td>\n",
       "      <td>0.689873</td>\n",
       "      <td>92.905063</td>\n",
       "      <td>0.301604</td>\n",
       "      <td>0.328925</td>\n",
       "      <td>0.349628</td>\n",
       "      <td>0.007207</td>\n",
       "      <td>0.510502</td>\n",
       "      <td>0.993987</td>\n",
       "      <td>0.971519</td>\n",
       "      <td>2.379714</td>\n",
       "      <td>1.015025</td>\n",
       "      <td>1.542325</td>\n",
       "      <td>0.637354</td>\n",
       "      <td>-0.185273</td>\n",
       "      <td>0.565559</td>\n",
       "    </tr>\n",
       "    <tr>\n",
       "      <th>Stains</th>\n",
       "      <td>766.708333</td>\n",
       "      <td>773.777778</td>\n",
       "      <td>1.048676e+06</td>\n",
       "      <td>1.048681e+06</td>\n",
       "      <td>19.916667</td>\n",
       "      <td>8.222222</td>\n",
       "      <td>5.319444</td>\n",
       "      <td>2486.125000</td>\n",
       "      <td>114.555556</td>\n",
       "      <td>138.805556</td>\n",
       "      <td>1358.388889</td>\n",
       "      <td>0.013889</td>\n",
       "      <td>0.986111</td>\n",
       "      <td>50.694444</td>\n",
       "      <td>0.584725</td>\n",
       "      <td>0.407042</td>\n",
       "      <td>0.705119</td>\n",
       "      <td>0.005214</td>\n",
       "      <td>0.894800</td>\n",
       "      <td>0.928431</td>\n",
       "      <td>0.138889</td>\n",
       "      <td>1.235842</td>\n",
       "      <td>0.814700</td>\n",
       "      <td>0.659965</td>\n",
       "      <td>-0.265499</td>\n",
       "      <td>-0.014368</td>\n",
       "      <td>0.148858</td>\n",
       "    </tr>\n",
       "    <tr>\n",
       "      <th>Z_Scratch</th>\n",
       "      <td>209.315789</td>\n",
       "      <td>228.042105</td>\n",
       "      <td>1.309620e+06</td>\n",
       "      <td>1.309661e+06</td>\n",
       "      <td>506.594737</td>\n",
       "      <td>56.473684</td>\n",
       "      <td>49.673684</td>\n",
       "      <td>51466.194737</td>\n",
       "      <td>89.415789</td>\n",
       "      <td>119.447368</td>\n",
       "      <td>1357.863158</td>\n",
       "      <td>0.905263</td>\n",
       "      <td>0.094737</td>\n",
       "      <td>74.578947</td>\n",
       "      <td>0.192789</td>\n",
       "      <td>0.468223</td>\n",
       "      <td>0.566207</td>\n",
       "      <td>0.013793</td>\n",
       "      <td>0.506208</td>\n",
       "      <td>0.876074</td>\n",
       "      <td>0.700000</td>\n",
       "      <td>2.311458</td>\n",
       "      <td>1.197666</td>\n",
       "      <td>1.398901</td>\n",
       "      <td>0.261904</td>\n",
       "      <td>-0.190733</td>\n",
       "      <td>0.565437</td>\n",
       "    </tr>\n",
       "  </tbody>\n",
       "</table>\n",
       "</div>"
      ],
      "text/plain": [
       "            X_Minimum   X_Maximum     Y_Minimum     Y_Maximum  Pixels_Areas  \\\n",
       "Target                                                                        \n",
       "Bumps      796.532338  814.305970  2.088487e+06  2.088506e+06    238.465174   \n",
       "Dirtiness  887.927273  899.163636  2.318304e+06  2.318361e+06    363.490909   \n",
       "K_Scatch   136.593350  285.061381  1.649200e+06  1.649336e+06   7622.654731   \n",
       "Pastry     807.132911  818.202532  1.868146e+06  1.868203e+06    561.620253   \n",
       "Stains     766.708333  773.777778  1.048676e+06  1.048681e+06     19.916667   \n",
       "Z_Scratch  209.315789  228.042105  1.309620e+06  1.309661e+06    506.594737   \n",
       "\n",
       "           X_Perimeter  Y_Perimeter  Sum_of_Luminosity  Minimum_of_Luminosity  \\\n",
       "Target                                                                          \n",
       "Bumps        29.251244    23.743781       26102.781095              89.495025   \n",
       "Dirtiness    45.163636    57.854545       40545.054545             102.000000   \n",
       "K_Scatch    384.657289   255.350384      835433.601023              55.061381   \n",
       "Pastry       35.563291    57.734177       61262.835443              76.487342   \n",
       "Stains        8.222222     5.319444        2486.125000             114.555556   \n",
       "Z_Scratch    56.473684    49.673684       51466.194737              89.415789   \n",
       "\n",
       "           Maximum_of_Luminosity  Length_of_Conveyer  TypeOfSteel_A300  \\\n",
       "Target                                                                   \n",
       "Bumps                 128.455224         1522.935323          0.694030   \n",
       "Dirtiness             132.618182         1414.636364          0.163636   \n",
       "K_Scatch              137.109974         1384.028133          0.002558   \n",
       "Pastry                126.506329         1554.430380          0.310127   \n",
       "Stains                138.805556         1358.388889          0.013889   \n",
       "Z_Scratch             119.447368         1357.863158          0.905263   \n",
       "\n",
       "           TypeOfSteel_A400  Steel_Plate_Thickness  Edges_Index  Empty_Index  \\\n",
       "Target                                                                         \n",
       "Bumps              0.305970              76.930348     0.467730     0.367982   \n",
       "Dirtiness          0.836364              84.454545     0.513347     0.404147   \n",
       "K_Scatch           0.997442              40.179028     0.130249     0.457020   \n",
       "Pastry             0.689873              92.905063     0.301604     0.328925   \n",
       "Stains             0.986111              50.694444     0.584725     0.407042   \n",
       "Z_Scratch          0.094737              74.578947     0.192789     0.468223   \n",
       "\n",
       "           Square_Index  Outside_X_Index  Edges_X_Index  Edges_Y_Index  \\\n",
       "Target                                                                   \n",
       "Bumps          0.709359         0.011940       0.698795       0.918521   \n",
       "Dirtiness      0.230593         0.007782       0.353331       0.946320   \n",
       "K_Scatch       0.602695         0.107461       0.551673       0.526990   \n",
       "Pastry         0.349628         0.007207       0.510502       0.993987   \n",
       "Stains         0.705119         0.005214       0.894800       0.928431   \n",
       "Z_Scratch      0.566207         0.013793       0.506208       0.876074   \n",
       "\n",
       "           Outside_Global_Index  LogOfAreas  Log_X_Index  Log_Y_Index  \\\n",
       "Target                                                                  \n",
       "Bumps                  0.618159    2.142860     1.148503     1.206135   \n",
       "Dirtiness              0.872727    2.333762     0.995764     1.569024   \n",
       "K_Scatch               0.306905    3.598768     2.041123     1.839050   \n",
       "Pastry                 0.971519    2.379714     1.015025     1.542325   \n",
       "Stains                 0.138889    1.235842     0.814700     0.659965   \n",
       "Z_Scratch              0.700000    2.311458     1.197666     1.398901   \n",
       "\n",
       "           Orientation_Index  Luminosity_Index  SigmoidOfAreas  \n",
       "Target                                                          \n",
       "Bumps               0.096626         -0.150146        0.439279  \n",
       "Dirtiness           0.595342         -0.091856        0.584502  \n",
       "K_Scatch           -0.300248         -0.102149        0.915748  \n",
       "Pastry              0.637354         -0.185273        0.565559  \n",
       "Stains             -0.265499         -0.014368        0.148858  \n",
       "Z_Scratch           0.261904         -0.190733        0.565437  "
      ]
     },
     "execution_count": 54,
     "metadata": {},
     "output_type": "execute_result"
    }
   ],
   "source": [
    "df_centroids = df.groupby('Target').mean()\n",
    "df_centroids"
   ]
  },
  {
   "cell_type": "markdown",
   "id": "29112f16-d21c-48cc-8eef-ba026907fd0b",
   "metadata": {},
   "source": [
    "Para que seja possível computar as distâncias é necessário escalonar os dados, visto que as variáveis são de escalas diferentes. Com isso, vamos realizar esta etapa:"
   ]
  },
  {
   "cell_type": "code",
   "execution_count": 74,
   "id": "dcddeb35-4091-460b-bb7d-6f0c299e9995",
   "metadata": {},
   "outputs": [
    {
     "data": {
      "text/html": [
       "<div>\n",
       "<style scoped>\n",
       "    .dataframe tbody tr th:only-of-type {\n",
       "        vertical-align: middle;\n",
       "    }\n",
       "\n",
       "    .dataframe tbody tr th {\n",
       "        vertical-align: top;\n",
       "    }\n",
       "\n",
       "    .dataframe thead th {\n",
       "        text-align: right;\n",
       "    }\n",
       "</style>\n",
       "<table border=\"1\" class=\"dataframe\">\n",
       "  <thead>\n",
       "    <tr style=\"text-align: right;\">\n",
       "      <th></th>\n",
       "      <th>X_Minimum</th>\n",
       "      <th>X_Maximum</th>\n",
       "      <th>Y_Minimum</th>\n",
       "      <th>Y_Maximum</th>\n",
       "      <th>Pixels_Areas</th>\n",
       "      <th>X_Perimeter</th>\n",
       "      <th>Y_Perimeter</th>\n",
       "      <th>Sum_of_Luminosity</th>\n",
       "      <th>Minimum_of_Luminosity</th>\n",
       "      <th>Maximum_of_Luminosity</th>\n",
       "      <th>Length_of_Conveyer</th>\n",
       "      <th>TypeOfSteel_A300</th>\n",
       "      <th>TypeOfSteel_A400</th>\n",
       "      <th>Steel_Plate_Thickness</th>\n",
       "      <th>Edges_Index</th>\n",
       "      <th>Empty_Index</th>\n",
       "      <th>Square_Index</th>\n",
       "      <th>Outside_X_Index</th>\n",
       "      <th>Edges_X_Index</th>\n",
       "      <th>Edges_Y_Index</th>\n",
       "      <th>Outside_Global_Index</th>\n",
       "      <th>LogOfAreas</th>\n",
       "      <th>Log_X_Index</th>\n",
       "      <th>Log_Y_Index</th>\n",
       "      <th>Orientation_Index</th>\n",
       "      <th>Luminosity_Index</th>\n",
       "      <th>SigmoidOfAreas</th>\n",
       "    </tr>\n",
       "    <tr>\n",
       "      <th>Target</th>\n",
       "      <th></th>\n",
       "      <th></th>\n",
       "      <th></th>\n",
       "      <th></th>\n",
       "      <th></th>\n",
       "      <th></th>\n",
       "      <th></th>\n",
       "      <th></th>\n",
       "      <th></th>\n",
       "      <th></th>\n",
       "      <th></th>\n",
       "      <th></th>\n",
       "      <th></th>\n",
       "      <th></th>\n",
       "      <th></th>\n",
       "      <th></th>\n",
       "      <th></th>\n",
       "      <th></th>\n",
       "      <th></th>\n",
       "      <th></th>\n",
       "      <th></th>\n",
       "      <th></th>\n",
       "      <th></th>\n",
       "      <th></th>\n",
       "      <th></th>\n",
       "      <th></th>\n",
       "      <th></th>\n",
       "    </tr>\n",
       "  </thead>\n",
       "  <tbody>\n",
       "    <tr>\n",
       "      <th>Bumps</th>\n",
       "      <td>0.560592</td>\n",
       "      <td>0.517943</td>\n",
       "      <td>0.191241</td>\n",
       "      <td>0.191213</td>\n",
       "      <td>-0.385004</td>\n",
       "      <td>-0.314840</td>\n",
       "      <td>-0.152646</td>\n",
       "      <td>-0.428064</td>\n",
       "      <td>0.315376</td>\n",
       "      <td>-0.110793</td>\n",
       "      <td>0.566027</td>\n",
       "      <td>0.593339</td>\n",
       "      <td>-0.593339</td>\n",
       "      <td>0.302367</td>\n",
       "      <td>0.519232</td>\n",
       "      <td>-0.309002</td>\n",
       "      <td>0.454978</td>\n",
       "      <td>-0.460023</td>\n",
       "      <td>0.420431</td>\n",
       "      <td>0.480752</td>\n",
       "      <td>0.115398</td>\n",
       "      <td>-0.523353</td>\n",
       "      <td>-0.449519</td>\n",
       "      <td>-0.535674</td>\n",
       "      <td>0.060297</td>\n",
       "      <td>-0.105827</td>\n",
       "      <td>-0.490385</td>\n",
       "    </tr>\n",
       "    <tr>\n",
       "      <th>Dirtiness</th>\n",
       "      <td>0.738556</td>\n",
       "      <td>0.694328</td>\n",
       "      <td>0.324952</td>\n",
       "      <td>0.324945</td>\n",
       "      <td>-0.364525</td>\n",
       "      <td>-0.270876</td>\n",
       "      <td>-0.087538</td>\n",
       "      <td>-0.404011</td>\n",
       "      <td>0.698816</td>\n",
       "      <td>0.139267</td>\n",
       "      <td>-0.223064</td>\n",
       "      <td>-0.487993</td>\n",
       "      <td>0.487993</td>\n",
       "      <td>0.511900</td>\n",
       "      <td>0.669771</td>\n",
       "      <td>-0.039044</td>\n",
       "      <td>-1.357639</td>\n",
       "      <td>-0.526953</td>\n",
       "      <td>-1.009955</td>\n",
       "      <td>0.596042</td>\n",
       "      <td>0.641328</td>\n",
       "      <td>-0.306395</td>\n",
       "      <td>-0.735120</td>\n",
       "      <td>0.239812</td>\n",
       "      <td>1.091303</td>\n",
       "      <td>0.317269</td>\n",
       "      <td>-0.074824</td>\n",
       "    </tr>\n",
       "    <tr>\n",
       "      <th>K_Scatch</th>\n",
       "      <td>-0.724440</td>\n",
       "      <td>-0.582141</td>\n",
       "      <td>-0.064344</td>\n",
       "      <td>-0.064301</td>\n",
       "      <td>0.824531</td>\n",
       "      <td>0.667095</td>\n",
       "      <td>0.289430</td>\n",
       "      <td>0.919804</td>\n",
       "      <td>-0.740462</td>\n",
       "      <td>0.409079</td>\n",
       "      <td>-0.446082</td>\n",
       "      <td>-0.816390</td>\n",
       "      <td>0.816390</td>\n",
       "      <td>-0.721081</td>\n",
       "      <td>-0.594466</td>\n",
       "      <td>0.355629</td>\n",
       "      <td>0.051144</td>\n",
       "      <td>1.077462</td>\n",
       "      <td>-0.188725</td>\n",
       "      <td>-1.143024</td>\n",
       "      <td>-0.527644</td>\n",
       "      <td>1.131279</td>\n",
       "      <td>1.219550</td>\n",
       "      <td>0.816852</td>\n",
       "      <td>-0.760169</td>\n",
       "      <td>0.242559</td>\n",
       "      <td>0.873049</td>\n",
       "    </tr>\n",
       "    <tr>\n",
       "      <th>Pastry</th>\n",
       "      <td>0.581234</td>\n",
       "      <td>0.526043</td>\n",
       "      <td>0.063043</td>\n",
       "      <td>0.063038</td>\n",
       "      <td>-0.332071</td>\n",
       "      <td>-0.297401</td>\n",
       "      <td>-0.087767</td>\n",
       "      <td>-0.369508</td>\n",
       "      <td>-0.083478</td>\n",
       "      <td>-0.227858</td>\n",
       "      <td>0.795507</td>\n",
       "      <td>-0.189338</td>\n",
       "      <td>0.189338</td>\n",
       "      <td>0.747230</td>\n",
       "      <td>-0.028990</td>\n",
       "      <td>-0.600548</td>\n",
       "      <td>-0.906970</td>\n",
       "      <td>-0.536206</td>\n",
       "      <td>-0.359193</td>\n",
       "      <td>0.793727</td>\n",
       "      <td>0.845429</td>\n",
       "      <td>-0.254170</td>\n",
       "      <td>-0.699103</td>\n",
       "      <td>0.182758</td>\n",
       "      <td>1.178156</td>\n",
       "      <td>-0.360799</td>\n",
       "      <td>-0.129030</td>\n",
       "    </tr>\n",
       "    <tr>\n",
       "      <th>Stains</th>\n",
       "      <td>0.502519</td>\n",
       "      <td>0.433702</td>\n",
       "      <td>-0.413739</td>\n",
       "      <td>-0.413769</td>\n",
       "      <td>-0.420802</td>\n",
       "      <td>-0.372940</td>\n",
       "      <td>-0.187813</td>\n",
       "      <td>-0.467395</td>\n",
       "      <td>1.083807</td>\n",
       "      <td>0.510929</td>\n",
       "      <td>-0.632895</td>\n",
       "      <td>-0.793288</td>\n",
       "      <td>0.793288</td>\n",
       "      <td>-0.428249</td>\n",
       "      <td>0.905320</td>\n",
       "      <td>-0.017439</td>\n",
       "      <td>0.438926</td>\n",
       "      <td>-0.568286</td>\n",
       "      <td>1.231985</td>\n",
       "      <td>0.521850</td>\n",
       "      <td>-0.874761</td>\n",
       "      <td>-1.554176</td>\n",
       "      <td>-1.073683</td>\n",
       "      <td>-1.702827</td>\n",
       "      <td>-0.688331</td>\n",
       "      <td>0.879718</td>\n",
       "      <td>-1.321435</td>\n",
       "    </tr>\n",
       "    <tr>\n",
       "      <th>Z_Scratch</th>\n",
       "      <td>-0.582835</td>\n",
       "      <td>-0.700661</td>\n",
       "      <td>-0.261917</td>\n",
       "      <td>-0.261928</td>\n",
       "      <td>-0.341084</td>\n",
       "      <td>-0.239628</td>\n",
       "      <td>-0.103153</td>\n",
       "      <td>-0.385823</td>\n",
       "      <td>0.312947</td>\n",
       "      <td>-0.651874</td>\n",
       "      <td>-0.636726</td>\n",
       "      <td>1.023988</td>\n",
       "      <td>-1.023988</td>\n",
       "      <td>0.236885</td>\n",
       "      <td>-0.388081</td>\n",
       "      <td>0.439250</td>\n",
       "      <td>-0.086997</td>\n",
       "      <td>-0.430204</td>\n",
       "      <td>-0.376972</td>\n",
       "      <td>0.304713</td>\n",
       "      <td>0.284478</td>\n",
       "      <td>-0.331742</td>\n",
       "      <td>-0.357591</td>\n",
       "      <td>-0.123738</td>\n",
       "      <td>0.401979</td>\n",
       "      <td>-0.400428</td>\n",
       "      <td>-0.129378</td>\n",
       "    </tr>\n",
       "  </tbody>\n",
       "</table>\n",
       "</div>"
      ],
      "text/plain": [
       "           X_Minimum  X_Maximum  Y_Minimum  Y_Maximum  Pixels_Areas  \\\n",
       "Target                                                                \n",
       "Bumps       0.560592   0.517943   0.191241   0.191213     -0.385004   \n",
       "Dirtiness   0.738556   0.694328   0.324952   0.324945     -0.364525   \n",
       "K_Scatch   -0.724440  -0.582141  -0.064344  -0.064301      0.824531   \n",
       "Pastry      0.581234   0.526043   0.063043   0.063038     -0.332071   \n",
       "Stains      0.502519   0.433702  -0.413739  -0.413769     -0.420802   \n",
       "Z_Scratch  -0.582835  -0.700661  -0.261917  -0.261928     -0.341084   \n",
       "\n",
       "           X_Perimeter  Y_Perimeter  Sum_of_Luminosity  Minimum_of_Luminosity  \\\n",
       "Target                                                                          \n",
       "Bumps        -0.314840    -0.152646          -0.428064               0.315376   \n",
       "Dirtiness    -0.270876    -0.087538          -0.404011               0.698816   \n",
       "K_Scatch      0.667095     0.289430           0.919804              -0.740462   \n",
       "Pastry       -0.297401    -0.087767          -0.369508              -0.083478   \n",
       "Stains       -0.372940    -0.187813          -0.467395               1.083807   \n",
       "Z_Scratch    -0.239628    -0.103153          -0.385823               0.312947   \n",
       "\n",
       "           Maximum_of_Luminosity  Length_of_Conveyer  TypeOfSteel_A300  \\\n",
       "Target                                                                   \n",
       "Bumps                  -0.110793            0.566027          0.593339   \n",
       "Dirtiness               0.139267           -0.223064         -0.487993   \n",
       "K_Scatch                0.409079           -0.446082         -0.816390   \n",
       "Pastry                 -0.227858            0.795507         -0.189338   \n",
       "Stains                  0.510929           -0.632895         -0.793288   \n",
       "Z_Scratch              -0.651874           -0.636726          1.023988   \n",
       "\n",
       "           TypeOfSteel_A400  Steel_Plate_Thickness  Edges_Index  Empty_Index  \\\n",
       "Target                                                                         \n",
       "Bumps             -0.593339               0.302367     0.519232    -0.309002   \n",
       "Dirtiness          0.487993               0.511900     0.669771    -0.039044   \n",
       "K_Scatch           0.816390              -0.721081    -0.594466     0.355629   \n",
       "Pastry             0.189338               0.747230    -0.028990    -0.600548   \n",
       "Stains             0.793288              -0.428249     0.905320    -0.017439   \n",
       "Z_Scratch         -1.023988               0.236885    -0.388081     0.439250   \n",
       "\n",
       "           Square_Index  Outside_X_Index  Edges_X_Index  Edges_Y_Index  \\\n",
       "Target                                                                   \n",
       "Bumps          0.454978        -0.460023       0.420431       0.480752   \n",
       "Dirtiness     -1.357639        -0.526953      -1.009955       0.596042   \n",
       "K_Scatch       0.051144         1.077462      -0.188725      -1.143024   \n",
       "Pastry        -0.906970        -0.536206      -0.359193       0.793727   \n",
       "Stains         0.438926        -0.568286       1.231985       0.521850   \n",
       "Z_Scratch     -0.086997        -0.430204      -0.376972       0.304713   \n",
       "\n",
       "           Outside_Global_Index  LogOfAreas  Log_X_Index  Log_Y_Index  \\\n",
       "Target                                                                  \n",
       "Bumps                  0.115398   -0.523353    -0.449519    -0.535674   \n",
       "Dirtiness              0.641328   -0.306395    -0.735120     0.239812   \n",
       "K_Scatch              -0.527644    1.131279     1.219550     0.816852   \n",
       "Pastry                 0.845429   -0.254170    -0.699103     0.182758   \n",
       "Stains                -0.874761   -1.554176    -1.073683    -1.702827   \n",
       "Z_Scratch              0.284478   -0.331742    -0.357591    -0.123738   \n",
       "\n",
       "           Orientation_Index  Luminosity_Index  SigmoidOfAreas  \n",
       "Target                                                          \n",
       "Bumps               0.060297         -0.105827       -0.490385  \n",
       "Dirtiness           1.091303          0.317269       -0.074824  \n",
       "K_Scatch           -0.760169          0.242559        0.873049  \n",
       "Pastry              1.178156         -0.360799       -0.129030  \n",
       "Stains             -0.688331          0.879718       -1.321435  \n",
       "Z_Scratch           0.401979         -0.400428       -0.129378  "
      ]
     },
     "execution_count": 74,
     "metadata": {},
     "output_type": "execute_result"
    }
   ],
   "source": [
    "# scaler = MinMaxScaler()\n",
    "scaler = StandardScaler()\n",
    "\n",
    "scaled_data = scaler.fit_transform(df.drop(columns='Target'))\n",
    "\n",
    "df_scaled = pd.DataFrame(scaled_data, columns=df.drop(columns='Target').columns)\n",
    "df_scaled['Target'] = df['Target']\n",
    "df_centroids_scaled = df_scaled.groupby('Target').mean()\n",
    "df_centroids_scaled"
   ]
  },
  {
   "cell_type": "markdown",
   "id": "f2560fb3-5110-4319-9556-23b88a931ddf",
   "metadata": {},
   "source": [
    "Assim, podemos calcular as similaridades por:"
   ]
  },
  {
   "cell_type": "markdown",
   "id": "0fe0f8c9-39f1-4672-8a2c-d315f0f67de2",
   "metadata": {},
   "source": [
    "##### Similaridade Cosseno"
   ]
  },
  {
   "cell_type": "code",
   "execution_count": 88,
   "id": "3ea6b156-1fec-4af4-b276-7bb5d645a73f",
   "metadata": {},
   "outputs": [
    {
     "data": {
      "text/html": [
       "<div>\n",
       "<style scoped>\n",
       "    .dataframe tbody tr th:only-of-type {\n",
       "        vertical-align: middle;\n",
       "    }\n",
       "\n",
       "    .dataframe tbody tr th {\n",
       "        vertical-align: top;\n",
       "    }\n",
       "\n",
       "    .dataframe thead th {\n",
       "        text-align: right;\n",
       "    }\n",
       "</style>\n",
       "<table border=\"1\" class=\"dataframe\">\n",
       "  <thead>\n",
       "    <tr style=\"text-align: right;\">\n",
       "      <th>Target</th>\n",
       "      <th>Bumps</th>\n",
       "      <th>Dirtiness</th>\n",
       "      <th>K_Scatch</th>\n",
       "      <th>Pastry</th>\n",
       "      <th>Stains</th>\n",
       "      <th>Z_Scratch</th>\n",
       "    </tr>\n",
       "    <tr>\n",
       "      <th>Target</th>\n",
       "      <th></th>\n",
       "      <th></th>\n",
       "      <th></th>\n",
       "      <th></th>\n",
       "      <th></th>\n",
       "      <th></th>\n",
       "    </tr>\n",
       "  </thead>\n",
       "  <tbody>\n",
       "    <tr>\n",
       "      <th>Bumps</th>\n",
       "      <td>1.000000</td>\n",
       "      <td>0.999994</td>\n",
       "      <td>0.944370</td>\n",
       "      <td>0.999897</td>\n",
       "      <td>0.999974</td>\n",
       "      <td>0.999821</td>\n",
       "    </tr>\n",
       "    <tr>\n",
       "      <th>Dirtiness</th>\n",
       "      <td>0.999994</td>\n",
       "      <td>1.000000</td>\n",
       "      <td>0.945525</td>\n",
       "      <td>0.999941</td>\n",
       "      <td>0.999943</td>\n",
       "      <td>0.999881</td>\n",
       "    </tr>\n",
       "    <tr>\n",
       "      <th>K_Scatch</th>\n",
       "      <td>0.944370</td>\n",
       "      <td>0.945525</td>\n",
       "      <td>1.000000</td>\n",
       "      <td>0.948991</td>\n",
       "      <td>0.941990</td>\n",
       "      <td>0.950431</td>\n",
       "    </tr>\n",
       "    <tr>\n",
       "      <th>Pastry</th>\n",
       "      <td>0.999897</td>\n",
       "      <td>0.999941</td>\n",
       "      <td>0.948991</td>\n",
       "      <td>1.000000</td>\n",
       "      <td>0.999769</td>\n",
       "      <td>0.999989</td>\n",
       "    </tr>\n",
       "    <tr>\n",
       "      <th>Stains</th>\n",
       "      <td>0.999974</td>\n",
       "      <td>0.999943</td>\n",
       "      <td>0.941990</td>\n",
       "      <td>0.999769</td>\n",
       "      <td>1.000000</td>\n",
       "      <td>0.999659</td>\n",
       "    </tr>\n",
       "    <tr>\n",
       "      <th>Z_Scratch</th>\n",
       "      <td>0.999821</td>\n",
       "      <td>0.999881</td>\n",
       "      <td>0.950431</td>\n",
       "      <td>0.999989</td>\n",
       "      <td>0.999659</td>\n",
       "      <td>1.000000</td>\n",
       "    </tr>\n",
       "  </tbody>\n",
       "</table>\n",
       "</div>"
      ],
      "text/plain": [
       "Target        Bumps  Dirtiness  K_Scatch    Pastry    Stains  Z_Scratch\n",
       "Target                                                                 \n",
       "Bumps      1.000000   0.999994  0.944370  0.999897  0.999974   0.999821\n",
       "Dirtiness  0.999994   1.000000  0.945525  0.999941  0.999943   0.999881\n",
       "K_Scatch   0.944370   0.945525  1.000000  0.948991  0.941990   0.950431\n",
       "Pastry     0.999897   0.999941  0.948991  1.000000  0.999769   0.999989\n",
       "Stains     0.999974   0.999943  0.941990  0.999769  1.000000   0.999659\n",
       "Z_Scratch  0.999821   0.999881  0.950431  0.999989  0.999659   1.000000"
      ]
     },
     "execution_count": 88,
     "metadata": {},
     "output_type": "execute_result"
    }
   ],
   "source": [
    "# cos_sim = cosine_similarity(df_centroids_scaled) # Normalizado\n",
    "cos_sim = cosine_similarity(df_centroids)  # Não-normalizado\n",
    "\n",
    "df_cos_sim = pd.DataFrame(cos_sim, index=df_centroids_scaled.index, columns=df_centroids_scaled.index)\n",
    "df_cos_sim"
   ]
  },
  {
   "cell_type": "markdown",
   "id": "8ca4bd7c-898e-4339-908a-770ff0429541",
   "metadata": {},
   "source": [
    "E podemos pegar qual é a classe mais similar de caso para caso:"
   ]
  },
  {
   "cell_type": "code",
   "execution_count": 97,
   "id": "42df8499-0d03-439d-bd71-18f091fe38d1",
   "metadata": {},
   "outputs": [
    {
     "data": {
      "text/plain": [
       "Target\n",
       "Bumps        Dirtiness\n",
       "Dirtiness    Dirtiness\n",
       "K_Scatch      K_Scatch\n",
       "Pastry          Pastry\n",
       "Stains          Stains\n",
       "Z_Scratch    Z_Scratch\n",
       "dtype: object"
      ]
     },
     "execution_count": 97,
     "metadata": {},
     "output_type": "execute_result"
    }
   ],
   "source": [
    "df_cos_sim.apply(lambda s: df_cos_sim.columns[np.argmax(s[1:]) + 1], axis=1)"
   ]
  },
  {
   "cell_type": "markdown",
   "id": "0a148650-7b5d-4bcd-b631-3e4b0c72f9ce",
   "metadata": {},
   "source": [
    "##### Distâncias Euclidianas"
   ]
  },
  {
   "cell_type": "code",
   "execution_count": 101,
   "id": "5a611c3a-3c84-4821-993c-319ac92467b7",
   "metadata": {},
   "outputs": [
    {
     "data": {
      "text/html": [
       "<div>\n",
       "<style scoped>\n",
       "    .dataframe tbody tr th:only-of-type {\n",
       "        vertical-align: middle;\n",
       "    }\n",
       "\n",
       "    .dataframe tbody tr th {\n",
       "        vertical-align: top;\n",
       "    }\n",
       "\n",
       "    .dataframe thead th {\n",
       "        text-align: right;\n",
       "    }\n",
       "</style>\n",
       "<table border=\"1\" class=\"dataframe\">\n",
       "  <thead>\n",
       "    <tr style=\"text-align: right;\">\n",
       "      <th>Target</th>\n",
       "      <th>Bumps</th>\n",
       "      <th>Dirtiness</th>\n",
       "      <th>K_Scatch</th>\n",
       "      <th>Pastry</th>\n",
       "      <th>Stains</th>\n",
       "      <th>Z_Scratch</th>\n",
       "    </tr>\n",
       "    <tr>\n",
       "      <th>Target</th>\n",
       "      <th></th>\n",
       "      <th></th>\n",
       "      <th></th>\n",
       "      <th></th>\n",
       "      <th></th>\n",
       "      <th></th>\n",
       "    </tr>\n",
       "  </thead>\n",
       "  <tbody>\n",
       "    <tr>\n",
       "      <th>Bumps</th>\n",
       "      <td>0.000000</td>\n",
       "      <td>3.344635</td>\n",
       "      <td>5.700845</td>\n",
       "      <td>2.696975</td>\n",
       "      <td>3.803578</td>\n",
       "      <td>2.872524</td>\n",
       "    </tr>\n",
       "    <tr>\n",
       "      <th>Dirtiness</th>\n",
       "      <td>3.344635</td>\n",
       "      <td>0.000000</td>\n",
       "      <td>5.841385</td>\n",
       "      <td>2.049326</td>\n",
       "      <td>4.885264</td>\n",
       "      <td>3.850959</td>\n",
       "    </tr>\n",
       "    <tr>\n",
       "      <th>K_Scatch</th>\n",
       "      <td>5.700845</td>\n",
       "      <td>5.841385</td>\n",
       "      <td>0.000000</td>\n",
       "      <td>5.823100</td>\n",
       "      <td>6.725370</td>\n",
       "      <td>5.246822</td>\n",
       "    </tr>\n",
       "    <tr>\n",
       "      <th>Pastry</th>\n",
       "      <td>2.696975</td>\n",
       "      <td>2.049326</td>\n",
       "      <td>5.823100</td>\n",
       "      <td>0.000000</td>\n",
       "      <td>5.194515</td>\n",
       "      <td>3.454914</td>\n",
       "    </tr>\n",
       "    <tr>\n",
       "      <th>Stains</th>\n",
       "      <td>3.803578</td>\n",
       "      <td>4.885264</td>\n",
       "      <td>6.725370</td>\n",
       "      <td>5.194515</td>\n",
       "      <td>0.000000</td>\n",
       "      <td>5.142821</td>\n",
       "    </tr>\n",
       "    <tr>\n",
       "      <th>Z_Scratch</th>\n",
       "      <td>2.872524</td>\n",
       "      <td>3.850959</td>\n",
       "      <td>5.246822</td>\n",
       "      <td>3.454914</td>\n",
       "      <td>5.142821</td>\n",
       "      <td>0.000000</td>\n",
       "    </tr>\n",
       "  </tbody>\n",
       "</table>\n",
       "</div>"
      ],
      "text/plain": [
       "Target        Bumps  Dirtiness  K_Scatch    Pastry    Stains  Z_Scratch\n",
       "Target                                                                 \n",
       "Bumps      0.000000   3.344635  5.700845  2.696975  3.803578   2.872524\n",
       "Dirtiness  3.344635   0.000000  5.841385  2.049326  4.885264   3.850959\n",
       "K_Scatch   5.700845   5.841385  0.000000  5.823100  6.725370   5.246822\n",
       "Pastry     2.696975   2.049326  5.823100  0.000000  5.194515   3.454914\n",
       "Stains     3.803578   4.885264  6.725370  5.194515  0.000000   5.142821\n",
       "Z_Scratch  2.872524   3.850959  5.246822  3.454914  5.142821   0.000000"
      ]
     },
     "execution_count": 101,
     "metadata": {},
     "output_type": "execute_result"
    }
   ],
   "source": [
    "euc_dist = euclidean_distances(df_centroids_scaled)  # Normalizado\n",
    "# euc_dist = euclidean_distances(df_centroids)  # Não normalizado\n",
    "\n",
    "df_euc_dist = pd.DataFrame(euc_dist, index=df_centroids_scaled.index, columns=df_centroids_scaled.index)\n",
    "# df_euc_dist = df_euc_dist.apply(lambda s: s/sorted(s)[-1], axis=1)\n",
    "df_euc_dist"
   ]
  },
  {
   "cell_type": "code",
   "execution_count": 102,
   "id": "a85359bb-4ae3-4f0f-8403-ebe334672aca",
   "metadata": {},
   "outputs": [
    {
     "data": {
      "text/plain": [
       "Target\n",
       "Bumps           Pastry\n",
       "Dirtiness    Dirtiness\n",
       "K_Scatch      K_Scatch\n",
       "Pastry          Pastry\n",
       "Stains          Stains\n",
       "Z_Scratch    Z_Scratch\n",
       "dtype: object"
      ]
     },
     "execution_count": 102,
     "metadata": {},
     "output_type": "execute_result"
    }
   ],
   "source": [
    "df_euc_dist.apply(lambda s: df_euc_dist.columns[np.argmin(s[1:]) + 1], axis=1)  # Quanto menor mais similar"
   ]
  }
 ],
 "metadata": {
  "kernelspec": {
   "display_name": "Python 3 (ipykernel)",
   "language": "python",
   "name": "python3"
  },
  "language_info": {
   "codemirror_mode": {
    "name": "ipython",
    "version": 3
   },
   "file_extension": ".py",
   "mimetype": "text/x-python",
   "name": "python",
   "nbconvert_exporter": "python",
   "pygments_lexer": "ipython3",
   "version": "3.11.0"
  }
 },
 "nbformat": 4,
 "nbformat_minor": 5
}
