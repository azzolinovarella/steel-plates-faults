{
 "cells": [
  {
   "cell_type": "markdown",
   "id": "89660e94-a1a1-4dca-a4cb-ac323b45098a",
   "metadata": {},
   "source": [
    "# 02 - Análise Exploratória Básica\n",
    "\n",
    "Neste notebook, busca-se realizar uma análise exploratória básica dos dados para auxiliar no treinamento dos modelos."
   ]
  },
  {
   "cell_type": "markdown",
   "id": "03b40438-8600-4790-86f4-b33aa712b519",
   "metadata": {},
   "source": [
    "## Importações"
   ]
  },
  {
   "cell_type": "code",
   "execution_count": 1,
   "id": "f4ee63bc-22af-48e0-8722-b3edb7a2fd39",
   "metadata": {},
   "outputs": [],
   "source": [
    "# Bibliotecas padrão\n",
    "import pickle\n",
    "\n",
    "# Bibliotecas utilitárias de terceiros\n",
    "import numpy as np\n",
    "import pandas as pd\n",
    "import plotly.graph_objects as go\n",
    "from sklearn.metrics.pairwise import euclidean_distances, cosine_similarity\n",
    "from sklearn.preprocessing import StandardScaler\n",
    "\n",
    "# Pessoal\n",
    "from useful.constants import RED, YELLOW, GREEN, PALETTE\n",
    "from useful.config import set_default_configs\n",
    "from useful.plotly_tools import export_fig"
   ]
  },
  {
   "cell_type": "markdown",
   "id": "d2732db4-ce79-4dc7-8cfd-34dbf746fbe4",
   "metadata": {},
   "source": [
    "## Configurações padrão"
   ]
  },
  {
   "cell_type": "code",
   "execution_count": 2,
   "id": "6f1aecdb-68f8-4134-9abe-65bb92521d4c",
   "metadata": {},
   "outputs": [],
   "source": [
    "set_default_configs()  # Remover warnings, aumentar quantidade de colunas no pandas e setar seed"
   ]
  },
  {
   "cell_type": "markdown",
   "id": "546ab56c-7483-42c9-9056-ed91aa96d6c3",
   "metadata": {},
   "source": [
    "## Scripts"
   ]
  },
  {
   "cell_type": "markdown",
   "id": "d166e6ec",
   "metadata": {},
   "source": [
    "### Leitura"
   ]
  },
  {
   "cell_type": "markdown",
   "id": "1c69b3b0",
   "metadata": {},
   "source": [
    "#### Base de dados"
   ]
  },
  {
   "cell_type": "markdown",
   "id": "903befce",
   "metadata": {},
   "source": [
    "Como primeiro passo vamos realizar a leitura dos dados pré-tratados anteriormente."
   ]
  },
  {
   "cell_type": "code",
   "execution_count": 3,
   "id": "092457dc",
   "metadata": {},
   "outputs": [
    {
     "data": {
      "text/html": [
       "<div>\n",
       "<style scoped>\n",
       "    .dataframe tbody tr th:only-of-type {\n",
       "        vertical-align: middle;\n",
       "    }\n",
       "\n",
       "    .dataframe tbody tr th {\n",
       "        vertical-align: top;\n",
       "    }\n",
       "\n",
       "    .dataframe thead th {\n",
       "        text-align: right;\n",
       "    }\n",
       "</style>\n",
       "<table border=\"1\" class=\"dataframe\">\n",
       "  <thead>\n",
       "    <tr style=\"text-align: right;\">\n",
       "      <th></th>\n",
       "      <th>X_Minimum</th>\n",
       "      <th>X_Maximum</th>\n",
       "      <th>Y_Minimum</th>\n",
       "      <th>Y_Maximum</th>\n",
       "      <th>Pixels_Areas</th>\n",
       "      <th>X_Perimeter</th>\n",
       "      <th>Y_Perimeter</th>\n",
       "      <th>Sum_of_Luminosity</th>\n",
       "      <th>Minimum_of_Luminosity</th>\n",
       "      <th>Maximum_of_Luminosity</th>\n",
       "      <th>Length_of_Conveyer</th>\n",
       "      <th>TypeOfSteel_A300</th>\n",
       "      <th>TypeOfSteel_A400</th>\n",
       "      <th>Steel_Plate_Thickness</th>\n",
       "      <th>Edges_Index</th>\n",
       "      <th>Empty_Index</th>\n",
       "      <th>Square_Index</th>\n",
       "      <th>Outside_X_Index</th>\n",
       "      <th>Edges_X_Index</th>\n",
       "      <th>Edges_Y_Index</th>\n",
       "      <th>Outside_Global_Index</th>\n",
       "      <th>LogOfAreas</th>\n",
       "      <th>Log_X_Index</th>\n",
       "      <th>Log_Y_Index</th>\n",
       "      <th>Orientation_Index</th>\n",
       "      <th>Luminosity_Index</th>\n",
       "      <th>SigmoidOfAreas</th>\n",
       "      <th>Target</th>\n",
       "    </tr>\n",
       "  </thead>\n",
       "  <tbody>\n",
       "    <tr>\n",
       "      <th>0</th>\n",
       "      <td>42.0</td>\n",
       "      <td>50.0</td>\n",
       "      <td>270900.0</td>\n",
       "      <td>270944.0</td>\n",
       "      <td>267.0</td>\n",
       "      <td>17.0</td>\n",
       "      <td>44.0</td>\n",
       "      <td>24220.0</td>\n",
       "      <td>76.0</td>\n",
       "      <td>108.0</td>\n",
       "      <td>1687.0</td>\n",
       "      <td>1.0</td>\n",
       "      <td>0.0</td>\n",
       "      <td>80.0</td>\n",
       "      <td>0.0498</td>\n",
       "      <td>0.2415</td>\n",
       "      <td>0.1818</td>\n",
       "      <td>0.0047</td>\n",
       "      <td>0.4706</td>\n",
       "      <td>1.0000</td>\n",
       "      <td>1.0</td>\n",
       "      <td>2.4265</td>\n",
       "      <td>0.9031</td>\n",
       "      <td>1.6435</td>\n",
       "      <td>0.8182</td>\n",
       "      <td>-0.2913</td>\n",
       "      <td>0.5822</td>\n",
       "      <td>0</td>\n",
       "    </tr>\n",
       "    <tr>\n",
       "      <th>1</th>\n",
       "      <td>645.0</td>\n",
       "      <td>651.0</td>\n",
       "      <td>2538079.0</td>\n",
       "      <td>2538108.0</td>\n",
       "      <td>108.0</td>\n",
       "      <td>10.0</td>\n",
       "      <td>30.0</td>\n",
       "      <td>11397.0</td>\n",
       "      <td>84.0</td>\n",
       "      <td>123.0</td>\n",
       "      <td>1687.0</td>\n",
       "      <td>1.0</td>\n",
       "      <td>0.0</td>\n",
       "      <td>80.0</td>\n",
       "      <td>0.7647</td>\n",
       "      <td>0.3793</td>\n",
       "      <td>0.2069</td>\n",
       "      <td>0.0036</td>\n",
       "      <td>0.6000</td>\n",
       "      <td>0.9667</td>\n",
       "      <td>1.0</td>\n",
       "      <td>2.0334</td>\n",
       "      <td>0.7782</td>\n",
       "      <td>1.4624</td>\n",
       "      <td>0.7931</td>\n",
       "      <td>-0.1756</td>\n",
       "      <td>0.2984</td>\n",
       "      <td>0</td>\n",
       "    </tr>\n",
       "    <tr>\n",
       "      <th>2</th>\n",
       "      <td>829.0</td>\n",
       "      <td>835.0</td>\n",
       "      <td>1553913.0</td>\n",
       "      <td>1553931.0</td>\n",
       "      <td>71.0</td>\n",
       "      <td>8.0</td>\n",
       "      <td>19.0</td>\n",
       "      <td>7972.0</td>\n",
       "      <td>99.0</td>\n",
       "      <td>125.0</td>\n",
       "      <td>1623.0</td>\n",
       "      <td>1.0</td>\n",
       "      <td>0.0</td>\n",
       "      <td>100.0</td>\n",
       "      <td>0.9710</td>\n",
       "      <td>0.3426</td>\n",
       "      <td>0.3333</td>\n",
       "      <td>0.0037</td>\n",
       "      <td>0.7500</td>\n",
       "      <td>0.9474</td>\n",
       "      <td>1.0</td>\n",
       "      <td>1.8513</td>\n",
       "      <td>0.7782</td>\n",
       "      <td>1.2553</td>\n",
       "      <td>0.6667</td>\n",
       "      <td>-0.1228</td>\n",
       "      <td>0.2150</td>\n",
       "      <td>0</td>\n",
       "    </tr>\n",
       "    <tr>\n",
       "      <th>3</th>\n",
       "      <td>853.0</td>\n",
       "      <td>860.0</td>\n",
       "      <td>369370.0</td>\n",
       "      <td>369415.0</td>\n",
       "      <td>176.0</td>\n",
       "      <td>13.0</td>\n",
       "      <td>45.0</td>\n",
       "      <td>18996.0</td>\n",
       "      <td>99.0</td>\n",
       "      <td>126.0</td>\n",
       "      <td>1353.0</td>\n",
       "      <td>0.0</td>\n",
       "      <td>1.0</td>\n",
       "      <td>290.0</td>\n",
       "      <td>0.7287</td>\n",
       "      <td>0.4413</td>\n",
       "      <td>0.1556</td>\n",
       "      <td>0.0052</td>\n",
       "      <td>0.5385</td>\n",
       "      <td>1.0000</td>\n",
       "      <td>1.0</td>\n",
       "      <td>2.2455</td>\n",
       "      <td>0.8451</td>\n",
       "      <td>1.6532</td>\n",
       "      <td>0.8444</td>\n",
       "      <td>-0.1568</td>\n",
       "      <td>0.5212</td>\n",
       "      <td>0</td>\n",
       "    </tr>\n",
       "    <tr>\n",
       "      <th>4</th>\n",
       "      <td>1289.0</td>\n",
       "      <td>1306.0</td>\n",
       "      <td>498078.0</td>\n",
       "      <td>498335.0</td>\n",
       "      <td>2409.0</td>\n",
       "      <td>60.0</td>\n",
       "      <td>260.0</td>\n",
       "      <td>246930.0</td>\n",
       "      <td>37.0</td>\n",
       "      <td>126.0</td>\n",
       "      <td>1353.0</td>\n",
       "      <td>0.0</td>\n",
       "      <td>1.0</td>\n",
       "      <td>185.0</td>\n",
       "      <td>0.0695</td>\n",
       "      <td>0.4486</td>\n",
       "      <td>0.0662</td>\n",
       "      <td>0.0126</td>\n",
       "      <td>0.2833</td>\n",
       "      <td>0.9885</td>\n",
       "      <td>1.0</td>\n",
       "      <td>3.3818</td>\n",
       "      <td>1.2305</td>\n",
       "      <td>2.4099</td>\n",
       "      <td>0.9338</td>\n",
       "      <td>-0.1992</td>\n",
       "      <td>1.0000</td>\n",
       "      <td>0</td>\n",
       "    </tr>\n",
       "    <tr>\n",
       "      <th>...</th>\n",
       "      <td>...</td>\n",
       "      <td>...</td>\n",
       "      <td>...</td>\n",
       "      <td>...</td>\n",
       "      <td>...</td>\n",
       "      <td>...</td>\n",
       "      <td>...</td>\n",
       "      <td>...</td>\n",
       "      <td>...</td>\n",
       "      <td>...</td>\n",
       "      <td>...</td>\n",
       "      <td>...</td>\n",
       "      <td>...</td>\n",
       "      <td>...</td>\n",
       "      <td>...</td>\n",
       "      <td>...</td>\n",
       "      <td>...</td>\n",
       "      <td>...</td>\n",
       "      <td>...</td>\n",
       "      <td>...</td>\n",
       "      <td>...</td>\n",
       "      <td>...</td>\n",
       "      <td>...</td>\n",
       "      <td>...</td>\n",
       "      <td>...</td>\n",
       "      <td>...</td>\n",
       "      <td>...</td>\n",
       "      <td>...</td>\n",
       "    </tr>\n",
       "    <tr>\n",
       "      <th>1263</th>\n",
       "      <td>221.0</td>\n",
       "      <td>242.0</td>\n",
       "      <td>3948212.0</td>\n",
       "      <td>3948253.0</td>\n",
       "      <td>519.0</td>\n",
       "      <td>33.0</td>\n",
       "      <td>41.0</td>\n",
       "      <td>48309.0</td>\n",
       "      <td>65.0</td>\n",
       "      <td>124.0</td>\n",
       "      <td>1360.0</td>\n",
       "      <td>1.0</td>\n",
       "      <td>0.0</td>\n",
       "      <td>200.0</td>\n",
       "      <td>0.3250</td>\n",
       "      <td>0.3972</td>\n",
       "      <td>0.5122</td>\n",
       "      <td>0.0154</td>\n",
       "      <td>0.6364</td>\n",
       "      <td>1.0000</td>\n",
       "      <td>1.0</td>\n",
       "      <td>2.7152</td>\n",
       "      <td>1.3222</td>\n",
       "      <td>1.6128</td>\n",
       "      <td>0.4878</td>\n",
       "      <td>-0.2728</td>\n",
       "      <td>0.9765</td>\n",
       "      <td>5</td>\n",
       "    </tr>\n",
       "    <tr>\n",
       "      <th>1264</th>\n",
       "      <td>1111.0</td>\n",
       "      <td>1121.0</td>\n",
       "      <td>4032298.0</td>\n",
       "      <td>4032320.0</td>\n",
       "      <td>110.0</td>\n",
       "      <td>20.0</td>\n",
       "      <td>22.0</td>\n",
       "      <td>12351.0</td>\n",
       "      <td>100.0</td>\n",
       "      <td>127.0</td>\n",
       "      <td>1354.0</td>\n",
       "      <td>1.0</td>\n",
       "      <td>0.0</td>\n",
       "      <td>200.0</td>\n",
       "      <td>0.3442</td>\n",
       "      <td>0.5000</td>\n",
       "      <td>0.4545</td>\n",
       "      <td>0.0074</td>\n",
       "      <td>0.5000</td>\n",
       "      <td>1.0000</td>\n",
       "      <td>1.0</td>\n",
       "      <td>2.0414</td>\n",
       "      <td>1.0000</td>\n",
       "      <td>1.3424</td>\n",
       "      <td>0.5454</td>\n",
       "      <td>-0.1228</td>\n",
       "      <td>0.3663</td>\n",
       "      <td>5</td>\n",
       "    </tr>\n",
       "    <tr>\n",
       "      <th>1265</th>\n",
       "      <td>995.0</td>\n",
       "      <td>1006.0</td>\n",
       "      <td>4085316.0</td>\n",
       "      <td>4085344.0</td>\n",
       "      <td>140.0</td>\n",
       "      <td>25.0</td>\n",
       "      <td>28.0</td>\n",
       "      <td>16076.0</td>\n",
       "      <td>103.0</td>\n",
       "      <td>132.0</td>\n",
       "      <td>1356.0</td>\n",
       "      <td>1.0</td>\n",
       "      <td>0.0</td>\n",
       "      <td>200.0</td>\n",
       "      <td>0.5162</td>\n",
       "      <td>0.5454</td>\n",
       "      <td>0.3929</td>\n",
       "      <td>0.0081</td>\n",
       "      <td>0.4400</td>\n",
       "      <td>1.0000</td>\n",
       "      <td>1.0</td>\n",
       "      <td>2.1461</td>\n",
       "      <td>1.0414</td>\n",
       "      <td>1.4472</td>\n",
       "      <td>0.6071</td>\n",
       "      <td>-0.1029</td>\n",
       "      <td>0.5096</td>\n",
       "      <td>5</td>\n",
       "    </tr>\n",
       "    <tr>\n",
       "      <th>1266</th>\n",
       "      <td>396.0</td>\n",
       "      <td>418.0</td>\n",
       "      <td>4116853.0</td>\n",
       "      <td>4116868.0</td>\n",
       "      <td>231.0</td>\n",
       "      <td>26.0</td>\n",
       "      <td>16.0</td>\n",
       "      <td>25096.0</td>\n",
       "      <td>56.0</td>\n",
       "      <td>141.0</td>\n",
       "      <td>1356.0</td>\n",
       "      <td>1.0</td>\n",
       "      <td>0.0</td>\n",
       "      <td>200.0</td>\n",
       "      <td>0.5841</td>\n",
       "      <td>0.3000</td>\n",
       "      <td>0.6818</td>\n",
       "      <td>0.0162</td>\n",
       "      <td>0.8461</td>\n",
       "      <td>0.9375</td>\n",
       "      <td>0.0</td>\n",
       "      <td>2.3636</td>\n",
       "      <td>1.3424</td>\n",
       "      <td>1.1761</td>\n",
       "      <td>-0.3182</td>\n",
       "      <td>-0.1512</td>\n",
       "      <td>0.5461</td>\n",
       "      <td>5</td>\n",
       "    </tr>\n",
       "    <tr>\n",
       "      <th>1267</th>\n",
       "      <td>604.0</td>\n",
       "      <td>646.0</td>\n",
       "      <td>4441757.0</td>\n",
       "      <td>4441811.0</td>\n",
       "      <td>1035.0</td>\n",
       "      <td>67.0</td>\n",
       "      <td>55.0</td>\n",
       "      <td>97966.0</td>\n",
       "      <td>46.0</td>\n",
       "      <td>125.0</td>\n",
       "      <td>1356.0</td>\n",
       "      <td>1.0</td>\n",
       "      <td>0.0</td>\n",
       "      <td>200.0</td>\n",
       "      <td>0.8909</td>\n",
       "      <td>0.5436</td>\n",
       "      <td>0.7778</td>\n",
       "      <td>0.0310</td>\n",
       "      <td>0.6269</td>\n",
       "      <td>0.9818</td>\n",
       "      <td>1.0</td>\n",
       "      <td>3.0149</td>\n",
       "      <td>1.6233</td>\n",
       "      <td>1.7324</td>\n",
       "      <td>0.2222</td>\n",
       "      <td>-0.2605</td>\n",
       "      <td>1.0000</td>\n",
       "      <td>5</td>\n",
       "    </tr>\n",
       "  </tbody>\n",
       "</table>\n",
       "<p>1268 rows × 28 columns</p>\n",
       "</div>"
      ],
      "text/plain": [
       "      X_Minimum  X_Maximum  Y_Minimum  Y_Maximum  Pixels_Areas  X_Perimeter  \\\n",
       "0          42.0       50.0   270900.0   270944.0         267.0         17.0   \n",
       "1         645.0      651.0  2538079.0  2538108.0         108.0         10.0   \n",
       "2         829.0      835.0  1553913.0  1553931.0          71.0          8.0   \n",
       "3         853.0      860.0   369370.0   369415.0         176.0         13.0   \n",
       "4        1289.0     1306.0   498078.0   498335.0        2409.0         60.0   \n",
       "...         ...        ...        ...        ...           ...          ...   \n",
       "1263      221.0      242.0  3948212.0  3948253.0         519.0         33.0   \n",
       "1264     1111.0     1121.0  4032298.0  4032320.0         110.0         20.0   \n",
       "1265      995.0     1006.0  4085316.0  4085344.0         140.0         25.0   \n",
       "1266      396.0      418.0  4116853.0  4116868.0         231.0         26.0   \n",
       "1267      604.0      646.0  4441757.0  4441811.0        1035.0         67.0   \n",
       "\n",
       "      Y_Perimeter  Sum_of_Luminosity  Minimum_of_Luminosity  \\\n",
       "0            44.0            24220.0                   76.0   \n",
       "1            30.0            11397.0                   84.0   \n",
       "2            19.0             7972.0                   99.0   \n",
       "3            45.0            18996.0                   99.0   \n",
       "4           260.0           246930.0                   37.0   \n",
       "...           ...                ...                    ...   \n",
       "1263         41.0            48309.0                   65.0   \n",
       "1264         22.0            12351.0                  100.0   \n",
       "1265         28.0            16076.0                  103.0   \n",
       "1266         16.0            25096.0                   56.0   \n",
       "1267         55.0            97966.0                   46.0   \n",
       "\n",
       "      Maximum_of_Luminosity  Length_of_Conveyer  TypeOfSteel_A300  \\\n",
       "0                     108.0              1687.0               1.0   \n",
       "1                     123.0              1687.0               1.0   \n",
       "2                     125.0              1623.0               1.0   \n",
       "3                     126.0              1353.0               0.0   \n",
       "4                     126.0              1353.0               0.0   \n",
       "...                     ...                 ...               ...   \n",
       "1263                  124.0              1360.0               1.0   \n",
       "1264                  127.0              1354.0               1.0   \n",
       "1265                  132.0              1356.0               1.0   \n",
       "1266                  141.0              1356.0               1.0   \n",
       "1267                  125.0              1356.0               1.0   \n",
       "\n",
       "      TypeOfSteel_A400  Steel_Plate_Thickness  Edges_Index  Empty_Index  \\\n",
       "0                  0.0                   80.0       0.0498       0.2415   \n",
       "1                  0.0                   80.0       0.7647       0.3793   \n",
       "2                  0.0                  100.0       0.9710       0.3426   \n",
       "3                  1.0                  290.0       0.7287       0.4413   \n",
       "4                  1.0                  185.0       0.0695       0.4486   \n",
       "...                ...                    ...          ...          ...   \n",
       "1263               0.0                  200.0       0.3250       0.3972   \n",
       "1264               0.0                  200.0       0.3442       0.5000   \n",
       "1265               0.0                  200.0       0.5162       0.5454   \n",
       "1266               0.0                  200.0       0.5841       0.3000   \n",
       "1267               0.0                  200.0       0.8909       0.5436   \n",
       "\n",
       "      Square_Index  Outside_X_Index  Edges_X_Index  Edges_Y_Index  \\\n",
       "0           0.1818           0.0047         0.4706         1.0000   \n",
       "1           0.2069           0.0036         0.6000         0.9667   \n",
       "2           0.3333           0.0037         0.7500         0.9474   \n",
       "3           0.1556           0.0052         0.5385         1.0000   \n",
       "4           0.0662           0.0126         0.2833         0.9885   \n",
       "...            ...              ...            ...            ...   \n",
       "1263        0.5122           0.0154         0.6364         1.0000   \n",
       "1264        0.4545           0.0074         0.5000         1.0000   \n",
       "1265        0.3929           0.0081         0.4400         1.0000   \n",
       "1266        0.6818           0.0162         0.8461         0.9375   \n",
       "1267        0.7778           0.0310         0.6269         0.9818   \n",
       "\n",
       "      Outside_Global_Index  LogOfAreas  Log_X_Index  Log_Y_Index  \\\n",
       "0                      1.0      2.4265       0.9031       1.6435   \n",
       "1                      1.0      2.0334       0.7782       1.4624   \n",
       "2                      1.0      1.8513       0.7782       1.2553   \n",
       "3                      1.0      2.2455       0.8451       1.6532   \n",
       "4                      1.0      3.3818       1.2305       2.4099   \n",
       "...                    ...         ...          ...          ...   \n",
       "1263                   1.0      2.7152       1.3222       1.6128   \n",
       "1264                   1.0      2.0414       1.0000       1.3424   \n",
       "1265                   1.0      2.1461       1.0414       1.4472   \n",
       "1266                   0.0      2.3636       1.3424       1.1761   \n",
       "1267                   1.0      3.0149       1.6233       1.7324   \n",
       "\n",
       "      Orientation_Index  Luminosity_Index  SigmoidOfAreas  Target  \n",
       "0                0.8182           -0.2913          0.5822       0  \n",
       "1                0.7931           -0.1756          0.2984       0  \n",
       "2                0.6667           -0.1228          0.2150       0  \n",
       "3                0.8444           -0.1568          0.5212       0  \n",
       "4                0.9338           -0.1992          1.0000       0  \n",
       "...                 ...               ...             ...     ...  \n",
       "1263             0.4878           -0.2728          0.9765       5  \n",
       "1264             0.5454           -0.1228          0.3663       5  \n",
       "1265             0.6071           -0.1029          0.5096       5  \n",
       "1266            -0.3182           -0.1512          0.5461       5  \n",
       "1267             0.2222           -0.2605          1.0000       5  \n",
       "\n",
       "[1268 rows x 28 columns]"
      ]
     },
     "execution_count": 3,
     "metadata": {},
     "output_type": "execute_result"
    }
   ],
   "source": [
    "df = pd.read_pickle('../data/processed/steel-plates-fault.pkl')\n",
    "\n",
    "df"
   ]
  },
  {
   "cell_type": "markdown",
   "id": "714adbef",
   "metadata": {},
   "source": [
    "#### Mapa dos targets"
   ]
  },
  {
   "cell_type": "markdown",
   "id": "f949dd85",
   "metadata": {},
   "source": [
    "Em seguida, iremos realizar a importação do mapa dos targets. Isto irá facilitar na leitura dos gráficos e validação do problema:"
   ]
  },
  {
   "cell_type": "code",
   "execution_count": 4,
   "id": "4d095308",
   "metadata": {},
   "outputs": [
    {
     "data": {
      "text/plain": [
       "{0: 'Pastry',\n",
       " 1: 'Z_Scratch',\n",
       " 2: 'K_Scatch',\n",
       " 3: 'Stains',\n",
       " 4: 'Dirtiness',\n",
       " 5: 'Bumps'}"
      ]
     },
     "execution_count": 4,
     "metadata": {},
     "output_type": "execute_result"
    }
   ],
   "source": [
    "with open('../data/processed/target_maps.pkl', 'rb') as file: \n",
    "    targets_map = pickle.load(file)\n",
    "\n",
    "targets_map"
   ]
  },
  {
   "cell_type": "markdown",
   "id": "02f8a515-2ebc-4081-b6b3-53a4d149f962",
   "metadata": {},
   "source": [
    "### Análise exploratória"
   ]
  },
  {
   "cell_type": "markdown",
   "id": "29cc754d-4662-4f2f-9a0f-3bbb39eda36d",
   "metadata": {},
   "source": [
    "#### Análise de proporção de classes"
   ]
  },
  {
   "cell_type": "markdown",
   "id": "91e73455-a249-4079-93e3-37ef6472c5a6",
   "metadata": {},
   "source": [
    "Como uma primeira análise, vamos verificar a proporção das classes. Para tal, vamos primeiro observar os valores numéricos e em seguida vamos trazer um gráfico de barras destes valores. Para facilitar, vamos substituir os ids das classes pelos seus valores."
   ]
  },
  {
   "cell_type": "code",
   "execution_count": 5,
   "id": "8ead12c3-5dca-4748-be88-54b0c7084c16",
   "metadata": {},
   "outputs": [
    {
     "data": {
      "text/html": [
       "<div>\n",
       "<style scoped>\n",
       "    .dataframe tbody tr th:only-of-type {\n",
       "        vertical-align: middle;\n",
       "    }\n",
       "\n",
       "    .dataframe tbody tr th {\n",
       "        vertical-align: top;\n",
       "    }\n",
       "\n",
       "    .dataframe thead th {\n",
       "        text-align: right;\n",
       "    }\n",
       "</style>\n",
       "<table border=\"1\" class=\"dataframe\">\n",
       "  <thead>\n",
       "    <tr style=\"text-align: right;\">\n",
       "      <th></th>\n",
       "      <th>X_Minimum</th>\n",
       "      <th>X_Maximum</th>\n",
       "      <th>Y_Minimum</th>\n",
       "      <th>Y_Maximum</th>\n",
       "      <th>Pixels_Areas</th>\n",
       "      <th>X_Perimeter</th>\n",
       "      <th>Y_Perimeter</th>\n",
       "      <th>Sum_of_Luminosity</th>\n",
       "      <th>Minimum_of_Luminosity</th>\n",
       "      <th>Maximum_of_Luminosity</th>\n",
       "      <th>Length_of_Conveyer</th>\n",
       "      <th>TypeOfSteel_A300</th>\n",
       "      <th>TypeOfSteel_A400</th>\n",
       "      <th>Steel_Plate_Thickness</th>\n",
       "      <th>Edges_Index</th>\n",
       "      <th>Empty_Index</th>\n",
       "      <th>Square_Index</th>\n",
       "      <th>Outside_X_Index</th>\n",
       "      <th>Edges_X_Index</th>\n",
       "      <th>Edges_Y_Index</th>\n",
       "      <th>Outside_Global_Index</th>\n",
       "      <th>LogOfAreas</th>\n",
       "      <th>Log_X_Index</th>\n",
       "      <th>Log_Y_Index</th>\n",
       "      <th>Orientation_Index</th>\n",
       "      <th>Luminosity_Index</th>\n",
       "      <th>SigmoidOfAreas</th>\n",
       "      <th>Target</th>\n",
       "    </tr>\n",
       "  </thead>\n",
       "  <tbody>\n",
       "    <tr>\n",
       "      <th>0</th>\n",
       "      <td>42.0</td>\n",
       "      <td>50.0</td>\n",
       "      <td>270900.0</td>\n",
       "      <td>270944.0</td>\n",
       "      <td>267.0</td>\n",
       "      <td>17.0</td>\n",
       "      <td>44.0</td>\n",
       "      <td>24220.0</td>\n",
       "      <td>76.0</td>\n",
       "      <td>108.0</td>\n",
       "      <td>1687.0</td>\n",
       "      <td>1.0</td>\n",
       "      <td>0.0</td>\n",
       "      <td>80.0</td>\n",
       "      <td>0.0498</td>\n",
       "      <td>0.2415</td>\n",
       "      <td>0.1818</td>\n",
       "      <td>0.0047</td>\n",
       "      <td>0.4706</td>\n",
       "      <td>1.0000</td>\n",
       "      <td>1.0</td>\n",
       "      <td>2.4265</td>\n",
       "      <td>0.9031</td>\n",
       "      <td>1.6435</td>\n",
       "      <td>0.8182</td>\n",
       "      <td>-0.2913</td>\n",
       "      <td>0.5822</td>\n",
       "      <td>Pastry</td>\n",
       "    </tr>\n",
       "    <tr>\n",
       "      <th>1</th>\n",
       "      <td>645.0</td>\n",
       "      <td>651.0</td>\n",
       "      <td>2538079.0</td>\n",
       "      <td>2538108.0</td>\n",
       "      <td>108.0</td>\n",
       "      <td>10.0</td>\n",
       "      <td>30.0</td>\n",
       "      <td>11397.0</td>\n",
       "      <td>84.0</td>\n",
       "      <td>123.0</td>\n",
       "      <td>1687.0</td>\n",
       "      <td>1.0</td>\n",
       "      <td>0.0</td>\n",
       "      <td>80.0</td>\n",
       "      <td>0.7647</td>\n",
       "      <td>0.3793</td>\n",
       "      <td>0.2069</td>\n",
       "      <td>0.0036</td>\n",
       "      <td>0.6000</td>\n",
       "      <td>0.9667</td>\n",
       "      <td>1.0</td>\n",
       "      <td>2.0334</td>\n",
       "      <td>0.7782</td>\n",
       "      <td>1.4624</td>\n",
       "      <td>0.7931</td>\n",
       "      <td>-0.1756</td>\n",
       "      <td>0.2984</td>\n",
       "      <td>Pastry</td>\n",
       "    </tr>\n",
       "    <tr>\n",
       "      <th>2</th>\n",
       "      <td>829.0</td>\n",
       "      <td>835.0</td>\n",
       "      <td>1553913.0</td>\n",
       "      <td>1553931.0</td>\n",
       "      <td>71.0</td>\n",
       "      <td>8.0</td>\n",
       "      <td>19.0</td>\n",
       "      <td>7972.0</td>\n",
       "      <td>99.0</td>\n",
       "      <td>125.0</td>\n",
       "      <td>1623.0</td>\n",
       "      <td>1.0</td>\n",
       "      <td>0.0</td>\n",
       "      <td>100.0</td>\n",
       "      <td>0.9710</td>\n",
       "      <td>0.3426</td>\n",
       "      <td>0.3333</td>\n",
       "      <td>0.0037</td>\n",
       "      <td>0.7500</td>\n",
       "      <td>0.9474</td>\n",
       "      <td>1.0</td>\n",
       "      <td>1.8513</td>\n",
       "      <td>0.7782</td>\n",
       "      <td>1.2553</td>\n",
       "      <td>0.6667</td>\n",
       "      <td>-0.1228</td>\n",
       "      <td>0.2150</td>\n",
       "      <td>Pastry</td>\n",
       "    </tr>\n",
       "    <tr>\n",
       "      <th>3</th>\n",
       "      <td>853.0</td>\n",
       "      <td>860.0</td>\n",
       "      <td>369370.0</td>\n",
       "      <td>369415.0</td>\n",
       "      <td>176.0</td>\n",
       "      <td>13.0</td>\n",
       "      <td>45.0</td>\n",
       "      <td>18996.0</td>\n",
       "      <td>99.0</td>\n",
       "      <td>126.0</td>\n",
       "      <td>1353.0</td>\n",
       "      <td>0.0</td>\n",
       "      <td>1.0</td>\n",
       "      <td>290.0</td>\n",
       "      <td>0.7287</td>\n",
       "      <td>0.4413</td>\n",
       "      <td>0.1556</td>\n",
       "      <td>0.0052</td>\n",
       "      <td>0.5385</td>\n",
       "      <td>1.0000</td>\n",
       "      <td>1.0</td>\n",
       "      <td>2.2455</td>\n",
       "      <td>0.8451</td>\n",
       "      <td>1.6532</td>\n",
       "      <td>0.8444</td>\n",
       "      <td>-0.1568</td>\n",
       "      <td>0.5212</td>\n",
       "      <td>Pastry</td>\n",
       "    </tr>\n",
       "    <tr>\n",
       "      <th>4</th>\n",
       "      <td>1289.0</td>\n",
       "      <td>1306.0</td>\n",
       "      <td>498078.0</td>\n",
       "      <td>498335.0</td>\n",
       "      <td>2409.0</td>\n",
       "      <td>60.0</td>\n",
       "      <td>260.0</td>\n",
       "      <td>246930.0</td>\n",
       "      <td>37.0</td>\n",
       "      <td>126.0</td>\n",
       "      <td>1353.0</td>\n",
       "      <td>0.0</td>\n",
       "      <td>1.0</td>\n",
       "      <td>185.0</td>\n",
       "      <td>0.0695</td>\n",
       "      <td>0.4486</td>\n",
       "      <td>0.0662</td>\n",
       "      <td>0.0126</td>\n",
       "      <td>0.2833</td>\n",
       "      <td>0.9885</td>\n",
       "      <td>1.0</td>\n",
       "      <td>3.3818</td>\n",
       "      <td>1.2305</td>\n",
       "      <td>2.4099</td>\n",
       "      <td>0.9338</td>\n",
       "      <td>-0.1992</td>\n",
       "      <td>1.0000</td>\n",
       "      <td>Pastry</td>\n",
       "    </tr>\n",
       "    <tr>\n",
       "      <th>...</th>\n",
       "      <td>...</td>\n",
       "      <td>...</td>\n",
       "      <td>...</td>\n",
       "      <td>...</td>\n",
       "      <td>...</td>\n",
       "      <td>...</td>\n",
       "      <td>...</td>\n",
       "      <td>...</td>\n",
       "      <td>...</td>\n",
       "      <td>...</td>\n",
       "      <td>...</td>\n",
       "      <td>...</td>\n",
       "      <td>...</td>\n",
       "      <td>...</td>\n",
       "      <td>...</td>\n",
       "      <td>...</td>\n",
       "      <td>...</td>\n",
       "      <td>...</td>\n",
       "      <td>...</td>\n",
       "      <td>...</td>\n",
       "      <td>...</td>\n",
       "      <td>...</td>\n",
       "      <td>...</td>\n",
       "      <td>...</td>\n",
       "      <td>...</td>\n",
       "      <td>...</td>\n",
       "      <td>...</td>\n",
       "      <td>...</td>\n",
       "    </tr>\n",
       "    <tr>\n",
       "      <th>1263</th>\n",
       "      <td>221.0</td>\n",
       "      <td>242.0</td>\n",
       "      <td>3948212.0</td>\n",
       "      <td>3948253.0</td>\n",
       "      <td>519.0</td>\n",
       "      <td>33.0</td>\n",
       "      <td>41.0</td>\n",
       "      <td>48309.0</td>\n",
       "      <td>65.0</td>\n",
       "      <td>124.0</td>\n",
       "      <td>1360.0</td>\n",
       "      <td>1.0</td>\n",
       "      <td>0.0</td>\n",
       "      <td>200.0</td>\n",
       "      <td>0.3250</td>\n",
       "      <td>0.3972</td>\n",
       "      <td>0.5122</td>\n",
       "      <td>0.0154</td>\n",
       "      <td>0.6364</td>\n",
       "      <td>1.0000</td>\n",
       "      <td>1.0</td>\n",
       "      <td>2.7152</td>\n",
       "      <td>1.3222</td>\n",
       "      <td>1.6128</td>\n",
       "      <td>0.4878</td>\n",
       "      <td>-0.2728</td>\n",
       "      <td>0.9765</td>\n",
       "      <td>Bumps</td>\n",
       "    </tr>\n",
       "    <tr>\n",
       "      <th>1264</th>\n",
       "      <td>1111.0</td>\n",
       "      <td>1121.0</td>\n",
       "      <td>4032298.0</td>\n",
       "      <td>4032320.0</td>\n",
       "      <td>110.0</td>\n",
       "      <td>20.0</td>\n",
       "      <td>22.0</td>\n",
       "      <td>12351.0</td>\n",
       "      <td>100.0</td>\n",
       "      <td>127.0</td>\n",
       "      <td>1354.0</td>\n",
       "      <td>1.0</td>\n",
       "      <td>0.0</td>\n",
       "      <td>200.0</td>\n",
       "      <td>0.3442</td>\n",
       "      <td>0.5000</td>\n",
       "      <td>0.4545</td>\n",
       "      <td>0.0074</td>\n",
       "      <td>0.5000</td>\n",
       "      <td>1.0000</td>\n",
       "      <td>1.0</td>\n",
       "      <td>2.0414</td>\n",
       "      <td>1.0000</td>\n",
       "      <td>1.3424</td>\n",
       "      <td>0.5454</td>\n",
       "      <td>-0.1228</td>\n",
       "      <td>0.3663</td>\n",
       "      <td>Bumps</td>\n",
       "    </tr>\n",
       "    <tr>\n",
       "      <th>1265</th>\n",
       "      <td>995.0</td>\n",
       "      <td>1006.0</td>\n",
       "      <td>4085316.0</td>\n",
       "      <td>4085344.0</td>\n",
       "      <td>140.0</td>\n",
       "      <td>25.0</td>\n",
       "      <td>28.0</td>\n",
       "      <td>16076.0</td>\n",
       "      <td>103.0</td>\n",
       "      <td>132.0</td>\n",
       "      <td>1356.0</td>\n",
       "      <td>1.0</td>\n",
       "      <td>0.0</td>\n",
       "      <td>200.0</td>\n",
       "      <td>0.5162</td>\n",
       "      <td>0.5454</td>\n",
       "      <td>0.3929</td>\n",
       "      <td>0.0081</td>\n",
       "      <td>0.4400</td>\n",
       "      <td>1.0000</td>\n",
       "      <td>1.0</td>\n",
       "      <td>2.1461</td>\n",
       "      <td>1.0414</td>\n",
       "      <td>1.4472</td>\n",
       "      <td>0.6071</td>\n",
       "      <td>-0.1029</td>\n",
       "      <td>0.5096</td>\n",
       "      <td>Bumps</td>\n",
       "    </tr>\n",
       "    <tr>\n",
       "      <th>1266</th>\n",
       "      <td>396.0</td>\n",
       "      <td>418.0</td>\n",
       "      <td>4116853.0</td>\n",
       "      <td>4116868.0</td>\n",
       "      <td>231.0</td>\n",
       "      <td>26.0</td>\n",
       "      <td>16.0</td>\n",
       "      <td>25096.0</td>\n",
       "      <td>56.0</td>\n",
       "      <td>141.0</td>\n",
       "      <td>1356.0</td>\n",
       "      <td>1.0</td>\n",
       "      <td>0.0</td>\n",
       "      <td>200.0</td>\n",
       "      <td>0.5841</td>\n",
       "      <td>0.3000</td>\n",
       "      <td>0.6818</td>\n",
       "      <td>0.0162</td>\n",
       "      <td>0.8461</td>\n",
       "      <td>0.9375</td>\n",
       "      <td>0.0</td>\n",
       "      <td>2.3636</td>\n",
       "      <td>1.3424</td>\n",
       "      <td>1.1761</td>\n",
       "      <td>-0.3182</td>\n",
       "      <td>-0.1512</td>\n",
       "      <td>0.5461</td>\n",
       "      <td>Bumps</td>\n",
       "    </tr>\n",
       "    <tr>\n",
       "      <th>1267</th>\n",
       "      <td>604.0</td>\n",
       "      <td>646.0</td>\n",
       "      <td>4441757.0</td>\n",
       "      <td>4441811.0</td>\n",
       "      <td>1035.0</td>\n",
       "      <td>67.0</td>\n",
       "      <td>55.0</td>\n",
       "      <td>97966.0</td>\n",
       "      <td>46.0</td>\n",
       "      <td>125.0</td>\n",
       "      <td>1356.0</td>\n",
       "      <td>1.0</td>\n",
       "      <td>0.0</td>\n",
       "      <td>200.0</td>\n",
       "      <td>0.8909</td>\n",
       "      <td>0.5436</td>\n",
       "      <td>0.7778</td>\n",
       "      <td>0.0310</td>\n",
       "      <td>0.6269</td>\n",
       "      <td>0.9818</td>\n",
       "      <td>1.0</td>\n",
       "      <td>3.0149</td>\n",
       "      <td>1.6233</td>\n",
       "      <td>1.7324</td>\n",
       "      <td>0.2222</td>\n",
       "      <td>-0.2605</td>\n",
       "      <td>1.0000</td>\n",
       "      <td>Bumps</td>\n",
       "    </tr>\n",
       "  </tbody>\n",
       "</table>\n",
       "<p>1268 rows × 28 columns</p>\n",
       "</div>"
      ],
      "text/plain": [
       "      X_Minimum  X_Maximum  Y_Minimum  Y_Maximum  Pixels_Areas  X_Perimeter  \\\n",
       "0          42.0       50.0   270900.0   270944.0         267.0         17.0   \n",
       "1         645.0      651.0  2538079.0  2538108.0         108.0         10.0   \n",
       "2         829.0      835.0  1553913.0  1553931.0          71.0          8.0   \n",
       "3         853.0      860.0   369370.0   369415.0         176.0         13.0   \n",
       "4        1289.0     1306.0   498078.0   498335.0        2409.0         60.0   \n",
       "...         ...        ...        ...        ...           ...          ...   \n",
       "1263      221.0      242.0  3948212.0  3948253.0         519.0         33.0   \n",
       "1264     1111.0     1121.0  4032298.0  4032320.0         110.0         20.0   \n",
       "1265      995.0     1006.0  4085316.0  4085344.0         140.0         25.0   \n",
       "1266      396.0      418.0  4116853.0  4116868.0         231.0         26.0   \n",
       "1267      604.0      646.0  4441757.0  4441811.0        1035.0         67.0   \n",
       "\n",
       "      Y_Perimeter  Sum_of_Luminosity  Minimum_of_Luminosity  \\\n",
       "0            44.0            24220.0                   76.0   \n",
       "1            30.0            11397.0                   84.0   \n",
       "2            19.0             7972.0                   99.0   \n",
       "3            45.0            18996.0                   99.0   \n",
       "4           260.0           246930.0                   37.0   \n",
       "...           ...                ...                    ...   \n",
       "1263         41.0            48309.0                   65.0   \n",
       "1264         22.0            12351.0                  100.0   \n",
       "1265         28.0            16076.0                  103.0   \n",
       "1266         16.0            25096.0                   56.0   \n",
       "1267         55.0            97966.0                   46.0   \n",
       "\n",
       "      Maximum_of_Luminosity  Length_of_Conveyer  TypeOfSteel_A300  \\\n",
       "0                     108.0              1687.0               1.0   \n",
       "1                     123.0              1687.0               1.0   \n",
       "2                     125.0              1623.0               1.0   \n",
       "3                     126.0              1353.0               0.0   \n",
       "4                     126.0              1353.0               0.0   \n",
       "...                     ...                 ...               ...   \n",
       "1263                  124.0              1360.0               1.0   \n",
       "1264                  127.0              1354.0               1.0   \n",
       "1265                  132.0              1356.0               1.0   \n",
       "1266                  141.0              1356.0               1.0   \n",
       "1267                  125.0              1356.0               1.0   \n",
       "\n",
       "      TypeOfSteel_A400  Steel_Plate_Thickness  Edges_Index  Empty_Index  \\\n",
       "0                  0.0                   80.0       0.0498       0.2415   \n",
       "1                  0.0                   80.0       0.7647       0.3793   \n",
       "2                  0.0                  100.0       0.9710       0.3426   \n",
       "3                  1.0                  290.0       0.7287       0.4413   \n",
       "4                  1.0                  185.0       0.0695       0.4486   \n",
       "...                ...                    ...          ...          ...   \n",
       "1263               0.0                  200.0       0.3250       0.3972   \n",
       "1264               0.0                  200.0       0.3442       0.5000   \n",
       "1265               0.0                  200.0       0.5162       0.5454   \n",
       "1266               0.0                  200.0       0.5841       0.3000   \n",
       "1267               0.0                  200.0       0.8909       0.5436   \n",
       "\n",
       "      Square_Index  Outside_X_Index  Edges_X_Index  Edges_Y_Index  \\\n",
       "0           0.1818           0.0047         0.4706         1.0000   \n",
       "1           0.2069           0.0036         0.6000         0.9667   \n",
       "2           0.3333           0.0037         0.7500         0.9474   \n",
       "3           0.1556           0.0052         0.5385         1.0000   \n",
       "4           0.0662           0.0126         0.2833         0.9885   \n",
       "...            ...              ...            ...            ...   \n",
       "1263        0.5122           0.0154         0.6364         1.0000   \n",
       "1264        0.4545           0.0074         0.5000         1.0000   \n",
       "1265        0.3929           0.0081         0.4400         1.0000   \n",
       "1266        0.6818           0.0162         0.8461         0.9375   \n",
       "1267        0.7778           0.0310         0.6269         0.9818   \n",
       "\n",
       "      Outside_Global_Index  LogOfAreas  Log_X_Index  Log_Y_Index  \\\n",
       "0                      1.0      2.4265       0.9031       1.6435   \n",
       "1                      1.0      2.0334       0.7782       1.4624   \n",
       "2                      1.0      1.8513       0.7782       1.2553   \n",
       "3                      1.0      2.2455       0.8451       1.6532   \n",
       "4                      1.0      3.3818       1.2305       2.4099   \n",
       "...                    ...         ...          ...          ...   \n",
       "1263                   1.0      2.7152       1.3222       1.6128   \n",
       "1264                   1.0      2.0414       1.0000       1.3424   \n",
       "1265                   1.0      2.1461       1.0414       1.4472   \n",
       "1266                   0.0      2.3636       1.3424       1.1761   \n",
       "1267                   1.0      3.0149       1.6233       1.7324   \n",
       "\n",
       "      Orientation_Index  Luminosity_Index  SigmoidOfAreas  Target  \n",
       "0                0.8182           -0.2913          0.5822  Pastry  \n",
       "1                0.7931           -0.1756          0.2984  Pastry  \n",
       "2                0.6667           -0.1228          0.2150  Pastry  \n",
       "3                0.8444           -0.1568          0.5212  Pastry  \n",
       "4                0.9338           -0.1992          1.0000  Pastry  \n",
       "...                 ...               ...             ...     ...  \n",
       "1263             0.4878           -0.2728          0.9765   Bumps  \n",
       "1264             0.5454           -0.1228          0.3663   Bumps  \n",
       "1265             0.6071           -0.1029          0.5096   Bumps  \n",
       "1266            -0.3182           -0.1512          0.5461   Bumps  \n",
       "1267             0.2222           -0.2605          1.0000   Bumps  \n",
       "\n",
       "[1268 rows x 28 columns]"
      ]
     },
     "execution_count": 5,
     "metadata": {},
     "output_type": "execute_result"
    }
   ],
   "source": [
    "df['Target'] = df['Target'].replace(targets_map)\n",
    "\n",
    "df"
   ]
  },
  {
   "cell_type": "code",
   "execution_count": 6,
   "id": "822cbfd0-934d-4e9b-93b3-41ca21f293d7",
   "metadata": {},
   "outputs": [
    {
     "data": {
      "text/plain": [
       "Target\n",
       "Dirtiness    0.043375\n",
       "Stains       0.056782\n",
       "Pastry       0.124606\n",
       "Z_Scratch    0.149842\n",
       "K_Scatch     0.308360\n",
       "Bumps        0.317035\n",
       "Name: proportion, dtype: float64"
      ]
     },
     "execution_count": 6,
     "metadata": {},
     "output_type": "execute_result"
    }
   ],
   "source": [
    "target_prop = df['Target'].value_counts(ascending=True, normalize=True)\n",
    "\n",
    "target_prop"
   ]
  },
  {
   "cell_type": "code",
   "execution_count": 7,
   "id": "db4b7ba1-678e-4300-a60b-0a73ccb5bc75",
   "metadata": {
    "scrolled": true
   },
   "outputs": [
    {
     "data": {
      "application/vnd.plotly.v1+json": {
       "config": {
        "plotlyServerURL": "https://plot.ly"
       },
       "data": [
        {
         "marker": {
          "color": [
           4.337539432176656,
           5.678233438485805,
           12.46056782334385,
           14.98422712933754,
           30.83596214511041,
           31.703470031545745
          ],
          "colorscale": [
           [
            0,
            "#E06666"
           ],
           [
            0.5,
            "#FFEE8C"
           ],
           [
            1,
            "#90CDC3"
           ]
          ]
         },
         "text": [
          "4.34%",
          "5.68%",
          "12.46%",
          "14.98%",
          "30.84%",
          "31.7%"
         ],
         "type": "bar",
         "x": [
          "Dirtiness",
          "Stains",
          "Pastry",
          "Z_Scratch",
          "K_Scatch",
          "Bumps"
         ],
         "y": [
          4.337539432176656,
          5.678233438485805,
          12.46056782334385,
          14.98422712933754,
          30.83596214511041,
          31.703470031545745
         ]
        }
       ],
       "layout": {
        "autosize": true,
        "height": 600,
        "template": {
         "data": {
          "bar": [
           {
            "error_x": {
             "color": "#2a3f5f"
            },
            "error_y": {
             "color": "#2a3f5f"
            },
            "marker": {
             "line": {
              "color": "#E5ECF6",
              "width": 0.5
             },
             "pattern": {
              "fillmode": "overlay",
              "size": 10,
              "solidity": 0.2
             }
            },
            "type": "bar"
           }
          ],
          "barpolar": [
           {
            "marker": {
             "line": {
              "color": "#E5ECF6",
              "width": 0.5
             },
             "pattern": {
              "fillmode": "overlay",
              "size": 10,
              "solidity": 0.2
             }
            },
            "type": "barpolar"
           }
          ],
          "carpet": [
           {
            "aaxis": {
             "endlinecolor": "#2a3f5f",
             "gridcolor": "white",
             "linecolor": "white",
             "minorgridcolor": "white",
             "startlinecolor": "#2a3f5f"
            },
            "baxis": {
             "endlinecolor": "#2a3f5f",
             "gridcolor": "white",
             "linecolor": "white",
             "minorgridcolor": "white",
             "startlinecolor": "#2a3f5f"
            },
            "type": "carpet"
           }
          ],
          "choropleth": [
           {
            "colorbar": {
             "outlinewidth": 0,
             "ticks": ""
            },
            "type": "choropleth"
           }
          ],
          "contour": [
           {
            "colorbar": {
             "outlinewidth": 0,
             "ticks": ""
            },
            "colorscale": [
             [
              0,
              "#0d0887"
             ],
             [
              0.1111111111111111,
              "#46039f"
             ],
             [
              0.2222222222222222,
              "#7201a8"
             ],
             [
              0.3333333333333333,
              "#9c179e"
             ],
             [
              0.4444444444444444,
              "#bd3786"
             ],
             [
              0.5555555555555556,
              "#d8576b"
             ],
             [
              0.6666666666666666,
              "#ed7953"
             ],
             [
              0.7777777777777778,
              "#fb9f3a"
             ],
             [
              0.8888888888888888,
              "#fdca26"
             ],
             [
              1,
              "#f0f921"
             ]
            ],
            "type": "contour"
           }
          ],
          "contourcarpet": [
           {
            "colorbar": {
             "outlinewidth": 0,
             "ticks": ""
            },
            "type": "contourcarpet"
           }
          ],
          "heatmap": [
           {
            "colorbar": {
             "outlinewidth": 0,
             "ticks": ""
            },
            "colorscale": [
             [
              0,
              "#0d0887"
             ],
             [
              0.1111111111111111,
              "#46039f"
             ],
             [
              0.2222222222222222,
              "#7201a8"
             ],
             [
              0.3333333333333333,
              "#9c179e"
             ],
             [
              0.4444444444444444,
              "#bd3786"
             ],
             [
              0.5555555555555556,
              "#d8576b"
             ],
             [
              0.6666666666666666,
              "#ed7953"
             ],
             [
              0.7777777777777778,
              "#fb9f3a"
             ],
             [
              0.8888888888888888,
              "#fdca26"
             ],
             [
              1,
              "#f0f921"
             ]
            ],
            "type": "heatmap"
           }
          ],
          "heatmapgl": [
           {
            "colorbar": {
             "outlinewidth": 0,
             "ticks": ""
            },
            "colorscale": [
             [
              0,
              "#0d0887"
             ],
             [
              0.1111111111111111,
              "#46039f"
             ],
             [
              0.2222222222222222,
              "#7201a8"
             ],
             [
              0.3333333333333333,
              "#9c179e"
             ],
             [
              0.4444444444444444,
              "#bd3786"
             ],
             [
              0.5555555555555556,
              "#d8576b"
             ],
             [
              0.6666666666666666,
              "#ed7953"
             ],
             [
              0.7777777777777778,
              "#fb9f3a"
             ],
             [
              0.8888888888888888,
              "#fdca26"
             ],
             [
              1,
              "#f0f921"
             ]
            ],
            "type": "heatmapgl"
           }
          ],
          "histogram": [
           {
            "marker": {
             "pattern": {
              "fillmode": "overlay",
              "size": 10,
              "solidity": 0.2
             }
            },
            "type": "histogram"
           }
          ],
          "histogram2d": [
           {
            "colorbar": {
             "outlinewidth": 0,
             "ticks": ""
            },
            "colorscale": [
             [
              0,
              "#0d0887"
             ],
             [
              0.1111111111111111,
              "#46039f"
             ],
             [
              0.2222222222222222,
              "#7201a8"
             ],
             [
              0.3333333333333333,
              "#9c179e"
             ],
             [
              0.4444444444444444,
              "#bd3786"
             ],
             [
              0.5555555555555556,
              "#d8576b"
             ],
             [
              0.6666666666666666,
              "#ed7953"
             ],
             [
              0.7777777777777778,
              "#fb9f3a"
             ],
             [
              0.8888888888888888,
              "#fdca26"
             ],
             [
              1,
              "#f0f921"
             ]
            ],
            "type": "histogram2d"
           }
          ],
          "histogram2dcontour": [
           {
            "colorbar": {
             "outlinewidth": 0,
             "ticks": ""
            },
            "colorscale": [
             [
              0,
              "#0d0887"
             ],
             [
              0.1111111111111111,
              "#46039f"
             ],
             [
              0.2222222222222222,
              "#7201a8"
             ],
             [
              0.3333333333333333,
              "#9c179e"
             ],
             [
              0.4444444444444444,
              "#bd3786"
             ],
             [
              0.5555555555555556,
              "#d8576b"
             ],
             [
              0.6666666666666666,
              "#ed7953"
             ],
             [
              0.7777777777777778,
              "#fb9f3a"
             ],
             [
              0.8888888888888888,
              "#fdca26"
             ],
             [
              1,
              "#f0f921"
             ]
            ],
            "type": "histogram2dcontour"
           }
          ],
          "mesh3d": [
           {
            "colorbar": {
             "outlinewidth": 0,
             "ticks": ""
            },
            "type": "mesh3d"
           }
          ],
          "parcoords": [
           {
            "line": {
             "colorbar": {
              "outlinewidth": 0,
              "ticks": ""
             }
            },
            "type": "parcoords"
           }
          ],
          "pie": [
           {
            "automargin": true,
            "type": "pie"
           }
          ],
          "scatter": [
           {
            "fillpattern": {
             "fillmode": "overlay",
             "size": 10,
             "solidity": 0.2
            },
            "type": "scatter"
           }
          ],
          "scatter3d": [
           {
            "line": {
             "colorbar": {
              "outlinewidth": 0,
              "ticks": ""
             }
            },
            "marker": {
             "colorbar": {
              "outlinewidth": 0,
              "ticks": ""
             }
            },
            "type": "scatter3d"
           }
          ],
          "scattercarpet": [
           {
            "marker": {
             "colorbar": {
              "outlinewidth": 0,
              "ticks": ""
             }
            },
            "type": "scattercarpet"
           }
          ],
          "scattergeo": [
           {
            "marker": {
             "colorbar": {
              "outlinewidth": 0,
              "ticks": ""
             }
            },
            "type": "scattergeo"
           }
          ],
          "scattergl": [
           {
            "marker": {
             "colorbar": {
              "outlinewidth": 0,
              "ticks": ""
             }
            },
            "type": "scattergl"
           }
          ],
          "scattermapbox": [
           {
            "marker": {
             "colorbar": {
              "outlinewidth": 0,
              "ticks": ""
             }
            },
            "type": "scattermapbox"
           }
          ],
          "scatterpolar": [
           {
            "marker": {
             "colorbar": {
              "outlinewidth": 0,
              "ticks": ""
             }
            },
            "type": "scatterpolar"
           }
          ],
          "scatterpolargl": [
           {
            "marker": {
             "colorbar": {
              "outlinewidth": 0,
              "ticks": ""
             }
            },
            "type": "scatterpolargl"
           }
          ],
          "scatterternary": [
           {
            "marker": {
             "colorbar": {
              "outlinewidth": 0,
              "ticks": ""
             }
            },
            "type": "scatterternary"
           }
          ],
          "surface": [
           {
            "colorbar": {
             "outlinewidth": 0,
             "ticks": ""
            },
            "colorscale": [
             [
              0,
              "#0d0887"
             ],
             [
              0.1111111111111111,
              "#46039f"
             ],
             [
              0.2222222222222222,
              "#7201a8"
             ],
             [
              0.3333333333333333,
              "#9c179e"
             ],
             [
              0.4444444444444444,
              "#bd3786"
             ],
             [
              0.5555555555555556,
              "#d8576b"
             ],
             [
              0.6666666666666666,
              "#ed7953"
             ],
             [
              0.7777777777777778,
              "#fb9f3a"
             ],
             [
              0.8888888888888888,
              "#fdca26"
             ],
             [
              1,
              "#f0f921"
             ]
            ],
            "type": "surface"
           }
          ],
          "table": [
           {
            "cells": {
             "fill": {
              "color": "#EBF0F8"
             },
             "line": {
              "color": "white"
             }
            },
            "header": {
             "fill": {
              "color": "#C8D4E3"
             },
             "line": {
              "color": "white"
             }
            },
            "type": "table"
           }
          ]
         },
         "layout": {
          "annotationdefaults": {
           "arrowcolor": "#2a3f5f",
           "arrowhead": 0,
           "arrowwidth": 1
          },
          "autotypenumbers": "strict",
          "coloraxis": {
           "colorbar": {
            "outlinewidth": 0,
            "ticks": ""
           }
          },
          "colorscale": {
           "diverging": [
            [
             0,
             "#8e0152"
            ],
            [
             0.1,
             "#c51b7d"
            ],
            [
             0.2,
             "#de77ae"
            ],
            [
             0.3,
             "#f1b6da"
            ],
            [
             0.4,
             "#fde0ef"
            ],
            [
             0.5,
             "#f7f7f7"
            ],
            [
             0.6,
             "#e6f5d0"
            ],
            [
             0.7,
             "#b8e186"
            ],
            [
             0.8,
             "#7fbc41"
            ],
            [
             0.9,
             "#4d9221"
            ],
            [
             1,
             "#276419"
            ]
           ],
           "sequential": [
            [
             0,
             "#0d0887"
            ],
            [
             0.1111111111111111,
             "#46039f"
            ],
            [
             0.2222222222222222,
             "#7201a8"
            ],
            [
             0.3333333333333333,
             "#9c179e"
            ],
            [
             0.4444444444444444,
             "#bd3786"
            ],
            [
             0.5555555555555556,
             "#d8576b"
            ],
            [
             0.6666666666666666,
             "#ed7953"
            ],
            [
             0.7777777777777778,
             "#fb9f3a"
            ],
            [
             0.8888888888888888,
             "#fdca26"
            ],
            [
             1,
             "#f0f921"
            ]
           ],
           "sequentialminus": [
            [
             0,
             "#0d0887"
            ],
            [
             0.1111111111111111,
             "#46039f"
            ],
            [
             0.2222222222222222,
             "#7201a8"
            ],
            [
             0.3333333333333333,
             "#9c179e"
            ],
            [
             0.4444444444444444,
             "#bd3786"
            ],
            [
             0.5555555555555556,
             "#d8576b"
            ],
            [
             0.6666666666666666,
             "#ed7953"
            ],
            [
             0.7777777777777778,
             "#fb9f3a"
            ],
            [
             0.8888888888888888,
             "#fdca26"
            ],
            [
             1,
             "#f0f921"
            ]
           ]
          },
          "colorway": [
           "#636efa",
           "#EF553B",
           "#00cc96",
           "#ab63fa",
           "#FFA15A",
           "#19d3f3",
           "#FF6692",
           "#B6E880",
           "#FF97FF",
           "#FECB52"
          ],
          "font": {
           "color": "#2a3f5f"
          },
          "geo": {
           "bgcolor": "white",
           "lakecolor": "white",
           "landcolor": "#E5ECF6",
           "showlakes": true,
           "showland": true,
           "subunitcolor": "white"
          },
          "hoverlabel": {
           "align": "left"
          },
          "hovermode": "closest",
          "mapbox": {
           "style": "light"
          },
          "paper_bgcolor": "white",
          "plot_bgcolor": "#E5ECF6",
          "polar": {
           "angularaxis": {
            "gridcolor": "white",
            "linecolor": "white",
            "ticks": ""
           },
           "bgcolor": "#E5ECF6",
           "radialaxis": {
            "gridcolor": "white",
            "linecolor": "white",
            "ticks": ""
           }
          },
          "scene": {
           "xaxis": {
            "backgroundcolor": "#E5ECF6",
            "gridcolor": "white",
            "gridwidth": 2,
            "linecolor": "white",
            "showbackground": true,
            "ticks": "",
            "zerolinecolor": "white"
           },
           "yaxis": {
            "backgroundcolor": "#E5ECF6",
            "gridcolor": "white",
            "gridwidth": 2,
            "linecolor": "white",
            "showbackground": true,
            "ticks": "",
            "zerolinecolor": "white"
           },
           "zaxis": {
            "backgroundcolor": "#E5ECF6",
            "gridcolor": "white",
            "gridwidth": 2,
            "linecolor": "white",
            "showbackground": true,
            "ticks": "",
            "zerolinecolor": "white"
           }
          },
          "shapedefaults": {
           "line": {
            "color": "#2a3f5f"
           }
          },
          "ternary": {
           "aaxis": {
            "gridcolor": "white",
            "linecolor": "white",
            "ticks": ""
           },
           "baxis": {
            "gridcolor": "white",
            "linecolor": "white",
            "ticks": ""
           },
           "bgcolor": "#E5ECF6",
           "caxis": {
            "gridcolor": "white",
            "linecolor": "white",
            "ticks": ""
           }
          },
          "title": {
           "x": 0.05
          },
          "xaxis": {
           "automargin": true,
           "gridcolor": "white",
           "linecolor": "white",
           "ticks": "",
           "title": {
            "standoff": 15
           },
           "zerolinecolor": "white",
           "zerolinewidth": 2
          },
          "yaxis": {
           "automargin": true,
           "gridcolor": "white",
           "linecolor": "white",
           "ticks": "",
           "title": {
            "standoff": 15
           },
           "zerolinecolor": "white",
           "zerolinewidth": 2
          }
         }
        },
        "title": {
         "text": "Proporção das classes na base de dados utilizada"
        },
        "xaxis": {
         "title": {
          "text": "Classe"
         }
        },
        "yaxis": {
         "title": {
          "text": "Proporção (%)"
         }
        }
       }
      }
     },
     "metadata": {},
     "output_type": "display_data"
    }
   ],
   "source": [
    "x_fig1 = target_prop.index\n",
    "y_fig1 = target_prop.values * 100\n",
    "\n",
    "fig1 = go.Figure()\n",
    "fig1.add_trace(go.Bar(x=x_fig1, y=y_fig1, text=[f'{np.round(yy, 2)}%' for yy in y_fig1],\n",
    "                      marker=dict(color=y_fig1, colorscale=[[0, RED], [0.5, YELLOW], [1, GREEN]])))\n",
    "fig1.update_layout(title='Proporção das classes na base de dados utilizada', yaxis_title='Proporção (%)', xaxis_title='Classe',\n",
    "                   height=600, autosize=True)\n",
    "export_fig(fig1, 'class_prop', '../figs/eda')\n",
    "fig1.show()"
   ]
  },
  {
   "cell_type": "markdown",
   "id": "0cac76a6-4ba4-46d5-9d1a-9d9d17690adc",
   "metadata": {},
   "source": [
    "#### Análise de similaridade das classes"
   ]
  },
  {
   "cell_type": "markdown",
   "id": "eacf5074-d983-4833-a5a7-0939a78de272",
   "metadata": {},
   "source": [
    "Outra análise passível de ser realizada é a de similaridade entre as classes. Para tal, pode-se calcular os centroides das classes com base no valor médio de cada variável que descreve cada uma das classes e identificar a similaridade euclidiana entre os centroides. Antes de mais nada vamos encontrar os centroides. Para que seja possível computar as distâncias é necessário escalonar os dados, visto que as variáveis são de escalas diferentes. Com isso, vamos realizar esta etapa:"
   ]
  },
  {
   "cell_type": "code",
   "execution_count": 8,
   "id": "dcddeb35-4091-460b-bb7d-6f0c299e9995",
   "metadata": {
    "scrolled": true
   },
   "outputs": [
    {
     "data": {
      "text/html": [
       "<div>\n",
       "<style scoped>\n",
       "    .dataframe tbody tr th:only-of-type {\n",
       "        vertical-align: middle;\n",
       "    }\n",
       "\n",
       "    .dataframe tbody tr th {\n",
       "        vertical-align: top;\n",
       "    }\n",
       "\n",
       "    .dataframe thead th {\n",
       "        text-align: right;\n",
       "    }\n",
       "</style>\n",
       "<table border=\"1\" class=\"dataframe\">\n",
       "  <thead>\n",
       "    <tr style=\"text-align: right;\">\n",
       "      <th></th>\n",
       "      <th>X_Minimum</th>\n",
       "      <th>X_Maximum</th>\n",
       "      <th>Y_Minimum</th>\n",
       "      <th>Y_Maximum</th>\n",
       "      <th>Pixels_Areas</th>\n",
       "      <th>X_Perimeter</th>\n",
       "      <th>Y_Perimeter</th>\n",
       "      <th>Sum_of_Luminosity</th>\n",
       "      <th>Minimum_of_Luminosity</th>\n",
       "      <th>Maximum_of_Luminosity</th>\n",
       "      <th>Length_of_Conveyer</th>\n",
       "      <th>TypeOfSteel_A300</th>\n",
       "      <th>TypeOfSteel_A400</th>\n",
       "      <th>Steel_Plate_Thickness</th>\n",
       "      <th>Edges_Index</th>\n",
       "      <th>Empty_Index</th>\n",
       "      <th>Square_Index</th>\n",
       "      <th>Outside_X_Index</th>\n",
       "      <th>Edges_X_Index</th>\n",
       "      <th>Edges_Y_Index</th>\n",
       "      <th>Outside_Global_Index</th>\n",
       "      <th>LogOfAreas</th>\n",
       "      <th>Log_X_Index</th>\n",
       "      <th>Log_Y_Index</th>\n",
       "      <th>Orientation_Index</th>\n",
       "      <th>Luminosity_Index</th>\n",
       "      <th>SigmoidOfAreas</th>\n",
       "    </tr>\n",
       "    <tr>\n",
       "      <th>Target</th>\n",
       "      <th></th>\n",
       "      <th></th>\n",
       "      <th></th>\n",
       "      <th></th>\n",
       "      <th></th>\n",
       "      <th></th>\n",
       "      <th></th>\n",
       "      <th></th>\n",
       "      <th></th>\n",
       "      <th></th>\n",
       "      <th></th>\n",
       "      <th></th>\n",
       "      <th></th>\n",
       "      <th></th>\n",
       "      <th></th>\n",
       "      <th></th>\n",
       "      <th></th>\n",
       "      <th></th>\n",
       "      <th></th>\n",
       "      <th></th>\n",
       "      <th></th>\n",
       "      <th></th>\n",
       "      <th></th>\n",
       "      <th></th>\n",
       "      <th></th>\n",
       "      <th></th>\n",
       "      <th></th>\n",
       "    </tr>\n",
       "  </thead>\n",
       "  <tbody>\n",
       "    <tr>\n",
       "      <th>Pastry</th>\n",
       "      <td>0.612130</td>\n",
       "      <td>0.563036</td>\n",
       "      <td>-0.396061</td>\n",
       "      <td>-0.396084</td>\n",
       "      <td>-0.389830</td>\n",
       "      <td>-0.340400</td>\n",
       "      <td>-0.139750</td>\n",
       "      <td>-0.435992</td>\n",
       "      <td>0.024231</td>\n",
       "      <td>-0.258272</td>\n",
       "      <td>1.477276</td>\n",
       "      <td>-0.821604</td>\n",
       "      <td>0.821604</td>\n",
       "      <td>0.527090</td>\n",
       "      <td>-0.528792</td>\n",
       "      <td>-0.661941</td>\n",
       "      <td>-0.968788</td>\n",
       "      <td>-0.545976</td>\n",
       "      <td>-0.402675</td>\n",
       "      <td>0.818666</td>\n",
       "      <td>0.904270</td>\n",
       "      <td>-0.321921</td>\n",
       "      <td>-0.727198</td>\n",
       "      <td>0.058652</td>\n",
       "      <td>1.238823</td>\n",
       "      <td>-0.315626</td>\n",
       "      <td>-0.284437</td>\n",
       "    </tr>\n",
       "    <tr>\n",
       "      <th>Z_Scratch</th>\n",
       "      <td>-0.784012</td>\n",
       "      <td>-0.919000</td>\n",
       "      <td>-0.304646</td>\n",
       "      <td>-0.304654</td>\n",
       "      <td>-0.400150</td>\n",
       "      <td>-0.318297</td>\n",
       "      <td>-0.154066</td>\n",
       "      <td>-0.444719</td>\n",
       "      <td>0.422849</td>\n",
       "      <td>-0.378408</td>\n",
       "      <td>-0.650301</td>\n",
       "      <td>1.217131</td>\n",
       "      <td>-1.217131</td>\n",
       "      <td>0.109371</td>\n",
       "      <td>-0.521532</td>\n",
       "      <td>0.373019</td>\n",
       "      <td>-0.022284</td>\n",
       "      <td>-0.474349</td>\n",
       "      <td>-0.402675</td>\n",
       "      <td>0.532506</td>\n",
       "      <td>0.904270</td>\n",
       "      <td>-0.498930</td>\n",
       "      <td>-0.397917</td>\n",
       "      <td>-0.332949</td>\n",
       "      <td>0.587100</td>\n",
       "      <td>-0.210378</td>\n",
       "      <td>-0.439103</td>\n",
       "    </tr>\n",
       "    <tr>\n",
       "      <th>K_Scatch</th>\n",
       "      <td>-0.910580</td>\n",
       "      <td>-0.734006</td>\n",
       "      <td>-0.144008</td>\n",
       "      <td>-0.143933</td>\n",
       "      <td>0.604767</td>\n",
       "      <td>0.353077</td>\n",
       "      <td>0.067348</td>\n",
       "      <td>0.618239</td>\n",
       "      <td>-1.171626</td>\n",
       "      <td>0.222270</td>\n",
       "      <td>-0.606584</td>\n",
       "      <td>-0.821604</td>\n",
       "      <td>0.821604</td>\n",
       "      <td>-0.726067</td>\n",
       "      <td>-0.830910</td>\n",
       "      <td>0.353985</td>\n",
       "      <td>-0.475092</td>\n",
       "      <td>1.161794</td>\n",
       "      <td>0.089627</td>\n",
       "      <td>-1.361125</td>\n",
       "      <td>-1.161702</td>\n",
       "      <td>1.357706</td>\n",
       "      <td>1.498491</td>\n",
       "      <td>0.789179</td>\n",
       "      <td>-1.204543</td>\n",
       "      <td>-0.150495</td>\n",
       "      <td>1.114140</td>\n",
       "    </tr>\n",
       "    <tr>\n",
       "      <th>Stains</th>\n",
       "      <td>0.477773</td>\n",
       "      <td>0.406103</td>\n",
       "      <td>-0.364397</td>\n",
       "      <td>-0.364428</td>\n",
       "      <td>-0.421362</td>\n",
       "      <td>-0.376317</td>\n",
       "      <td>-0.189377</td>\n",
       "      <td>-0.467998</td>\n",
       "      <td>1.097435</td>\n",
       "      <td>0.582676</td>\n",
       "      <td>-0.635729</td>\n",
       "      <td>-0.821604</td>\n",
       "      <td>0.821604</td>\n",
       "      <td>-0.447587</td>\n",
       "      <td>0.923223</td>\n",
       "      <td>-0.007673</td>\n",
       "      <td>0.432037</td>\n",
       "      <td>-0.581386</td>\n",
       "      <td>1.667563</td>\n",
       "      <td>0.818666</td>\n",
       "      <td>-1.161702</td>\n",
       "      <td>-1.575248</td>\n",
       "      <td>-1.141932</td>\n",
       "      <td>-1.826484</td>\n",
       "      <td>-0.693192</td>\n",
       "      <td>0.965499</td>\n",
       "      <td>-1.351362</td>\n",
       "    </tr>\n",
       "    <tr>\n",
       "      <th>Dirtiness</th>\n",
       "      <td>0.226585</td>\n",
       "      <td>0.147318</td>\n",
       "      <td>0.166576</td>\n",
       "      <td>0.166589</td>\n",
       "      <td>-0.400314</td>\n",
       "      <td>-0.318297</td>\n",
       "      <td>-0.131161</td>\n",
       "      <td>-0.442772</td>\n",
       "      <td>0.852131</td>\n",
       "      <td>0.102134</td>\n",
       "      <td>-0.592011</td>\n",
       "      <td>-0.821604</td>\n",
       "      <td>0.821604</td>\n",
       "      <td>0.944809</td>\n",
       "      <td>1.937158</td>\n",
       "      <td>-0.077467</td>\n",
       "      <td>-1.497694</td>\n",
       "      <td>-0.534709</td>\n",
       "      <td>-1.270933</td>\n",
       "      <td>0.818666</td>\n",
       "      <td>0.904270</td>\n",
       "      <td>-0.502283</td>\n",
       "      <td>-0.727198</td>\n",
       "      <td>0.186551</td>\n",
       "      <td>1.514397</td>\n",
       "      <td>0.342357</td>\n",
       "      <td>-0.586473</td>\n",
       "    </tr>\n",
       "    <tr>\n",
       "      <th>Bumps</th>\n",
       "      <td>0.677361</td>\n",
       "      <td>0.650337</td>\n",
       "      <td>-0.126105</td>\n",
       "      <td>-0.126133</td>\n",
       "      <td>-0.404327</td>\n",
       "      <td>-0.348688</td>\n",
       "      <td>-0.167427</td>\n",
       "      <td>-0.450186</td>\n",
       "      <td>0.361523</td>\n",
       "      <td>-0.198205</td>\n",
       "      <td>1.302407</td>\n",
       "      <td>1.217131</td>\n",
       "      <td>-1.217131</td>\n",
       "      <td>0.109371</td>\n",
       "      <td>0.432673</td>\n",
       "      <td>-0.567888</td>\n",
       "      <td>0.608844</td>\n",
       "      <td>-0.521832</td>\n",
       "      <td>0.517339</td>\n",
       "      <td>0.818666</td>\n",
       "      <td>0.904270</td>\n",
       "      <td>-0.593657</td>\n",
       "      <td>-0.546664</td>\n",
       "      <td>-0.663967</td>\n",
       "      <td>0.067272</td>\n",
       "      <td>-0.054320</td>\n",
       "      <td>-0.861180</td>\n",
       "    </tr>\n",
       "  </tbody>\n",
       "</table>\n",
       "</div>"
      ],
      "text/plain": [
       "           X_Minimum  X_Maximum  Y_Minimum  Y_Maximum  Pixels_Areas  \\\n",
       "Target                                                                \n",
       "Pastry      0.612130   0.563036  -0.396061  -0.396084     -0.389830   \n",
       "Z_Scratch  -0.784012  -0.919000  -0.304646  -0.304654     -0.400150   \n",
       "K_Scatch   -0.910580  -0.734006  -0.144008  -0.143933      0.604767   \n",
       "Stains      0.477773   0.406103  -0.364397  -0.364428     -0.421362   \n",
       "Dirtiness   0.226585   0.147318   0.166576   0.166589     -0.400314   \n",
       "Bumps       0.677361   0.650337  -0.126105  -0.126133     -0.404327   \n",
       "\n",
       "           X_Perimeter  Y_Perimeter  Sum_of_Luminosity  Minimum_of_Luminosity  \\\n",
       "Target                                                                          \n",
       "Pastry       -0.340400    -0.139750          -0.435992               0.024231   \n",
       "Z_Scratch    -0.318297    -0.154066          -0.444719               0.422849   \n",
       "K_Scatch      0.353077     0.067348           0.618239              -1.171626   \n",
       "Stains       -0.376317    -0.189377          -0.467998               1.097435   \n",
       "Dirtiness    -0.318297    -0.131161          -0.442772               0.852131   \n",
       "Bumps        -0.348688    -0.167427          -0.450186               0.361523   \n",
       "\n",
       "           Maximum_of_Luminosity  Length_of_Conveyer  TypeOfSteel_A300  \\\n",
       "Target                                                                   \n",
       "Pastry                 -0.258272            1.477276         -0.821604   \n",
       "Z_Scratch              -0.378408           -0.650301          1.217131   \n",
       "K_Scatch                0.222270           -0.606584         -0.821604   \n",
       "Stains                  0.582676           -0.635729         -0.821604   \n",
       "Dirtiness               0.102134           -0.592011         -0.821604   \n",
       "Bumps                  -0.198205            1.302407          1.217131   \n",
       "\n",
       "           TypeOfSteel_A400  Steel_Plate_Thickness  Edges_Index  Empty_Index  \\\n",
       "Target                                                                         \n",
       "Pastry             0.821604               0.527090    -0.528792    -0.661941   \n",
       "Z_Scratch         -1.217131               0.109371    -0.521532     0.373019   \n",
       "K_Scatch           0.821604              -0.726067    -0.830910     0.353985   \n",
       "Stains             0.821604              -0.447587     0.923223    -0.007673   \n",
       "Dirtiness          0.821604               0.944809     1.937158    -0.077467   \n",
       "Bumps             -1.217131               0.109371     0.432673    -0.567888   \n",
       "\n",
       "           Square_Index  Outside_X_Index  Edges_X_Index  Edges_Y_Index  \\\n",
       "Target                                                                   \n",
       "Pastry        -0.968788        -0.545976      -0.402675       0.818666   \n",
       "Z_Scratch     -0.022284        -0.474349      -0.402675       0.532506   \n",
       "K_Scatch      -0.475092         1.161794       0.089627      -1.361125   \n",
       "Stains         0.432037        -0.581386       1.667563       0.818666   \n",
       "Dirtiness     -1.497694        -0.534709      -1.270933       0.818666   \n",
       "Bumps          0.608844        -0.521832       0.517339       0.818666   \n",
       "\n",
       "           Outside_Global_Index  LogOfAreas  Log_X_Index  Log_Y_Index  \\\n",
       "Target                                                                  \n",
       "Pastry                 0.904270   -0.321921    -0.727198     0.058652   \n",
       "Z_Scratch              0.904270   -0.498930    -0.397917    -0.332949   \n",
       "K_Scatch              -1.161702    1.357706     1.498491     0.789179   \n",
       "Stains                -1.161702   -1.575248    -1.141932    -1.826484   \n",
       "Dirtiness              0.904270   -0.502283    -0.727198     0.186551   \n",
       "Bumps                  0.904270   -0.593657    -0.546664    -0.663967   \n",
       "\n",
       "           Orientation_Index  Luminosity_Index  SigmoidOfAreas  \n",
       "Target                                                          \n",
       "Pastry              1.238823         -0.315626       -0.284437  \n",
       "Z_Scratch           0.587100         -0.210378       -0.439103  \n",
       "K_Scatch           -1.204543         -0.150495        1.114140  \n",
       "Stains             -0.693192          0.965499       -1.351362  \n",
       "Dirtiness           1.514397          0.342357       -0.586473  \n",
       "Bumps               0.067272         -0.054320       -0.861180  "
      ]
     },
     "execution_count": 8,
     "metadata": {},
     "output_type": "execute_result"
    }
   ],
   "source": [
    "scaler = StandardScaler()\n",
    "scaled_data = scaler.fit_transform(df.drop(columns='Target'))\n",
    "\n",
    "df_scaled = pd.DataFrame(scaled_data, columns=df.drop(columns='Target').columns)\n",
    "df_scaled['Target'] = df['Target']\n",
    "# df_centroids_scaled = df_scaled.groupby('Target').mean()\n",
    "df_centroids_scaled = df_scaled.groupby('Target').median()  # Menos sensivel a outlier\n",
    "df_centroids_scaled = df_centroids_scaled.loc[[t for t in targets_map.values() if t in df_centroids_scaled.index]] # Melhora a legibilidade\n",
    "\n",
    "df_centroids_scaled"
   ]
  },
  {
   "cell_type": "markdown",
   "id": "f2560fb3-5110-4319-9556-23b88a931ddf",
   "metadata": {},
   "source": [
    "Assim, podemos calcular as similaridades por:"
   ]
  },
  {
   "cell_type": "code",
   "execution_count": 9,
   "id": "5a611c3a-3c84-4821-993c-319ac92467b7",
   "metadata": {},
   "outputs": [
    {
     "data": {
      "text/html": [
       "<div>\n",
       "<style scoped>\n",
       "    .dataframe tbody tr th:only-of-type {\n",
       "        vertical-align: middle;\n",
       "    }\n",
       "\n",
       "    .dataframe tbody tr th {\n",
       "        vertical-align: top;\n",
       "    }\n",
       "\n",
       "    .dataframe thead th {\n",
       "        text-align: right;\n",
       "    }\n",
       "</style>\n",
       "<table border=\"1\" class=\"dataframe\">\n",
       "  <thead>\n",
       "    <tr style=\"text-align: right;\">\n",
       "      <th>Target</th>\n",
       "      <th>Pastry</th>\n",
       "      <th>Z_Scratch</th>\n",
       "      <th>K_Scatch</th>\n",
       "      <th>Stains</th>\n",
       "      <th>Dirtiness</th>\n",
       "      <th>Bumps</th>\n",
       "    </tr>\n",
       "    <tr>\n",
       "      <th>Target</th>\n",
       "      <th></th>\n",
       "      <th></th>\n",
       "      <th></th>\n",
       "      <th></th>\n",
       "      <th></th>\n",
       "      <th></th>\n",
       "    </tr>\n",
       "  </thead>\n",
       "  <tbody>\n",
       "    <tr>\n",
       "      <th>Pastry</th>\n",
       "      <td>0.000000</td>\n",
       "      <td>4.489706</td>\n",
       "      <td>6.643334</td>\n",
       "      <td>5.673374</td>\n",
       "      <td>3.785810</td>\n",
       "      <td>3.932614</td>\n",
       "    </tr>\n",
       "    <tr>\n",
       "      <th>Z_Scratch</th>\n",
       "      <td>4.489706</td>\n",
       "      <td>0.000000</td>\n",
       "      <td>6.297665</td>\n",
       "      <td>5.678524</td>\n",
       "      <td>4.781443</td>\n",
       "      <td>3.500104</td>\n",
       "    </tr>\n",
       "    <tr>\n",
       "      <th>K_Scatch</th>\n",
       "      <td>6.643334</td>\n",
       "      <td>6.297665</td>\n",
       "      <td>0.000000</td>\n",
       "      <td>7.471569</td>\n",
       "      <td>7.330619</td>\n",
       "      <td>7.322422</td>\n",
       "    </tr>\n",
       "    <tr>\n",
       "      <th>Stains</th>\n",
       "      <td>5.673374</td>\n",
       "      <td>5.678524</td>\n",
       "      <td>7.471569</td>\n",
       "      <td>0.000000</td>\n",
       "      <td>5.640739</td>\n",
       "      <td>4.945116</td>\n",
       "    </tr>\n",
       "    <tr>\n",
       "      <th>Dirtiness</th>\n",
       "      <td>3.785810</td>\n",
       "      <td>4.781443</td>\n",
       "      <td>7.330619</td>\n",
       "      <td>5.640739</td>\n",
       "      <td>0.000000</td>\n",
       "      <td>5.176034</td>\n",
       "    </tr>\n",
       "    <tr>\n",
       "      <th>Bumps</th>\n",
       "      <td>3.932614</td>\n",
       "      <td>3.500104</td>\n",
       "      <td>7.322422</td>\n",
       "      <td>4.945116</td>\n",
       "      <td>5.176034</td>\n",
       "      <td>0.000000</td>\n",
       "    </tr>\n",
       "  </tbody>\n",
       "</table>\n",
       "</div>"
      ],
      "text/plain": [
       "Target       Pastry  Z_Scratch  K_Scatch    Stains  Dirtiness     Bumps\n",
       "Target                                                                 \n",
       "Pastry     0.000000   4.489706  6.643334  5.673374   3.785810  3.932614\n",
       "Z_Scratch  4.489706   0.000000  6.297665  5.678524   4.781443  3.500104\n",
       "K_Scatch   6.643334   6.297665  0.000000  7.471569   7.330619  7.322422\n",
       "Stains     5.673374   5.678524  7.471569  0.000000   5.640739  4.945116\n",
       "Dirtiness  3.785810   4.781443  7.330619  5.640739   0.000000  5.176034\n",
       "Bumps      3.932614   3.500104  7.322422  4.945116   5.176034  0.000000"
      ]
     },
     "execution_count": 9,
     "metadata": {},
     "output_type": "execute_result"
    }
   ],
   "source": [
    "euc_dist = euclidean_distances(df_centroids_scaled)  # Normalizado\n",
    "# euc_dist = euclidean_distances(df_centroids)  # Não normalizado\n",
    "\n",
    "df_euc_dist = pd.DataFrame(euc_dist, index=df_centroids_scaled.index, columns=df_centroids_scaled.index)\n",
    "\n",
    "df_euc_dist"
   ]
  },
  {
   "cell_type": "code",
   "execution_count": 10,
   "id": "b1948a6d-8a09-4714-b491-f1ae94375c7f",
   "metadata": {},
   "outputs": [
    {
     "data": {
      "application/vnd.plotly.v1+json": {
       "config": {
        "plotlyServerURL": "https://plot.ly"
       },
       "data": [
        {
         "colorscale": [
          [
           0,
           "rgb(23, 28, 66)"
          ],
          [
           0.09090909090909091,
           "rgb(41, 58, 143)"
          ],
          [
           0.18181818181818182,
           "rgb(11, 102, 189)"
          ],
          [
           0.2727272727272727,
           "rgb(69, 144, 185)"
          ],
          [
           0.36363636363636365,
           "rgb(142, 181, 194)"
          ],
          [
           0.45454545454545453,
           "rgb(210, 216, 219)"
          ],
          [
           0.5454545454545454,
           "rgb(230, 210, 204)"
          ],
          [
           0.6363636363636364,
           "rgb(213, 157, 137)"
          ],
          [
           0.7272727272727273,
           "rgb(196, 101, 72)"
          ],
          [
           0.8181818181818182,
           "rgb(172, 43, 36)"
          ],
          [
           0.9090909090909091,
           "rgb(120, 14, 40)"
          ],
          [
           1,
           "rgb(60, 9, 17)"
          ]
         ],
         "reversescale": true,
         "text": [
          [
           0,
           4.489705905660974,
           6.643333850435616,
           5.673374174351319,
           3.7858099511934915,
           3.9326135260536907
          ],
          [
           4.489705905660974,
           0,
           6.297664900175941,
           5.6785239061637505,
           4.781442628756523,
           3.5001043107662975
          ],
          [
           6.643333850435616,
           6.297664900175941,
           0,
           7.471569469312703,
           7.3306194809974965,
           7.322421563535327
          ],
          [
           5.673374174351319,
           5.6785239061637505,
           7.471569469312703,
           0,
           5.640739453750458,
           4.9451159250361805
          ],
          [
           3.7858099511934915,
           4.781442628756523,
           7.3306194809974965,
           5.640739453750458,
           0,
           5.176034275527983
          ],
          [
           3.9326135260536907,
           3.5001043107662975,
           7.322421563535327,
           4.9451159250361805,
           5.176034275527983,
           0
          ]
         ],
         "texttemplate": "%{text:.4f}",
         "type": "heatmap",
         "x": [
          "Pastry",
          "Z_Scratch",
          "K_Scatch",
          "Stains",
          "Dirtiness",
          "Bumps"
         ],
         "y": [
          "Pastry",
          "Z_Scratch",
          "K_Scatch",
          "Stains",
          "Dirtiness",
          "Bumps"
         ],
         "z": [
          [
           0,
           4.489705905660974,
           6.643333850435616,
           5.673374174351319,
           3.7858099511934915,
           3.9326135260536907
          ],
          [
           4.489705905660974,
           0,
           6.297664900175941,
           5.6785239061637505,
           4.781442628756523,
           3.5001043107662975
          ],
          [
           6.643333850435616,
           6.297664900175941,
           0,
           7.471569469312703,
           7.3306194809974965,
           7.322421563535327
          ],
          [
           5.673374174351319,
           5.6785239061637505,
           7.471569469312703,
           0,
           5.640739453750458,
           4.9451159250361805
          ],
          [
           3.7858099511934915,
           4.781442628756523,
           7.3306194809974965,
           5.640739453750458,
           0,
           5.176034275527983
          ],
          [
           3.9326135260536907,
           3.5001043107662975,
           7.322421563535327,
           4.9451159250361805,
           5.176034275527983,
           0
          ]
         ]
        }
       ],
       "layout": {
        "autosize": true,
        "height": 800,
        "template": {
         "data": {
          "bar": [
           {
            "error_x": {
             "color": "#2a3f5f"
            },
            "error_y": {
             "color": "#2a3f5f"
            },
            "marker": {
             "line": {
              "color": "#E5ECF6",
              "width": 0.5
             },
             "pattern": {
              "fillmode": "overlay",
              "size": 10,
              "solidity": 0.2
             }
            },
            "type": "bar"
           }
          ],
          "barpolar": [
           {
            "marker": {
             "line": {
              "color": "#E5ECF6",
              "width": 0.5
             },
             "pattern": {
              "fillmode": "overlay",
              "size": 10,
              "solidity": 0.2
             }
            },
            "type": "barpolar"
           }
          ],
          "carpet": [
           {
            "aaxis": {
             "endlinecolor": "#2a3f5f",
             "gridcolor": "white",
             "linecolor": "white",
             "minorgridcolor": "white",
             "startlinecolor": "#2a3f5f"
            },
            "baxis": {
             "endlinecolor": "#2a3f5f",
             "gridcolor": "white",
             "linecolor": "white",
             "minorgridcolor": "white",
             "startlinecolor": "#2a3f5f"
            },
            "type": "carpet"
           }
          ],
          "choropleth": [
           {
            "colorbar": {
             "outlinewidth": 0,
             "ticks": ""
            },
            "type": "choropleth"
           }
          ],
          "contour": [
           {
            "colorbar": {
             "outlinewidth": 0,
             "ticks": ""
            },
            "colorscale": [
             [
              0,
              "#0d0887"
             ],
             [
              0.1111111111111111,
              "#46039f"
             ],
             [
              0.2222222222222222,
              "#7201a8"
             ],
             [
              0.3333333333333333,
              "#9c179e"
             ],
             [
              0.4444444444444444,
              "#bd3786"
             ],
             [
              0.5555555555555556,
              "#d8576b"
             ],
             [
              0.6666666666666666,
              "#ed7953"
             ],
             [
              0.7777777777777778,
              "#fb9f3a"
             ],
             [
              0.8888888888888888,
              "#fdca26"
             ],
             [
              1,
              "#f0f921"
             ]
            ],
            "type": "contour"
           }
          ],
          "contourcarpet": [
           {
            "colorbar": {
             "outlinewidth": 0,
             "ticks": ""
            },
            "type": "contourcarpet"
           }
          ],
          "heatmap": [
           {
            "colorbar": {
             "outlinewidth": 0,
             "ticks": ""
            },
            "colorscale": [
             [
              0,
              "#0d0887"
             ],
             [
              0.1111111111111111,
              "#46039f"
             ],
             [
              0.2222222222222222,
              "#7201a8"
             ],
             [
              0.3333333333333333,
              "#9c179e"
             ],
             [
              0.4444444444444444,
              "#bd3786"
             ],
             [
              0.5555555555555556,
              "#d8576b"
             ],
             [
              0.6666666666666666,
              "#ed7953"
             ],
             [
              0.7777777777777778,
              "#fb9f3a"
             ],
             [
              0.8888888888888888,
              "#fdca26"
             ],
             [
              1,
              "#f0f921"
             ]
            ],
            "type": "heatmap"
           }
          ],
          "heatmapgl": [
           {
            "colorbar": {
             "outlinewidth": 0,
             "ticks": ""
            },
            "colorscale": [
             [
              0,
              "#0d0887"
             ],
             [
              0.1111111111111111,
              "#46039f"
             ],
             [
              0.2222222222222222,
              "#7201a8"
             ],
             [
              0.3333333333333333,
              "#9c179e"
             ],
             [
              0.4444444444444444,
              "#bd3786"
             ],
             [
              0.5555555555555556,
              "#d8576b"
             ],
             [
              0.6666666666666666,
              "#ed7953"
             ],
             [
              0.7777777777777778,
              "#fb9f3a"
             ],
             [
              0.8888888888888888,
              "#fdca26"
             ],
             [
              1,
              "#f0f921"
             ]
            ],
            "type": "heatmapgl"
           }
          ],
          "histogram": [
           {
            "marker": {
             "pattern": {
              "fillmode": "overlay",
              "size": 10,
              "solidity": 0.2
             }
            },
            "type": "histogram"
           }
          ],
          "histogram2d": [
           {
            "colorbar": {
             "outlinewidth": 0,
             "ticks": ""
            },
            "colorscale": [
             [
              0,
              "#0d0887"
             ],
             [
              0.1111111111111111,
              "#46039f"
             ],
             [
              0.2222222222222222,
              "#7201a8"
             ],
             [
              0.3333333333333333,
              "#9c179e"
             ],
             [
              0.4444444444444444,
              "#bd3786"
             ],
             [
              0.5555555555555556,
              "#d8576b"
             ],
             [
              0.6666666666666666,
              "#ed7953"
             ],
             [
              0.7777777777777778,
              "#fb9f3a"
             ],
             [
              0.8888888888888888,
              "#fdca26"
             ],
             [
              1,
              "#f0f921"
             ]
            ],
            "type": "histogram2d"
           }
          ],
          "histogram2dcontour": [
           {
            "colorbar": {
             "outlinewidth": 0,
             "ticks": ""
            },
            "colorscale": [
             [
              0,
              "#0d0887"
             ],
             [
              0.1111111111111111,
              "#46039f"
             ],
             [
              0.2222222222222222,
              "#7201a8"
             ],
             [
              0.3333333333333333,
              "#9c179e"
             ],
             [
              0.4444444444444444,
              "#bd3786"
             ],
             [
              0.5555555555555556,
              "#d8576b"
             ],
             [
              0.6666666666666666,
              "#ed7953"
             ],
             [
              0.7777777777777778,
              "#fb9f3a"
             ],
             [
              0.8888888888888888,
              "#fdca26"
             ],
             [
              1,
              "#f0f921"
             ]
            ],
            "type": "histogram2dcontour"
           }
          ],
          "mesh3d": [
           {
            "colorbar": {
             "outlinewidth": 0,
             "ticks": ""
            },
            "type": "mesh3d"
           }
          ],
          "parcoords": [
           {
            "line": {
             "colorbar": {
              "outlinewidth": 0,
              "ticks": ""
             }
            },
            "type": "parcoords"
           }
          ],
          "pie": [
           {
            "automargin": true,
            "type": "pie"
           }
          ],
          "scatter": [
           {
            "fillpattern": {
             "fillmode": "overlay",
             "size": 10,
             "solidity": 0.2
            },
            "type": "scatter"
           }
          ],
          "scatter3d": [
           {
            "line": {
             "colorbar": {
              "outlinewidth": 0,
              "ticks": ""
             }
            },
            "marker": {
             "colorbar": {
              "outlinewidth": 0,
              "ticks": ""
             }
            },
            "type": "scatter3d"
           }
          ],
          "scattercarpet": [
           {
            "marker": {
             "colorbar": {
              "outlinewidth": 0,
              "ticks": ""
             }
            },
            "type": "scattercarpet"
           }
          ],
          "scattergeo": [
           {
            "marker": {
             "colorbar": {
              "outlinewidth": 0,
              "ticks": ""
             }
            },
            "type": "scattergeo"
           }
          ],
          "scattergl": [
           {
            "marker": {
             "colorbar": {
              "outlinewidth": 0,
              "ticks": ""
             }
            },
            "type": "scattergl"
           }
          ],
          "scattermapbox": [
           {
            "marker": {
             "colorbar": {
              "outlinewidth": 0,
              "ticks": ""
             }
            },
            "type": "scattermapbox"
           }
          ],
          "scatterpolar": [
           {
            "marker": {
             "colorbar": {
              "outlinewidth": 0,
              "ticks": ""
             }
            },
            "type": "scatterpolar"
           }
          ],
          "scatterpolargl": [
           {
            "marker": {
             "colorbar": {
              "outlinewidth": 0,
              "ticks": ""
             }
            },
            "type": "scatterpolargl"
           }
          ],
          "scatterternary": [
           {
            "marker": {
             "colorbar": {
              "outlinewidth": 0,
              "ticks": ""
             }
            },
            "type": "scatterternary"
           }
          ],
          "surface": [
           {
            "colorbar": {
             "outlinewidth": 0,
             "ticks": ""
            },
            "colorscale": [
             [
              0,
              "#0d0887"
             ],
             [
              0.1111111111111111,
              "#46039f"
             ],
             [
              0.2222222222222222,
              "#7201a8"
             ],
             [
              0.3333333333333333,
              "#9c179e"
             ],
             [
              0.4444444444444444,
              "#bd3786"
             ],
             [
              0.5555555555555556,
              "#d8576b"
             ],
             [
              0.6666666666666666,
              "#ed7953"
             ],
             [
              0.7777777777777778,
              "#fb9f3a"
             ],
             [
              0.8888888888888888,
              "#fdca26"
             ],
             [
              1,
              "#f0f921"
             ]
            ],
            "type": "surface"
           }
          ],
          "table": [
           {
            "cells": {
             "fill": {
              "color": "#EBF0F8"
             },
             "line": {
              "color": "white"
             }
            },
            "header": {
             "fill": {
              "color": "#C8D4E3"
             },
             "line": {
              "color": "white"
             }
            },
            "type": "table"
           }
          ]
         },
         "layout": {
          "annotationdefaults": {
           "arrowcolor": "#2a3f5f",
           "arrowhead": 0,
           "arrowwidth": 1
          },
          "autotypenumbers": "strict",
          "coloraxis": {
           "colorbar": {
            "outlinewidth": 0,
            "ticks": ""
           }
          },
          "colorscale": {
           "diverging": [
            [
             0,
             "#8e0152"
            ],
            [
             0.1,
             "#c51b7d"
            ],
            [
             0.2,
             "#de77ae"
            ],
            [
             0.3,
             "#f1b6da"
            ],
            [
             0.4,
             "#fde0ef"
            ],
            [
             0.5,
             "#f7f7f7"
            ],
            [
             0.6,
             "#e6f5d0"
            ],
            [
             0.7,
             "#b8e186"
            ],
            [
             0.8,
             "#7fbc41"
            ],
            [
             0.9,
             "#4d9221"
            ],
            [
             1,
             "#276419"
            ]
           ],
           "sequential": [
            [
             0,
             "#0d0887"
            ],
            [
             0.1111111111111111,
             "#46039f"
            ],
            [
             0.2222222222222222,
             "#7201a8"
            ],
            [
             0.3333333333333333,
             "#9c179e"
            ],
            [
             0.4444444444444444,
             "#bd3786"
            ],
            [
             0.5555555555555556,
             "#d8576b"
            ],
            [
             0.6666666666666666,
             "#ed7953"
            ],
            [
             0.7777777777777778,
             "#fb9f3a"
            ],
            [
             0.8888888888888888,
             "#fdca26"
            ],
            [
             1,
             "#f0f921"
            ]
           ],
           "sequentialminus": [
            [
             0,
             "#0d0887"
            ],
            [
             0.1111111111111111,
             "#46039f"
            ],
            [
             0.2222222222222222,
             "#7201a8"
            ],
            [
             0.3333333333333333,
             "#9c179e"
            ],
            [
             0.4444444444444444,
             "#bd3786"
            ],
            [
             0.5555555555555556,
             "#d8576b"
            ],
            [
             0.6666666666666666,
             "#ed7953"
            ],
            [
             0.7777777777777778,
             "#fb9f3a"
            ],
            [
             0.8888888888888888,
             "#fdca26"
            ],
            [
             1,
             "#f0f921"
            ]
           ]
          },
          "colorway": [
           "#636efa",
           "#EF553B",
           "#00cc96",
           "#ab63fa",
           "#FFA15A",
           "#19d3f3",
           "#FF6692",
           "#B6E880",
           "#FF97FF",
           "#FECB52"
          ],
          "font": {
           "color": "#2a3f5f"
          },
          "geo": {
           "bgcolor": "white",
           "lakecolor": "white",
           "landcolor": "#E5ECF6",
           "showlakes": true,
           "showland": true,
           "subunitcolor": "white"
          },
          "hoverlabel": {
           "align": "left"
          },
          "hovermode": "closest",
          "mapbox": {
           "style": "light"
          },
          "paper_bgcolor": "white",
          "plot_bgcolor": "#E5ECF6",
          "polar": {
           "angularaxis": {
            "gridcolor": "white",
            "linecolor": "white",
            "ticks": ""
           },
           "bgcolor": "#E5ECF6",
           "radialaxis": {
            "gridcolor": "white",
            "linecolor": "white",
            "ticks": ""
           }
          },
          "scene": {
           "xaxis": {
            "backgroundcolor": "#E5ECF6",
            "gridcolor": "white",
            "gridwidth": 2,
            "linecolor": "white",
            "showbackground": true,
            "ticks": "",
            "zerolinecolor": "white"
           },
           "yaxis": {
            "backgroundcolor": "#E5ECF6",
            "gridcolor": "white",
            "gridwidth": 2,
            "linecolor": "white",
            "showbackground": true,
            "ticks": "",
            "zerolinecolor": "white"
           },
           "zaxis": {
            "backgroundcolor": "#E5ECF6",
            "gridcolor": "white",
            "gridwidth": 2,
            "linecolor": "white",
            "showbackground": true,
            "ticks": "",
            "zerolinecolor": "white"
           }
          },
          "shapedefaults": {
           "line": {
            "color": "#2a3f5f"
           }
          },
          "ternary": {
           "aaxis": {
            "gridcolor": "white",
            "linecolor": "white",
            "ticks": ""
           },
           "baxis": {
            "gridcolor": "white",
            "linecolor": "white",
            "ticks": ""
           },
           "bgcolor": "#E5ECF6",
           "caxis": {
            "gridcolor": "white",
            "linecolor": "white",
            "ticks": ""
           }
          },
          "title": {
           "x": 0.05
          },
          "xaxis": {
           "automargin": true,
           "gridcolor": "white",
           "linecolor": "white",
           "ticks": "",
           "title": {
            "standoff": 15
           },
           "zerolinecolor": "white",
           "zerolinewidth": 2
          },
          "yaxis": {
           "automargin": true,
           "gridcolor": "white",
           "linecolor": "white",
           "ticks": "",
           "title": {
            "standoff": 15
           },
           "zerolinecolor": "white",
           "zerolinewidth": 2
          }
         }
        },
        "title": {
         "text": "Distâncias entre os centroides das classes"
        },
        "yaxis": {
         "autorange": "reversed"
        }
       }
      }
     },
     "metadata": {},
     "output_type": "display_data"
    }
   ],
   "source": [
    "x_fig2 = df_euc_dist.index\n",
    "y_fig2 = x_fig2\n",
    "z_fig2 = df_euc_dist.values\n",
    "\n",
    "fig2 = go.Figure()\n",
    "fig2.add_trace(go.Heatmap(x=x_fig2, y=y_fig2, z=z_fig2, text=z_fig2, texttemplate='%{text:.4f}', colorscale=PALETTE, reversescale=True))\n",
    "fig2.update_layout(title=f'Distâncias entre os centroides das classes', yaxis_autorange='reversed', height=800, autosize=True)\n",
    "export_fig(fig2, 'class_dist', '../figs/eda')\n",
    "fig2.show()"
   ]
  },
  {
   "cell_type": "markdown",
   "id": "5f9b79b3-6de7-4a0d-b1ec-a428c5d0f072",
   "metadata": {},
   "source": [
    "Assim, podemos computar qual foi a classe mais semelhante para cada um dos casos, de forma que quanto menor, mais similar:"
   ]
  },
  {
   "cell_type": "code",
   "execution_count": 11,
   "id": "410bd46c-8c13-4a27-8399-1f075877035c",
   "metadata": {},
   "outputs": [
    {
     "data": {
      "text/plain": [
       "Target\n",
       "Pastry        [Dirtiness, Bumps, Z_Scratch, Stains, K_Scatch]\n",
       "Z_Scratch        [Bumps, Pastry, Dirtiness, Stains, K_Scatch]\n",
       "K_Scatch        [Z_Scratch, Pastry, Bumps, Dirtiness, Stains]\n",
       "Stains        [Bumps, Dirtiness, Pastry, Z_Scratch, K_Scatch]\n",
       "Dirtiness        [Pastry, Z_Scratch, Bumps, Stains, K_Scatch]\n",
       "Bumps        [Z_Scratch, Pastry, Stains, Dirtiness, K_Scatch]\n",
       "dtype: object"
      ]
     },
     "execution_count": 11,
     "metadata": {},
     "output_type": "execute_result"
    }
   ],
   "source": [
    "# df_euc_dist.apply(lambda s: df_euc_dist.columns[np.argsort(s)].to_list()[1], axis=1)  # Apenas 1\n",
    "df_euc_dist.apply(lambda s: df_euc_dist.columns[np.argsort(s)].to_list()[1:], axis=1)  # Lista"
   ]
  }
 ],
 "metadata": {
  "kernelspec": {
   "display_name": "Python 3 (ipykernel)",
   "language": "python",
   "name": "python3"
  },
  "language_info": {
   "codemirror_mode": {
    "name": "ipython",
    "version": 3
   },
   "file_extension": ".py",
   "mimetype": "text/x-python",
   "name": "python",
   "nbconvert_exporter": "python",
   "pygments_lexer": "ipython3",
   "version": "3.11.8"
  }
 },
 "nbformat": 4,
 "nbformat_minor": 5
}
